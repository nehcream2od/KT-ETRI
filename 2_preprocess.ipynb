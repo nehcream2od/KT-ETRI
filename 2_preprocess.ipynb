{
 "cells": [
  {
   "cell_type": "code",
   "execution_count": 92,
   "id": "9ea23733-63e9-4c23-943e-63a6600521ad",
   "metadata": {},
   "outputs": [],
   "source": [
    "import numpy as np\n",
    "import pandas as pd\n",
    "import scipy.stats as stats\n",
    "import matplotlib.pyplot as plt\n",
    "import math\n",
    "import warnings\n",
    "\n",
    "warnings.filterwarnings('ignore')\n",
    "%matplotlib inline"
   ]
  },
  {
   "cell_type": "code",
   "execution_count": 4,
   "id": "e54a429e-a0fb-49bc-bd78-3ee38fa50208",
   "metadata": {},
   "outputs": [],
   "source": [
    "Path = 'dataset/data/Media/Media_'\n",
    "info = pd.read_csv(Path + 'INFO.csv')\n",
    "login = pd.read_csv(Path + 'LOGIN.csv')\n",
    "menu = pd.read_csv(Path + 'MENU.csv')\n",
    "stream = pd.read_csv(Path + 'STREAM.csv')"
   ]
  },
  {
   "cell_type": "markdown",
   "id": "86c3b82b-2f02-41f3-a473-d100d3171e67",
   "metadata": {},
   "source": [
    "info server 1개\n",
    "login server 5개\n",
    "menuserver 4개\n",
    "stream server 3개"
   ]
  },
  {
   "cell_type": "code",
   "execution_count": 20,
   "id": "a3bdc1b3-8893-4b8e-b079-be596e4878b6",
   "metadata": {},
   "outputs": [
    {
     "name": "stdout",
     "output_type": "stream",
     "text": [
      "(210240, 4)\n",
      "(210240, 16)\n",
      "(210240, 13)\n",
      "(210240, 4)\n"
     ]
    }
   ],
   "source": [
    "print(info.shape)\n",
    "print(login.shape)\n",
    "print(menu.shape)\n",
    "print(stream.shape)"
   ]
  },
  {
   "cell_type": "markdown",
   "id": "c8beb85f-9225-4e8b-9776-bf57c1b8998f",
   "metadata": {},
   "source": [
    "# merge"
   ]
  },
  {
   "cell_type": "code",
   "execution_count": 58,
   "id": "2ee3ee15-cfd9-461f-8aeb-dafd5801d47b",
   "metadata": {},
   "outputs": [],
   "source": [
    "dataset = pd.DataFrame(info['Timestamp'])\n",
    "merge_list = [info, login, menu, stream]\n",
    "for i in merge_list:\n",
    "    dataset = pd.merge(dataset, i, how='left', on='Timestamp')"
   ]
  },
  {
   "cell_type": "code",
   "execution_count": 59,
   "id": "21c216ca-1253-4c63-b8e9-d924d1faae29",
   "metadata": {},
   "outputs": [],
   "source": [
    "columns = list(dataset.columns)"
   ]
  },
  {
   "cell_type": "code",
   "execution_count": 71,
   "id": "6f337ebb-9042-43fa-a36f-3b9176368b62",
   "metadata": {
    "collapsed": true,
    "jupyter": {
     "outputs_hidden": true
    },
    "tags": []
   },
   "outputs": [
    {
     "name": "stdout",
     "output_type": "stream",
     "text": [
      "Timestamp\n",
      " False    210240\n",
      "Name: Timestamp, dtype: int64 \n",
      "\n",
      "INFO-01-Request\n",
      " False    192249\n",
      "True      17991\n",
      "Name: INFO-01-Request, dtype: int64 \n",
      "\n",
      "INFO-01-Success\n",
      " False    192249\n",
      "True      17991\n",
      "Name: INFO-01-Success, dtype: int64 \n",
      "\n",
      "INFO-01-Fail\n",
      " False    192249\n",
      "True      17991\n",
      "Name: INFO-01-Fail, dtype: int64 \n",
      "\n",
      "LOGIN-01-Request\n",
      " False    209563\n",
      "True        677\n",
      "Name: LOGIN-01-Request, dtype: int64 \n",
      "\n",
      "LOGIN-01-Success\n",
      " False    209563\n",
      "True        677\n",
      "Name: LOGIN-01-Success, dtype: int64 \n",
      "\n",
      "LOGIN-01-Fail\n",
      " False    209563\n",
      "True        677\n",
      "Name: LOGIN-01-Fail, dtype: int64 \n",
      "\n",
      "LOGIN-02-Request\n",
      " False    192191\n",
      "True      18049\n",
      "Name: LOGIN-02-Request, dtype: int64 \n",
      "\n",
      "LOGIN-02-Success\n",
      " False    192191\n",
      "True      18049\n",
      "Name: LOGIN-02-Success, dtype: int64 \n",
      "\n",
      "LOGIN-02-Fail\n",
      " False    192191\n",
      "True      18049\n",
      "Name: LOGIN-02-Fail, dtype: int64 \n",
      "\n",
      "LOGIN-03-Request\n",
      " False    192191\n",
      "True      18049\n",
      "Name: LOGIN-03-Request, dtype: int64 \n",
      "\n",
      "LOGIN-03-Success\n",
      " False    192191\n",
      "True      18049\n",
      "Name: LOGIN-03-Success, dtype: int64 \n",
      "\n",
      "LOGIN-03-Fail\n",
      " False    192191\n",
      "True      18049\n",
      "Name: LOGIN-03-Fail, dtype: int64 \n",
      "\n",
      "LOGIN-04-Request\n",
      " False    209563\n",
      "True        677\n",
      "Name: LOGIN-04-Request, dtype: int64 \n",
      "\n",
      "LOGIN-04-Success\n",
      " False    209563\n",
      "True        677\n",
      "Name: LOGIN-04-Success, dtype: int64 \n",
      "\n",
      "LOGIN-04-Fail\n",
      " False    209563\n",
      "True        677\n",
      "Name: LOGIN-04-Fail, dtype: int64 \n",
      "\n",
      "LOGIN-05-Request\n",
      " False    209563\n",
      "True        677\n",
      "Name: LOGIN-05-Request, dtype: int64 \n",
      "\n",
      "LOGIN-05-Success\n",
      " False    209563\n",
      "True        677\n",
      "Name: LOGIN-05-Success, dtype: int64 \n",
      "\n",
      "LOGIN-05-Fail\n",
      " False    209563\n",
      "True        677\n",
      "Name: LOGIN-05-Fail, dtype: int64 \n",
      "\n",
      "MENU-01-Request\n",
      " False    209771\n",
      "True        469\n",
      "Name: MENU-01-Request, dtype: int64 \n",
      "\n",
      "MENU-01-Success\n",
      " False    209771\n",
      "True        469\n",
      "Name: MENU-01-Success, dtype: int64 \n",
      "\n",
      "MENU-01-Fail\n",
      " False    209771\n",
      "True        469\n",
      "Name: MENU-01-Fail, dtype: int64 \n",
      "\n",
      "MENU-02-Request\n",
      " False    209771\n",
      "True        469\n",
      "Name: MENU-02-Request, dtype: int64 \n",
      "\n",
      "MENU-02-Success\n",
      " False    209771\n",
      "True        469\n",
      "Name: MENU-02-Success, dtype: int64 \n",
      "\n",
      "MENU-02-Fail\n",
      " False    209771\n",
      "True        469\n",
      "Name: MENU-02-Fail, dtype: int64 \n",
      "\n",
      "MENU-03-Request\n",
      " False    209771\n",
      "True        469\n",
      "Name: MENU-03-Request, dtype: int64 \n",
      "\n",
      "MENU-03-Success\n",
      " False    209771\n",
      "True        469\n",
      "Name: MENU-03-Success, dtype: int64 \n",
      "\n",
      "MENU-03-Fail\n",
      " False    209771\n",
      "True        469\n",
      "Name: MENU-03-Fail, dtype: int64 \n",
      "\n",
      "MENU-04-Request\n",
      " False    209771\n",
      "True        469\n",
      "Name: MENU-04-Request, dtype: int64 \n",
      "\n",
      "MENU-04-Success\n",
      " False    209771\n",
      "True        469\n",
      "Name: MENU-04-Success, dtype: int64 \n",
      "\n",
      "MENU-04-Fail\n",
      " False    209771\n",
      "True        469\n",
      "Name: MENU-04-Fail, dtype: int64 \n",
      "\n",
      "STREAM-01-Session\n",
      " False    178731\n",
      "True      31509\n",
      "Name: STREAM-01-Session, dtype: int64 \n",
      "\n",
      "STREAM-02-Session\n",
      " False    178730\n",
      "True      31510\n",
      "Name: STREAM-02-Session, dtype: int64 \n",
      "\n",
      "STREAM-03-Session\n",
      " False    209782\n",
      "True        458\n",
      "Name: STREAM-03-Session, dtype: int64 \n",
      "\n"
     ]
    }
   ],
   "source": [
    "for i in range(len(columns)):\n",
    "     print(f'{columns[i]}\\n', dataset[columns[i]].isna().value_counts(), '\\n')"
   ]
  },
  {
   "cell_type": "code",
   "execution_count": 118,
   "id": "eaf2c816-2b38-4e7b-9bfe-43c5cc75d419",
   "metadata": {},
   "outputs": [
    {
     "data": {
      "text/plain": [
       "'2017'"
      ]
     },
     "execution_count": 118,
     "metadata": {},
     "output_type": "execute_result"
    }
   ],
   "source": [
    "year = dataset['Timestamp'][0].split('_')[0][:4]\n",
    "month = dataset['Timestamp'][0].split('_')[0][4:6]\n",
    "day = dataset['Timestamp'][0].split('_')[0][6:8]"
   ]
  },
  {
   "cell_type": "code",
   "execution_count": 120,
   "id": "4ca4ec8f-8edc-4a59-b74a-4e2d1eb8564d",
   "metadata": {},
   "outputs": [
    {
     "data": {
      "text/plain": [
       "['20170101', '0000-0005']"
      ]
     },
     "execution_count": 120,
     "metadata": {},
     "output_type": "execute_result"
    }
   ],
   "source": [
    "dataset['Timestamp'][0].split('_')"
   ]
  },
  {
   "cell_type": "code",
   "execution_count": 123,
   "id": "19788ad5-97ba-48b0-829d-33ef4028b677",
   "metadata": {},
   "outputs": [
    {
     "data": {
      "text/plain": [
       "'01'"
      ]
     },
     "execution_count": 123,
     "metadata": {},
     "output_type": "execute_result"
    }
   ],
   "source": [
    "dataset['Timestamp'][0].split('_')[0][6:8]"
   ]
  },
  {
   "cell_type": "code",
   "execution_count": 124,
   "id": "f1ab664d-4a4e-4dca-8e02-fc8f504a3003",
   "metadata": {},
   "outputs": [
    {
     "data": {
      "text/plain": [
       "0         20170101_0000-0005\n",
       "1         20170101_0005-0010\n",
       "2         20170101_0010-0015\n",
       "3         20170101_0015-0020\n",
       "4         20170101_0020-0025\n",
       "                 ...        \n",
       "210235    20181231_2335-2340\n",
       "210236    20181231_2340-2345\n",
       "210237    20181231_2345-2350\n",
       "210238    20181231_2350-2355\n",
       "210239    20181231_2355-0000\n",
       "Name: Timestamp, Length: 210240, dtype: object"
      ]
     },
     "execution_count": 124,
     "metadata": {},
     "output_type": "execute_result"
    }
   ],
   "source": [
    "dataset['Timestamp']"
   ]
  },
  {
   "cell_type": "markdown",
   "id": "2d31aa6e-f0e2-446e-bbf7-27fcc0b20e8b",
   "metadata": {},
   "source": [
    "# 보간"
   ]
  },
  {
   "cell_type": "code",
   "execution_count": 136,
   "id": "8503ff5c-a8c5-498b-b5d3-737dbcedee33",
   "metadata": {},
   "outputs": [],
   "source": [
    "dataset = dataset.fillna(dataset.mean())"
   ]
  },
  {
   "cell_type": "markdown",
   "id": "9b007b80-42d6-4fdd-98d4-0f13f4acd00f",
   "metadata": {},
   "source": [
    "# train test split"
   ]
  },
  {
   "cell_type": "code",
   "execution_count": 139,
   "id": "94b7de0f-31d0-4a39-a893-89d82582ddcd",
   "metadata": {},
   "outputs": [],
   "source": [
    "train_set = dataset[:105120]\n",
    "train_set.to_csv('2_train.csv', mode='w')"
   ]
  },
  {
   "cell_type": "code",
   "execution_count": 140,
   "id": "a70f67d7-7652-471d-a8b5-c43cd71e1ac0",
   "metadata": {},
   "outputs": [],
   "source": [
    "test_set = dataset[105120:]\n",
    "test_set.to_csv('2_test.csv', mode='w')"
   ]
  },
  {
   "cell_type": "code",
   "execution_count": null,
   "id": "249ec9a1-53ec-499e-9fd2-86ca949a7c3b",
   "metadata": {},
   "outputs": [],
   "source": []
  }
 ],
 "metadata": {
  "kernelspec": {
   "display_name": "Python 3 (ipykernel)",
   "language": "python",
   "name": "python3"
  },
  "language_info": {
   "codemirror_mode": {
    "name": "ipython",
    "version": 3
   },
   "file_extension": ".py",
   "mimetype": "text/x-python",
   "name": "python",
   "nbconvert_exporter": "python",
   "pygments_lexer": "ipython3",
   "version": "3.8.13"
  }
 },
 "nbformat": 4,
 "nbformat_minor": 5
}
