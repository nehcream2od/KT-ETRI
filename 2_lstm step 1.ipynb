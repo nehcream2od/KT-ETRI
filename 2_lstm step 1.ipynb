{
 "cells": [
  {
   "cell_type": "markdown",
   "id": "30855043-3358-4281-b592-b03966150cb2",
   "metadata": {
    "tags": []
   },
   "source": [
    "#  Import Libraries"
   ]
  },
  {
   "cell_type": "code",
   "execution_count": 1,
   "id": "f593f1db-be2d-4572-86d0-c9ef3556baf1",
   "metadata": {},
   "outputs": [],
   "source": [
    "from collections import Counter\n",
    "\n",
    "import matplotlib.pyplot as plt\n",
    "import numpy as np\n",
    "import pandas as pd\n",
    "import seaborn as sns\n",
    "import tensorflow as tf\n",
    "from pylab import rcParams\n",
    "from sklearn import metrics, preprocessing\n",
    "from sklearn.model_selection import train_test_split\n",
    "from sklearn.preprocessing import StandardScaler\n",
    "from tensorflow.keras import Model, layers, models, optimizers, regularizers\n",
    "from tensorflow.keras.callbacks import EarlyStopping, ModelCheckpoint\n",
    "from tensorflow.keras.layers import (\n",
    "    LSTM,\n",
    "    Dense,\n",
    "    Dropout,\n",
    "    Input,\n",
    "    RepeatVector,\n",
    "    TimeDistributed,\n",
    ")"
   ]
  },
  {
   "cell_type": "markdown",
   "id": "fcddeda4-a0f7-41fb-a60f-dce52751050c",
   "metadata": {
    "tags": []
   },
   "source": [
    "# Load Data"
   ]
  },
  {
   "cell_type": "code",
   "execution_count": 5,
   "id": "a10f8ef7-a7a1-4b58-a77f-6e13e2a254cf",
   "metadata": {},
   "outputs": [
    {
     "data": {
      "text/html": [
       "<div>\n",
       "<style scoped>\n",
       "    .dataframe tbody tr th:only-of-type {\n",
       "        vertical-align: middle;\n",
       "    }\n",
       "\n",
       "    .dataframe tbody tr th {\n",
       "        vertical-align: top;\n",
       "    }\n",
       "\n",
       "    .dataframe thead th {\n",
       "        text-align: right;\n",
       "    }\n",
       "</style>\n",
       "<table border=\"1\" class=\"dataframe\">\n",
       "  <thead>\n",
       "    <tr style=\"text-align: right;\">\n",
       "      <th></th>\n",
       "      <th>Unnamed: 0</th>\n",
       "      <th>Timestamp</th>\n",
       "      <th>INFO-01-Request</th>\n",
       "      <th>INFO-01-Success</th>\n",
       "      <th>INFO-01-Fail</th>\n",
       "      <th>LOGIN-01-Request</th>\n",
       "      <th>LOGIN-01-Success</th>\n",
       "      <th>LOGIN-01-Fail</th>\n",
       "      <th>LOGIN-02-Request</th>\n",
       "      <th>LOGIN-02-Success</th>\n",
       "      <th>...</th>\n",
       "      <th>MENU-02-Fail</th>\n",
       "      <th>MENU-03-Request</th>\n",
       "      <th>MENU-03-Success</th>\n",
       "      <th>MENU-03-Fail</th>\n",
       "      <th>MENU-04-Request</th>\n",
       "      <th>MENU-04-Success</th>\n",
       "      <th>MENU-04-Fail</th>\n",
       "      <th>STREAM-01-Session</th>\n",
       "      <th>STREAM-02-Session</th>\n",
       "      <th>STREAM-03-Session</th>\n",
       "    </tr>\n",
       "  </thead>\n",
       "  <tbody>\n",
       "    <tr>\n",
       "      <th>0</th>\n",
       "      <td>0</td>\n",
       "      <td>20170101_0000-0005</td>\n",
       "      <td>652.933035</td>\n",
       "      <td>652.933035</td>\n",
       "      <td>0.0</td>\n",
       "      <td>4405.0</td>\n",
       "      <td>4292.0</td>\n",
       "      <td>113.0</td>\n",
       "      <td>870.019741</td>\n",
       "      <td>833.147889</td>\n",
       "      <td>...</td>\n",
       "      <td>51.0</td>\n",
       "      <td>6477.0</td>\n",
       "      <td>6418.0</td>\n",
       "      <td>59.0</td>\n",
       "      <td>6518.0</td>\n",
       "      <td>6472.0</td>\n",
       "      <td>46.0</td>\n",
       "      <td>230.070777</td>\n",
       "      <td>293.673826</td>\n",
       "      <td>317.0</td>\n",
       "    </tr>\n",
       "    <tr>\n",
       "      <th>1</th>\n",
       "      <td>1</td>\n",
       "      <td>20170101_0005-0010</td>\n",
       "      <td>652.933035</td>\n",
       "      <td>652.933035</td>\n",
       "      <td>0.0</td>\n",
       "      <td>2260.0</td>\n",
       "      <td>2208.0</td>\n",
       "      <td>52.0</td>\n",
       "      <td>870.019741</td>\n",
       "      <td>833.147889</td>\n",
       "      <td>...</td>\n",
       "      <td>21.0</td>\n",
       "      <td>2891.0</td>\n",
       "      <td>2860.0</td>\n",
       "      <td>31.0</td>\n",
       "      <td>2765.0</td>\n",
       "      <td>2747.0</td>\n",
       "      <td>18.0</td>\n",
       "      <td>230.070777</td>\n",
       "      <td>293.673826</td>\n",
       "      <td>195.0</td>\n",
       "    </tr>\n",
       "    <tr>\n",
       "      <th>2</th>\n",
       "      <td>2</td>\n",
       "      <td>20170101_0010-0015</td>\n",
       "      <td>652.933035</td>\n",
       "      <td>652.933035</td>\n",
       "      <td>0.0</td>\n",
       "      <td>1648.0</td>\n",
       "      <td>1623.0</td>\n",
       "      <td>25.0</td>\n",
       "      <td>870.019741</td>\n",
       "      <td>833.147889</td>\n",
       "      <td>...</td>\n",
       "      <td>33.0</td>\n",
       "      <td>3884.0</td>\n",
       "      <td>3842.0</td>\n",
       "      <td>42.0</td>\n",
       "      <td>3990.0</td>\n",
       "      <td>3934.0</td>\n",
       "      <td>56.0</td>\n",
       "      <td>230.070777</td>\n",
       "      <td>293.673826</td>\n",
       "      <td>171.0</td>\n",
       "    </tr>\n",
       "    <tr>\n",
       "      <th>3</th>\n",
       "      <td>3</td>\n",
       "      <td>20170101_0015-0020</td>\n",
       "      <td>652.933035</td>\n",
       "      <td>652.933035</td>\n",
       "      <td>0.0</td>\n",
       "      <td>1407.0</td>\n",
       "      <td>1387.0</td>\n",
       "      <td>20.0</td>\n",
       "      <td>870.019741</td>\n",
       "      <td>833.147889</td>\n",
       "      <td>...</td>\n",
       "      <td>30.0</td>\n",
       "      <td>2718.0</td>\n",
       "      <td>2685.0</td>\n",
       "      <td>33.0</td>\n",
       "      <td>2561.0</td>\n",
       "      <td>2525.0</td>\n",
       "      <td>36.0</td>\n",
       "      <td>230.070777</td>\n",
       "      <td>293.673826</td>\n",
       "      <td>158.0</td>\n",
       "    </tr>\n",
       "    <tr>\n",
       "      <th>4</th>\n",
       "      <td>4</td>\n",
       "      <td>20170101_0020-0025</td>\n",
       "      <td>652.933035</td>\n",
       "      <td>652.933035</td>\n",
       "      <td>0.0</td>\n",
       "      <td>1374.0</td>\n",
       "      <td>1351.0</td>\n",
       "      <td>23.0</td>\n",
       "      <td>870.019741</td>\n",
       "      <td>833.147889</td>\n",
       "      <td>...</td>\n",
       "      <td>28.0</td>\n",
       "      <td>2450.0</td>\n",
       "      <td>2409.0</td>\n",
       "      <td>41.0</td>\n",
       "      <td>2389.0</td>\n",
       "      <td>2375.0</td>\n",
       "      <td>14.0</td>\n",
       "      <td>230.070777</td>\n",
       "      <td>293.673826</td>\n",
       "      <td>166.0</td>\n",
       "    </tr>\n",
       "  </tbody>\n",
       "</table>\n",
       "<p>5 rows × 35 columns</p>\n",
       "</div>"
      ],
      "text/plain": [
       "   Unnamed: 0           Timestamp  INFO-01-Request  INFO-01-Success  \\\n",
       "0           0  20170101_0000-0005       652.933035       652.933035   \n",
       "1           1  20170101_0005-0010       652.933035       652.933035   \n",
       "2           2  20170101_0010-0015       652.933035       652.933035   \n",
       "3           3  20170101_0015-0020       652.933035       652.933035   \n",
       "4           4  20170101_0020-0025       652.933035       652.933035   \n",
       "\n",
       "   INFO-01-Fail  LOGIN-01-Request  LOGIN-01-Success  LOGIN-01-Fail  \\\n",
       "0           0.0            4405.0            4292.0          113.0   \n",
       "1           0.0            2260.0            2208.0           52.0   \n",
       "2           0.0            1648.0            1623.0           25.0   \n",
       "3           0.0            1407.0            1387.0           20.0   \n",
       "4           0.0            1374.0            1351.0           23.0   \n",
       "\n",
       "   LOGIN-02-Request  LOGIN-02-Success  ...  MENU-02-Fail  MENU-03-Request  \\\n",
       "0        870.019741        833.147889  ...          51.0           6477.0   \n",
       "1        870.019741        833.147889  ...          21.0           2891.0   \n",
       "2        870.019741        833.147889  ...          33.0           3884.0   \n",
       "3        870.019741        833.147889  ...          30.0           2718.0   \n",
       "4        870.019741        833.147889  ...          28.0           2450.0   \n",
       "\n",
       "   MENU-03-Success  MENU-03-Fail  MENU-04-Request  MENU-04-Success  \\\n",
       "0           6418.0          59.0           6518.0           6472.0   \n",
       "1           2860.0          31.0           2765.0           2747.0   \n",
       "2           3842.0          42.0           3990.0           3934.0   \n",
       "3           2685.0          33.0           2561.0           2525.0   \n",
       "4           2409.0          41.0           2389.0           2375.0   \n",
       "\n",
       "   MENU-04-Fail  STREAM-01-Session  STREAM-02-Session  STREAM-03-Session  \n",
       "0          46.0         230.070777         293.673826              317.0  \n",
       "1          18.0         230.070777         293.673826              195.0  \n",
       "2          56.0         230.070777         293.673826              171.0  \n",
       "3          36.0         230.070777         293.673826              158.0  \n",
       "4          14.0         230.070777         293.673826              166.0  \n",
       "\n",
       "[5 rows x 35 columns]"
      ]
     },
     "execution_count": 5,
     "metadata": {},
     "output_type": "execute_result"
    }
   ],
   "source": [
    "train = pd.read_csv(\"2_train.csv\")\n",
    "test = pd.read_csv(\"2_test.csv\")\n",
    "\n",
    "train.head()"
   ]
  },
  {
   "cell_type": "code",
   "execution_count": 6,
   "id": "7024b3b3-2676-4077-ba6f-02ec9b78e575",
   "metadata": {},
   "outputs": [
    {
     "data": {
      "text/plain": [
       "Index(['Unnamed: 0', 'Timestamp', 'INFO-01-Request', 'INFO-01-Success',\n",
       "       'INFO-01-Fail', 'LOGIN-01-Request', 'LOGIN-01-Success', 'LOGIN-01-Fail',\n",
       "       'LOGIN-02-Request', 'LOGIN-02-Success', 'LOGIN-02-Fail',\n",
       "       'LOGIN-03-Request', 'LOGIN-03-Success', 'LOGIN-03-Fail',\n",
       "       'LOGIN-04-Request', 'LOGIN-04-Success', 'LOGIN-04-Fail',\n",
       "       'LOGIN-05-Request', 'LOGIN-05-Success', 'LOGIN-05-Fail',\n",
       "       'MENU-01-Request', 'MENU-01-Success', 'MENU-01-Fail', 'MENU-02-Request',\n",
       "       'MENU-02-Success', 'MENU-02-Fail', 'MENU-03-Request', 'MENU-03-Success',\n",
       "       'MENU-03-Fail', 'MENU-04-Request', 'MENU-04-Success', 'MENU-04-Fail',\n",
       "       'STREAM-01-Session', 'STREAM-02-Session', 'STREAM-03-Session'],\n",
       "      dtype='object')"
      ]
     },
     "execution_count": 6,
     "metadata": {},
     "output_type": "execute_result"
    }
   ],
   "source": [
    "train.columns"
   ]
  },
  {
   "cell_type": "code",
   "execution_count": 7,
   "id": "47982f0c-82bc-4f80-b45d-821b97604560",
   "metadata": {},
   "outputs": [],
   "source": [
    "train.drop(['Unnamed: 0', 'Timestamp'], inplace=True, axis=1)\n",
    "test.drop(['Unnamed: 0', 'Timestamp'], inplace=True, axis=1)"
   ]
  },
  {
   "cell_type": "raw",
   "id": "970bffaa-a1a9-4754-acc1-3cfa8373ab24",
   "metadata": {},
   "source": [
    "train_1 = train[[\"INFO-01-Request\", \"INFO-01-Success\", \"INFO-01-Fail\"]]\n",
    "train_2 = train[[\"LOGIN-01-Request\", \"LOGIN-01-Success\", \"LOGIN-01-Fail\"]]\n",
    "train_3 = train[[\"LOGIN-02-Request\", \"LOGIN-02-Success\", \"LOGIN-02-Fail\"]]\n",
    "train_4 = train[[\"LOGIN-03-Request\", \"LOGIN-03-Success\", \"LOGIN-03-Fail\"]]\n",
    "train_5 = train[[\"LOGIN-04-Request\", \"LOGIN-04-Success\", \"LOGIN-04-Fail\"]]\n",
    "train_6 = train[[\"LOGIN-05-Request\", \"LOGIN-05-Success\", \"LOGIN-05-Fail\"]]\n",
    "train_7 = train[[\"MENU-01-Request\", \"MENU-01-Success\", \"MENU-01-Fail\"]]\n",
    "train_8 = train[[\"MENU-02-Request\", \"MENU-02-Success\", \"MENU-02-Fail\"]]\n",
    "train_9 = train[[\"MENU-03-Request\", \"MENU-03-Success\", \"MENU-03-Fail\"]]\n",
    "train_10 = train[[\"MENU-04-Request\", \"MENU-04-Success\", \"MENU-04-Fail\"]]\n",
    "train_11 = train[[\"STREAM-01-Session\"]]\n",
    "train_12 = train[[\"STREAM-02-Session\"]]\n",
    "train_13 = train[[\"STREAM-03-Session\"]]\n",
    "\n",
    "test_1 = test[[\"INFO-01-Request\", \"INFO-01-Success\", \"INFO-01-Fail\"]]\n",
    "test_2 = test[[\"LOGIN-01-Request\", \"LOGIN-01-Success\", \"LOGIN-01-Fail\"]]\n",
    "test_3 = test[[\"LOGIN-02-Request\", \"LOGIN-02-Success\", \"LOGIN-02-Fail\"]]\n",
    "test_4 = test[[\"LOGIN-03-Request\", \"LOGIN-03-Success\", \"LOGIN-03-Fail\"]]\n",
    "test_5 = test[[\"LOGIN-04-Request\", \"LOGIN-04-Success\", \"LOGIN-04-Fail\"]]\n",
    "test_6 = test[[\"LOGIN-05-Request\", \"LOGIN-05-Success\", \"LOGIN-05-Fail\"]]\n",
    "test_7 = test[[\"MENU-01-Request\", \"MENU-01-Success\", \"MENU-01-Fail\"]]\n",
    "test_8 = test[[\"MENU-02-Request\", \"MENU-02-Success\", \"MENU-02-Fail\"]]\n",
    "test_9 = test[[\"MENU-03-Request\", \"MENU-03-Success\", \"MENU-03-Fail\"]]\n",
    "test_10 = test[[\"MENU-04-Request\", \"MENU-04-Success\", \"MENU-04-Fail\"]]\n",
    "test_11 = test[[\"STREAM-01-Session\"]]\n",
    "test_12 = test[[\"STREAM-02-Session\"]]\n",
    "test_13 = test[[\"STREAM-03-Session\"]]"
   ]
  },
  {
   "cell_type": "code",
   "execution_count": 8,
   "id": "e9e8d828-6888-4728-8eaa-017ee0f5bbaa",
   "metadata": {},
   "outputs": [
    {
     "data": {
      "text/html": [
       "<div>\n",
       "<style scoped>\n",
       "    .dataframe tbody tr th:only-of-type {\n",
       "        vertical-align: middle;\n",
       "    }\n",
       "\n",
       "    .dataframe tbody tr th {\n",
       "        vertical-align: top;\n",
       "    }\n",
       "\n",
       "    .dataframe thead th {\n",
       "        text-align: right;\n",
       "    }\n",
       "</style>\n",
       "<table border=\"1\" class=\"dataframe\">\n",
       "  <thead>\n",
       "    <tr style=\"text-align: right;\">\n",
       "      <th></th>\n",
       "      <th>INFO-01-Request</th>\n",
       "      <th>INFO-01-Success</th>\n",
       "      <th>INFO-01-Fail</th>\n",
       "      <th>LOGIN-01-Request</th>\n",
       "      <th>LOGIN-01-Success</th>\n",
       "      <th>LOGIN-01-Fail</th>\n",
       "      <th>LOGIN-02-Request</th>\n",
       "      <th>LOGIN-02-Success</th>\n",
       "      <th>LOGIN-02-Fail</th>\n",
       "      <th>LOGIN-03-Request</th>\n",
       "      <th>...</th>\n",
       "      <th>MENU-02-Fail</th>\n",
       "      <th>MENU-03-Request</th>\n",
       "      <th>MENU-03-Success</th>\n",
       "      <th>MENU-03-Fail</th>\n",
       "      <th>MENU-04-Request</th>\n",
       "      <th>MENU-04-Success</th>\n",
       "      <th>MENU-04-Fail</th>\n",
       "      <th>STREAM-01-Session</th>\n",
       "      <th>STREAM-02-Session</th>\n",
       "      <th>STREAM-03-Session</th>\n",
       "    </tr>\n",
       "  </thead>\n",
       "  <tbody>\n",
       "    <tr>\n",
       "      <th>0</th>\n",
       "      <td>652.933035</td>\n",
       "      <td>652.933035</td>\n",
       "      <td>0.0</td>\n",
       "      <td>4405.0</td>\n",
       "      <td>4292.0</td>\n",
       "      <td>113.0</td>\n",
       "      <td>870.019741</td>\n",
       "      <td>833.147889</td>\n",
       "      <td>36.871851</td>\n",
       "      <td>870.035902</td>\n",
       "      <td>...</td>\n",
       "      <td>51.0</td>\n",
       "      <td>6477.0</td>\n",
       "      <td>6418.0</td>\n",
       "      <td>59.0</td>\n",
       "      <td>6518.0</td>\n",
       "      <td>6472.0</td>\n",
       "      <td>46.0</td>\n",
       "      <td>230.070777</td>\n",
       "      <td>293.673826</td>\n",
       "      <td>317.0</td>\n",
       "    </tr>\n",
       "    <tr>\n",
       "      <th>1</th>\n",
       "      <td>652.933035</td>\n",
       "      <td>652.933035</td>\n",
       "      <td>0.0</td>\n",
       "      <td>2260.0</td>\n",
       "      <td>2208.0</td>\n",
       "      <td>52.0</td>\n",
       "      <td>870.019741</td>\n",
       "      <td>833.147889</td>\n",
       "      <td>36.871851</td>\n",
       "      <td>870.035902</td>\n",
       "      <td>...</td>\n",
       "      <td>21.0</td>\n",
       "      <td>2891.0</td>\n",
       "      <td>2860.0</td>\n",
       "      <td>31.0</td>\n",
       "      <td>2765.0</td>\n",
       "      <td>2747.0</td>\n",
       "      <td>18.0</td>\n",
       "      <td>230.070777</td>\n",
       "      <td>293.673826</td>\n",
       "      <td>195.0</td>\n",
       "    </tr>\n",
       "    <tr>\n",
       "      <th>2</th>\n",
       "      <td>652.933035</td>\n",
       "      <td>652.933035</td>\n",
       "      <td>0.0</td>\n",
       "      <td>1648.0</td>\n",
       "      <td>1623.0</td>\n",
       "      <td>25.0</td>\n",
       "      <td>870.019741</td>\n",
       "      <td>833.147889</td>\n",
       "      <td>36.871851</td>\n",
       "      <td>870.035902</td>\n",
       "      <td>...</td>\n",
       "      <td>33.0</td>\n",
       "      <td>3884.0</td>\n",
       "      <td>3842.0</td>\n",
       "      <td>42.0</td>\n",
       "      <td>3990.0</td>\n",
       "      <td>3934.0</td>\n",
       "      <td>56.0</td>\n",
       "      <td>230.070777</td>\n",
       "      <td>293.673826</td>\n",
       "      <td>171.0</td>\n",
       "    </tr>\n",
       "    <tr>\n",
       "      <th>3</th>\n",
       "      <td>652.933035</td>\n",
       "      <td>652.933035</td>\n",
       "      <td>0.0</td>\n",
       "      <td>1407.0</td>\n",
       "      <td>1387.0</td>\n",
       "      <td>20.0</td>\n",
       "      <td>870.019741</td>\n",
       "      <td>833.147889</td>\n",
       "      <td>36.871851</td>\n",
       "      <td>870.035902</td>\n",
       "      <td>...</td>\n",
       "      <td>30.0</td>\n",
       "      <td>2718.0</td>\n",
       "      <td>2685.0</td>\n",
       "      <td>33.0</td>\n",
       "      <td>2561.0</td>\n",
       "      <td>2525.0</td>\n",
       "      <td>36.0</td>\n",
       "      <td>230.070777</td>\n",
       "      <td>293.673826</td>\n",
       "      <td>158.0</td>\n",
       "    </tr>\n",
       "    <tr>\n",
       "      <th>4</th>\n",
       "      <td>652.933035</td>\n",
       "      <td>652.933035</td>\n",
       "      <td>0.0</td>\n",
       "      <td>1374.0</td>\n",
       "      <td>1351.0</td>\n",
       "      <td>23.0</td>\n",
       "      <td>870.019741</td>\n",
       "      <td>833.147889</td>\n",
       "      <td>36.871851</td>\n",
       "      <td>870.035902</td>\n",
       "      <td>...</td>\n",
       "      <td>28.0</td>\n",
       "      <td>2450.0</td>\n",
       "      <td>2409.0</td>\n",
       "      <td>41.0</td>\n",
       "      <td>2389.0</td>\n",
       "      <td>2375.0</td>\n",
       "      <td>14.0</td>\n",
       "      <td>230.070777</td>\n",
       "      <td>293.673826</td>\n",
       "      <td>166.0</td>\n",
       "    </tr>\n",
       "    <tr>\n",
       "      <th>...</th>\n",
       "      <td>...</td>\n",
       "      <td>...</td>\n",
       "      <td>...</td>\n",
       "      <td>...</td>\n",
       "      <td>...</td>\n",
       "      <td>...</td>\n",
       "      <td>...</td>\n",
       "      <td>...</td>\n",
       "      <td>...</td>\n",
       "      <td>...</td>\n",
       "      <td>...</td>\n",
       "      <td>...</td>\n",
       "      <td>...</td>\n",
       "      <td>...</td>\n",
       "      <td>...</td>\n",
       "      <td>...</td>\n",
       "      <td>...</td>\n",
       "      <td>...</td>\n",
       "      <td>...</td>\n",
       "      <td>...</td>\n",
       "      <td>...</td>\n",
       "    </tr>\n",
       "    <tr>\n",
       "      <th>105115</th>\n",
       "      <td>2260.000000</td>\n",
       "      <td>2260.000000</td>\n",
       "      <td>0.0</td>\n",
       "      <td>2213.0</td>\n",
       "      <td>1906.0</td>\n",
       "      <td>307.0</td>\n",
       "      <td>2212.000000</td>\n",
       "      <td>1918.000000</td>\n",
       "      <td>294.000000</td>\n",
       "      <td>2215.000000</td>\n",
       "      <td>...</td>\n",
       "      <td>58.0</td>\n",
       "      <td>3777.0</td>\n",
       "      <td>3735.0</td>\n",
       "      <td>42.0</td>\n",
       "      <td>3832.0</td>\n",
       "      <td>3787.0</td>\n",
       "      <td>45.0</td>\n",
       "      <td>432.000000</td>\n",
       "      <td>584.000000</td>\n",
       "      <td>222.0</td>\n",
       "    </tr>\n",
       "    <tr>\n",
       "      <th>105116</th>\n",
       "      <td>2139.000000</td>\n",
       "      <td>2139.000000</td>\n",
       "      <td>0.0</td>\n",
       "      <td>2186.0</td>\n",
       "      <td>1926.0</td>\n",
       "      <td>260.0</td>\n",
       "      <td>2187.000000</td>\n",
       "      <td>1924.000000</td>\n",
       "      <td>263.000000</td>\n",
       "      <td>2186.000000</td>\n",
       "      <td>...</td>\n",
       "      <td>43.0</td>\n",
       "      <td>3647.0</td>\n",
       "      <td>3593.0</td>\n",
       "      <td>54.0</td>\n",
       "      <td>3633.0</td>\n",
       "      <td>3566.0</td>\n",
       "      <td>67.0</td>\n",
       "      <td>436.000000</td>\n",
       "      <td>583.000000</td>\n",
       "      <td>223.0</td>\n",
       "    </tr>\n",
       "    <tr>\n",
       "      <th>105117</th>\n",
       "      <td>2170.000000</td>\n",
       "      <td>2170.000000</td>\n",
       "      <td>0.0</td>\n",
       "      <td>2330.0</td>\n",
       "      <td>2045.0</td>\n",
       "      <td>285.0</td>\n",
       "      <td>2327.000000</td>\n",
       "      <td>2030.000000</td>\n",
       "      <td>297.000000</td>\n",
       "      <td>2328.000000</td>\n",
       "      <td>...</td>\n",
       "      <td>65.0</td>\n",
       "      <td>3932.0</td>\n",
       "      <td>3879.0</td>\n",
       "      <td>53.0</td>\n",
       "      <td>3960.0</td>\n",
       "      <td>3893.0</td>\n",
       "      <td>67.0</td>\n",
       "      <td>441.000000</td>\n",
       "      <td>602.000000</td>\n",
       "      <td>244.0</td>\n",
       "    </tr>\n",
       "    <tr>\n",
       "      <th>105118</th>\n",
       "      <td>2283.000000</td>\n",
       "      <td>2283.000000</td>\n",
       "      <td>0.0</td>\n",
       "      <td>2663.0</td>\n",
       "      <td>2338.0</td>\n",
       "      <td>325.0</td>\n",
       "      <td>2666.000000</td>\n",
       "      <td>2375.000000</td>\n",
       "      <td>291.000000</td>\n",
       "      <td>2665.000000</td>\n",
       "      <td>...</td>\n",
       "      <td>70.0</td>\n",
       "      <td>4220.0</td>\n",
       "      <td>4141.0</td>\n",
       "      <td>79.0</td>\n",
       "      <td>4170.0</td>\n",
       "      <td>4114.0</td>\n",
       "      <td>56.0</td>\n",
       "      <td>446.000000</td>\n",
       "      <td>606.000000</td>\n",
       "      <td>277.0</td>\n",
       "    </tr>\n",
       "    <tr>\n",
       "      <th>105119</th>\n",
       "      <td>2530.000000</td>\n",
       "      <td>2530.000000</td>\n",
       "      <td>0.0</td>\n",
       "      <td>3184.0</td>\n",
       "      <td>2754.0</td>\n",
       "      <td>430.0</td>\n",
       "      <td>3185.000000</td>\n",
       "      <td>2809.000000</td>\n",
       "      <td>376.000000</td>\n",
       "      <td>3183.000000</td>\n",
       "      <td>...</td>\n",
       "      <td>60.0</td>\n",
       "      <td>4801.0</td>\n",
       "      <td>4735.0</td>\n",
       "      <td>66.0</td>\n",
       "      <td>4667.0</td>\n",
       "      <td>4600.0</td>\n",
       "      <td>67.0</td>\n",
       "      <td>457.000000</td>\n",
       "      <td>628.000000</td>\n",
       "      <td>305.0</td>\n",
       "    </tr>\n",
       "  </tbody>\n",
       "</table>\n",
       "<p>105120 rows × 33 columns</p>\n",
       "</div>"
      ],
      "text/plain": [
       "        INFO-01-Request  INFO-01-Success  INFO-01-Fail  LOGIN-01-Request  \\\n",
       "0            652.933035       652.933035           0.0            4405.0   \n",
       "1            652.933035       652.933035           0.0            2260.0   \n",
       "2            652.933035       652.933035           0.0            1648.0   \n",
       "3            652.933035       652.933035           0.0            1407.0   \n",
       "4            652.933035       652.933035           0.0            1374.0   \n",
       "...                 ...              ...           ...               ...   \n",
       "105115      2260.000000      2260.000000           0.0            2213.0   \n",
       "105116      2139.000000      2139.000000           0.0            2186.0   \n",
       "105117      2170.000000      2170.000000           0.0            2330.0   \n",
       "105118      2283.000000      2283.000000           0.0            2663.0   \n",
       "105119      2530.000000      2530.000000           0.0            3184.0   \n",
       "\n",
       "        LOGIN-01-Success  LOGIN-01-Fail  LOGIN-02-Request  LOGIN-02-Success  \\\n",
       "0                 4292.0          113.0        870.019741        833.147889   \n",
       "1                 2208.0           52.0        870.019741        833.147889   \n",
       "2                 1623.0           25.0        870.019741        833.147889   \n",
       "3                 1387.0           20.0        870.019741        833.147889   \n",
       "4                 1351.0           23.0        870.019741        833.147889   \n",
       "...                  ...            ...               ...               ...   \n",
       "105115            1906.0          307.0       2212.000000       1918.000000   \n",
       "105116            1926.0          260.0       2187.000000       1924.000000   \n",
       "105117            2045.0          285.0       2327.000000       2030.000000   \n",
       "105118            2338.0          325.0       2666.000000       2375.000000   \n",
       "105119            2754.0          430.0       3185.000000       2809.000000   \n",
       "\n",
       "        LOGIN-02-Fail  LOGIN-03-Request  ...  MENU-02-Fail  MENU-03-Request  \\\n",
       "0           36.871851        870.035902  ...          51.0           6477.0   \n",
       "1           36.871851        870.035902  ...          21.0           2891.0   \n",
       "2           36.871851        870.035902  ...          33.0           3884.0   \n",
       "3           36.871851        870.035902  ...          30.0           2718.0   \n",
       "4           36.871851        870.035902  ...          28.0           2450.0   \n",
       "...               ...               ...  ...           ...              ...   \n",
       "105115     294.000000       2215.000000  ...          58.0           3777.0   \n",
       "105116     263.000000       2186.000000  ...          43.0           3647.0   \n",
       "105117     297.000000       2328.000000  ...          65.0           3932.0   \n",
       "105118     291.000000       2665.000000  ...          70.0           4220.0   \n",
       "105119     376.000000       3183.000000  ...          60.0           4801.0   \n",
       "\n",
       "        MENU-03-Success  MENU-03-Fail  MENU-04-Request  MENU-04-Success  \\\n",
       "0                6418.0          59.0           6518.0           6472.0   \n",
       "1                2860.0          31.0           2765.0           2747.0   \n",
       "2                3842.0          42.0           3990.0           3934.0   \n",
       "3                2685.0          33.0           2561.0           2525.0   \n",
       "4                2409.0          41.0           2389.0           2375.0   \n",
       "...                 ...           ...              ...              ...   \n",
       "105115           3735.0          42.0           3832.0           3787.0   \n",
       "105116           3593.0          54.0           3633.0           3566.0   \n",
       "105117           3879.0          53.0           3960.0           3893.0   \n",
       "105118           4141.0          79.0           4170.0           4114.0   \n",
       "105119           4735.0          66.0           4667.0           4600.0   \n",
       "\n",
       "        MENU-04-Fail  STREAM-01-Session  STREAM-02-Session  STREAM-03-Session  \n",
       "0               46.0         230.070777         293.673826              317.0  \n",
       "1               18.0         230.070777         293.673826              195.0  \n",
       "2               56.0         230.070777         293.673826              171.0  \n",
       "3               36.0         230.070777         293.673826              158.0  \n",
       "4               14.0         230.070777         293.673826              166.0  \n",
       "...              ...                ...                ...                ...  \n",
       "105115          45.0         432.000000         584.000000              222.0  \n",
       "105116          67.0         436.000000         583.000000              223.0  \n",
       "105117          67.0         441.000000         602.000000              244.0  \n",
       "105118          56.0         446.000000         606.000000              277.0  \n",
       "105119          67.0         457.000000         628.000000              305.0  \n",
       "\n",
       "[105120 rows x 33 columns]"
      ]
     },
     "execution_count": 8,
     "metadata": {},
     "output_type": "execute_result"
    }
   ],
   "source": [
    "train"
   ]
  },
  {
   "cell_type": "code",
   "execution_count": 9,
   "id": "204d8a59-1380-404e-b4e6-e556a5c6ea1f",
   "metadata": {},
   "outputs": [
    {
     "name": "stdout",
     "output_type": "stream",
     "text": [
      "33\n"
     ]
    }
   ],
   "source": [
    "n_features = train.shape[1]\n",
    "print(n_features)"
   ]
  },
  {
   "cell_type": "markdown",
   "id": "591cff18-d688-4097-8ee5-b1f89488441c",
   "metadata": {},
   "source": [
    "# standardization"
   ]
  },
  {
   "cell_type": "code",
   "execution_count": 10,
   "id": "1ce70b84-ac19-469d-bf56-c9f4c831a850",
   "metadata": {},
   "outputs": [],
   "source": [
    "scaler = preprocessing.StandardScaler().fit(train)\n",
    "\n",
    "train_scaled = scaler.transform(train)\n",
    "test_scaled = scaler.transform(test)"
   ]
  },
  {
   "cell_type": "markdown",
   "id": "b7985a31-8940-43c9-8098-57ca091bab84",
   "metadata": {
    "tags": []
   },
   "source": [
    "# Transform to Series Data, train test split"
   ]
  },
  {
   "cell_type": "code",
   "execution_count": 11,
   "id": "15dc69cc-a0e0-4a99-91b9-30afd0c2f244",
   "metadata": {},
   "outputs": [],
   "source": [
    "train_set = train_scaled.reshape(len(train_scaled), 1, n_features)[len(train_scaled) // 10 * 7 :]\n",
    "valid_set = train_scaled.reshape(len(train_scaled), 1, n_features)[: len(train_scaled) // 10 * 7]\n",
    "test_set = test_scaled.reshape(len(test_scaled), 1, n_features)"
   ]
  },
  {
   "cell_type": "markdown",
   "id": "d8cb6aff-acc6-4ac8-9456-0379e3abb708",
   "metadata": {
    "tags": []
   },
   "source": [
    "# Training LSTM Autoencoder"
   ]
  },
  {
   "cell_type": "code",
   "execution_count": 12,
   "id": "bae54efc-75bc-4eaa-980d-131f1b9b7ece",
   "metadata": {},
   "outputs": [],
   "source": [
    "def autoencoder_model(X):\n",
    "    inputs = Input(shape=(X.shape[1], X.shape[2]))\n",
    "    L1 = LSTM(\n",
    "        140,\n",
    "        activation=\"relu\",\n",
    "        return_sequences=True,\n",
    "        kernel_regularizer=regularizers.l2(0.00),\n",
    "    )(inputs)\n",
    "\n",
    "    L2 = LSTM(70, activation=\"relu\", return_sequences=False)(L1)\n",
    "    L3 = RepeatVector(X.shape[1])(L2)\n",
    "    L4 = LSTM(70, activation=\"relu\", return_sequences=True)(L3)\n",
    "    L5 = LSTM(140, activation=\"relu\", return_sequences=True)(L4)\n",
    "    output = TimeDistributed(Dense(X.shape[2]))(L5)\n",
    "    model = Model(inputs=inputs, outputs=output)\n",
    "    return model"
   ]
  },
  {
   "cell_type": "code",
   "execution_count": 13,
   "id": "01f1d560-079c-47b6-8f29-d55e041f939f",
   "metadata": {},
   "outputs": [
    {
     "name": "stdout",
     "output_type": "stream",
     "text": [
      "WARNING:tensorflow:Layer lstm will not use cuDNN kernels since it doesn't meet the criteria. It will use a generic GPU kernel as fallback when running on GPU.\n",
      "Metal device set to: Apple M1\n",
      "\n",
      "systemMemory: 8.00 GB\n",
      "maxCacheSize: 2.67 GB\n",
      "\n",
      "WARNING:tensorflow:Layer lstm_1 will not use cuDNN kernels since it doesn't meet the criteria. It will use a generic GPU kernel as fallback when running on GPU.\n",
      "WARNING:tensorflow:Layer lstm_2 will not use cuDNN kernels since it doesn't meet the criteria. It will use a generic GPU kernel as fallback when running on GPU.\n",
      "WARNING:tensorflow:Layer lstm_3 will not use cuDNN kernels since it doesn't meet the criteria. It will use a generic GPU kernel as fallback when running on GPU.\n"
     ]
    },
    {
     "name": "stderr",
     "output_type": "stream",
     "text": [
      "2022-05-04 15:18:00.890690: I tensorflow/core/common_runtime/pluggable_device/pluggable_device_factory.cc:305] Could not identify NUMA node of platform GPU ID 0, defaulting to 0. Your kernel may not have been built with NUMA support.\n",
      "2022-05-04 15:18:00.890919: I tensorflow/core/common_runtime/pluggable_device/pluggable_device_factory.cc:271] Created TensorFlow device (/job:localhost/replica:0/task:0/device:GPU:0 with 0 MB memory) -> physical PluggableDevice (device: 0, name: METAL, pci bus id: <undefined>)\n"
     ]
    },
    {
     "name": "stdout",
     "output_type": "stream",
     "text": [
      "Model: \"model\"\n",
      "_________________________________________________________________\n",
      " Layer (type)                Output Shape              Param #   \n",
      "=================================================================\n",
      " input_1 (InputLayer)        [(None, 1, 33)]           0         \n",
      "                                                                 \n",
      " lstm (LSTM)                 (None, 1, 140)            97440     \n",
      "                                                                 \n",
      " lstm_1 (LSTM)               (None, 70)                59080     \n",
      "                                                                 \n",
      " repeat_vector (RepeatVector  (None, 1, 70)            0         \n",
      " )                                                               \n",
      "                                                                 \n",
      " lstm_2 (LSTM)               (None, 1, 70)             39480     \n",
      "                                                                 \n",
      " lstm_3 (LSTM)               (None, 1, 140)            118160    \n",
      "                                                                 \n",
      " time_distributed (TimeDistr  (None, 1, 33)            4653      \n",
      " ibuted)                                                         \n",
      "                                                                 \n",
      "=================================================================\n",
      "Total params: 318,813\n",
      "Trainable params: 318,813\n",
      "Non-trainable params: 0\n",
      "_________________________________________________________________\n"
     ]
    }
   ],
   "source": [
    "model = autoencoder_model(train_set)\n",
    "model.compile(optimizer=\"adam\", loss=\"mse\")\n",
    "model.summary()"
   ]
  },
  {
   "cell_type": "code",
   "execution_count": 14,
   "id": "c1e0bf52-75d0-4102-8d3e-4975e882ad6b",
   "metadata": {
    "tags": []
   },
   "outputs": [
    {
     "name": "stdout",
     "output_type": "stream",
     "text": [
      "WARNING:tensorflow:Layer lstm_4 will not use cuDNN kernels since it doesn't meet the criteria. It will use a generic GPU kernel as fallback when running on GPU.\n",
      "WARNING:tensorflow:Layer lstm_5 will not use cuDNN kernels since it doesn't meet the criteria. It will use a generic GPU kernel as fallback when running on GPU.\n",
      "WARNING:tensorflow:Layer lstm_6 will not use cuDNN kernels since it doesn't meet the criteria. It will use a generic GPU kernel as fallback when running on GPU.\n",
      "WARNING:tensorflow:Layer lstm_7 will not use cuDNN kernels since it doesn't meet the criteria. It will use a generic GPU kernel as fallback when running on GPU.\n",
      "Epoch 1/1000\n"
     ]
    },
    {
     "name": "stderr",
     "output_type": "stream",
     "text": [
      "2022-05-04 15:18:04.533944: W tensorflow/core/platform/profile_utils/cpu_utils.cc:128] Failed to get CPU frequency: 0 Hz\n",
      "2022-05-04 15:18:05.313024: I tensorflow/core/grappler/optimizers/custom_graph_optimizer_registry.cc:113] Plugin optimizer for device_type GPU is enabled.\n"
     ]
    },
    {
     "name": "stdout",
     "output_type": "stream",
     "text": [
      "986/986 [==============================] - ETA: 0s - loss: 0.1498"
     ]
    },
    {
     "name": "stderr",
     "output_type": "stream",
     "text": [
      "2022-05-04 15:18:35.964587: I tensorflow/core/grappler/optimizers/custom_graph_optimizer_registry.cc:113] Plugin optimizer for device_type GPU is enabled.\n"
     ]
    },
    {
     "name": "stdout",
     "output_type": "stream",
     "text": [
      "986/986 [==============================] - 53s 52ms/step - loss: 0.1498 - val_loss: 0.2517\n",
      "Epoch 2/1000\n",
      "986/986 [==============================] - 52s 53ms/step - loss: 0.0384 - val_loss: 0.1762\n",
      "Epoch 3/1000\n",
      "986/986 [==============================] - 51s 52ms/step - loss: 0.0256 - val_loss: 0.1571\n",
      "Epoch 4/1000\n",
      "986/986 [==============================] - 51s 52ms/step - loss: 0.0186 - val_loss: 0.1511\n",
      "Epoch 5/1000\n",
      "986/986 [==============================] - 51s 52ms/step - loss: 0.0144 - val_loss: 0.1472\n",
      "Epoch 6/1000\n",
      "986/986 [==============================] - 51s 52ms/step - loss: 0.0249 - val_loss: 0.1262\n",
      "Epoch 7/1000\n",
      "986/986 [==============================] - 51s 52ms/step - loss: 0.0155 - val_loss: 0.1203\n",
      "Epoch 8/1000\n",
      "986/986 [==============================] - 52s 53ms/step - loss: 0.0114 - val_loss: 0.1206\n",
      "Epoch 9/1000\n",
      "986/986 [==============================] - 55s 55ms/step - loss: 0.0107 - val_loss: 0.1163\n",
      "Epoch 10/1000\n",
      "986/986 [==============================] - 60s 61ms/step - loss: 0.0141 - val_loss: 0.1083\n",
      "Epoch 11/1000\n",
      "986/986 [==============================] - 55s 56ms/step - loss: 0.0102 - val_loss: 0.1073\n",
      "Epoch 12/1000\n",
      "986/986 [==============================] - 54s 55ms/step - loss: 0.0090 - val_loss: 0.1053\n",
      "Epoch 13/1000\n",
      "986/986 [==============================] - 52s 53ms/step - loss: 0.0104 - val_loss: 0.0993\n",
      "Epoch 14/1000\n",
      "986/986 [==============================] - 53s 54ms/step - loss: 0.0101 - val_loss: 0.1032\n",
      "Epoch 15/1000\n",
      "986/986 [==============================] - 55s 55ms/step - loss: 0.0081 - val_loss: 0.0979\n",
      "Epoch 16/1000\n",
      "986/986 [==============================] - 54s 54ms/step - loss: 0.0113 - val_loss: 0.0925\n",
      "Epoch 17/1000\n",
      "986/986 [==============================] - 54s 55ms/step - loss: 0.0116 - val_loss: 0.0806\n",
      "Epoch 18/1000\n",
      "986/986 [==============================] - 51s 52ms/step - loss: 0.0215 - val_loss: 0.1072\n",
      "Epoch 19/1000\n",
      "986/986 [==============================] - 54s 54ms/step - loss: 0.0086 - val_loss: 0.0759\n",
      "Epoch 20/1000\n",
      "986/986 [==============================] - 57s 58ms/step - loss: 0.0044 - val_loss: 0.0721\n",
      "Epoch 21/1000\n",
      "986/986 [==============================] - 61s 62ms/step - loss: 0.0035 - val_loss: 0.0988\n",
      "Epoch 22/1000\n",
      "986/986 [==============================] - 63s 64ms/step - loss: 0.0063 - val_loss: 0.0703\n",
      "Epoch 23/1000\n",
      "986/986 [==============================] - 56s 57ms/step - loss: 0.0038 - val_loss: 0.0771\n",
      "Epoch 24/1000\n",
      "986/986 [==============================] - 52s 53ms/step - loss: 0.0104 - val_loss: 0.0890\n"
     ]
    }
   ],
   "source": [
    "model = autoencoder_model(train_set)\n",
    "model.compile(optimizer=\"adam\", loss=\"mse\")\n",
    "\n",
    "nb_eprochs = 1000\n",
    "batch_size = 32\n",
    "callbacks = [EarlyStopping(monitor=\"val_loss\", patience=2)]\n",
    "history = model.fit(\n",
    "    train_set,\n",
    "    train_set,\n",
    "    epochs=nb_eprochs,\n",
    "    batch_size=batch_size,\n",
    "    validation_data=(valid_set, valid_set),\n",
    "    callbacks=callbacks,\n",
    ")"
   ]
  },
  {
   "cell_type": "code",
   "execution_count": 15,
   "id": "883f05f2-605a-4500-a8dc-9089ab2c0c96",
   "metadata": {},
   "outputs": [
    {
     "data": {
      "image/png": "[encoded data removed]",
      "text/plain": [
       "<Figure size 432x288 with 1 Axes>"
      ]
     },
     "metadata": {
      "needs_background": "light"
     },
     "output_type": "display_data"
    }
   ],
   "source": [
    "plt.plot(history.history[\"loss\"], label=\"train loss\")\n",
    "plt.plot(history.history[\"val_loss\"], label=\"valid loss\")\n",
    "plt.legend()\n",
    "plt.xlabel(\"Epoch\")\n",
    "plt.ylabel(\"loss\")\n",
    "plt.show()"
   ]
  },
  {
   "cell_type": "markdown",
   "id": "b816a0f0-61c5-4739-81df-45119dec36a2",
   "metadata": {
    "tags": []
   },
   "source": [
    "# Threshold"
   ]
  },
  {
   "cell_type": "code",
   "execution_count": 16,
   "id": "0b59a86e-bbd9-4243-a91e-ef54b192f27d",
   "metadata": {},
   "outputs": [
    {
     "name": "stderr",
     "output_type": "stream",
     "text": [
      "2022-05-04 15:43:44.818230: I tensorflow/core/grappler/optimizers/custom_graph_optimizer_registry.cc:113] Plugin optimizer for device_type GPU is enabled.\n"
     ]
    }
   ],
   "source": [
    "loss = model.predict(valid_set) - valid_set"
   ]
  },
  {
   "cell_type": "code",
   "execution_count": 17,
   "id": "415cebed-2c48-471e-b9fb-628c1d3fe8c6",
   "metadata": {},
   "outputs": [],
   "source": [
    "loss = loss.reshape(loss.shape[0], loss.shape[2])"
   ]
  },
  {
   "cell_type": "code",
   "execution_count": 18,
   "id": "781f7197-b73a-4b1e-baf0-ccc8728ef4f2",
   "metadata": {},
   "outputs": [],
   "source": [
    "all_loss = []\n",
    "for i in range(len(loss)):\n",
    "    all_loss.append(np.sqrt(np.mean(loss[i] ** 2)))"
   ]
  },
  {
   "cell_type": "code",
   "execution_count": 21,
   "id": "8fdfe0cc-944f-44e9-8eaf-d92af6d5e6d1",
   "metadata": {},
   "outputs": [
    {
     "name": "stdout",
     "output_type": "stream",
     "text": [
      "0.4192946358002274\n"
     ]
    }
   ],
   "source": [
    "threshold = np.mean(all_loss) + 1 * np.std(all_loss)\n",
    "print(threshold)"
   ]
  },
  {
   "cell_type": "code",
   "execution_count": 20,
   "id": "bcc3d3d6-b873-467c-b432-2b08dafd2a33",
   "metadata": {},
   "outputs": [],
   "source": [
    "threshold = 0.5"
   ]
  },
  {
   "cell_type": "markdown",
   "id": "9845e41b-e683-4861-8acf-c6e4675429bd",
   "metadata": {
    "tags": []
   },
   "source": [
    "# predict"
   ]
  },
  {
   "cell_type": "code",
   "execution_count": 22,
   "id": "2467a25f-b5b1-4ad4-b355-67e329ab45e3",
   "metadata": {},
   "outputs": [
    {
     "name": "stderr",
     "output_type": "stream",
     "text": [
      "2022-05-04 15:44:31.408656: I tensorflow/core/grappler/optimizers/custom_graph_optimizer_registry.cc:113] Plugin optimizer for device_type GPU is enabled.\n"
     ]
    }
   ],
   "source": [
    "best = pd.read_csv(\"autoencoder_best.csv\")\n",
    "test_predictions = model.predict(test_set)"
   ]
  },
  {
   "cell_type": "code",
   "execution_count": 23,
   "id": "0e76fcb6-a3b8-499a-99d2-0531991b03cb",
   "metadata": {},
   "outputs": [],
   "source": [
    "predict = []\n",
    "for i in range(len(test_set)):\n",
    "    if np.sqrt(np.mean((test_set - test_predictions)[i] ** 2)) > threshold:\n",
    "        predict.append(1)\n",
    "    else:\n",
    "        predict.append(0)"
   ]
  },
  {
   "cell_type": "code",
   "execution_count": 24,
   "id": "05fb3d90-e571-4440-bbe1-2f951899fde6",
   "metadata": {},
   "outputs": [
    {
     "data": {
      "text/plain": [
       "0    94925\n",
       "1    10195\n",
       "dtype: int64"
      ]
     },
     "execution_count": 24,
     "metadata": {},
     "output_type": "execute_result"
    }
   ],
   "source": [
    "pd.DataFrame(predict).value_counts()"
   ]
  },
  {
   "cell_type": "code",
   "execution_count": 26,
   "id": "a0bc3e83-ff97-4339-9440-3c2b91f865dc",
   "metadata": {},
   "outputs": [],
   "source": [
    "predict_ = pd.DataFrame(predict, columns=[\"Prediction_\"])"
   ]
  },
  {
   "cell_type": "code",
   "execution_count": 27,
   "id": "9a008de9-f202-438b-841e-f84cb4c5956e",
   "metadata": {},
   "outputs": [],
   "source": [
    "cont = pd.concat([predict_, best[\"Prediction\"]], axis=1)"
   ]
  },
  {
   "cell_type": "code",
   "execution_count": 28,
   "id": "a15574af-834f-4934-a97a-5d4b4624e14f",
   "metadata": {},
   "outputs": [
    {
     "data": {
      "text/html": [
       "<div>\n",
       "<style scoped>\n",
       "    .dataframe tbody tr th:only-of-type {\n",
       "        vertical-align: middle;\n",
       "    }\n",
       "\n",
       "    .dataframe tbody tr th {\n",
       "        vertical-align: top;\n",
       "    }\n",
       "\n",
       "    .dataframe thead th {\n",
       "        text-align: right;\n",
       "    }\n",
       "</style>\n",
       "<table border=\"1\" class=\"dataframe\">\n",
       "  <thead>\n",
       "    <tr style=\"text-align: right;\">\n",
       "      <th></th>\n",
       "      <th>Prediction_</th>\n",
       "      <th>Prediction</th>\n",
       "    </tr>\n",
       "  </thead>\n",
       "  <tbody>\n",
       "    <tr>\n",
       "      <th>0</th>\n",
       "      <td>1</td>\n",
       "      <td>0.0</td>\n",
       "    </tr>\n",
       "    <tr>\n",
       "      <th>1</th>\n",
       "      <td>0</td>\n",
       "      <td>0.0</td>\n",
       "    </tr>\n",
       "    <tr>\n",
       "      <th>2</th>\n",
       "      <td>0</td>\n",
       "      <td>0.0</td>\n",
       "    </tr>\n",
       "    <tr>\n",
       "      <th>3</th>\n",
       "      <td>0</td>\n",
       "      <td>0.0</td>\n",
       "    </tr>\n",
       "    <tr>\n",
       "      <th>4</th>\n",
       "      <td>0</td>\n",
       "      <td>0.0</td>\n",
       "    </tr>\n",
       "  </tbody>\n",
       "</table>\n",
       "</div>"
      ],
      "text/plain": [
       "   Prediction_  Prediction\n",
       "0            1         0.0\n",
       "1            0         0.0\n",
       "2            0         0.0\n",
       "3            0         0.0\n",
       "4            0         0.0"
      ]
     },
     "execution_count": 28,
     "metadata": {},
     "output_type": "execute_result"
    }
   ],
   "source": [
    "cont.head()"
   ]
  },
  {
   "cell_type": "code",
   "execution_count": 29,
   "id": "1f5b9e4d-ccf9-4053-bff2-ef6f5102421d",
   "metadata": {},
   "outputs": [
    {
     "data": {
      "text/html": [
       "<div>\n",
       "<style scoped>\n",
       "    .dataframe tbody tr th:only-of-type {\n",
       "        vertical-align: middle;\n",
       "    }\n",
       "\n",
       "    .dataframe tbody tr th {\n",
       "        vertical-align: top;\n",
       "    }\n",
       "\n",
       "    .dataframe thead th {\n",
       "        text-align: right;\n",
       "    }\n",
       "</style>\n",
       "<table border=\"1\" class=\"dataframe\">\n",
       "  <thead>\n",
       "    <tr style=\"text-align: right;\">\n",
       "      <th></th>\n",
       "      <th>Prediction_</th>\n",
       "      <th>Prediction</th>\n",
       "    </tr>\n",
       "  </thead>\n",
       "  <tbody>\n",
       "    <tr>\n",
       "      <th>19</th>\n",
       "      <td>0</td>\n",
       "      <td>1.0</td>\n",
       "    </tr>\n",
       "    <tr>\n",
       "      <th>20</th>\n",
       "      <td>0</td>\n",
       "      <td>1.0</td>\n",
       "    </tr>\n",
       "    <tr>\n",
       "      <th>21</th>\n",
       "      <td>0</td>\n",
       "      <td>1.0</td>\n",
       "    </tr>\n",
       "    <tr>\n",
       "      <th>22</th>\n",
       "      <td>0</td>\n",
       "      <td>1.0</td>\n",
       "    </tr>\n",
       "    <tr>\n",
       "      <th>23</th>\n",
       "      <td>0</td>\n",
       "      <td>1.0</td>\n",
       "    </tr>\n",
       "    <tr>\n",
       "      <th>...</th>\n",
       "      <td>...</td>\n",
       "      <td>...</td>\n",
       "    </tr>\n",
       "    <tr>\n",
       "      <th>105020</th>\n",
       "      <td>0</td>\n",
       "      <td>NaN</td>\n",
       "    </tr>\n",
       "    <tr>\n",
       "      <th>105021</th>\n",
       "      <td>0</td>\n",
       "      <td>NaN</td>\n",
       "    </tr>\n",
       "    <tr>\n",
       "      <th>105024</th>\n",
       "      <td>0</td>\n",
       "      <td>NaN</td>\n",
       "    </tr>\n",
       "    <tr>\n",
       "      <th>105029</th>\n",
       "      <td>0</td>\n",
       "      <td>NaN</td>\n",
       "    </tr>\n",
       "    <tr>\n",
       "      <th>105041</th>\n",
       "      <td>0</td>\n",
       "      <td>NaN</td>\n",
       "    </tr>\n",
       "  </tbody>\n",
       "</table>\n",
       "<p>70243 rows × 2 columns</p>\n",
       "</div>"
      ],
      "text/plain": [
       "        Prediction_  Prediction\n",
       "19                0         1.0\n",
       "20                0         1.0\n",
       "21                0         1.0\n",
       "22                0         1.0\n",
       "23                0         1.0\n",
       "...             ...         ...\n",
       "105020            0         NaN\n",
       "105021            0         NaN\n",
       "105024            0         NaN\n",
       "105029            0         NaN\n",
       "105041            0         NaN\n",
       "\n",
       "[70243 rows x 2 columns]"
      ]
     },
     "execution_count": 29,
     "metadata": {},
     "output_type": "execute_result"
    }
   ],
   "source": [
    "TT = cont[cont[\"Prediction_\"] != cont[\"Prediction\"]]\n",
    "TT[TT[\"Prediction_\"] == 0]"
   ]
  },
  {
   "cell_type": "code",
   "execution_count": 30,
   "id": "ff8f4049-e2d3-487a-93f7-217a9a05a055",
   "metadata": {},
   "outputs": [
    {
     "data": {
      "text/plain": [
       "(80431, 2)"
      ]
     },
     "execution_count": 30,
     "metadata": {},
     "output_type": "execute_result"
    }
   ],
   "source": [
    "TT.shape"
   ]
  },
  {
   "cell_type": "code",
   "execution_count": 31,
   "id": "9d4d2303-2ce5-4727-8f5c-ecdd86005110",
   "metadata": {},
   "outputs": [
    {
     "data": {
      "text/plain": [
       "(105120, 1)"
      ]
     },
     "execution_count": 31,
     "metadata": {},
     "output_type": "execute_result"
    }
   ],
   "source": [
    "predict = []\n",
    "for i in range(len(test_set)):\n",
    "    if np.sqrt(np.mean((test_set - test_predictions)[i] ** 2)) > threshold:\n",
    "        predict.append(1)\n",
    "    else:\n",
    "        predict.append(0)\n",
    "pd.DataFrame(predict).value_counts()\n",
    "predict_ = pd.DataFrame(predict, columns=[\"Prediction\"])\n",
    "predict_.shape"
   ]
  },
  {
   "cell_type": "code",
   "execution_count": 32,
   "id": "3ea63d40-0264-4c4b-b5b9-f904f6404421",
   "metadata": {},
   "outputs": [],
   "source": [
    "predict_.to_csv(\"2predict.csv\", mode=\"w\")"
   ]
  },
  {
   "cell_type": "code",
   "execution_count": 33,
   "id": "1381f8c3-5457-408a-ab86-c97d8809bb3c",
   "metadata": {},
   "outputs": [
    {
     "data": {
      "text/plain": [
       "Prediction\n",
       "0             94925\n",
       "1             10195\n",
       "dtype: int64"
      ]
     },
     "execution_count": 33,
     "metadata": {},
     "output_type": "execute_result"
    }
   ],
   "source": [
    "predict_.value_counts()"
   ]
  }
 ],
 "metadata": {
  "kernelspec": {
   "display_name": "Python 3 (ipykernel)",
   "language": "python",
   "name": "python3"
  },
  "language_info": {
   "codemirror_mode": {
    "name": "ipython",
    "version": 3
   },
   "file_extension": ".py",
   "mimetype": "text/x-python",
   "name": "python",
   "nbconvert_exporter": "python",
   "pygments_lexer": "ipython3",
   "version": "3.8.13"
  },
  "toc-autonumbering": true
 },
 "nbformat": 4,
 "nbformat_minor": 5
}
