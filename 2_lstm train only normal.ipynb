{
 "cells": [
  {
   "cell_type": "markdown",
   "id": "30855043-3358-4281-b592-b03966150cb2",
   "metadata": {
    "tags": []
   },
   "source": [
    "#  Import Libraries"
   ]
  },
  {
   "cell_type": "code",
   "execution_count": 1,
   "id": "f593f1db-be2d-4572-86d0-c9ef3556baf1",
   "metadata": {},
   "outputs": [],
   "source": [
    "import pandas as pd\n",
    "import numpy as np\n",
    "import matplotlib.pyplot as plt\n",
    "import seaborn as sns\n",
    "from pylab import rcParams\n",
    "from collections import Counter\n",
    "import tensorflow as tf\n",
    "from tensorflow.keras import Model, models, layers, optimizers, regularizers\n",
    "from tensorflow.keras.callbacks import ModelCheckpoint\n",
    "\n",
    "from sklearn.preprocessing import StandardScaler\n",
    "from sklearn.preprocessing import RobustScaler\n",
    "from sklearn.preprocessing import MinMaxScaler\n",
    "from sklearn.model_selection import train_test_split\n",
    "from sklearn import metrics\n",
    "\n",
    "seed=1\n",
    "tf.random.set_seed(seed)"
   ]
  },
  {
   "cell_type": "markdown",
   "id": "fcddeda4-a0f7-41fb-a60f-dce52751050c",
   "metadata": {},
   "source": [
    "# Load Data"
   ]
  },
  {
   "cell_type": "code",
   "execution_count": 2,
   "id": "a10f8ef7-a7a1-4b58-a77f-6e13e2a254cf",
   "metadata": {},
   "outputs": [],
   "source": [
    "train = pd.read_csv('2_only_normal_threshold02.csv')\n",
    "test = pd.read_csv('2_test.csv')"
   ]
  },
  {
   "cell_type": "code",
   "execution_count": 3,
   "id": "3bad7b2f-c5c1-416a-afbe-d27652ddf7a6",
   "metadata": {},
   "outputs": [],
   "source": [
    "train.drop(['Unnamed: 0', 'Unnamed: 0.1'], inplace=True, axis=1)\n",
    "test.drop(['Unnamed: 0', 'Timestamp'], inplace=True, axis=1)"
   ]
  },
  {
   "cell_type": "code",
   "execution_count": 4,
   "id": "8431088f-6808-47a2-bbf1-85f17971f80b",
   "metadata": {},
   "outputs": [],
   "source": [
    "shift_by = -5\n",
    "n_features = train.shape[1]"
   ]
  },
  {
   "cell_type": "markdown",
   "id": "b7985a31-8940-43c9-8098-57ca091bab84",
   "metadata": {},
   "source": [
    "# Transform to Series Data "
   ]
  },
  {
   "cell_type": "code",
   "execution_count": 5,
   "id": "354855b9-1900-43b0-ba98-c48be93896bc",
   "metadata": {},
   "outputs": [],
   "source": [
    "shift_by = -5\n",
    "n_features = train.shape[1]"
   ]
  },
  {
   "cell_type": "code",
   "execution_count": 6,
   "id": "b68c4e64-1c11-45eb-a5b2-f8d833205143",
   "metadata": {},
   "outputs": [],
   "source": [
    "# LSTM 모델은 (samples, timesteps, feature)에 해당하는 3d 차원의 shape을 가지므로, 데이터를 시퀀스 형태로 변환\n",
    "\n",
    "def temporalize(X, timesteps):\n",
    "    output_X = []\n",
    "    for i in range(len(X) - timesteps - 1):\n",
    "        t = []\n",
    "        for j in range(1, timesteps + 1):\n",
    "            # Gather the past records upto the lookback period\n",
    "            t.append(X.loc[[(i + j + 1)], :])\n",
    "        output_X.append(t)\n",
    "    return np.squeeze(np.array(output_X))"
   ]
  },
  {
   "cell_type": "code",
   "execution_count": 7,
   "id": "3bc47690-3ff4-4d0b-8c1b-062679495037",
   "metadata": {},
   "outputs": [
    {
     "name": "stdout",
     "output_type": "stream",
     "text": [
      "(167487, 5, 33)\n"
     ]
    }
   ],
   "source": [
    "timesteps = abs(shift_by)\n",
    "\n",
    "# Temporalize\n",
    "x = temporalize(train, timesteps)\n",
    "print(x.shape)"
   ]
  },
  {
   "cell_type": "markdown",
   "id": "fb24ba26-a080-46d8-9535-f0f40641bf51",
   "metadata": {},
   "source": [
    "# Split Train / Valid / Test"
   ]
  },
  {
   "cell_type": "code",
   "execution_count": 8,
   "id": "5df5a028-6de7-4cb8-922a-a08c2af624bc",
   "metadata": {},
   "outputs": [
    {
     "name": "stdout",
     "output_type": "stream",
     "text": [
      "133989\n",
      "33498\n",
      "105114\n"
     ]
    }
   ],
   "source": [
    "# Split into train, valid, and test \n",
    "x_train = x\n",
    "x_test = temporalize(test, timesteps)\n",
    "x_train, x_valid = train_test_split(x_train, test_size=0.2)\n",
    "\n",
    "print(len(x_train))  \n",
    "print(len(x_valid)) \n",
    "print(len(x_test))"
   ]
  },
  {
   "cell_type": "markdown",
   "id": "f636ab09-4f8f-4ce7-a778-fb53754710b4",
   "metadata": {},
   "source": [
    "# Standardize"
   ]
  },
  {
   "cell_type": "code",
   "execution_count": 9,
   "id": "aa8e3c52-205b-491a-9751-7289d4070427",
   "metadata": {},
   "outputs": [],
   "source": [
    "def flatten(X):\n",
    "    flattened_X = np.empty((X.shape[0], X.shape[2]))  # sample x features array.\n",
    "    for i in range(X.shape[0]):\n",
    "        flattened_X[i] = X[i, (X.shape[1]-1), :]\n",
    "    return(flattened_X)\n",
    "\n",
    "def scale(X, scaler):\n",
    "    for i in range(X.shape[0]):\n",
    "        X[i, :, :] = scaler.transform(X[i, :, :])\n",
    "        \n",
    "    return X"
   ]
  },
  {
   "cell_type": "code",
   "execution_count": 10,
   "id": "5637c0af-901f-4e04-bcd5-eddf9595fc3d",
   "metadata": {},
   "outputs": [],
   "source": [
    "scaler = MinMaxScaler().fit(flatten(x_train))\n",
    "\n",
    "x_train_scaled = scale(x_train, scaler)\n",
    "x_valid_scaled = scale(x_valid, scaler)\n",
    "x_test_scaled = scale(x_test, scaler)"
   ]
  },
  {
   "cell_type": "markdown",
   "id": "d8cb6aff-acc6-4ac8-9456-0379e3abb708",
   "metadata": {},
   "source": [
    "# Training LSTM Autoencoder"
   ]
  },
  {
   "cell_type": "code",
   "execution_count": 11,
   "id": "9545ef5b-72d6-4d25-aa4b-0dd5bc2d6d22",
   "metadata": {},
   "outputs": [],
   "source": [
    "epochs = 10\n",
    "batch = 128\n",
    "lr = 0.001"
   ]
  },
  {
   "cell_type": "code",
   "execution_count": 12,
   "id": "bae54efc-75bc-4eaa-980d-131f1b9b7ece",
   "metadata": {},
   "outputs": [
    {
     "name": "stdout",
     "output_type": "stream",
     "text": [
      "Metal device set to: Apple M1\n",
      "\n",
      "systemMemory: 8.00 GB\n",
      "maxCacheSize: 2.67 GB\n",
      "\n",
      "WARNING:tensorflow:Layer lstm will not use cuDNN kernels since it doesn't meet the criteria. It will use a generic GPU kernel as fallback when running on GPU.\n",
      "WARNING:tensorflow:Layer lstm_1 will not use cuDNN kernels since it doesn't meet the criteria. It will use a generic GPU kernel as fallback when running on GPU.\n",
      "WARNING:tensorflow:Layer lstm_2 will not use cuDNN kernels since it doesn't meet the criteria. It will use a generic GPU kernel as fallback when running on GPU.\n",
      "WARNING:tensorflow:Layer lstm_3 will not use cuDNN kernels since it doesn't meet the criteria. It will use a generic GPU kernel as fallback when running on GPU.\n",
      "Model: \"sequential\"\n",
      "_________________________________________________________________\n",
      " Layer (type)                Output Shape              Param #   \n",
      "=================================================================\n",
      " lstm (LSTM)                 (None, 5, 64)             25088     \n",
      "                                                                 \n",
      " lstm_1 (LSTM)               (None, 32)                12416     \n",
      "                                                                 \n",
      " repeat_vector (RepeatVector  (None, 5, 32)            0         \n",
      " )                                                               \n",
      "                                                                 \n",
      " lstm_2 (LSTM)               (None, 5, 32)             8320      \n",
      "                                                                 \n",
      " lstm_3 (LSTM)               (None, 5, 64)             24832     \n",
      "                                                                 \n",
      " time_distributed (TimeDistr  (None, 5, 33)            2145      \n",
      " ibuted)                                                         \n",
      "                                                                 \n",
      "=================================================================\n",
      "Total params: 72,801\n",
      "Trainable params: 72,801\n",
      "Non-trainable params: 0\n",
      "_________________________________________________________________\n"
     ]
    },
    {
     "name": "stderr",
     "output_type": "stream",
     "text": [
      "2022-05-05 23:28:44.098374: I tensorflow/core/common_runtime/pluggable_device/pluggable_device_factory.cc:305] Could not identify NUMA node of platform GPU ID 0, defaulting to 0. Your kernel may not have been built with NUMA support.\n",
      "2022-05-05 23:28:44.098482: I tensorflow/core/common_runtime/pluggable_device/pluggable_device_factory.cc:271] Created TensorFlow device (/job:localhost/replica:0/task:0/device:GPU:0 with 0 MB memory) -> physical PluggableDevice (device: 0, name: METAL, pci bus id: <undefined>)\n"
     ]
    }
   ],
   "source": [
    "# earlystopping\n",
    "callback = tf.keras.callbacks.EarlyStopping(monitor=\"val_loss\", patience=5)\n",
    "\n",
    "lstm_ae = models.Sequential()\n",
    "# Encoder\n",
    "lstm_ae.add(layers.LSTM(64, activation='relu', input_shape=(timesteps, n_features), return_sequences=True))\n",
    "lstm_ae.add(layers.LSTM(32, activation='relu', return_sequences=False))\n",
    "lstm_ae.add(layers.RepeatVector(timesteps))\n",
    "# Decoder\n",
    "lstm_ae.add(layers.LSTM(32, activation='relu', return_sequences=True))\n",
    "lstm_ae.add(layers.LSTM(64, activation='relu', return_sequences=True))\n",
    "lstm_ae.add(layers.TimeDistributed(layers.Dense(n_features)))\n",
    "\n",
    "lstm_ae.summary()"
   ]
  },
  {
   "cell_type": "code",
   "execution_count": 13,
   "id": "c1e0bf52-75d0-4102-8d3e-4975e882ad6b",
   "metadata": {
    "tags": []
   },
   "outputs": [
    {
     "name": "stdout",
     "output_type": "stream",
     "text": [
      "Epoch 1/10\n"
     ]
    },
    {
     "name": "stderr",
     "output_type": "stream",
     "text": [
      "2022-05-05 23:28:44.382578: W tensorflow/core/platform/profile_utils/cpu_utils.cc:128] Failed to get CPU frequency: 0 Hz\n",
      "2022-05-05 23:28:45.145242: I tensorflow/core/grappler/optimizers/custom_graph_optimizer_registry.cc:113] Plugin optimizer for device_type GPU is enabled.\n"
     ]
    },
    {
     "name": "stdout",
     "output_type": "stream",
     "text": [
      "1047/1047 [==============================] - ETA: 0s - loss: 0.0013"
     ]
    },
    {
     "name": "stderr",
     "output_type": "stream",
     "text": [
      "2022-05-05 23:31:26.117972: I tensorflow/core/grappler/optimizers/custom_graph_optimizer_registry.cc:113] Plugin optimizer for device_type GPU is enabled.\n"
     ]
    },
    {
     "name": "stdout",
     "output_type": "stream",
     "text": [
      "1047/1047 [==============================] - 167s 158ms/step - loss: 0.0013 - val_loss: 2.0577e-04\n",
      "Epoch 2/10\n",
      "1047/1047 [==============================] - 178s 170ms/step - loss: 3.2783e-04 - val_loss: 2.1885e-04\n",
      "Epoch 3/10\n",
      "1047/1047 [==============================] - 173s 165ms/step - loss: 1.6414e-04 - val_loss: 1.4038e-04\n",
      "Epoch 4/10\n",
      "1047/1047 [==============================] - 179s 171ms/step - loss: 1.3371e-04 - val_loss: 1.2516e-04\n",
      "Epoch 5/10\n",
      "1047/1047 [==============================] - 175s 167ms/step - loss: 1.2082e-04 - val_loss: 1.1732e-04\n",
      "Epoch 6/10\n",
      "1047/1047 [==============================] - 176s 168ms/step - loss: 1.1470e-04 - val_loss: 1.1209e-04\n",
      "Epoch 7/10\n",
      "1047/1047 [==============================] - 177s 169ms/step - loss: 1.0755e-04 - val_loss: 1.0440e-04\n",
      "Epoch 8/10\n",
      "1047/1047 [==============================] - 177s 169ms/step - loss: 1.0197e-04 - val_loss: 1.0001e-04\n",
      "Epoch 9/10\n",
      "1047/1047 [==============================] - 178s 170ms/step - loss: 9.8768e-05 - val_loss: 9.7691e-05\n",
      "Epoch 10/10\n",
      "1047/1047 [==============================] - 177s 169ms/step - loss: 9.6493e-05 - val_loss: 9.5672e-05\n"
     ]
    }
   ],
   "source": [
    "# compile\n",
    "lstm_ae.compile(loss=\"mse\", optimizer=optimizers.Adam(lr))\n",
    "\n",
    "# fit\n",
    "history = lstm_ae.fit(\n",
    "    x_train_scaled,\n",
    "    x_train_scaled,\n",
    "    epochs=epochs,\n",
    "    batch_size=batch,\n",
    "    validation_data=(x_valid_scaled, x_valid_scaled),\n",
    "    callbacks=[callback],\n",
    ")"
   ]
  },
  {
   "cell_type": "markdown",
   "id": "44194e44-e3ae-4e78-9168-ef569027e6c8",
   "metadata": {},
   "source": [
    "# threshold"
   ]
  },
  {
   "cell_type": "code",
   "execution_count": 363,
   "id": "a83d5811-5e9e-4dbe-a6e8-d9ec0ab85da1",
   "metadata": {},
   "outputs": [],
   "source": [
    "threshold = 0.19"
   ]
  },
  {
   "cell_type": "code",
   "execution_count": 15,
   "id": "f39bb5fe-79cf-4322-ad9b-996f972f3ba9",
   "metadata": {},
   "outputs": [
    {
     "data": {
      "text/plain": [
       "(105120, 33)"
      ]
     },
     "execution_count": 15,
     "metadata": {},
     "output_type": "execute_result"
    }
   ],
   "source": [
    "test.shape"
   ]
  },
  {
   "cell_type": "code",
   "execution_count": 16,
   "id": "483fba8e-3ebd-4fbb-ba8d-7cefcb585011",
   "metadata": {},
   "outputs": [
    {
     "name": "stderr",
     "output_type": "stream",
     "text": [
      "2022-05-05 23:58:00.915509: I tensorflow/core/grappler/optimizers/custom_graph_optimizer_registry.cc:113] Plugin optimizer for device_type GPU is enabled.\n"
     ]
    }
   ],
   "source": [
    "test_predictions = lstm_ae.predict(x_test_scaled)"
   ]
  },
  {
   "cell_type": "code",
   "execution_count": 17,
   "id": "488992f8-4453-4567-8f00-f6ca05aafb09",
   "metadata": {},
   "outputs": [
    {
     "name": "stdout",
     "output_type": "stream",
     "text": [
      "0.030624128731011255\n"
     ]
    }
   ],
   "source": [
    "mse = np.sqrt(np.mean(np.power(test_predictions.reshape(test_predictions.shape[0], test_predictions.shape[1] * test_predictions.shape[2]) - x_test_scaled.reshape(test_predictions.shape[0], test_predictions.shape[1] * test_predictions.shape[2]), 2)))\n",
    "print(mse)"
   ]
  },
  {
   "cell_type": "code",
   "execution_count": 364,
   "id": "2a07e208-53a9-48ca-891a-413cf9ebba32",
   "metadata": {},
   "outputs": [],
   "source": [
    "predict = []\n",
    "for i in range(len(x_test_scaled)):\n",
    "    if np.sqrt(np.mean(np.power(test_predictions.reshape(test_predictions.shape[0], test_predictions.shape[1] * test_predictions.shape[2])[i] - x_test_scaled.reshape(test_predictions.shape[0], test_predictions.shape[1] * test_predictions.shape[2])[i], 2))) > threshold:\n",
    "        predict.append(1)\n",
    "    else:\n",
    "        predict.append(0)"
   ]
  },
  {
   "cell_type": "code",
   "execution_count": 365,
   "id": "e8235cd5-34ed-4929-91ac-97ebcacbf1d7",
   "metadata": {},
   "outputs": [
    {
     "data": {
      "text/plain": [
       "Prediction\n",
       "0             104978\n",
       "1                136\n",
       "dtype: int64"
      ]
     },
     "execution_count": 365,
     "metadata": {},
     "output_type": "execute_result"
    }
   ],
   "source": [
    "predict = pd.DataFrame(predict, columns=['Prediction'])\n",
    "predict.value_counts()"
   ]
  },
  {
   "cell_type": "code",
   "execution_count": 366,
   "id": "5955b054-91e8-4011-9c37-d054234de8b9",
   "metadata": {},
   "outputs": [],
   "source": [
    "predict.to_csv('2_predict_all_threshold 0_19.csv', mode='w')"
   ]
  },
  {
   "cell_type": "markdown",
   "id": "559ba063-0d87-497f-a26f-d3dba329a09f",
   "metadata": {},
   "source": [
    "# 개별 계산"
   ]
  },
  {
   "cell_type": "code",
   "execution_count": 234,
   "id": "2aedb454-cc88-4fde-b47b-87681e80625d",
   "metadata": {},
   "outputs": [],
   "source": [
    "for i in range(10):\n",
    "    globals()[f'check_{i + 1}'] = np.sqrt(np.mean(np.power(check.iloc[:, [0 + i, 1 + i, 2 + i, 33 + i, 34 + i, 35 + i, 66 + i, 67 + i, 68 + i, 99 + i, 100 + i, 101 + i, 132 + i, 133 + i, 134 + i]], 2), axis=1))\n",
    "    globals()[f'prediction_{i + 1}'] = []\n",
    "    for j in range(len(globals()[f'check_{i + 1}'])):\n",
    "        if globals()[f'check_{i + 1}'][j] > threshold:\n",
    "            globals()[f'prediction_{i + 1}'].append(1)\n",
    "        else:\n",
    "            globals()[f'prediction_{i + 1}'].append(0)"
   ]
  },
  {
   "cell_type": "code",
   "execution_count": 235,
   "id": "c85130a9-a277-4b74-a6c5-4f4b3747f990",
   "metadata": {},
   "outputs": [],
   "source": [
    "prediction_11 = []\n",
    "prediction_12 = []\n",
    "prediction_13 = []\n",
    "temp_1 = np.sqrt(np.mean(np.power(check.iloc[:, [10, 43, 76, 109, 142]], 2), axis=1))\n",
    "temp_2 = np.sqrt(np.mean(np.power(check.iloc[:, [11, 44, 77, 110, 143]], 2), axis=1))\n",
    "temp_3 = np.sqrt(np.mean(np.power(check.iloc[:, [12, 45, 78, 111, 144]], 2), axis=1))\n",
    "\n",
    "for i in range(len(check)):\n",
    "    if temp_1[i] > threshold:\n",
    "        prediction_11.append(1)\n",
    "    else:\n",
    "        prediction_11.append(0)\n",
    "\n",
    "for i in range(len(check)):\n",
    "    if temp_2[i] > threshold:\n",
    "        prediction_12.append(1)\n",
    "    else:\n",
    "        prediction_12.append(0)\n",
    "\n",
    "for i in range(len(check)):\n",
    "    if temp_3[i] > threshold:\n",
    "        prediction_13.append(1)\n",
    "    else:\n",
    "        prediction_13.append(0)"
   ]
  },
  {
   "cell_type": "code",
   "execution_count": 236,
   "id": "94066df6-e389-4f64-80d3-155a48531c64",
   "metadata": {},
   "outputs": [],
   "source": [
    "prediction = pd.DataFrame([0 * x for x in range(len(temp_1))])\n",
    "for i in range(13):\n",
    "    prediction = prediction + pd.DataFrame(globals()[f'prediction_{i + 1}'])"
   ]
  },
  {
   "cell_type": "code",
   "execution_count": 237,
   "id": "002fd24f-f728-4f81-8a39-9569347ec08f",
   "metadata": {},
   "outputs": [
    {
     "data": {
      "text/plain": [
       "0     86469\n",
       "2     11481\n",
       "10     3540\n",
       "11     1411\n",
       "1       921\n",
       "12      438\n",
       "3       191\n",
       "5       156\n",
       "4       137\n",
       "7       120\n",
       "8        76\n",
       "6        65\n",
       "13       64\n",
       "9        45\n",
       "dtype: int64"
      ]
     },
     "execution_count": 237,
     "metadata": {},
     "output_type": "execute_result"
    }
   ],
   "source": [
    "prediction.value_counts()"
   ]
  },
  {
   "cell_type": "code",
   "execution_count": 238,
   "id": "d6115c7b-0906-409b-9881-c5074635054a",
   "metadata": {},
   "outputs": [
    {
     "data": {
      "text/plain": [
       "Prediction\n",
       "0             86469\n",
       "1             18645\n",
       "dtype: int64"
      ]
     },
     "execution_count": 238,
     "metadata": {},
     "output_type": "execute_result"
    }
   ],
   "source": [
    "prediction.columns = ['Prediction']\n",
    "prediction.loc[prediction['Prediction'] > 1, 'Prediction'] = 1\n",
    "prediction.value_counts()"
   ]
  },
  {
   "cell_type": "code",
   "execution_count": 239,
   "id": "47627b39-12da-4e3e-9f68-f01eebef9ccf",
   "metadata": {},
   "outputs": [],
   "source": [
    "prediction.to_csv('2_predict_threshold 0_3.csv', mode='w')"
   ]
  },
  {
   "cell_type": "code",
   "execution_count": null,
   "id": "479613d0-bd0b-4da6-873a-d8d4e6ebbca4",
   "metadata": {},
   "outputs": [],
   "source": []
  }
 ],
 "metadata": {
  "kernelspec": {
   "display_name": "Python 3 (ipykernel)",
   "language": "python",
   "name": "python3"
  },
  "language_info": {
   "codemirror_mode": {
    "name": "ipython",
    "version": 3
   },
   "file_extension": ".py",
   "mimetype": "text/x-python",
   "name": "python",
   "nbconvert_exporter": "python",
   "pygments_lexer": "ipython3",
   "version": "3.8.13"
  },
  "toc-autonumbering": true
 },
 "nbformat": 4,
 "nbformat_minor": 5
}
