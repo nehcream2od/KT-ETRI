{
 "cells": [
  {
   "cell_type": "markdown",
   "id": "a1aeaa5c-a174-4b62-9c2f-fc9e933c154f",
   "metadata": {},
   "source": [
    "# Import"
   ]
  },
  {
   "cell_type": "code",
   "execution_count": 1,
   "id": "1caa7282-bcf9-4036-b22d-5f042e64530d",
   "metadata": {},
   "outputs": [],
   "source": [
    "import numpy as np\n",
    "import pandas as pd\n",
    "import tensorflow as tf\n",
    "from matplotlib import pyplot as plt\n",
    "from sklearn.model_selection import train_test_split\n",
    "from sklearn.preprocessing import MinMaxScaler, RobustScaler\n",
    "from tensorflow.keras import Model, layers, models, optimizers, regularizers\n",
    "from tensorflow.keras.callbacks import ModelCheckpoint"
   ]
  },
  {
   "cell_type": "code",
   "execution_count": 2,
   "id": "e5251acd-6d48-40d4-9807-f9f8c8e2b79f",
   "metadata": {},
   "outputs": [],
   "source": [
    "# seed hold\n",
    "\n",
    "random_seed = 42\n",
    "SEED = 42\n",
    "np.random.seed(random_seed)\n",
    "import os\n",
    "import random\n",
    "\n",
    "import tensorflow as tf\n",
    "\n",
    "random.seed(random_seed)\n",
    "\n",
    "\n",
    "def set_seeds(seed=SEED):\n",
    "    os.environ[\"PYTHONHASHSEED\"] = str(seed)\n",
    "    random.seed(seed)\n",
    "    tf.random.set_seed(seed)\n",
    "    np.random.seed(seed)\n",
    "\n",
    "\n",
    "def set_global_determinism(seed=SEED, fast_n_close=False):\n",
    "\n",
    "    set_seeds(seed=seed)\n",
    "    if fast_n_close:\n",
    "        return\n",
    "        logging.warning(\n",
    "            \"*******************************************************************************\"\n",
    "        )\n",
    "        logging.warning(\n",
    "            \"*** set_global_determinism is called,setting full determinism, will be slow ***\"\n",
    "        )\n",
    "        logging.warning(\n",
    "            \"*******************************************************************************\"\n",
    "        )\n",
    "        os.environ[\"TF_DETERMINISTIC_OPS\"] = \"1\"\n",
    "        os.environ[\"TF_CUDNN_DETERMINISTIC\"] = \"1\"\n",
    "        # https://www.tensorflow.org/api_docs/python/tf/config/threading/set_inter_op_parallelism_threads\n",
    "        tf.config.threading.set_inter_op_parallelism_threads(1)\n",
    "        tf.config.threading.set_intra_op_parallelism_threads(1)\n",
    "        from tfdeterminism import patch\n",
    "\n",
    "        patch()\n",
    "\n",
    "\n",
    "set_seeds()\n",
    "set_global_determinism()"
   ]
  },
  {
   "cell_type": "markdown",
   "id": "ce5863e6-d008-42ca-a2bc-52fd717a3029",
   "metadata": {},
   "source": [
    "# Make dataset for train"
   ]
  },
  {
   "cell_type": "code",
   "execution_count": 3,
   "id": "54d96649-aa6b-46e5-9824-f20022ded27b",
   "metadata": {},
   "outputs": [],
   "source": [
    "# read_csv\n",
    "\n",
    "path = \"../dataset/data/Media/\"\n",
    "data1 = pd.read_csv(path + \"Media_INFO.csv\")\n",
    "data2 = pd.read_csv(path + \"Media_LOGIN.csv\")\n",
    "data3 = pd.read_csv(path + \"Media_MENU.csv\")\n",
    "data4 = pd.read_csv(path + \"Media_STREAM.csv\")"
   ]
  },
  {
   "cell_type": "code",
   "execution_count": 4,
   "id": "3378cedc-71aa-4f99-a8ee-ee4daf57f3de",
   "metadata": {},
   "outputs": [],
   "source": [
    "# make all\n",
    "\n",
    "all_data = pd.merge(data1, data2, on=\"Timestamp\", how=\"inner\")\n",
    "all_data = pd.merge(all_data, data3, on=\"Timestamp\", how=\"inner\")\n",
    "all_data = pd.merge(all_data, data4, on=\"Timestamp\", how=\"inner\")"
   ]
  },
  {
   "cell_type": "code",
   "execution_count": 5,
   "id": "c4c258ee-6abf-4bbb-b0b8-5fb63c71859c",
   "metadata": {},
   "outputs": [],
   "source": [
    "all_data.drop([\"Timestamp\"], inplace=True, axis=1)"
   ]
  },
  {
   "cell_type": "code",
   "execution_count": 6,
   "id": "98739ddb-a100-40cb-aca4-91128434e96d",
   "metadata": {},
   "outputs": [],
   "source": [
    "# fillna mean\n",
    "\n",
    "all_data = all_data.fillna(all_data.mean())"
   ]
  },
  {
   "cell_type": "code",
   "execution_count": 7,
   "id": "fbbf3f6a-d258-4fee-adf5-9c22ae790a23",
   "metadata": {},
   "outputs": [
    {
     "data": {
      "text/plain": [
       "(210240, 33)"
      ]
     },
     "execution_count": 7,
     "metadata": {},
     "output_type": "execute_result"
    }
   ],
   "source": [
    "# copy data\n",
    "\n",
    "train = all_data.copy()\n",
    "train.shape"
   ]
  },
  {
   "cell_type": "markdown",
   "id": "8d700ca3-f5d7-426a-b9a8-83b672cee25e",
   "metadata": {},
   "source": [
    "## Transform to sequence"
   ]
  },
  {
   "cell_type": "code",
   "execution_count": 8,
   "id": "de671ee9-3742-4d89-82dc-4abfc773f8fd",
   "metadata": {},
   "outputs": [],
   "source": [
    "def to_seq(df, step):\n",
    "    output = []\n",
    "    for i in range(len(df) - step - 1):\n",
    "        temp = []\n",
    "        for j in range(1, step + 1):\n",
    "            temp.append(df.loc[[(i + j + 1)], :])\n",
    "        output.append(temp)\n",
    "    return np.squeeze(np.array(output))"
   ]
  },
  {
   "cell_type": "code",
   "execution_count": null,
   "id": "cc46bb00-a6c7-4c7b-badf-2053f6748de8",
   "metadata": {},
   "outputs": [],
   "source": [
    "step = abs(5)\n",
    "trans_train = to_seq(train, step)\n",
    "trans_train.shape"
   ]
  },
  {
   "cell_type": "code",
   "execution_count": null,
   "id": "4b02155c-c765-4b53-aeb2-f5114c3459de",
   "metadata": {},
   "outputs": [],
   "source": [
    "train_seq = trans_train"
   ]
  },
  {
   "cell_type": "markdown",
   "id": "c2ec8ca2-2cc6-47fb-91f4-c567398a3355",
   "metadata": {},
   "source": [
    "## dimemsion down & feature scale"
   ]
  },
  {
   "cell_type": "code",
   "execution_count": null,
   "id": "a1bbf737-c96f-4ee8-a00f-337eb3dc4503",
   "metadata": {},
   "outputs": [],
   "source": [
    "def dimension_down(df):\n",
    "    dimension_df = np.empty((df.shape[0], df.shape[2]))\n",
    "    for i in range(df.shape[0]):\n",
    "        dimension_df[i] = df[i, (df.shape[1] - 1), :]\n",
    "\n",
    "    return dimension_df\n",
    "\n",
    "\n",
    "def scaling(df, scaler):\n",
    "    for i in range(df.shape[0]):\n",
    "        df[i, :, :] = scaler.transform(df[i, :, :])\n",
    "\n",
    "    return df"
   ]
  },
  {
   "cell_type": "code",
   "execution_count": null,
   "id": "39bc151d-9912-4dee-87ac-a0f84c9e3530",
   "metadata": {},
   "outputs": [],
   "source": [
    "scaler = RobustScaler().fit(dimension_down(train_seq))\n",
    "train_scaled = scaling(trans_train, scaler)\n",
    "print(train_scaled.shape)"
   ]
  },
  {
   "cell_type": "markdown",
   "id": "7d73addc-d0b4-4a38-80ea-30cd5fb2078d",
   "metadata": {},
   "source": [
    "## LSTM AE for trainset"
   ]
  },
  {
   "cell_type": "code",
   "execution_count": null,
   "id": "297d5097-5d09-4c96-ad6b-9f217a0ade38",
   "metadata": {},
   "outputs": [],
   "source": [
    "def lstm_autoencoder():\n",
    "    feature_number = train_scaled.shape[2]\n",
    "    lstm_ae = models.Sequential()\n",
    "\n",
    "    # Encoding\n",
    "    lstm_ae.add(layers.LSTM(128, activation=\"relu\", input_shape=(step, feature_number), return_sequences=True))\n",
    "    lstm_ae.add(layers.Dropout(rate=0.1))\n",
    "    lstm_ae.add(layers.LSTM(64, activation=\"relu\", return_sequences=False))\n",
    "    lstm_ae.add(layers.RepeatVector(step))\n",
    "\n",
    "    # Decoding\n",
    "    lstm_ae.add(layers.LSTM(64, activation=\"relu\", return_sequences=True))\n",
    "    lstm_ae.add(layers.Dropout(rate=0.1))\n",
    "    lstm_ae.add(layers.LSTM(128, activation=\"relu\", return_sequences=True))\n",
    "    lstm_ae.add(layers.TimeDistributed(layers.Dense(feature_number)))\n",
    "\n",
    "    print(lstm_ae.summary())\n",
    "    return lstm_ae"
   ]
  },
  {
   "cell_type": "code",
   "execution_count": null,
   "id": "b03fd0e9-ae08-41c6-8614-a6cf5116ed48",
   "metadata": {},
   "outputs": [],
   "source": [
    "lstm_ae0 = lstm_autoencoder()"
   ]
  },
  {
   "cell_type": "code",
   "execution_count": null,
   "id": "8274653b-6b5e-4a57-95f8-1827354b0696",
   "metadata": {},
   "outputs": [],
   "source": [
    "# set parameter\n",
    "\n",
    "epochs = 20\n",
    "batch_size = 128\n",
    "learning_rate = 0.001\n",
    "validation = 0.2"
   ]
  },
  {
   "cell_type": "code",
   "execution_count": null,
   "id": "ce6512b2-cc2f-4d3b-958f-180222d94082",
   "metadata": {},
   "outputs": [],
   "source": [
    "# compile\n",
    "\n",
    "lstm_ae0.compile(loss=\"mse\", optimizer=optimizers.Adam(learning_rate))"
   ]
  },
  {
   "cell_type": "code",
   "execution_count": null,
   "id": "3c509c6d-597c-4551-a24f-8a63307c6e71",
   "metadata": {
    "tags": []
   },
   "outputs": [],
   "source": [
    "# fit\n",
    "\n",
    "history = lstm_ae0.fit(\n",
    "    train_scaled,\n",
    "    train_scaled,\n",
    "    epochs=epochs,\n",
    "    batch_size=batch_size,\n",
    "    validation_split=validation,\n",
    "    callbacks=[\n",
    "        tf.keras.callbacks.EarlyStopping(monitor=\"val_loss\", patience=2, mode=\"min\")\n",
    "    ],\n",
    ")"
   ]
  },
  {
   "cell_type": "code",
   "execution_count": null,
   "id": "20c05c1a-dc77-4032-aada-d357d69dc782",
   "metadata": {},
   "outputs": [],
   "source": [
    "plt.plot(history.history[\"loss\"], label=\"Train Loss\")\n",
    "plt.plot(history.history[\"val_loss\"], label=\"Valid Loss\")\n",
    "plt.legend()\n",
    "plt.show()"
   ]
  },
  {
   "cell_type": "code",
   "execution_count": null,
   "id": "7a8eea01-d008-49da-8626-e1f0813d3ae3",
   "metadata": {},
   "outputs": [],
   "source": [
    "train_predictions = lstm_ae0.predict(train_scaled)"
   ]
  },
  {
   "cell_type": "code",
   "execution_count": null,
   "id": "1b2325a3-2a51-4901-b139-1084d7b5ff3e",
   "metadata": {},
   "outputs": [],
   "source": [
    "threshold = 0.2"
   ]
  },
  {
   "cell_type": "code",
   "execution_count": null,
   "id": "5a83f78b-99d0-455f-9f90-6875f1ca9567",
   "metadata": {},
   "outputs": [],
   "source": [
    "train_error = []\n",
    "for i in range(len(train_scaled)):\n",
    "    if np.sqrt(np.mean(np.power(train_predictions.reshape(train_predictions.shape[0], train_predictions.shape[1] * train_predictions.shape[2])[i] - train_scaled.reshape(train_predictions.shape[0], train_predictions.shape[1] * train_predictions.shape[2])[i], 2))) > threshold:\n",
    "        train_error.append(1)\n",
    "    else:\n",
    "        train_error.append(0)"
   ]
  },
  {
   "cell_type": "code",
   "execution_count": null,
   "id": "985650c8-ab3e-4216-9ac9-641ede0093a0",
   "metadata": {},
   "outputs": [],
   "source": [
    "train_error = pd.DataFrame(train_error, columns=['Prediction'])\n",
    "train_error.value_counts()"
   ]
  },
  {
   "cell_type": "code",
   "execution_count": null,
   "id": "1b8965d3-b04c-43bb-89d0-e19f2cb6580b",
   "metadata": {},
   "outputs": [],
   "source": [
    "err_index = list(train_error[train_error['Prediction'] == 1].index)"
   ]
  },
  {
   "cell_type": "code",
   "execution_count": null,
   "id": "974c8bd0-b4ce-4e61-bb9e-b1b21ac2d278",
   "metadata": {},
   "outputs": [],
   "source": [
    "r_train = train.drop(err_index)\n",
    "r_train.reset_index(drop=True, inplace=True)"
   ]
  },
  {
   "cell_type": "markdown",
   "id": "53f1e80a-b593-4b60-bca2-71e3ff2b09cc",
   "metadata": {},
   "source": [
    "# Prepare dataset for test"
   ]
  },
  {
   "cell_type": "code",
   "execution_count": null,
   "id": "342b6370-d4bd-46cc-bc83-9a5bb08db5f1",
   "metadata": {},
   "outputs": [],
   "source": [
    "test = all_data[105120:]\n",
    "test.reset_index(drop=True, inplace=True)"
   ]
  },
  {
   "cell_type": "markdown",
   "id": "cb4a8dc1-cd6b-44d8-a44a-d85c5f11f828",
   "metadata": {
    "tags": []
   },
   "source": [
    "## Transform to sequence"
   ]
  },
  {
   "cell_type": "code",
   "execution_count": null,
   "id": "441db551-1647-4f11-8b9b-39e9d750a290",
   "metadata": {},
   "outputs": [],
   "source": [
    "trans_train = to_seq(r_train, step)\n",
    "trans_test = to_seq(test, step)\n",
    "print(trans_test.shape)"
   ]
  },
  {
   "cell_type": "code",
   "execution_count": null,
   "id": "b9cab7d8-13f7-4921-b326-07722ae9eb4d",
   "metadata": {},
   "outputs": [],
   "source": [
    "train_seq = trans_train"
   ]
  },
  {
   "cell_type": "markdown",
   "id": "aa4f3a67-8f78-45ad-9d5d-b6f77444e890",
   "metadata": {},
   "source": [
    "## dimension down & feature scale"
   ]
  },
  {
   "cell_type": "code",
   "execution_count": null,
   "id": "d14beca9-6073-45ab-835f-7b188d827d0b",
   "metadata": {},
   "outputs": [],
   "source": [
    "scaler = MinMaxScaler()\n",
    "for i in range(step):\n",
    "    scaler.partial_fit(train_seq[:, i, :])\n",
    "    \n",
    "train_scaled = scaling(trans_train, scaler)\n",
    "test_scaled = scaling(trans_test, scaler)\n",
    "print(train_scaled.shape)\n",
    "print(test_scaled.shape)"
   ]
  },
  {
   "cell_type": "markdown",
   "id": "77f9201e-eabf-47f4-b560-b322ef2c285d",
   "metadata": {},
   "source": [
    "## LSTM AE for testset"
   ]
  },
  {
   "cell_type": "code",
   "execution_count": null,
   "id": "50edd6f0-8ebd-44a3-b532-207246b25a91",
   "metadata": {},
   "outputs": [],
   "source": [
    "def lstm_autoencoder2():\n",
    "    feature_number = train_scaled.shape[2]\n",
    "    lstm_ae = models.Sequential()\n",
    "\n",
    "    # Encoding\n",
    "    lstm_ae.add(layers.LSTM(64, activation=\"relu\", input_shape=(step, feature_number), return_sequences=True))\n",
    "    lstm_ae.add(layers.Dropout(rate=0.1))\n",
    "    lstm_ae.add(layers.LSTM(32, activation=\"relu\", return_sequences=False))\n",
    "    lstm_ae.add(layers.RepeatVector(step))\n",
    "\n",
    "    # Decoding\n",
    "    lstm_ae.add(layers.LSTM(32, activation=\"relu\", return_sequences=True))\n",
    "    lstm_ae.add(layers.Dropout(rate=0.1))\n",
    "    lstm_ae.add(layers.LSTM(64, activation=\"relu\", return_sequences=True))\n",
    "    lstm_ae.add(layers.TimeDistributed(layers.Dense(feature_number)))\n",
    "\n",
    "    print(lstm_ae.summary())\n",
    "    return lstm_ae"
   ]
  },
  {
   "cell_type": "code",
   "execution_count": null,
   "id": "7f1c40f2-ffce-4e37-b54e-285e507fcf29",
   "metadata": {},
   "outputs": [],
   "source": [
    "lstm_ae1 = lstm_autoencoder2()"
   ]
  },
  {
   "cell_type": "code",
   "execution_count": null,
   "id": "a9d8a13e-7b02-433f-a76c-fe83d6cd0576",
   "metadata": {},
   "outputs": [],
   "source": [
    "# set parameter\n",
    "\n",
    "epochs = 10\n",
    "batch_size = 128\n",
    "learning_rate = 0.001\n",
    "validation = 0.2"
   ]
  },
  {
   "cell_type": "code",
   "execution_count": null,
   "id": "958ca416-8d36-4ebb-91a4-20bb538569b6",
   "metadata": {},
   "outputs": [],
   "source": [
    "# compile\n",
    "\n",
    "lstm_ae1.compile(loss=\"mse\", optimizer=optimizers.Adam(learning_rate))"
   ]
  },
  {
   "cell_type": "code",
   "execution_count": null,
   "id": "5f6c1263-1316-4551-aed2-36a29d35e4f1",
   "metadata": {},
   "outputs": [],
   "source": [
    "# fit\n",
    "\n",
    "history = lstm_ae1.fit(\n",
    "    train_scaled,\n",
    "    train_scaled,\n",
    "    epochs=epochs,\n",
    "    batch_size=batch_size,\n",
    "    validation_split=validation,\n",
    "    callbacks=[\n",
    "        tf.keras.callbacks.EarlyStopping(monitor=\"val_loss\", patience=2, mode=\"min\")\n",
    "    ],\n",
    ")"
   ]
  },
  {
   "cell_type": "markdown",
   "id": "84e8600f-1898-495a-9fa0-c941f4758738",
   "metadata": {},
   "source": [
    "# detect anormal"
   ]
  },
  {
   "cell_type": "markdown",
   "id": "b402fef1-ad38-465b-9997-067807ecfdc9",
   "metadata": {
    "tags": []
   },
   "source": [
    "## test mse loss"
   ]
  },
  {
   "cell_type": "code",
   "execution_count": null,
   "id": "995da290-170b-4607-9d2c-a5cd88f8918c",
   "metadata": {},
   "outputs": [],
   "source": [
    "test_predictions = lstm_ae1.predict(test_scaled)"
   ]
  },
  {
   "cell_type": "code",
   "execution_count": null,
   "id": "6bed9ae5-d765-4bab-8a54-48082320f1bc",
   "metadata": {},
   "outputs": [],
   "source": [
    "threshold = 0.1"
   ]
  },
  {
   "cell_type": "code",
   "execution_count": null,
   "id": "599fd6c1-23a6-486f-b305-ca8f3e033359",
   "metadata": {},
   "outputs": [],
   "source": [
    "predict = []\n",
    "for i in range(len(test_scaled)):\n",
    "    if np.sqrt(np.mean(np.power(test_predictions.reshape(test_predictions.shape[0], test_predictions.shape[1] * test_predictions.shape[2])[i] - test_scaled.reshape(test_predictions.shape[0], test_predictions.shape[1] * test_predictions.shape[2])[i], 2))) > threshold:\n",
    "        predict.append(1)\n",
    "    else:\n",
    "        predict.append(0)"
   ]
  },
  {
   "cell_type": "code",
   "execution_count": null,
   "id": "b0c37901-c998-47f0-bfca-4b4209356e98",
   "metadata": {},
   "outputs": [],
   "source": [
    "predict = pd.DataFrame(predict, columns=['Prediction'])\n",
    "predict.value_counts()"
   ]
  },
  {
   "cell_type": "code",
   "execution_count": null,
   "id": "01271ffe-1857-4e26-9b42-7e68a3303996",
   "metadata": {},
   "outputs": [],
   "source": [
    "predict[predict['Prediction']==1]"
   ]
  },
  {
   "cell_type": "code",
   "execution_count": null,
   "id": "5c2c0b7d-dc28-4a15-902c-7c16b38a8479",
   "metadata": {},
   "outputs": [],
   "source": [
    "predict.to_csv('predict0511_1.csv', mode='w')"
   ]
  },
  {
   "cell_type": "code",
   "execution_count": null,
   "id": "cbba5ff0-cb08-4b22-8619-f7c835148019",
   "metadata": {},
   "outputs": [],
   "source": [
    "np.sqrt(np.mean(np.power(test_predictions - test_scaled, 2), axis=1)).shape"
   ]
  },
  {
   "cell_type": "code",
   "execution_count": null,
   "id": "ebed2e72-570b-4338-8346-98e264aa5c63",
   "metadata": {},
   "outputs": [],
   "source": [
    "pd.DataFrame(np.sqrt(np.mean(np.power(test_predictions.reshape(test_predictions.shape[0], test_predictions.shape[1] * test_predictions.shape[2]) - test_scaled.reshape(test_predictions.shape[0], test_predictions.shape[1] * test_predictions.shape[2]), 2), axis=1))).to_csv('rmse.csv', mode='w')"
   ]
  },
  {
   "cell_type": "code",
   "execution_count": null,
   "id": "06f245bf-b9f7-4515-9b06-0fa1c5fac9ad",
   "metadata": {},
   "outputs": [],
   "source": []
  }
 ],
 "metadata": {
  "kernelspec": {
   "display_name": "Python 3 (ipykernel)",
   "language": "python",
   "name": "python3"
  },
  "language_info": {
   "codemirror_mode": {
    "name": "ipython",
    "version": 3
   },
   "file_extension": ".py",
   "mimetype": "text/x-python",
   "name": "python",
   "nbconvert_exporter": "python",
   "pygments_lexer": "ipython3",
   "version": "3.9.12"
  },
  "toc-autonumbering": true,
  "toc-showtags": false
 },
 "nbformat": 4,
 "nbformat_minor": 5
}
