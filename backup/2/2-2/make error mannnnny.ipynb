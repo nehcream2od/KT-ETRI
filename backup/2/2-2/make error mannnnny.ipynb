{
 "cells": [
  {
   "cell_type": "markdown",
   "id": "30855043-3358-4281-b592-b03966150cb2",
   "metadata": {
    "tags": []
   },
   "source": [
    "#  Import Libraries"
   ]
  },
  {
   "cell_type": "code",
   "execution_count": 1,
   "id": "f593f1db-be2d-4572-86d0-c9ef3556baf1",
   "metadata": {},
   "outputs": [],
   "source": [
    "import pandas as pd\n",
    "import numpy as np\n",
    "import matplotlib.pyplot as plt\n",
    "import seaborn as sns\n",
    "from pylab import rcParams\n",
    "from collections import Counter\n",
    "import tensorflow as tf\n",
    "from tensorflow.keras import Model, models, layers, optimizers, regularizers\n",
    "from tensorflow.keras.callbacks import ModelCheckpoint\n",
    "\n",
    "from sklearn.preprocessing import StandardScaler\n",
    "from sklearn.preprocessing import RobustScaler\n",
    "from sklearn.preprocessing import MinMaxScaler\n",
    "from sklearn.model_selection import train_test_split\n",
    "from sklearn import metrics"
   ]
  },
  {
   "cell_type": "markdown",
   "id": "fcddeda4-a0f7-41fb-a60f-dce52751050c",
   "metadata": {},
   "source": [
    "# Load Data"
   ]
  },
  {
   "cell_type": "code",
   "execution_count": 2,
   "id": "a10f8ef7-a7a1-4b58-a77f-6e13e2a254cf",
   "metadata": {},
   "outputs": [],
   "source": [
    "train = pd.read_csv('2_all_data.csv')\n",
    "test = train.copy()"
   ]
  },
  {
   "cell_type": "code",
   "execution_count": 3,
   "id": "3bad7b2f-c5c1-416a-afbe-d27652ddf7a6",
   "metadata": {},
   "outputs": [],
   "source": [
    "train.drop(['Timestamp', 'Unnamed: 0'], inplace=True, axis=1)\n",
    "test.drop(['Timestamp', 'Unnamed: 0'], inplace=True, axis=1)"
   ]
  },
  {
   "cell_type": "markdown",
   "id": "b7985a31-8940-43c9-8098-57ca091bab84",
   "metadata": {},
   "source": [
    "# Transform to Series Data "
   ]
  },
  {
   "cell_type": "code",
   "execution_count": 4,
   "id": "354855b9-1900-43b0-ba98-c48be93896bc",
   "metadata": {},
   "outputs": [],
   "source": [
    "shift_by = -5\n",
    "n_features = train.shape[1]"
   ]
  },
  {
   "cell_type": "code",
   "execution_count": 5,
   "id": "b68c4e64-1c11-45eb-a5b2-f8d833205143",
   "metadata": {},
   "outputs": [],
   "source": [
    "# LSTM 모델은 (samples, timesteps, feature)에 해당하는 3d 차원의 shape을 가지므로, 데이터를 시퀀스 형태로 변환\n",
    "\n",
    "def temporalize(X, timesteps):\n",
    "    output_X = []\n",
    "    for i in range(len(X) - timesteps - 1):\n",
    "        t = []\n",
    "        for j in range(1, timesteps + 1):\n",
    "            # Gather the past records upto the lookback period\n",
    "            t.append(X.loc[[(i + j + 1)], :])\n",
    "        output_X.append(t)\n",
    "    return np.squeeze(np.array(output_X))"
   ]
  },
  {
   "cell_type": "code",
   "execution_count": 6,
   "id": "3bc47690-3ff4-4d0b-8c1b-062679495037",
   "metadata": {},
   "outputs": [
    {
     "name": "stdout",
     "output_type": "stream",
     "text": [
      "(210234, 5, 34)\n"
     ]
    }
   ],
   "source": [
    "timesteps = abs(shift_by)\n",
    "\n",
    "# Temporalize\n",
    "x = temporalize(train, timesteps)\n",
    "print(x.shape)"
   ]
  },
  {
   "cell_type": "markdown",
   "id": "fb24ba26-a080-46d8-9535-f0f40641bf51",
   "metadata": {},
   "source": [
    "# Split Train / Valid / Test"
   ]
  },
  {
   "cell_type": "code",
   "execution_count": 8,
   "id": "5df5a028-6de7-4cb8-922a-a08c2af624bc",
   "metadata": {},
   "outputs": [
    {
     "name": "stdout",
     "output_type": "stream",
     "text": [
      "168187\n",
      "42047\n",
      "210234\n"
     ]
    }
   ],
   "source": [
    "# Split into train, valid, and test \n",
    "x_train = x\n",
    "x_test = temporalize(test, timesteps)\n",
    "x_train, x_valid = train_test_split(x_train, test_size=0.2)\n",
    "\n",
    "print(len(x_train))  \n",
    "print(len(x_valid)) \n",
    "print(len(x_test))"
   ]
  },
  {
   "cell_type": "markdown",
   "id": "f636ab09-4f8f-4ce7-a778-fb53754710b4",
   "metadata": {},
   "source": [
    "# Standardize"
   ]
  },
  {
   "cell_type": "code",
   "execution_count": 9,
   "id": "aa8e3c52-205b-491a-9751-7289d4070427",
   "metadata": {},
   "outputs": [],
   "source": [
    "def flatten(X):\n",
    "    flattened_X = np.empty((X.shape[0], X.shape[2]))  # sample x features array.\n",
    "    for i in range(X.shape[0]):\n",
    "        flattened_X[i] = X[i, (X.shape[1]-1), :]\n",
    "    return(flattened_X)\n",
    "\n",
    "def scale(X, scaler):\n",
    "    for i in range(X.shape[0]):\n",
    "        X[i, :, :] = scaler.transform(X[i, :, :])\n",
    "        \n",
    "    return X"
   ]
  },
  {
   "cell_type": "code",
   "execution_count": 10,
   "id": "5637c0af-901f-4e04-bcd5-eddf9595fc3d",
   "metadata": {},
   "outputs": [],
   "source": [
    "scaler = RobustScaler().fit(flatten(x_train))\n",
    "\n",
    "x_train_scaled = scale(x_train, scaler)\n",
    "x_valid_scaled = scale(x_valid, scaler)\n",
    "x_test_scaled = scale(x_test, scaler)"
   ]
  },
  {
   "cell_type": "markdown",
   "id": "d8cb6aff-acc6-4ac8-9456-0379e3abb708",
   "metadata": {},
   "source": [
    "# Training LSTM Autoencoder"
   ]
  },
  {
   "cell_type": "code",
   "execution_count": 11,
   "id": "9545ef5b-72d6-4d25-aa4b-0dd5bc2d6d22",
   "metadata": {},
   "outputs": [],
   "source": [
    "epochs = 20\n",
    "batch = 128\n",
    "lr = 0.001"
   ]
  },
  {
   "cell_type": "code",
   "execution_count": 12,
   "id": "bae54efc-75bc-4eaa-980d-131f1b9b7ece",
   "metadata": {},
   "outputs": [
    {
     "name": "stdout",
     "output_type": "stream",
     "text": [
      "Metal device set to: Apple M1\n",
      "\n",
      "systemMemory: 8.00 GB\n",
      "maxCacheSize: 2.67 GB\n",
      "\n",
      "WARNING:tensorflow:Layer lstm will not use cuDNN kernels since it doesn't meet the criteria. It will use a generic GPU kernel as fallback when running on GPU.\n",
      "WARNING:tensorflow:Layer lstm_1 will not use cuDNN kernels since it doesn't meet the criteria. It will use a generic GPU kernel as fallback when running on GPU.\n",
      "WARNING:tensorflow:Layer lstm_2 will not use cuDNN kernels since it doesn't meet the criteria. It will use a generic GPU kernel as fallback when running on GPU.\n",
      "WARNING:tensorflow:Layer lstm_3 will not use cuDNN kernels since it doesn't meet the criteria. It will use a generic GPU kernel as fallback when running on GPU.\n"
     ]
    },
    {
     "name": "stderr",
     "output_type": "stream",
     "text": [
      "2022-05-10 09:50:27.028874: I tensorflow/core/common_runtime/pluggable_device/pluggable_device_factory.cc:305] Could not identify NUMA node of platform GPU ID 0, defaulting to 0. Your kernel may not have been built with NUMA support.\n",
      "2022-05-10 09:50:27.030321: I tensorflow/core/common_runtime/pluggable_device/pluggable_device_factory.cc:271] Created TensorFlow device (/job:localhost/replica:0/task:0/device:GPU:0 with 0 MB memory) -> physical PluggableDevice (device: 0, name: METAL, pci bus id: <undefined>)\n"
     ]
    },
    {
     "name": "stdout",
     "output_type": "stream",
     "text": [
      "Model: \"sequential\"\n",
      "_________________________________________________________________\n",
      " Layer (type)                Output Shape              Param #   \n",
      "=================================================================\n",
      " lstm (LSTM)                 (None, 5, 128)            83456     \n",
      "                                                                 \n",
      " lstm_1 (LSTM)               (None, 64)                49408     \n",
      "                                                                 \n",
      " repeat_vector (RepeatVector  (None, 5, 64)            0         \n",
      " )                                                               \n",
      "                                                                 \n",
      " lstm_2 (LSTM)               (None, 5, 64)             33024     \n",
      "                                                                 \n",
      " lstm_3 (LSTM)               (None, 5, 128)            98816     \n",
      "                                                                 \n",
      " time_distributed (TimeDistr  (None, 5, 34)            4386      \n",
      " ibuted)                                                         \n",
      "                                                                 \n",
      "=================================================================\n",
      "Total params: 269,090\n",
      "Trainable params: 269,090\n",
      "Non-trainable params: 0\n",
      "_________________________________________________________________\n"
     ]
    }
   ],
   "source": [
    "# earlystopping\n",
    "callback = tf.keras.callbacks.EarlyStopping(monitor=\"loss\", patience=2)\n",
    "\n",
    "lstm_ae = models.Sequential()\n",
    "# Encoder\n",
    "lstm_ae.add(layers.LSTM(128, activation='relu', input_shape=(timesteps, n_features), return_sequences=True))\n",
    "lstm_ae.add(layers.LSTM(64, activation='relu', return_sequences=False))\n",
    "lstm_ae.add(layers.RepeatVector(timesteps))\n",
    "# Decoder\n",
    "lstm_ae.add(layers.LSTM(64, activation='relu', return_sequences=True))\n",
    "lstm_ae.add(layers.LSTM(128, activation='relu', return_sequences=True))\n",
    "lstm_ae.add(layers.TimeDistributed(layers.Dense(n_features)))\n",
    "\n",
    "lstm_ae.summary()"
   ]
  },
  {
   "cell_type": "code",
   "execution_count": 13,
   "id": "c1e0bf52-75d0-4102-8d3e-4975e882ad6b",
   "metadata": {
    "tags": []
   },
   "outputs": [
    {
     "name": "stdout",
     "output_type": "stream",
     "text": [
      "Epoch 1/20\n"
     ]
    },
    {
     "name": "stderr",
     "output_type": "stream",
     "text": [
      "2022-05-10 09:50:31.047914: W tensorflow/core/platform/profile_utils/cpu_utils.cc:128] Failed to get CPU frequency: 0 Hz\n",
      "2022-05-10 09:50:31.879647: I tensorflow/core/grappler/optimizers/custom_graph_optimizer_registry.cc:113] Plugin optimizer for device_type GPU is enabled.\n"
     ]
    },
    {
     "name": "stdout",
     "output_type": "stream",
     "text": [
      "1314/1314 [==============================] - ETA: 0s - loss: 0.1112"
     ]
    },
    {
     "name": "stderr",
     "output_type": "stream",
     "text": [
      "2022-05-10 09:54:05.157705: I tensorflow/core/grappler/optimizers/custom_graph_optimizer_registry.cc:113] Plugin optimizer for device_type GPU is enabled.\n"
     ]
    },
    {
     "name": "stdout",
     "output_type": "stream",
     "text": [
      "1314/1314 [==============================] - 221s 167ms/step - loss: 0.1112 - val_loss: 0.0611\n",
      "Epoch 2/20\n",
      "1314/1314 [==============================] - 231s 176ms/step - loss: 0.0689 - val_loss: 0.0663\n",
      "Epoch 3/20\n",
      "1314/1314 [==============================] - 245s 186ms/step - loss: 0.0644 - val_loss: 0.0694\n",
      "Epoch 4/20\n",
      "1314/1314 [==============================] - 288s 219ms/step - loss: 0.0596 - val_loss: 0.0517\n",
      "Epoch 5/20\n",
      "1314/1314 [==============================] - 261s 198ms/step - loss: 0.0583 - val_loss: 0.0502\n",
      "Epoch 6/20\n",
      "1314/1314 [==============================] - 281s 214ms/step - loss: 0.0566 - val_loss: 0.0566\n",
      "Epoch 7/20\n",
      "1314/1314 [==============================] - 287s 218ms/step - loss: 0.0565 - val_loss: 0.0544\n",
      "Epoch 8/20\n",
      "1314/1314 [==============================] - 306s 233ms/step - loss: 0.0580 - val_loss: 0.0534\n",
      "Epoch 9/20\n",
      "1314/1314 [==============================] - 286s 218ms/step - loss: 0.0544 - val_loss: 0.0543\n",
      "Epoch 10/20\n",
      "1314/1314 [==============================] - 271s 207ms/step - loss: 0.0528 - val_loss: 0.0470\n",
      "Epoch 11/20\n",
      "1314/1314 [==============================] - 285s 217ms/step - loss: 0.0513 - val_loss: 0.0491\n",
      "Epoch 12/20\n",
      "1314/1314 [==============================] - 261s 199ms/step - loss: 0.0518 - val_loss: 0.0462\n",
      "Epoch 13/20\n",
      "1314/1314 [==============================] - 259s 197ms/step - loss: 0.0485 - val_loss: 0.0482\n",
      "Epoch 14/20\n",
      "1314/1314 [==============================] - 257s 196ms/step - loss: 0.0494 - val_loss: 0.0469\n",
      "Epoch 15/20\n",
      "1314/1314 [==============================] - 258s 196ms/step - loss: 0.0545 - val_loss: 0.0503\n"
     ]
    }
   ],
   "source": [
    "# compile\n",
    "lstm_ae.compile(loss=\"mse\", optimizer=optimizers.Adam(lr))\n",
    "\n",
    "# fit\n",
    "history = lstm_ae.fit(\n",
    "    x_train_scaled,\n",
    "    x_train_scaled,\n",
    "    epochs=epochs,\n",
    "    batch_size=batch,\n",
    "    validation_data=(x_valid_scaled, x_valid_scaled),\n",
    "    callbacks=[callback],\n",
    ")"
   ]
  },
  {
   "cell_type": "markdown",
   "id": "44194e44-e3ae-4e78-9168-ef569027e6c8",
   "metadata": {},
   "source": [
    "# threshold"
   ]
  },
  {
   "cell_type": "code",
   "execution_count": 14,
   "id": "a83d5811-5e9e-4dbe-a6e8-d9ec0ab85da1",
   "metadata": {},
   "outputs": [],
   "source": [
    "threshold = 0.2"
   ]
  },
  {
   "cell_type": "code",
   "execution_count": 15,
   "id": "f39bb5fe-79cf-4322-ad9b-996f972f3ba9",
   "metadata": {},
   "outputs": [
    {
     "data": {
      "text/plain": [
       "(210240, 34)"
      ]
     },
     "execution_count": 15,
     "metadata": {},
     "output_type": "execute_result"
    }
   ],
   "source": [
    "test.shape"
   ]
  },
  {
   "cell_type": "code",
   "execution_count": 16,
   "id": "483fba8e-3ebd-4fbb-ba8d-7cefcb585011",
   "metadata": {},
   "outputs": [
    {
     "name": "stderr",
     "output_type": "stream",
     "text": [
      "2022-05-10 10:57:41.325203: I tensorflow/core/grappler/optimizers/custom_graph_optimizer_registry.cc:113] Plugin optimizer for device_type GPU is enabled.\n"
     ]
    }
   ],
   "source": [
    "test_predictions = lstm_ae.predict(x_test_scaled)"
   ]
  },
  {
   "cell_type": "code",
   "execution_count": 17,
   "id": "488992f8-4453-4567-8f00-f6ca05aafb09",
   "metadata": {},
   "outputs": [
    {
     "name": "stdout",
     "output_type": "stream",
     "text": [
      "0.217048344446869\n"
     ]
    }
   ],
   "source": [
    "mse = np.sqrt(np.mean(np.power(test_predictions.reshape(test_predictions.shape[0], test_predictions.shape[1] * test_predictions.shape[2]) - x_test_scaled.reshape(test_predictions.shape[0], test_predictions.shape[1] * test_predictions.shape[2]), 2)))\n",
    "print(mse)"
   ]
  },
  {
   "cell_type": "code",
   "execution_count": 18,
   "id": "2a07e208-53a9-48ca-891a-413cf9ebba32",
   "metadata": {},
   "outputs": [],
   "source": [
    "predict = []\n",
    "for i in range(len(x_test_scaled)):\n",
    "    if np.sqrt(np.mean(np.power(test_predictions.reshape(test_predictions.shape[0], test_predictions.shape[1] * test_predictions.shape[2])[i] - x_test_scaled.reshape(test_predictions.shape[0], test_predictions.shape[1] * test_predictions.shape[2])[i], 2))) > threshold:\n",
    "        predict.append(1)\n",
    "    else:\n",
    "        predict.append(0)"
   ]
  },
  {
   "cell_type": "code",
   "execution_count": 19,
   "id": "e8235cd5-34ed-4929-91ac-97ebcacbf1d7",
   "metadata": {},
   "outputs": [
    {
     "data": {
      "text/plain": [
       "Prediction\n",
       "0             180006\n",
       "1              30228\n",
       "dtype: int64"
      ]
     },
     "execution_count": 19,
     "metadata": {},
     "output_type": "execute_result"
    }
   ],
   "source": [
    "predict = pd.DataFrame(predict, columns=['Prediction'])\n",
    "predict.value_counts()"
   ]
  },
  {
   "cell_type": "code",
   "execution_count": 20,
   "id": "d48c34b7-d16b-411a-a1ff-938037b15147",
   "metadata": {},
   "outputs": [],
   "source": [
    "list0 = list(predict[predict['Prediction'] == 1].index)"
   ]
  },
  {
   "cell_type": "code",
   "execution_count": 21,
   "id": "64c0d831-a499-4303-85a6-5f1e1c4e16e0",
   "metadata": {},
   "outputs": [],
   "source": [
    "test.drop(list0).to_csv('2_only_normal_threshold02.csv', mode='w')"
   ]
  },
  {
   "cell_type": "code",
   "execution_count": 22,
   "id": "2ffab97c-e3b2-495c-a2b6-1592974a7034",
   "metadata": {},
   "outputs": [],
   "source": [
    "threshold_01 = predict[predict['Prediction']==0]"
   ]
  },
  {
   "cell_type": "code",
   "execution_count": null,
   "id": "30c353c6-4c97-486d-83b4-845433af4dcb",
   "metadata": {},
   "outputs": [],
   "source": []
  }
 ],
 "metadata": {
  "kernelspec": {
   "display_name": "Python 3 (ipykernel)",
   "language": "python",
   "name": "python3"
  },
  "language_info": {
   "codemirror_mode": {
    "name": "ipython",
    "version": 3
   },
   "file_extension": ".py",
   "mimetype": "text/x-python",
   "name": "python",
   "nbconvert_exporter": "python",
   "pygments_lexer": "ipython3",
   "version": "3.8.13"
  },
  "toc-autonumbering": true
 },
 "nbformat": 4,
 "nbformat_minor": 5
}
