{
 "cells": [
  {
   "cell_type": "markdown",
   "id": "a1aeaa5c-a174-4b62-9c2f-fc9e933c154f",
   "metadata": {},
   "source": [
    "Import"
   ]
  },
  {
   "cell_type": "code",
   "execution_count": 1,
   "id": "1caa7282-bcf9-4036-b22d-5f042e64530d",
   "metadata": {},
   "outputs": [],
   "source": [
    "import pandas as pd\n",
    "import numpy as np\n",
    "\n",
    "import tensorflow as tf\n",
    "from sklearn.model_selection import train_test_split\n",
    "from sklearn.preprocessing import RobustScaler\n",
    "from tensorflow.keras import Model, models, layers, optimizers, regularizers\n",
    "from tensorflow.keras.callbacks import ModelCheckpoint\n",
    "\n",
    "seed=1\n",
    "tf.random.set_seed(seed)"
   ]
  },
  {
   "cell_type": "markdown",
   "id": "ce5863e6-d008-42ca-a2bc-52fd717a3029",
   "metadata": {},
   "source": [
    "# Make dataset for train"
   ]
  },
  {
   "cell_type": "code",
   "execution_count": 2,
   "id": "54d96649-aa6b-46e5-9824-f20022ded27b",
   "metadata": {},
   "outputs": [],
   "source": [
    "# read_csv\n",
    "\n",
    "path = \"../dataset/data/Media/\"\n",
    "data1 = pd.read_csv(path + \"Media_INFO.csv\", index_col=\"Timestamp\", )\n",
    "data2 = pd.read_csv(path + \"Media_LOGIN.csv\", index_col=\"Timestamp\")\n",
    "data3 = pd.read_csv(path + \"Media_MENU.csv\", index_col=\"Timestamp\")\n",
    "data4 = pd.read_csv(path + \"Media_STREAM.csv\", index_col=\"Timestamp\")\n",
    "\n",
    "data1.reset_index(inplace=True, drop=True)\n",
    "data2.reset_index(inplace=True, drop=True)\n",
    "data3.reset_index(inplace=True, drop=True)\n",
    "data4.reset_index(inplace=True, drop=True)"
   ]
  },
  {
   "cell_type": "raw",
   "id": "f74980eb-dc27-409f-87d3-ef9311b3e099",
   "metadata": {},
   "source": [
    "fail이 0이면 이상이 없다고 생각 할 수 있나?"
   ]
  },
  {
   "cell_type": "code",
   "execution_count": 3,
   "id": "23064501-17a6-40e7-b525-45f6b2a96d66",
   "metadata": {},
   "outputs": [],
   "source": [
    "# drop na, column\n",
    "\n",
    "data1.drop('INFO-01-Fail', axis=1, inplace=True)\n",
    "data1.dropna(inplace=True)\n",
    "data2.dropna(inplace=True)\n",
    "data3.dropna(inplace=True)\n",
    "data4.dropna(inplace=True)\n",
    "\n",
    "server1 = data1\n",
    "server2 = data2.iloc[:, [0, 1, 2]]\n",
    "server3 = data2.iloc[:, [3, 4, 5]]\n",
    "server4 = data2.iloc[:, [6, 7, 8]]\n",
    "server5 = data2.iloc[:, [9, 10, 11]]\n",
    "server6 = data2.iloc[:, [12, 13, 14]]\n",
    "server7 = data3.iloc[:, [0, 1, 2]]\n",
    "server8 = data3.iloc[:, [3, 4, 5]]\n",
    "server9 = data3.iloc[:, [6, 7, 8]]\n",
    "server10 = data3.iloc[:, [9, 10, 11]]\n",
    "server11 = data4.iloc[:, [0]]\n",
    "server12 = data4.iloc[:, [1]]\n",
    "server13 = data4.iloc[:, [2]]"
   ]
  },
  {
   "cell_type": "code",
   "execution_count": 4,
   "id": "5e6538ee-1abe-49bc-b899-82f1e1aea60b",
   "metadata": {},
   "outputs": [
    {
     "name": "stdout",
     "output_type": "stream",
     "text": [
      "(192249, 2)\n",
      "(192189, 3)\n",
      "(192189, 3)\n",
      "(192189, 3)\n",
      "(192189, 3)\n",
      "(192189, 3)\n",
      "(209771, 3)\n",
      "(209771, 3)\n",
      "(209771, 3)\n",
      "(209771, 3)\n",
      "(178730, 1)\n",
      "(178730, 1)\n",
      "(178730, 1)\n"
     ]
    }
   ],
   "source": [
    "for i in range(13):\n",
    "    print(globals()[f'server{i + 1}'].shape)"
   ]
  },
  {
   "cell_type": "code",
   "execution_count": 5,
   "id": "71bd989c-31f1-4b77-b3f3-75d32acd7a92",
   "metadata": {},
   "outputs": [],
   "source": [
    "# remove outlier \n",
    "def remove_outlier(df, column):\n",
    "    Q1 = np.percentile(df[column].values, 25)\n",
    "    Q3 = np.percentile(df[column].values, 75)\n",
    "    \n",
    "    IQR = Q3 - Q1\n",
    "    weight = IQR*1.5\n",
    "    \n",
    "    lowest = Q1 - weight\n",
    "    highest = Q3 + weight\n",
    "    \n",
    "    outlier_idx = df[column][ (df[column] < lowest) | (df[column] > highest) ].index\n",
    "    df.drop(outlier_idx, axis=0, inplace=True)\n",
    "    \n",
    "    return df"
   ]
  },
  {
   "cell_type": "code",
   "execution_count": 6,
   "id": "6275e5fb-615e-4375-9dc7-539ab89eb1bf",
   "metadata": {},
   "outputs": [
    {
     "name": "stderr",
     "output_type": "stream",
     "text": [
      "/var/folders/qd/yc_92c9d2csclp39hh5l_t900000gn/T/ipykernel_20422/2360512852.py:13: SettingWithCopyWarning: \n",
      "A value is trying to be set on a copy of a slice from a DataFrame\n",
      "\n",
      "See the caveats in the documentation: https://pandas.pydata.org/pandas-docs/stable/user_guide/indexing.html#returning-a-view-versus-a-copy\n",
      "  df.drop(outlier_idx, axis=0, inplace=True)\n"
     ]
    }
   ],
   "source": [
    "for i in range(13):\n",
    "    column_list = list(globals()[f'server{i + 1}'].columns)\n",
    "    for j in column_list:\n",
    "        remove_outlier(globals()[f'server{i + 1}'], j)"
   ]
  },
  {
   "cell_type": "code",
   "execution_count": 7,
   "id": "d179dd9f-a113-4b26-b68e-bf4c0ba39577",
   "metadata": {},
   "outputs": [
    {
     "name": "stdout",
     "output_type": "stream",
     "text": [
      "(188513, 2)\n",
      "(170651, 3)\n",
      "(170739, 3)\n",
      "(170815, 3)\n",
      "(170750, 3)\n",
      "(170718, 3)\n",
      "(198213, 3)\n",
      "(198233, 3)\n",
      "(198221, 3)\n",
      "(198162, 3)\n",
      "(178534, 1)\n",
      "(178730, 1)\n",
      "(173192, 1)\n"
     ]
    }
   ],
   "source": [
    "for i in range(13):\n",
    "    print(globals()[f'server{i + 1}'].shape)"
   ]
  },
  {
   "cell_type": "code",
   "execution_count": 8,
   "id": "b277dcaf-4d05-4029-96e9-9e54f267e9e6",
   "metadata": {},
   "outputs": [],
   "source": [
    "# df add\n",
    "\n",
    "server_df = []\n",
    "for i in range(13):\n",
    "    server_df.append(globals()[f'server{i + 1}'].reset_index(drop=True))"
   ]
  },
  {
   "cell_type": "markdown",
   "id": "8d700ca3-f5d7-426a-b9a8-83b672cee25e",
   "metadata": {},
   "source": [
    "# Transform to sequence"
   ]
  },
  {
   "cell_type": "code",
   "execution_count": 9,
   "id": "de671ee9-3742-4d89-82dc-4abfc773f8fd",
   "metadata": {},
   "outputs": [],
   "source": [
    "def to_seq(df, step):\n",
    "    output = []\n",
    "    for i in range(len(df) - step - 1):\n",
    "        temp = []\n",
    "        for j in range(1, step + 1):\n",
    "            temp.append(df.loc[[(i + j + 1)], :])\n",
    "        output.append(temp)\n",
    "    return np.squeeze(np.array(output))"
   ]
  },
  {
   "cell_type": "code",
   "execution_count": 10,
   "id": "cc46bb00-a6c7-4c7b-badf-2053f6748de8",
   "metadata": {},
   "outputs": [
    {
     "name": "stdout",
     "output_type": "stream",
     "text": [
      "(188507, 5, 2)\n",
      "(170645, 5, 3)\n",
      "(170733, 5, 3)\n",
      "(170809, 5, 3)\n",
      "(170744, 5, 3)\n",
      "(170712, 5, 3)\n",
      "(198207, 5, 3)\n",
      "(198227, 5, 3)\n",
      "(198215, 5, 3)\n",
      "(198156, 5, 3)\n",
      "(178528, 5)\n",
      "(178724, 5)\n",
      "(173186, 5)\n"
     ]
    }
   ],
   "source": [
    "step = abs(5)\n",
    "trans_server_df = []\n",
    "for i in range(len(server_df)):\n",
    "    temp = (to_seq(server_df[i], step))\n",
    "    trans_server_df.append(temp)\n",
    "    print(temp.shape)"
   ]
  },
  {
   "cell_type": "markdown",
   "id": "28a99d78-b5aa-4279-9a11-5e9ac2cf9399",
   "metadata": {},
   "source": [
    "# Split Valid"
   ]
  },
  {
   "cell_type": "code",
   "execution_count": 11,
   "id": "3b127575-d03f-4cbd-bf89-7ef389dc9fa8",
   "metadata": {},
   "outputs": [
    {
     "name": "stdout",
     "output_type": "stream",
     "text": [
      "150805\n",
      "37702\n",
      "136516\n",
      "34129\n",
      "136586\n",
      "34147\n",
      "136647\n",
      "34162\n",
      "136595\n",
      "34149\n",
      "136569\n",
      "34143\n",
      "158565\n",
      "39642\n",
      "158581\n",
      "39646\n",
      "158572\n",
      "39643\n",
      "158524\n",
      "39632\n",
      "142822\n",
      "35706\n",
      "142979\n",
      "35745\n",
      "138548\n",
      "34638\n"
     ]
    }
   ],
   "source": [
    "train = []\n",
    "valid = []\n",
    "for i in range(len(trans_server_df)):\n",
    "    temp1, temp2 = train_test_split(trans_server_df[i], test_size=0.2)\n",
    "    train.append(temp1)\n",
    "    valid.append(temp2)\n",
    "\n",
    "\n",
    "for i in range(len(train)):\n",
    "    print(len(train[i]))\n",
    "    print(len(valid[i]))"
   ]
  },
  {
   "cell_type": "markdown",
   "id": "c2ec8ca2-2cc6-47fb-91f4-c567398a3355",
   "metadata": {},
   "source": [
    "# feature scale"
   ]
  },
  {
   "cell_type": "code",
   "execution_count": 12,
   "id": "a1bbf737-c96f-4ee8-a00f-337eb3dc4503",
   "metadata": {},
   "outputs": [],
   "source": [
    "def dimension_down(df):\n",
    "    dimension_df = np.empty((df.shape[0], df.shape[2]))\n",
    "    for i in range(df.shape[0]):\n",
    "        dimension_df[i] = df[i, (df.shape[1] - 1), :]\n",
    "\n",
    "    return dimension_df\n",
    "\n",
    "\n",
    "def scaling(df, scaler):\n",
    "    for i in range(df.shape[0]):\n",
    "        df[i, :, :] = scaler.transform(df[i, :, :])\n",
    "\n",
    "    return df"
   ]
  },
  {
   "cell_type": "code",
   "execution_count": 13,
   "id": "39bc151d-9912-4dee-87ac-a0f84c9e3530",
   "metadata": {},
   "outputs": [],
   "source": [
    "train_scaled = []\n",
    "valid_scaled = []\n",
    "for i in range(10):\n",
    "    scaler = RobustScaler().fit(dimension_down(train[i]))\n",
    "    temp1 = scaling(train[i], scaler)\n",
    "    temp2 = scaling(valid[i], scaler)\n",
    "    train_scaled.append(temp1)\n",
    "    valid_scaled.append(temp2)\n",
    "    \n",
    "for j in range(3):\n",
    "    scaler = RobustScaler().fit(train[j + 10])\n",
    "    temp1 = scaler.transform(train[j + 10])\n",
    "    temp2 = scaler.transform(valid[j + 10])\n",
    "    train_scaled.append(temp1)\n",
    "    valid_scaled.append(temp2)\n",
    "    \n",
    "test_scaled = train_scaled.copy()"
   ]
  },
  {
   "cell_type": "markdown",
   "id": "7d73addc-d0b4-4a38-80ea-30cd5fb2078d",
   "metadata": {},
   "source": [
    "# LSTM AE for trainset"
   ]
  },
  {
   "cell_type": "code",
   "execution_count": 14,
   "id": "1b39bd44-2833-4c3b-aa02-58bf790975f0",
   "metadata": {},
   "outputs": [],
   "source": [
    "feature_number = []\n",
    "for i in range(len(train_scaled) - 3):\n",
    "    feature_number.append(train_scaled[i].shape[2])\n",
    "    \n",
    "for j in range(3):\n",
    "    feature_number.append(1)"
   ]
  },
  {
   "cell_type": "code",
   "execution_count": 15,
   "id": "297d5097-5d09-4c96-ad6b-9f217a0ade38",
   "metadata": {},
   "outputs": [],
   "source": [
    "def lstm_autoencoder(i):   \n",
    "    lstm_ae = models.Sequential()\n",
    "\n",
    "    # Encoding\n",
    "    lstm_ae.add(layers.LSTM(64, activation='tanh', input_shape=(step, feature_number[i]), return_sequences=True))\n",
    "    lstm_ae.add(layers.LSTM(32, activation='tanh', return_sequences=False))\n",
    "    lstm_ae.add(layers.RepeatVector(step))\n",
    "\n",
    "    # Decoding\n",
    "    lstm_ae.add(layers.LSTM(32, activation='tanh', return_sequences=True))\n",
    "    lstm_ae.add(layers.LSTM(64, activation='tanh', return_sequences=True))\n",
    "    lstm_ae.add(layers.TimeDistributed(layers.Dense(feature_number[i])))\n",
    "\n",
    "    # earlystopping\n",
    "    callback = tf.keras.callbacks.EarlyStopping(monitor=\"val_loss\", patience=2)\n",
    "\n",
    "    print(lstm_ae.summary())\n",
    "    return lstm_ae"
   ]
  },
  {
   "cell_type": "code",
   "execution_count": 16,
   "id": "b03fd0e9-ae08-41c6-8614-a6cf5116ed48",
   "metadata": {},
   "outputs": [
    {
     "name": "stderr",
     "output_type": "stream",
     "text": [
      "2022-05-09 20:17:56.743187: I tensorflow/core/common_runtime/pluggable_device/pluggable_device_factory.cc:305] Could not identify NUMA node of platform GPU ID 0, defaulting to 0. Your kernel may not have been built with NUMA support.\n",
      "2022-05-09 20:17:56.745476: I tensorflow/core/common_runtime/pluggable_device/pluggable_device_factory.cc:271] Created TensorFlow device (/job:localhost/replica:0/task:0/device:GPU:0 with 0 MB memory) -> physical PluggableDevice (device: 0, name: METAL, pci bus id: <undefined>)\n"
     ]
    },
    {
     "name": "stdout",
     "output_type": "stream",
     "text": [
      "Metal device set to: Apple M1\n",
      "\n",
      "systemMemory: 8.00 GB\n",
      "maxCacheSize: 2.67 GB\n",
      "\n",
      "Model: \"sequential\"\n",
      "_________________________________________________________________\n",
      " Layer (type)                Output Shape              Param #   \n",
      "=================================================================\n",
      " lstm (LSTM)                 (None, 5, 64)             17152     \n",
      "                                                                 \n",
      " lstm_1 (LSTM)               (None, 32)                12416     \n",
      "                                                                 \n",
      " repeat_vector (RepeatVector  (None, 5, 32)            0         \n",
      " )                                                               \n",
      "                                                                 \n",
      " lstm_2 (LSTM)               (None, 5, 32)             8320      \n",
      "                                                                 \n",
      " lstm_3 (LSTM)               (None, 5, 64)             24832     \n",
      "                                                                 \n",
      " time_distributed (TimeDistr  (None, 5, 2)             130       \n",
      " ibuted)                                                         \n",
      "                                                                 \n",
      "=================================================================\n",
      "Total params: 62,850\n",
      "Trainable params: 62,850\n",
      "Non-trainable params: 0\n",
      "_________________________________________________________________\n",
      "None\n",
      "Model: \"sequential_1\"\n",
      "_________________________________________________________________\n",
      " Layer (type)                Output Shape              Param #   \n",
      "=================================================================\n",
      " lstm_4 (LSTM)               (None, 5, 64)             17408     \n",
      "                                                                 \n",
      " lstm_5 (LSTM)               (None, 32)                12416     \n",
      "                                                                 \n",
      " repeat_vector_1 (RepeatVect  (None, 5, 32)            0         \n",
      " or)                                                             \n",
      "                                                                 \n",
      " lstm_6 (LSTM)               (None, 5, 32)             8320      \n",
      "                                                                 \n",
      " lstm_7 (LSTM)               (None, 5, 64)             24832     \n",
      "                                                                 \n",
      " time_distributed_1 (TimeDis  (None, 5, 3)             195       \n",
      " tributed)                                                       \n",
      "                                                                 \n",
      "=================================================================\n",
      "Total params: 63,171\n",
      "Trainable params: 63,171\n",
      "Non-trainable params: 0\n",
      "_________________________________________________________________\n",
      "None\n",
      "Model: \"sequential_2\"\n",
      "_________________________________________________________________\n",
      " Layer (type)                Output Shape              Param #   \n",
      "=================================================================\n",
      " lstm_8 (LSTM)               (None, 5, 64)             17408     \n",
      "                                                                 \n",
      " lstm_9 (LSTM)               (None, 32)                12416     \n",
      "                                                                 \n",
      " repeat_vector_2 (RepeatVect  (None, 5, 32)            0         \n",
      " or)                                                             \n",
      "                                                                 \n",
      " lstm_10 (LSTM)              (None, 5, 32)             8320      \n",
      "                                                                 \n",
      " lstm_11 (LSTM)              (None, 5, 64)             24832     \n",
      "                                                                 \n",
      " time_distributed_2 (TimeDis  (None, 5, 3)             195       \n",
      " tributed)                                                       \n",
      "                                                                 \n",
      "=================================================================\n",
      "Total params: 63,171\n",
      "Trainable params: 63,171\n",
      "Non-trainable params: 0\n",
      "_________________________________________________________________\n",
      "None\n",
      "Model: \"sequential_3\"\n",
      "_________________________________________________________________\n",
      " Layer (type)                Output Shape              Param #   \n",
      "=================================================================\n",
      " lstm_12 (LSTM)              (None, 5, 64)             17408     \n",
      "                                                                 \n",
      " lstm_13 (LSTM)              (None, 32)                12416     \n",
      "                                                                 \n",
      " repeat_vector_3 (RepeatVect  (None, 5, 32)            0         \n",
      " or)                                                             \n",
      "                                                                 \n",
      " lstm_14 (LSTM)              (None, 5, 32)             8320      \n",
      "                                                                 \n",
      " lstm_15 (LSTM)              (None, 5, 64)             24832     \n",
      "                                                                 \n",
      " time_distributed_3 (TimeDis  (None, 5, 3)             195       \n",
      " tributed)                                                       \n",
      "                                                                 \n",
      "=================================================================\n",
      "Total params: 63,171\n",
      "Trainable params: 63,171\n",
      "Non-trainable params: 0\n",
      "_________________________________________________________________\n",
      "None\n",
      "Model: \"sequential_4\"\n",
      "_________________________________________________________________\n",
      " Layer (type)                Output Shape              Param #   \n",
      "=================================================================\n",
      " lstm_16 (LSTM)              (None, 5, 64)             17408     \n",
      "                                                                 \n",
      " lstm_17 (LSTM)              (None, 32)                12416     \n",
      "                                                                 \n",
      " repeat_vector_4 (RepeatVect  (None, 5, 32)            0         \n",
      " or)                                                             \n",
      "                                                                 \n",
      " lstm_18 (LSTM)              (None, 5, 32)             8320      \n",
      "                                                                 \n",
      " lstm_19 (LSTM)              (None, 5, 64)             24832     \n",
      "                                                                 \n",
      " time_distributed_4 (TimeDis  (None, 5, 3)             195       \n",
      " tributed)                                                       \n",
      "                                                                 \n",
      "=================================================================\n",
      "Total params: 63,171\n",
      "Trainable params: 63,171\n",
      "Non-trainable params: 0\n",
      "_________________________________________________________________\n",
      "None\n",
      "Model: \"sequential_5\"\n",
      "_________________________________________________________________\n",
      " Layer (type)                Output Shape              Param #   \n",
      "=================================================================\n",
      " lstm_20 (LSTM)              (None, 5, 64)             17408     \n",
      "                                                                 \n",
      " lstm_21 (LSTM)              (None, 32)                12416     \n",
      "                                                                 \n",
      " repeat_vector_5 (RepeatVect  (None, 5, 32)            0         \n",
      " or)                                                             \n",
      "                                                                 \n",
      " lstm_22 (LSTM)              (None, 5, 32)             8320      \n",
      "                                                                 \n",
      " lstm_23 (LSTM)              (None, 5, 64)             24832     \n",
      "                                                                 \n",
      " time_distributed_5 (TimeDis  (None, 5, 3)             195       \n",
      " tributed)                                                       \n",
      "                                                                 \n",
      "=================================================================\n",
      "Total params: 63,171\n",
      "Trainable params: 63,171\n",
      "Non-trainable params: 0\n",
      "_________________________________________________________________\n",
      "None\n",
      "Model: \"sequential_6\"\n",
      "_________________________________________________________________\n",
      " Layer (type)                Output Shape              Param #   \n",
      "=================================================================\n",
      " lstm_24 (LSTM)              (None, 5, 64)             17408     \n",
      "                                                                 \n",
      " lstm_25 (LSTM)              (None, 32)                12416     \n",
      "                                                                 \n",
      " repeat_vector_6 (RepeatVect  (None, 5, 32)            0         \n",
      " or)                                                             \n",
      "                                                                 \n",
      " lstm_26 (LSTM)              (None, 5, 32)             8320      \n",
      "                                                                 \n",
      " lstm_27 (LSTM)              (None, 5, 64)             24832     \n",
      "                                                                 \n",
      " time_distributed_6 (TimeDis  (None, 5, 3)             195       \n",
      " tributed)                                                       \n",
      "                                                                 \n",
      "=================================================================\n",
      "Total params: 63,171\n",
      "Trainable params: 63,171\n",
      "Non-trainable params: 0\n",
      "_________________________________________________________________\n",
      "None\n",
      "Model: \"sequential_7\"\n",
      "_________________________________________________________________\n",
      " Layer (type)                Output Shape              Param #   \n",
      "=================================================================\n",
      " lstm_28 (LSTM)              (None, 5, 64)             17408     \n",
      "                                                                 \n",
      " lstm_29 (LSTM)              (None, 32)                12416     \n",
      "                                                                 \n",
      " repeat_vector_7 (RepeatVect  (None, 5, 32)            0         \n",
      " or)                                                             \n",
      "                                                                 \n",
      " lstm_30 (LSTM)              (None, 5, 32)             8320      \n",
      "                                                                 \n",
      " lstm_31 (LSTM)              (None, 5, 64)             24832     \n",
      "                                                                 \n",
      " time_distributed_7 (TimeDis  (None, 5, 3)             195       \n",
      " tributed)                                                       \n",
      "                                                                 \n",
      "=================================================================\n",
      "Total params: 63,171\n",
      "Trainable params: 63,171\n",
      "Non-trainable params: 0\n",
      "_________________________________________________________________\n",
      "None\n",
      "Model: \"sequential_8\"\n",
      "_________________________________________________________________\n",
      " Layer (type)                Output Shape              Param #   \n",
      "=================================================================\n",
      " lstm_32 (LSTM)              (None, 5, 64)             17408     \n",
      "                                                                 \n",
      " lstm_33 (LSTM)              (None, 32)                12416     \n",
      "                                                                 \n",
      " repeat_vector_8 (RepeatVect  (None, 5, 32)            0         \n",
      " or)                                                             \n",
      "                                                                 \n",
      " lstm_34 (LSTM)              (None, 5, 32)             8320      \n",
      "                                                                 \n",
      " lstm_35 (LSTM)              (None, 5, 64)             24832     \n",
      "                                                                 \n",
      " time_distributed_8 (TimeDis  (None, 5, 3)             195       \n",
      " tributed)                                                       \n",
      "                                                                 \n",
      "=================================================================\n",
      "Total params: 63,171\n",
      "Trainable params: 63,171\n",
      "Non-trainable params: 0\n",
      "_________________________________________________________________\n",
      "None\n",
      "Model: \"sequential_9\"\n",
      "_________________________________________________________________\n",
      " Layer (type)                Output Shape              Param #   \n",
      "=================================================================\n",
      " lstm_36 (LSTM)              (None, 5, 64)             17408     \n",
      "                                                                 \n",
      " lstm_37 (LSTM)              (None, 32)                12416     \n",
      "                                                                 \n",
      " repeat_vector_9 (RepeatVect  (None, 5, 32)            0         \n",
      " or)                                                             \n",
      "                                                                 \n",
      " lstm_38 (LSTM)              (None, 5, 32)             8320      \n",
      "                                                                 \n",
      " lstm_39 (LSTM)              (None, 5, 64)             24832     \n",
      "                                                                 \n",
      " time_distributed_9 (TimeDis  (None, 5, 3)             195       \n",
      " tributed)                                                       \n",
      "                                                                 \n",
      "=================================================================\n",
      "Total params: 63,171\n",
      "Trainable params: 63,171\n",
      "Non-trainable params: 0\n",
      "_________________________________________________________________\n",
      "None\n",
      "Model: \"sequential_10\"\n",
      "_________________________________________________________________\n",
      " Layer (type)                Output Shape              Param #   \n",
      "=================================================================\n",
      " lstm_40 (LSTM)              (None, 5, 64)             16896     \n",
      "                                                                 \n",
      " lstm_41 (LSTM)              (None, 32)                12416     \n",
      "                                                                 \n",
      " repeat_vector_10 (RepeatVec  (None, 5, 32)            0         \n",
      " tor)                                                            \n",
      "                                                                 \n",
      " lstm_42 (LSTM)              (None, 5, 32)             8320      \n",
      "                                                                 \n",
      " lstm_43 (LSTM)              (None, 5, 64)             24832     \n",
      "                                                                 \n",
      " time_distributed_10 (TimeDi  (None, 5, 1)             65        \n",
      " stributed)                                                      \n",
      "                                                                 \n",
      "=================================================================\n",
      "Total params: 62,529\n",
      "Trainable params: 62,529\n",
      "Non-trainable params: 0\n",
      "_________________________________________________________________\n",
      "None\n",
      "Model: \"sequential_11\"\n",
      "_________________________________________________________________\n",
      " Layer (type)                Output Shape              Param #   \n",
      "=================================================================\n",
      " lstm_44 (LSTM)              (None, 5, 64)             16896     \n",
      "                                                                 \n",
      " lstm_45 (LSTM)              (None, 32)                12416     \n",
      "                                                                 \n",
      " repeat_vector_11 (RepeatVec  (None, 5, 32)            0         \n",
      " tor)                                                            \n",
      "                                                                 \n",
      " lstm_46 (LSTM)              (None, 5, 32)             8320      \n",
      "                                                                 \n",
      " lstm_47 (LSTM)              (None, 5, 64)             24832     \n",
      "                                                                 \n",
      " time_distributed_11 (TimeDi  (None, 5, 1)             65        \n",
      " stributed)                                                      \n",
      "                                                                 \n",
      "=================================================================\n",
      "Total params: 62,529\n",
      "Trainable params: 62,529\n",
      "Non-trainable params: 0\n",
      "_________________________________________________________________\n",
      "None\n",
      "Model: \"sequential_12\"\n",
      "_________________________________________________________________\n",
      " Layer (type)                Output Shape              Param #   \n",
      "=================================================================\n",
      " lstm_48 (LSTM)              (None, 5, 64)             16896     \n",
      "                                                                 \n",
      " lstm_49 (LSTM)              (None, 32)                12416     \n",
      "                                                                 \n",
      " repeat_vector_12 (RepeatVec  (None, 5, 32)            0         \n",
      " tor)                                                            \n",
      "                                                                 \n",
      " lstm_50 (LSTM)              (None, 5, 32)             8320      \n",
      "                                                                 \n",
      " lstm_51 (LSTM)              (None, 5, 64)             24832     \n",
      "                                                                 \n",
      " time_distributed_12 (TimeDi  (None, 5, 1)             65        \n",
      " stributed)                                                      \n",
      "                                                                 \n",
      "=================================================================\n",
      "Total params: 62,529\n",
      "Trainable params: 62,529\n",
      "Non-trainable params: 0\n",
      "_________________________________________________________________\n",
      "None\n"
     ]
    }
   ],
   "source": [
    "for i in range(13):\n",
    "    globals()[f'lstm_ae{i + 1}'] = lstm_autoencoder(i)"
   ]
  },
  {
   "cell_type": "code",
   "execution_count": 17,
   "id": "8274653b-6b5e-4a57-95f8-1827354b0696",
   "metadata": {},
   "outputs": [],
   "source": [
    "epochs = 10\n",
    "batch_size = 128\n",
    "learning_rate = 0.001"
   ]
  },
  {
   "cell_type": "code",
   "execution_count": 18,
   "id": "ce6512b2-cc2f-4d3b-958f-180222d94082",
   "metadata": {},
   "outputs": [],
   "source": [
    "# compile\n",
    "\n",
    "for i in range(13):\n",
    "    globals()[f\"lstm_ae{i + 1}\"].compile(\n",
    "        loss=\"mse\", optimizer=optimizers.Adam(learning_rate)\n",
    "    )"
   ]
  },
  {
   "cell_type": "code",
   "execution_count": 19,
   "id": "3c509c6d-597c-4551-a24f-8a63307c6e71",
   "metadata": {
    "tags": []
   },
   "outputs": [
    {
     "name": "stdout",
     "output_type": "stream",
     "text": [
      "Epoch 1/10\n"
     ]
    },
    {
     "name": "stderr",
     "output_type": "stream",
     "text": [
      "2022-05-09 20:18:02.107414: W tensorflow/core/platform/profile_utils/cpu_utils.cc:128] Failed to get CPU frequency: 0 Hz\n",
      "2022-05-09 20:18:03.744424: I tensorflow/core/grappler/optimizers/custom_graph_optimizer_registry.cc:113] Plugin optimizer for device_type GPU is enabled.\n",
      "2022-05-09 20:18:04.180492: I tensorflow/core/grappler/optimizers/custom_graph_optimizer_registry.cc:113] Plugin optimizer for device_type GPU is enabled.\n",
      "2022-05-09 20:18:04.258169: I tensorflow/core/grappler/optimizers/custom_graph_optimizer_registry.cc:113] Plugin optimizer for device_type GPU is enabled.\n",
      "2022-05-09 20:18:04.305635: I tensorflow/core/grappler/optimizers/custom_graph_optimizer_registry.cc:113] Plugin optimizer for device_type GPU is enabled.\n",
      "2022-05-09 20:18:04.338657: I tensorflow/core/grappler/optimizers/custom_graph_optimizer_registry.cc:113] Plugin optimizer for device_type GPU is enabled.\n",
      "2022-05-09 20:18:04.438293: I tensorflow/core/grappler/optimizers/custom_graph_optimizer_registry.cc:113] Plugin optimizer for device_type GPU is enabled.\n",
      "2022-05-09 20:18:04.528711: I tensorflow/core/grappler/optimizers/custom_graph_optimizer_registry.cc:113] Plugin optimizer for device_type GPU is enabled.\n",
      "2022-05-09 20:18:04.614589: I tensorflow/core/grappler/optimizers/custom_graph_optimizer_registry.cc:113] Plugin optimizer for device_type GPU is enabled.\n"
     ]
    },
    {
     "name": "stdout",
     "output_type": "stream",
     "text": [
      "   5/1179 [..............................] - ETA: 30s - loss: 0.4582"
     ]
    },
    {
     "name": "stderr",
     "output_type": "stream",
     "text": [
      "2022-05-09 20:18:04.680226: I tensorflow/core/grappler/optimizers/custom_graph_optimizer_registry.cc:113] Plugin optimizer for device_type GPU is enabled.\n"
     ]
    },
    {
     "name": "stdout",
     "output_type": "stream",
     "text": [
      "1179/1179 [==============================] - ETA: 0s - loss: 0.0279"
     ]
    },
    {
     "name": "stderr",
     "output_type": "stream",
     "text": [
      "2022-05-09 20:18:30.611740: I tensorflow/core/grappler/optimizers/custom_graph_optimizer_registry.cc:113] Plugin optimizer for device_type GPU is enabled.\n",
      "2022-05-09 20:18:30.781230: I tensorflow/core/grappler/optimizers/custom_graph_optimizer_registry.cc:113] Plugin optimizer for device_type GPU is enabled.\n",
      "2022-05-09 20:18:30.833622: I tensorflow/core/grappler/optimizers/custom_graph_optimizer_registry.cc:113] Plugin optimizer for device_type GPU is enabled.\n",
      "2022-05-09 20:18:30.891712: I tensorflow/core/grappler/optimizers/custom_graph_optimizer_registry.cc:113] Plugin optimizer for device_type GPU is enabled.\n",
      "2022-05-09 20:18:30.927609: I tensorflow/core/grappler/optimizers/custom_graph_optimizer_registry.cc:113] Plugin optimizer for device_type GPU is enabled.\n"
     ]
    },
    {
     "name": "stdout",
     "output_type": "stream",
     "text": [
      "1179/1179 [==============================] - 32s 25ms/step - loss: 0.0279 - val_loss: 0.0121\n",
      "Epoch 2/10\n",
      "1179/1179 [==============================] - 28s 24ms/step - loss: 0.0095 - val_loss: 0.0075\n",
      "Epoch 3/10\n",
      "1179/1179 [==============================] - 33s 28ms/step - loss: 0.0053 - val_loss: 0.0037\n",
      "Epoch 4/10\n",
      "1179/1179 [==============================] - 33s 28ms/step - loss: 0.0017 - val_loss: 2.8729e-04\n",
      "Epoch 5/10\n",
      "1179/1179 [==============================] - 29s 25ms/step - loss: 2.1553e-04 - val_loss: 2.2653e-04\n",
      "Epoch 6/10\n",
      "1179/1179 [==============================] - 29s 24ms/step - loss: 1.5082e-04 - val_loss: 1.0816e-04\n",
      "Epoch 7/10\n",
      "1179/1179 [==============================] - 26s 22ms/step - loss: 1.2848e-04 - val_loss: 6.8251e-05\n",
      "Epoch 8/10\n",
      "1179/1179 [==============================] - 31s 26ms/step - loss: 1.0578e-04 - val_loss: 1.0336e-04\n",
      "Epoch 9/10\n",
      "1179/1179 [==============================] - 29s 25ms/step - loss: 9.4645e-05 - val_loss: 1.6959e-04\n",
      "Epoch 1/10\n"
     ]
    },
    {
     "name": "stderr",
     "output_type": "stream",
     "text": [
      "2022-05-09 20:22:33.868023: I tensorflow/core/grappler/optimizers/custom_graph_optimizer_registry.cc:113] Plugin optimizer for device_type GPU is enabled.\n",
      "2022-05-09 20:22:34.531711: I tensorflow/core/grappler/optimizers/custom_graph_optimizer_registry.cc:113] Plugin optimizer for device_type GPU is enabled.\n",
      "2022-05-09 20:22:34.581156: I tensorflow/core/grappler/optimizers/custom_graph_optimizer_registry.cc:113] Plugin optimizer for device_type GPU is enabled.\n",
      "2022-05-09 20:22:34.661589: I tensorflow/core/grappler/optimizers/custom_graph_optimizer_registry.cc:113] Plugin optimizer for device_type GPU is enabled.\n",
      "2022-05-09 20:22:34.704748: I tensorflow/core/grappler/optimizers/custom_graph_optimizer_registry.cc:113] Plugin optimizer for device_type GPU is enabled.\n",
      "2022-05-09 20:22:34.813036: I tensorflow/core/grappler/optimizers/custom_graph_optimizer_registry.cc:113] Plugin optimizer for device_type GPU is enabled.\n",
      "2022-05-09 20:22:34.880395: I tensorflow/core/grappler/optimizers/custom_graph_optimizer_registry.cc:113] Plugin optimizer for device_type GPU is enabled.\n",
      "2022-05-09 20:22:34.960320: I tensorflow/core/grappler/optimizers/custom_graph_optimizer_registry.cc:113] Plugin optimizer for device_type GPU is enabled.\n"
     ]
    },
    {
     "name": "stdout",
     "output_type": "stream",
     "text": [
      "   3/1067 [..............................] - ETA: 35s - loss: 0.5821  "
     ]
    },
    {
     "name": "stderr",
     "output_type": "stream",
     "text": [
      "2022-05-09 20:22:35.022682: I tensorflow/core/grappler/optimizers/custom_graph_optimizer_registry.cc:113] Plugin optimizer for device_type GPU is enabled.\n"
     ]
    },
    {
     "name": "stdout",
     "output_type": "stream",
     "text": [
      "1067/1067 [==============================] - ETA: 0s - loss: 0.0348"
     ]
    },
    {
     "name": "stderr",
     "output_type": "stream",
     "text": [
      "2022-05-09 20:22:58.505638: I tensorflow/core/grappler/optimizers/custom_graph_optimizer_registry.cc:113] Plugin optimizer for device_type GPU is enabled.\n",
      "2022-05-09 20:22:58.698037: I tensorflow/core/grappler/optimizers/custom_graph_optimizer_registry.cc:113] Plugin optimizer for device_type GPU is enabled.\n",
      "2022-05-09 20:22:58.751614: I tensorflow/core/grappler/optimizers/custom_graph_optimizer_registry.cc:113] Plugin optimizer for device_type GPU is enabled.\n",
      "2022-05-09 20:22:58.795146: I tensorflow/core/grappler/optimizers/custom_graph_optimizer_registry.cc:113] Plugin optimizer for device_type GPU is enabled.\n",
      "2022-05-09 20:22:58.852022: I tensorflow/core/grappler/optimizers/custom_graph_optimizer_registry.cc:113] Plugin optimizer for device_type GPU is enabled.\n"
     ]
    },
    {
     "name": "stdout",
     "output_type": "stream",
     "text": [
      "1067/1067 [==============================] - 29s 25ms/step - loss: 0.0348 - val_loss: 0.0109\n",
      "Epoch 2/10\n",
      "1067/1067 [==============================] - 26s 24ms/step - loss: 0.0097 - val_loss: 0.0084\n",
      "Epoch 3/10\n",
      "1067/1067 [==============================] - 25s 23ms/step - loss: 0.0071 - val_loss: 0.0065\n",
      "Epoch 4/10\n",
      "1067/1067 [==============================] - 27s 25ms/step - loss: 0.0061 - val_loss: 0.0055\n",
      "Epoch 5/10\n",
      "1067/1067 [==============================] - 26s 24ms/step - loss: 0.0040 - val_loss: 0.0034\n",
      "Epoch 6/10\n",
      "1067/1067 [==============================] - 24s 23ms/step - loss: 0.0023 - val_loss: 0.0012\n",
      "Epoch 7/10\n",
      "1067/1067 [==============================] - 25s 24ms/step - loss: 0.0010 - val_loss: 0.0011\n",
      "Epoch 8/10\n",
      "1067/1067 [==============================] - 24s 23ms/step - loss: 9.1626e-04 - val_loss: 0.0012\n",
      "Epoch 9/10\n",
      "1067/1067 [==============================] - 25s 23ms/step - loss: 8.7029e-04 - val_loss: 9.3361e-04\n",
      "Epoch 10/10\n",
      "1067/1067 [==============================] - 25s 24ms/step - loss: 8.4277e-04 - val_loss: 9.1369e-04\n",
      "Epoch 1/10\n"
     ]
    },
    {
     "name": "stderr",
     "output_type": "stream",
     "text": [
      "2022-05-09 20:26:49.888156: I tensorflow/core/grappler/optimizers/custom_graph_optimizer_registry.cc:113] Plugin optimizer for device_type GPU is enabled.\n",
      "2022-05-09 20:26:50.407778: I tensorflow/core/grappler/optimizers/custom_graph_optimizer_registry.cc:113] Plugin optimizer for device_type GPU is enabled.\n",
      "2022-05-09 20:26:50.482547: I tensorflow/core/grappler/optimizers/custom_graph_optimizer_registry.cc:113] Plugin optimizer for device_type GPU is enabled.\n",
      "2022-05-09 20:26:50.554731: I tensorflow/core/grappler/optimizers/custom_graph_optimizer_registry.cc:113] Plugin optimizer for device_type GPU is enabled.\n",
      "2022-05-09 20:26:50.601869: I tensorflow/core/grappler/optimizers/custom_graph_optimizer_registry.cc:113] Plugin optimizer for device_type GPU is enabled.\n",
      "2022-05-09 20:26:50.675995: I tensorflow/core/grappler/optimizers/custom_graph_optimizer_registry.cc:113] Plugin optimizer for device_type GPU is enabled.\n",
      "2022-05-09 20:26:50.758808: I tensorflow/core/grappler/optimizers/custom_graph_optimizer_registry.cc:113] Plugin optimizer for device_type GPU is enabled.\n",
      "2022-05-09 20:26:50.844171: I tensorflow/core/grappler/optimizers/custom_graph_optimizer_registry.cc:113] Plugin optimizer for device_type GPU is enabled.\n"
     ]
    },
    {
     "name": "stdout",
     "output_type": "stream",
     "text": [
      "   3/1068 [..............................] - ETA: 30s - loss: 0.5518  "
     ]
    },
    {
     "name": "stderr",
     "output_type": "stream",
     "text": [
      "2022-05-09 20:26:50.905078: I tensorflow/core/grappler/optimizers/custom_graph_optimizer_registry.cc:113] Plugin optimizer for device_type GPU is enabled.\n"
     ]
    },
    {
     "name": "stdout",
     "output_type": "stream",
     "text": [
      "1068/1068 [==============================] - ETA: 0s - loss: 0.0351"
     ]
    },
    {
     "name": "stderr",
     "output_type": "stream",
     "text": [
      "2022-05-09 20:27:15.678874: I tensorflow/core/grappler/optimizers/custom_graph_optimizer_registry.cc:113] Plugin optimizer for device_type GPU is enabled.\n",
      "2022-05-09 20:27:15.826574: I tensorflow/core/grappler/optimizers/custom_graph_optimizer_registry.cc:113] Plugin optimizer for device_type GPU is enabled.\n",
      "2022-05-09 20:27:15.861657: I tensorflow/core/grappler/optimizers/custom_graph_optimizer_registry.cc:113] Plugin optimizer for device_type GPU is enabled.\n",
      "2022-05-09 20:27:15.908997: I tensorflow/core/grappler/optimizers/custom_graph_optimizer_registry.cc:113] Plugin optimizer for device_type GPU is enabled.\n",
      "2022-05-09 20:27:15.953710: I tensorflow/core/grappler/optimizers/custom_graph_optimizer_registry.cc:113] Plugin optimizer for device_type GPU is enabled.\n"
     ]
    },
    {
     "name": "stdout",
     "output_type": "stream",
     "text": [
      "1068/1068 [==============================] - 30s 25ms/step - loss: 0.0351 - val_loss: 0.0119\n",
      "Epoch 2/10\n",
      "1068/1068 [==============================] - 25s 23ms/step - loss: 0.0102 - val_loss: 0.0093\n",
      "Epoch 3/10\n",
      "1068/1068 [==============================] - 25s 23ms/step - loss: 0.0077 - val_loss: 0.0069\n",
      "Epoch 4/10\n",
      "1068/1068 [==============================] - 25s 24ms/step - loss: 0.0064 - val_loss: 0.0069\n",
      "Epoch 5/10\n",
      "1068/1068 [==============================] - 25s 23ms/step - loss: 0.0057 - val_loss: 0.0048\n",
      "Epoch 6/10\n",
      "1068/1068 [==============================] - 25s 23ms/step - loss: 0.0029 - val_loss: 0.0021\n",
      "Epoch 7/10\n",
      "1068/1068 [==============================] - 25s 24ms/step - loss: 0.0012 - val_loss: 0.0011\n",
      "Epoch 8/10\n",
      "1068/1068 [==============================] - 25s 24ms/step - loss: 9.7002e-04 - val_loss: 9.8518e-04\n",
      "Epoch 9/10\n",
      "1068/1068 [==============================] - 25s 24ms/step - loss: 8.9704e-04 - val_loss: 9.1404e-04\n",
      "Epoch 10/10\n",
      "1068/1068 [==============================] - 28s 26ms/step - loss: 8.6950e-04 - val_loss: 8.0146e-04\n",
      "Epoch 1/10\n"
     ]
    },
    {
     "name": "stderr",
     "output_type": "stream",
     "text": [
      "2022-05-09 20:31:09.016846: I tensorflow/core/grappler/optimizers/custom_graph_optimizer_registry.cc:113] Plugin optimizer for device_type GPU is enabled.\n",
      "2022-05-09 20:31:09.930888: I tensorflow/core/grappler/optimizers/custom_graph_optimizer_registry.cc:113] Plugin optimizer for device_type GPU is enabled.\n",
      "2022-05-09 20:31:09.992480: I tensorflow/core/grappler/optimizers/custom_graph_optimizer_registry.cc:113] Plugin optimizer for device_type GPU is enabled.\n",
      "2022-05-09 20:31:10.053689: I tensorflow/core/grappler/optimizers/custom_graph_optimizer_registry.cc:113] Plugin optimizer for device_type GPU is enabled.\n",
      "2022-05-09 20:31:10.104284: I tensorflow/core/grappler/optimizers/custom_graph_optimizer_registry.cc:113] Plugin optimizer for device_type GPU is enabled.\n",
      "2022-05-09 20:31:10.180609: I tensorflow/core/grappler/optimizers/custom_graph_optimizer_registry.cc:113] Plugin optimizer for device_type GPU is enabled.\n",
      "2022-05-09 20:31:10.390440: I tensorflow/core/grappler/optimizers/custom_graph_optimizer_registry.cc:113] Plugin optimizer for device_type GPU is enabled.\n",
      "2022-05-09 20:31:10.516645: I tensorflow/core/grappler/optimizers/custom_graph_optimizer_registry.cc:113] Plugin optimizer for device_type GPU is enabled.\n"
     ]
    },
    {
     "name": "stdout",
     "output_type": "stream",
     "text": [
      "   3/1068 [..............................] - ETA: 39s - loss: 0.5407    "
     ]
    },
    {
     "name": "stderr",
     "output_type": "stream",
     "text": [
      "2022-05-09 20:31:10.597192: I tensorflow/core/grappler/optimizers/custom_graph_optimizer_registry.cc:113] Plugin optimizer for device_type GPU is enabled.\n"
     ]
    },
    {
     "name": "stdout",
     "output_type": "stream",
     "text": [
      "1068/1068 [==============================] - ETA: 0s - loss: 0.0348"
     ]
    },
    {
     "name": "stderr",
     "output_type": "stream",
     "text": [
      "2022-05-09 20:31:43.017216: I tensorflow/core/grappler/optimizers/custom_graph_optimizer_registry.cc:113] Plugin optimizer for device_type GPU is enabled.\n",
      "2022-05-09 20:31:43.185333: I tensorflow/core/grappler/optimizers/custom_graph_optimizer_registry.cc:113] Plugin optimizer for device_type GPU is enabled.\n",
      "2022-05-09 20:31:43.226315: I tensorflow/core/grappler/optimizers/custom_graph_optimizer_registry.cc:113] Plugin optimizer for device_type GPU is enabled.\n",
      "2022-05-09 20:31:43.283084: I tensorflow/core/grappler/optimizers/custom_graph_optimizer_registry.cc:113] Plugin optimizer for device_type GPU is enabled.\n",
      "2022-05-09 20:31:43.339248: I tensorflow/core/grappler/optimizers/custom_graph_optimizer_registry.cc:113] Plugin optimizer for device_type GPU is enabled.\n"
     ]
    },
    {
     "name": "stdout",
     "output_type": "stream",
     "text": [
      "1068/1068 [==============================] - 39s 33ms/step - loss: 0.0348 - val_loss: 0.0109\n",
      "Epoch 2/10\n",
      "1068/1068 [==============================] - 27s 25ms/step - loss: 0.0097 - val_loss: 0.0082\n",
      "Epoch 3/10\n",
      "1068/1068 [==============================] - 24s 23ms/step - loss: 0.0071 - val_loss: 0.0064\n",
      "Epoch 4/10\n",
      "1068/1068 [==============================] - 24s 23ms/step - loss: 0.0063 - val_loss: 0.0059\n",
      "Epoch 5/10\n",
      "1068/1068 [==============================] - 24s 23ms/step - loss: 0.0047 - val_loss: 0.0036\n",
      "Epoch 6/10\n",
      "1068/1068 [==============================] - 24s 23ms/step - loss: 0.0028 - val_loss: 0.0015\n",
      "Epoch 7/10\n",
      "1068/1068 [==============================] - 25s 23ms/step - loss: 0.0012 - val_loss: 0.0010\n",
      "Epoch 8/10\n",
      "1068/1068 [==============================] - 25s 24ms/step - loss: 9.9888e-04 - val_loss: 8.4590e-04\n",
      "Epoch 9/10\n",
      "1068/1068 [==============================] - 25s 23ms/step - loss: 9.2292e-04 - val_loss: 7.9619e-04\n",
      "Epoch 10/10\n",
      "1068/1068 [==============================] - 23s 22ms/step - loss: 8.9390e-04 - val_loss: 8.3952e-04\n",
      "Epoch 1/10\n"
     ]
    },
    {
     "name": "stderr",
     "output_type": "stream",
     "text": [
      "2022-05-09 20:35:31.264200: I tensorflow/core/grappler/optimizers/custom_graph_optimizer_registry.cc:113] Plugin optimizer for device_type GPU is enabled.\n",
      "2022-05-09 20:35:31.929600: I tensorflow/core/grappler/optimizers/custom_graph_optimizer_registry.cc:113] Plugin optimizer for device_type GPU is enabled.\n",
      "2022-05-09 20:35:32.015850: I tensorflow/core/grappler/optimizers/custom_graph_optimizer_registry.cc:113] Plugin optimizer for device_type GPU is enabled.\n",
      "2022-05-09 20:35:32.121000: I tensorflow/core/grappler/optimizers/custom_graph_optimizer_registry.cc:113] Plugin optimizer for device_type GPU is enabled.\n",
      "2022-05-09 20:35:32.243486: I tensorflow/core/grappler/optimizers/custom_graph_optimizer_registry.cc:113] Plugin optimizer for device_type GPU is enabled.\n",
      "2022-05-09 20:35:32.328614: I tensorflow/core/grappler/optimizers/custom_graph_optimizer_registry.cc:113] Plugin optimizer for device_type GPU is enabled.\n",
      "2022-05-09 20:35:32.502994: I tensorflow/core/grappler/optimizers/custom_graph_optimizer_registry.cc:113] Plugin optimizer for device_type GPU is enabled.\n",
      "2022-05-09 20:35:32.678022: I tensorflow/core/grappler/optimizers/custom_graph_optimizer_registry.cc:113] Plugin optimizer for device_type GPU is enabled.\n"
     ]
    },
    {
     "name": "stdout",
     "output_type": "stream",
     "text": [
      "   4/1068 [..............................] - ETA: 39s - loss: 0.5571  "
     ]
    },
    {
     "name": "stderr",
     "output_type": "stream",
     "text": [
      "2022-05-09 20:35:32.770206: I tensorflow/core/grappler/optimizers/custom_graph_optimizer_registry.cc:113] Plugin optimizer for device_type GPU is enabled.\n"
     ]
    },
    {
     "name": "stdout",
     "output_type": "stream",
     "text": [
      "1068/1068 [==============================] - ETA: 0s - loss: 0.0336"
     ]
    },
    {
     "name": "stderr",
     "output_type": "stream",
     "text": [
      "2022-05-09 20:35:54.893766: I tensorflow/core/grappler/optimizers/custom_graph_optimizer_registry.cc:113] Plugin optimizer for device_type GPU is enabled.\n",
      "2022-05-09 20:35:55.040076: I tensorflow/core/grappler/optimizers/custom_graph_optimizer_registry.cc:113] Plugin optimizer for device_type GPU is enabled.\n",
      "2022-05-09 20:35:55.089125: I tensorflow/core/grappler/optimizers/custom_graph_optimizer_registry.cc:113] Plugin optimizer for device_type GPU is enabled.\n",
      "2022-05-09 20:35:55.137116: I tensorflow/core/grappler/optimizers/custom_graph_optimizer_registry.cc:113] Plugin optimizer for device_type GPU is enabled.\n",
      "2022-05-09 20:35:55.183533: I tensorflow/core/grappler/optimizers/custom_graph_optimizer_registry.cc:113] Plugin optimizer for device_type GPU is enabled.\n"
     ]
    },
    {
     "name": "stdout",
     "output_type": "stream",
     "text": [
      "1068/1068 [==============================] - 31s 24ms/step - loss: 0.0336 - val_loss: 0.0109\n",
      "Epoch 2/10\n",
      "1068/1068 [==============================] - 26s 24ms/step - loss: 0.0093 - val_loss: 0.0073\n",
      "Epoch 3/10\n",
      "1068/1068 [==============================] - 24s 23ms/step - loss: 0.0065 - val_loss: 0.0062\n",
      "Epoch 4/10\n",
      "1068/1068 [==============================] - 27s 25ms/step - loss: 0.0051 - val_loss: 0.0041\n",
      "Epoch 5/10\n",
      "1068/1068 [==============================] - 24s 22ms/step - loss: 0.0037 - val_loss: 0.0033\n",
      "Epoch 6/10\n",
      "1068/1068 [==============================] - 22s 21ms/step - loss: 0.0028 - val_loss: 0.0018\n",
      "Epoch 7/10\n",
      "1068/1068 [==============================] - 22s 21ms/step - loss: 0.0013 - val_loss: 0.0011\n",
      "Epoch 8/10\n",
      "1068/1068 [==============================] - 22s 21ms/step - loss: 0.0010 - val_loss: 9.9951e-04\n",
      "Epoch 9/10\n",
      "1068/1068 [==============================] - 22s 21ms/step - loss: 9.2288e-04 - val_loss: 0.0010\n",
      "Epoch 10/10\n",
      "1068/1068 [==============================] - 22s 21ms/step - loss: 8.7201e-04 - val_loss: 8.6208e-04\n",
      "Epoch 1/10\n"
     ]
    },
    {
     "name": "stderr",
     "output_type": "stream",
     "text": [
      "2022-05-09 20:39:32.289777: I tensorflow/core/grappler/optimizers/custom_graph_optimizer_registry.cc:113] Plugin optimizer for device_type GPU is enabled.\n",
      "2022-05-09 20:39:32.777731: I tensorflow/core/grappler/optimizers/custom_graph_optimizer_registry.cc:113] Plugin optimizer for device_type GPU is enabled.\n",
      "2022-05-09 20:39:32.895300: I tensorflow/core/grappler/optimizers/custom_graph_optimizer_registry.cc:113] Plugin optimizer for device_type GPU is enabled.\n",
      "2022-05-09 20:39:32.963077: I tensorflow/core/grappler/optimizers/custom_graph_optimizer_registry.cc:113] Plugin optimizer for device_type GPU is enabled.\n",
      "2022-05-09 20:39:33.017907: I tensorflow/core/grappler/optimizers/custom_graph_optimizer_registry.cc:113] Plugin optimizer for device_type GPU is enabled.\n",
      "2022-05-09 20:39:33.100187: I tensorflow/core/grappler/optimizers/custom_graph_optimizer_registry.cc:113] Plugin optimizer for device_type GPU is enabled.\n",
      "2022-05-09 20:39:33.191058: I tensorflow/core/grappler/optimizers/custom_graph_optimizer_registry.cc:113] Plugin optimizer for device_type GPU is enabled.\n"
     ]
    },
    {
     "name": "stdout",
     "output_type": "stream",
     "text": [
      "   1/1067 [..............................] - ETA: 44:19 - loss: 0.6197"
     ]
    },
    {
     "name": "stderr",
     "output_type": "stream",
     "text": [
      "2022-05-09 20:39:33.287197: I tensorflow/core/grappler/optimizers/custom_graph_optimizer_registry.cc:113] Plugin optimizer for device_type GPU is enabled.\n",
      "2022-05-09 20:39:33.376437: I tensorflow/core/grappler/optimizers/custom_graph_optimizer_registry.cc:113] Plugin optimizer for device_type GPU is enabled.\n"
     ]
    },
    {
     "name": "stdout",
     "output_type": "stream",
     "text": [
      "1067/1067 [==============================] - ETA: 0s - loss: 0.0338"
     ]
    },
    {
     "name": "stderr",
     "output_type": "stream",
     "text": [
      "2022-05-09 20:39:54.224736: I tensorflow/core/grappler/optimizers/custom_graph_optimizer_registry.cc:113] Plugin optimizer for device_type GPU is enabled.\n",
      "2022-05-09 20:39:54.358761: I tensorflow/core/grappler/optimizers/custom_graph_optimizer_registry.cc:113] Plugin optimizer for device_type GPU is enabled.\n",
      "2022-05-09 20:39:54.402097: I tensorflow/core/grappler/optimizers/custom_graph_optimizer_registry.cc:113] Plugin optimizer for device_type GPU is enabled.\n",
      "2022-05-09 20:39:54.450210: I tensorflow/core/grappler/optimizers/custom_graph_optimizer_registry.cc:113] Plugin optimizer for device_type GPU is enabled.\n",
      "2022-05-09 20:39:54.502033: I tensorflow/core/grappler/optimizers/custom_graph_optimizer_registry.cc:113] Plugin optimizer for device_type GPU is enabled.\n"
     ]
    },
    {
     "name": "stdout",
     "output_type": "stream",
     "text": [
      "1067/1067 [==============================] - 26s 22ms/step - loss: 0.0338 - val_loss: 0.0111\n",
      "Epoch 2/10\n",
      "1067/1067 [==============================] - 22s 21ms/step - loss: 0.0097 - val_loss: 0.0090\n",
      "Epoch 3/10\n",
      "1067/1067 [==============================] - 23s 21ms/step - loss: 0.0070 - val_loss: 0.0064\n",
      "Epoch 4/10\n",
      "1067/1067 [==============================] - 23s 21ms/step - loss: 0.0062 - val_loss: 0.0055\n",
      "Epoch 5/10\n",
      "1067/1067 [==============================] - 24s 23ms/step - loss: 0.0044 - val_loss: 0.0036\n",
      "Epoch 6/10\n",
      "1067/1067 [==============================] - 25s 23ms/step - loss: 0.0027 - val_loss: 0.0017\n",
      "Epoch 7/10\n",
      "1067/1067 [==============================] - 25s 24ms/step - loss: 0.0013 - val_loss: 9.9901e-04\n",
      "Epoch 8/10\n",
      "1067/1067 [==============================] - 23s 22ms/step - loss: 9.7357e-04 - val_loss: 9.0530e-04\n",
      "Epoch 9/10\n",
      "1067/1067 [==============================] - 23s 22ms/step - loss: 8.8944e-04 - val_loss: 8.7691e-04\n",
      "Epoch 10/10\n",
      "1067/1067 [==============================] - 24s 23ms/step - loss: 8.4994e-04 - val_loss: 7.9511e-04\n",
      "Epoch 1/10\n"
     ]
    },
    {
     "name": "stderr",
     "output_type": "stream",
     "text": [
      "2022-05-09 20:43:32.140271: I tensorflow/core/grappler/optimizers/custom_graph_optimizer_registry.cc:113] Plugin optimizer for device_type GPU is enabled.\n",
      "2022-05-09 20:43:32.760622: I tensorflow/core/grappler/optimizers/custom_graph_optimizer_registry.cc:113] Plugin optimizer for device_type GPU is enabled.\n",
      "2022-05-09 20:43:32.860140: I tensorflow/core/grappler/optimizers/custom_graph_optimizer_registry.cc:113] Plugin optimizer for device_type GPU is enabled.\n",
      "2022-05-09 20:43:32.974577: I tensorflow/core/grappler/optimizers/custom_graph_optimizer_registry.cc:113] Plugin optimizer for device_type GPU is enabled.\n",
      "2022-05-09 20:43:33.062988: I tensorflow/core/grappler/optimizers/custom_graph_optimizer_registry.cc:113] Plugin optimizer for device_type GPU is enabled.\n",
      "2022-05-09 20:43:33.145671: I tensorflow/core/grappler/optimizers/custom_graph_optimizer_registry.cc:113] Plugin optimizer for device_type GPU is enabled.\n",
      "2022-05-09 20:43:33.241593: I tensorflow/core/grappler/optimizers/custom_graph_optimizer_registry.cc:113] Plugin optimizer for device_type GPU is enabled.\n",
      "2022-05-09 20:43:33.344413: I tensorflow/core/grappler/optimizers/custom_graph_optimizer_registry.cc:113] Plugin optimizer for device_type GPU is enabled.\n"
     ]
    },
    {
     "name": "stdout",
     "output_type": "stream",
     "text": [
      "   2/1239 [..............................] - ETA: 1:08 - loss: 0.4985   "
     ]
    },
    {
     "name": "stderr",
     "output_type": "stream",
     "text": [
      "2022-05-09 20:43:33.482736: I tensorflow/core/grappler/optimizers/custom_graph_optimizer_registry.cc:113] Plugin optimizer for device_type GPU is enabled.\n"
     ]
    },
    {
     "name": "stdout",
     "output_type": "stream",
     "text": [
      "1239/1239 [==============================] - ETA: 0s - loss: 0.0455"
     ]
    },
    {
     "name": "stderr",
     "output_type": "stream",
     "text": [
      "2022-05-09 20:43:58.993045: I tensorflow/core/grappler/optimizers/custom_graph_optimizer_registry.cc:113] Plugin optimizer for device_type GPU is enabled.\n",
      "2022-05-09 20:43:59.141831: I tensorflow/core/grappler/optimizers/custom_graph_optimizer_registry.cc:113] Plugin optimizer for device_type GPU is enabled.\n",
      "2022-05-09 20:43:59.211301: I tensorflow/core/grappler/optimizers/custom_graph_optimizer_registry.cc:113] Plugin optimizer for device_type GPU is enabled.\n",
      "2022-05-09 20:43:59.262267: I tensorflow/core/grappler/optimizers/custom_graph_optimizer_registry.cc:113] Plugin optimizer for device_type GPU is enabled.\n",
      "2022-05-09 20:43:59.328375: I tensorflow/core/grappler/optimizers/custom_graph_optimizer_registry.cc:113] Plugin optimizer for device_type GPU is enabled.\n"
     ]
    },
    {
     "name": "stdout",
     "output_type": "stream",
     "text": [
      "1239/1239 [==============================] - 32s 23ms/step - loss: 0.0455 - val_loss: 0.0220\n",
      "Epoch 2/10\n",
      "1239/1239 [==============================] - 26s 21ms/step - loss: 0.0172 - val_loss: 0.0120\n",
      "Epoch 3/10\n",
      "1239/1239 [==============================] - 26s 21ms/step - loss: 0.0072 - val_loss: 0.0042\n",
      "Epoch 4/10\n",
      "1239/1239 [==============================] - 27s 22ms/step - loss: 0.0036 - val_loss: 0.0034\n",
      "Epoch 5/10\n",
      "1239/1239 [==============================] - 28s 22ms/step - loss: 0.0034 - val_loss: 0.0032\n",
      "Epoch 6/10\n",
      "1239/1239 [==============================] - 27s 22ms/step - loss: 0.0028 - val_loss: 0.0024\n",
      "Epoch 7/10\n",
      "1239/1239 [==============================] - 26s 21ms/step - loss: 0.0019 - val_loss: 0.0019\n",
      "Epoch 8/10\n",
      "1239/1239 [==============================] - 28s 23ms/step - loss: 0.0018 - val_loss: 0.0019\n",
      "Epoch 9/10\n",
      "1239/1239 [==============================] - 27s 22ms/step - loss: 0.0016 - val_loss: 0.0011\n",
      "Epoch 10/10\n",
      "1239/1239 [==============================] - 26s 21ms/step - loss: 5.5250e-04 - val_loss: 3.0241e-04\n",
      "Epoch 1/10\n"
     ]
    },
    {
     "name": "stderr",
     "output_type": "stream",
     "text": [
      "2022-05-09 20:48:04.747677: I tensorflow/core/grappler/optimizers/custom_graph_optimizer_registry.cc:113] Plugin optimizer for device_type GPU is enabled.\n",
      "2022-05-09 20:48:05.347679: I tensorflow/core/grappler/optimizers/custom_graph_optimizer_registry.cc:113] Plugin optimizer for device_type GPU is enabled.\n",
      "2022-05-09 20:48:05.429510: I tensorflow/core/grappler/optimizers/custom_graph_optimizer_registry.cc:113] Plugin optimizer for device_type GPU is enabled.\n",
      "2022-05-09 20:48:05.540587: I tensorflow/core/grappler/optimizers/custom_graph_optimizer_registry.cc:113] Plugin optimizer for device_type GPU is enabled.\n",
      "2022-05-09 20:48:05.642766: I tensorflow/core/grappler/optimizers/custom_graph_optimizer_registry.cc:113] Plugin optimizer for device_type GPU is enabled.\n",
      "2022-05-09 20:48:05.772638: I tensorflow/core/grappler/optimizers/custom_graph_optimizer_registry.cc:113] Plugin optimizer for device_type GPU is enabled.\n",
      "2022-05-09 20:48:05.904240: I tensorflow/core/grappler/optimizers/custom_graph_optimizer_registry.cc:113] Plugin optimizer for device_type GPU is enabled.\n",
      "2022-05-09 20:48:06.055134: I tensorflow/core/grappler/optimizers/custom_graph_optimizer_registry.cc:113] Plugin optimizer for device_type GPU is enabled.\n"
     ]
    },
    {
     "name": "stdout",
     "output_type": "stream",
     "text": [
      "   2/1239 [..............................] - ETA: 1:12 - loss: 0.5420   "
     ]
    },
    {
     "name": "stderr",
     "output_type": "stream",
     "text": [
      "2022-05-09 20:48:06.148903: I tensorflow/core/grappler/optimizers/custom_graph_optimizer_registry.cc:113] Plugin optimizer for device_type GPU is enabled.\n"
     ]
    },
    {
     "name": "stdout",
     "output_type": "stream",
     "text": [
      "1239/1239 [==============================] - ETA: 0s - loss: 0.0476"
     ]
    },
    {
     "name": "stderr",
     "output_type": "stream",
     "text": [
      "2022-05-09 20:48:31.327061: I tensorflow/core/grappler/optimizers/custom_graph_optimizer_registry.cc:113] Plugin optimizer for device_type GPU is enabled.\n",
      "2022-05-09 20:48:31.463247: I tensorflow/core/grappler/optimizers/custom_graph_optimizer_registry.cc:113] Plugin optimizer for device_type GPU is enabled.\n",
      "2022-05-09 20:48:31.515318: I tensorflow/core/grappler/optimizers/custom_graph_optimizer_registry.cc:113] Plugin optimizer for device_type GPU is enabled.\n",
      "2022-05-09 20:48:31.565842: I tensorflow/core/grappler/optimizers/custom_graph_optimizer_registry.cc:113] Plugin optimizer for device_type GPU is enabled.\n",
      "2022-05-09 20:48:31.633506: I tensorflow/core/grappler/optimizers/custom_graph_optimizer_registry.cc:113] Plugin optimizer for device_type GPU is enabled.\n"
     ]
    },
    {
     "name": "stdout",
     "output_type": "stream",
     "text": [
      "1239/1239 [==============================] - 31s 23ms/step - loss: 0.0476 - val_loss: 0.0214\n",
      "Epoch 2/10\n",
      "1239/1239 [==============================] - 27s 22ms/step - loss: 0.0172 - val_loss: 0.0124\n",
      "Epoch 3/10\n",
      "1239/1239 [==============================] - 27s 22ms/step - loss: 0.0090 - val_loss: 0.0042\n",
      "Epoch 4/10\n",
      "1239/1239 [==============================] - 27s 22ms/step - loss: 0.0036 - val_loss: 0.0034\n",
      "Epoch 5/10\n",
      "1239/1239 [==============================] - 30s 24ms/step - loss: 0.0029 - val_loss: 0.0021\n",
      "Epoch 6/10\n",
      "1239/1239 [==============================] - 28s 23ms/step - loss: 0.0020 - val_loss: 0.0018\n",
      "Epoch 7/10\n",
      "1239/1239 [==============================] - 28s 22ms/step - loss: 0.0016 - val_loss: 0.0011\n",
      "Epoch 8/10\n",
      "1239/1239 [==============================] - 27s 22ms/step - loss: 6.0563e-04 - val_loss: 5.0941e-04\n",
      "Epoch 9/10\n",
      "1239/1239 [==============================] - 27s 22ms/step - loss: 2.9504e-04 - val_loss: 3.9706e-04\n",
      "Epoch 10/10\n",
      "1239/1239 [==============================] - 28s 22ms/step - loss: 2.2629e-04 - val_loss: 2.7890e-04\n",
      "Epoch 1/10\n"
     ]
    },
    {
     "name": "stderr",
     "output_type": "stream",
     "text": [
      "2022-05-09 20:52:46.124927: I tensorflow/core/grappler/optimizers/custom_graph_optimizer_registry.cc:113] Plugin optimizer for device_type GPU is enabled.\n",
      "2022-05-09 20:52:46.775757: I tensorflow/core/grappler/optimizers/custom_graph_optimizer_registry.cc:113] Plugin optimizer for device_type GPU is enabled.\n",
      "2022-05-09 20:52:46.899273: I tensorflow/core/grappler/optimizers/custom_graph_optimizer_registry.cc:113] Plugin optimizer for device_type GPU is enabled.\n",
      "2022-05-09 20:52:46.967171: I tensorflow/core/grappler/optimizers/custom_graph_optimizer_registry.cc:113] Plugin optimizer for device_type GPU is enabled.\n",
      "2022-05-09 20:52:47.036161: I tensorflow/core/grappler/optimizers/custom_graph_optimizer_registry.cc:113] Plugin optimizer for device_type GPU is enabled.\n",
      "2022-05-09 20:52:47.117733: I tensorflow/core/grappler/optimizers/custom_graph_optimizer_registry.cc:113] Plugin optimizer for device_type GPU is enabled.\n",
      "2022-05-09 20:52:47.255562: I tensorflow/core/grappler/optimizers/custom_graph_optimizer_registry.cc:113] Plugin optimizer for device_type GPU is enabled.\n",
      "2022-05-09 20:52:47.400519: I tensorflow/core/grappler/optimizers/custom_graph_optimizer_registry.cc:113] Plugin optimizer for device_type GPU is enabled.\n"
     ]
    },
    {
     "name": "stdout",
     "output_type": "stream",
     "text": [
      "   2/1239 [..............................] - ETA: 1:12 - loss: 0.5246   "
     ]
    },
    {
     "name": "stderr",
     "output_type": "stream",
     "text": [
      "2022-05-09 20:52:47.521826: I tensorflow/core/grappler/optimizers/custom_graph_optimizer_registry.cc:113] Plugin optimizer for device_type GPU is enabled.\n"
     ]
    },
    {
     "name": "stdout",
     "output_type": "stream",
     "text": [
      "1239/1239 [==============================] - ETA: 0s - loss: 0.0460"
     ]
    },
    {
     "name": "stderr",
     "output_type": "stream",
     "text": [
      "2022-05-09 20:53:12.164936: I tensorflow/core/grappler/optimizers/custom_graph_optimizer_registry.cc:113] Plugin optimizer for device_type GPU is enabled.\n",
      "2022-05-09 20:53:12.317509: I tensorflow/core/grappler/optimizers/custom_graph_optimizer_registry.cc:113] Plugin optimizer for device_type GPU is enabled.\n",
      "2022-05-09 20:53:12.370023: I tensorflow/core/grappler/optimizers/custom_graph_optimizer_registry.cc:113] Plugin optimizer for device_type GPU is enabled.\n",
      "2022-05-09 20:53:12.444869: I tensorflow/core/grappler/optimizers/custom_graph_optimizer_registry.cc:113] Plugin optimizer for device_type GPU is enabled.\n",
      "2022-05-09 20:53:12.485845: I tensorflow/core/grappler/optimizers/custom_graph_optimizer_registry.cc:113] Plugin optimizer for device_type GPU is enabled.\n"
     ]
    },
    {
     "name": "stdout",
     "output_type": "stream",
     "text": [
      "1239/1239 [==============================] - 31s 22ms/step - loss: 0.0460 - val_loss: 0.0251\n",
      "Epoch 2/10\n",
      "1239/1239 [==============================] - 26s 21ms/step - loss: 0.0183 - val_loss: 0.0133\n",
      "Epoch 3/10\n",
      "1239/1239 [==============================] - 26s 21ms/step - loss: 0.0098 - val_loss: 0.0044\n",
      "Epoch 4/10\n",
      "1239/1239 [==============================] - 26s 21ms/step - loss: 0.0038 - val_loss: 0.0034\n",
      "Epoch 5/10\n",
      "1239/1239 [==============================] - 26s 21ms/step - loss: 0.0034 - val_loss: 0.0032\n",
      "Epoch 6/10\n",
      "1239/1239 [==============================] - 26s 21ms/step - loss: 0.0023 - val_loss: 0.0020\n",
      "Epoch 7/10\n",
      "1239/1239 [==============================] - 27s 21ms/step - loss: 0.0017 - val_loss: 0.0010\n",
      "Epoch 8/10\n",
      "1124/1239 [==========================>...] - ETA: 2s - loss: 5.4236e-04"
     ]
    },
    {
     "ename": "KeyboardInterrupt",
     "evalue": "",
     "output_type": "error",
     "traceback": [
      "\u001b[0;31m---------------------------------------------------------------------------\u001b[0m",
      "\u001b[0;31mKeyboardInterrupt\u001b[0m                         Traceback (most recent call last)",
      "Input \u001b[0;32mIn [19]\u001b[0m, in \u001b[0;36m<cell line: 3>\u001b[0;34m()\u001b[0m\n\u001b[1;32m      1\u001b[0m \u001b[38;5;66;03m# fit\u001b[39;00m\n\u001b[1;32m      3\u001b[0m \u001b[38;5;28;01mfor\u001b[39;00m i \u001b[38;5;129;01min\u001b[39;00m \u001b[38;5;28mrange\u001b[39m(\u001b[38;5;241m13\u001b[39m):\n\u001b[0;32m----> 4\u001b[0m     history \u001b[38;5;241m=\u001b[39m \u001b[38;5;28;43mglobals\u001b[39;49m\u001b[43m(\u001b[49m\u001b[43m)\u001b[49m\u001b[43m[\u001b[49m\u001b[38;5;124;43mf\u001b[39;49m\u001b[38;5;124;43m\"\u001b[39;49m\u001b[38;5;124;43mlstm_ae\u001b[39;49m\u001b[38;5;132;43;01m{\u001b[39;49;00m\u001b[43mi\u001b[49m\u001b[43m \u001b[49m\u001b[38;5;241;43m+\u001b[39;49m\u001b[43m \u001b[49m\u001b[38;5;241;43m1\u001b[39;49m\u001b[38;5;132;43;01m}\u001b[39;49;00m\u001b[38;5;124;43m\"\u001b[39;49m\u001b[43m]\u001b[49m\u001b[38;5;241;43m.\u001b[39;49m\u001b[43mfit\u001b[49m\u001b[43m(\u001b[49m\n\u001b[1;32m      5\u001b[0m \u001b[43m        \u001b[49m\u001b[43mtrain_scaled\u001b[49m\u001b[43m[\u001b[49m\u001b[43mi\u001b[49m\u001b[43m]\u001b[49m\u001b[43m,\u001b[49m\n\u001b[1;32m      6\u001b[0m \u001b[43m        \u001b[49m\u001b[43mtrain_scaled\u001b[49m\u001b[43m[\u001b[49m\u001b[43mi\u001b[49m\u001b[43m]\u001b[49m\u001b[43m,\u001b[49m\n\u001b[1;32m      7\u001b[0m \u001b[43m        \u001b[49m\u001b[43mepochs\u001b[49m\u001b[38;5;241;43m=\u001b[39;49m\u001b[43mepochs\u001b[49m\u001b[43m,\u001b[49m\n\u001b[1;32m      8\u001b[0m \u001b[43m        \u001b[49m\u001b[43mbatch_size\u001b[49m\u001b[38;5;241;43m=\u001b[39;49m\u001b[43mbatch_size\u001b[49m\u001b[43m,\u001b[49m\n\u001b[1;32m      9\u001b[0m \u001b[43m        \u001b[49m\u001b[43mvalidation_data\u001b[49m\u001b[38;5;241;43m=\u001b[39;49m\u001b[43m(\u001b[49m\u001b[43mvalid_scaled\u001b[49m\u001b[43m[\u001b[49m\u001b[43mi\u001b[49m\u001b[43m]\u001b[49m\u001b[43m,\u001b[49m\u001b[43m \u001b[49m\u001b[43mvalid_scaled\u001b[49m\u001b[43m[\u001b[49m\u001b[43mi\u001b[49m\u001b[43m]\u001b[49m\u001b[43m)\u001b[49m\u001b[43m,\u001b[49m\n\u001b[1;32m     10\u001b[0m \u001b[43m        \u001b[49m\u001b[43mcallbacks\u001b[49m\u001b[38;5;241;43m=\u001b[39;49m\u001b[43m[\u001b[49m\u001b[43mtf\u001b[49m\u001b[38;5;241;43m.\u001b[39;49m\u001b[43mkeras\u001b[49m\u001b[38;5;241;43m.\u001b[39;49m\u001b[43mcallbacks\u001b[49m\u001b[38;5;241;43m.\u001b[39;49m\u001b[43mEarlyStopping\u001b[49m\u001b[43m(\u001b[49m\u001b[43mmonitor\u001b[49m\u001b[38;5;241;43m=\u001b[39;49m\u001b[38;5;124;43m\"\u001b[39;49m\u001b[38;5;124;43mval_loss\u001b[39;49m\u001b[38;5;124;43m\"\u001b[39;49m\u001b[43m,\u001b[49m\u001b[43m \u001b[49m\u001b[43mpatience\u001b[49m\u001b[38;5;241;43m=\u001b[39;49m\u001b[38;5;241;43m2\u001b[39;49m\u001b[43m)\u001b[49m\u001b[43m]\u001b[49m\u001b[43m,\u001b[49m\n\u001b[1;32m     11\u001b[0m \u001b[43m    \u001b[49m\u001b[43m)\u001b[49m\n",
      "File \u001b[0;32m/opt/homebrew/Caskroom/miniforge/base/envs/nehcream/lib/python3.8/site-packages/keras/utils/traceback_utils.py:64\u001b[0m, in \u001b[0;36mfilter_traceback.<locals>.error_handler\u001b[0;34m(*args, **kwargs)\u001b[0m\n\u001b[1;32m     62\u001b[0m filtered_tb \u001b[38;5;241m=\u001b[39m \u001b[38;5;28;01mNone\u001b[39;00m\n\u001b[1;32m     63\u001b[0m \u001b[38;5;28;01mtry\u001b[39;00m:\n\u001b[0;32m---> 64\u001b[0m   \u001b[38;5;28;01mreturn\u001b[39;00m \u001b[43mfn\u001b[49m\u001b[43m(\u001b[49m\u001b[38;5;241;43m*\u001b[39;49m\u001b[43margs\u001b[49m\u001b[43m,\u001b[49m\u001b[43m \u001b[49m\u001b[38;5;241;43m*\u001b[39;49m\u001b[38;5;241;43m*\u001b[39;49m\u001b[43mkwargs\u001b[49m\u001b[43m)\u001b[49m\n\u001b[1;32m     65\u001b[0m \u001b[38;5;28;01mexcept\u001b[39;00m \u001b[38;5;167;01mException\u001b[39;00m \u001b[38;5;28;01mas\u001b[39;00m e:  \u001b[38;5;66;03m# pylint: disable=broad-except\u001b[39;00m\n\u001b[1;32m     66\u001b[0m   filtered_tb \u001b[38;5;241m=\u001b[39m _process_traceback_frames(e\u001b[38;5;241m.\u001b[39m__traceback__)\n",
      "File \u001b[0;32m/opt/homebrew/Caskroom/miniforge/base/envs/nehcream/lib/python3.8/site-packages/keras/engine/training.py:1384\u001b[0m, in \u001b[0;36mModel.fit\u001b[0;34m(self, x, y, batch_size, epochs, verbose, callbacks, validation_split, validation_data, shuffle, class_weight, sample_weight, initial_epoch, steps_per_epoch, validation_steps, validation_batch_size, validation_freq, max_queue_size, workers, use_multiprocessing)\u001b[0m\n\u001b[1;32m   1377\u001b[0m \u001b[38;5;28;01mwith\u001b[39;00m tf\u001b[38;5;241m.\u001b[39mprofiler\u001b[38;5;241m.\u001b[39mexperimental\u001b[38;5;241m.\u001b[39mTrace(\n\u001b[1;32m   1378\u001b[0m     \u001b[38;5;124m'\u001b[39m\u001b[38;5;124mtrain\u001b[39m\u001b[38;5;124m'\u001b[39m,\n\u001b[1;32m   1379\u001b[0m     epoch_num\u001b[38;5;241m=\u001b[39mepoch,\n\u001b[1;32m   1380\u001b[0m     step_num\u001b[38;5;241m=\u001b[39mstep,\n\u001b[1;32m   1381\u001b[0m     batch_size\u001b[38;5;241m=\u001b[39mbatch_size,\n\u001b[1;32m   1382\u001b[0m     _r\u001b[38;5;241m=\u001b[39m\u001b[38;5;241m1\u001b[39m):\n\u001b[1;32m   1383\u001b[0m   callbacks\u001b[38;5;241m.\u001b[39mon_train_batch_begin(step)\n\u001b[0;32m-> 1384\u001b[0m   tmp_logs \u001b[38;5;241m=\u001b[39m \u001b[38;5;28;43mself\u001b[39;49m\u001b[38;5;241;43m.\u001b[39;49m\u001b[43mtrain_function\u001b[49m\u001b[43m(\u001b[49m\u001b[43miterator\u001b[49m\u001b[43m)\u001b[49m\n\u001b[1;32m   1385\u001b[0m   \u001b[38;5;28;01mif\u001b[39;00m data_handler\u001b[38;5;241m.\u001b[39mshould_sync:\n\u001b[1;32m   1386\u001b[0m     context\u001b[38;5;241m.\u001b[39masync_wait()\n",
      "File \u001b[0;32m/opt/homebrew/Caskroom/miniforge/base/envs/nehcream/lib/python3.8/site-packages/tensorflow/python/util/traceback_utils.py:150\u001b[0m, in \u001b[0;36mfilter_traceback.<locals>.error_handler\u001b[0;34m(*args, **kwargs)\u001b[0m\n\u001b[1;32m    148\u001b[0m filtered_tb \u001b[38;5;241m=\u001b[39m \u001b[38;5;28;01mNone\u001b[39;00m\n\u001b[1;32m    149\u001b[0m \u001b[38;5;28;01mtry\u001b[39;00m:\n\u001b[0;32m--> 150\u001b[0m   \u001b[38;5;28;01mreturn\u001b[39;00m \u001b[43mfn\u001b[49m\u001b[43m(\u001b[49m\u001b[38;5;241;43m*\u001b[39;49m\u001b[43margs\u001b[49m\u001b[43m,\u001b[49m\u001b[43m \u001b[49m\u001b[38;5;241;43m*\u001b[39;49m\u001b[38;5;241;43m*\u001b[39;49m\u001b[43mkwargs\u001b[49m\u001b[43m)\u001b[49m\n\u001b[1;32m    151\u001b[0m \u001b[38;5;28;01mexcept\u001b[39;00m \u001b[38;5;167;01mException\u001b[39;00m \u001b[38;5;28;01mas\u001b[39;00m e:\n\u001b[1;32m    152\u001b[0m   filtered_tb \u001b[38;5;241m=\u001b[39m _process_traceback_frames(e\u001b[38;5;241m.\u001b[39m__traceback__)\n",
      "File \u001b[0;32m/opt/homebrew/Caskroom/miniforge/base/envs/nehcream/lib/python3.8/site-packages/tensorflow/python/eager/def_function.py:915\u001b[0m, in \u001b[0;36mFunction.__call__\u001b[0;34m(self, *args, **kwds)\u001b[0m\n\u001b[1;32m    912\u001b[0m compiler \u001b[38;5;241m=\u001b[39m \u001b[38;5;124m\"\u001b[39m\u001b[38;5;124mxla\u001b[39m\u001b[38;5;124m\"\u001b[39m \u001b[38;5;28;01mif\u001b[39;00m \u001b[38;5;28mself\u001b[39m\u001b[38;5;241m.\u001b[39m_jit_compile \u001b[38;5;28;01melse\u001b[39;00m \u001b[38;5;124m\"\u001b[39m\u001b[38;5;124mnonXla\u001b[39m\u001b[38;5;124m\"\u001b[39m\n\u001b[1;32m    914\u001b[0m \u001b[38;5;28;01mwith\u001b[39;00m OptionalXlaContext(\u001b[38;5;28mself\u001b[39m\u001b[38;5;241m.\u001b[39m_jit_compile):\n\u001b[0;32m--> 915\u001b[0m   result \u001b[38;5;241m=\u001b[39m \u001b[38;5;28;43mself\u001b[39;49m\u001b[38;5;241;43m.\u001b[39;49m\u001b[43m_call\u001b[49m\u001b[43m(\u001b[49m\u001b[38;5;241;43m*\u001b[39;49m\u001b[43margs\u001b[49m\u001b[43m,\u001b[49m\u001b[43m \u001b[49m\u001b[38;5;241;43m*\u001b[39;49m\u001b[38;5;241;43m*\u001b[39;49m\u001b[43mkwds\u001b[49m\u001b[43m)\u001b[49m\n\u001b[1;32m    917\u001b[0m new_tracing_count \u001b[38;5;241m=\u001b[39m \u001b[38;5;28mself\u001b[39m\u001b[38;5;241m.\u001b[39mexperimental_get_tracing_count()\n\u001b[1;32m    918\u001b[0m without_tracing \u001b[38;5;241m=\u001b[39m (tracing_count \u001b[38;5;241m==\u001b[39m new_tracing_count)\n",
      "File \u001b[0;32m/opt/homebrew/Caskroom/miniforge/base/envs/nehcream/lib/python3.8/site-packages/tensorflow/python/eager/def_function.py:947\u001b[0m, in \u001b[0;36mFunction._call\u001b[0;34m(self, *args, **kwds)\u001b[0m\n\u001b[1;32m    944\u001b[0m   \u001b[38;5;28mself\u001b[39m\u001b[38;5;241m.\u001b[39m_lock\u001b[38;5;241m.\u001b[39mrelease()\n\u001b[1;32m    945\u001b[0m   \u001b[38;5;66;03m# In this case we have created variables on the first call, so we run the\u001b[39;00m\n\u001b[1;32m    946\u001b[0m   \u001b[38;5;66;03m# defunned version which is guaranteed to never create variables.\u001b[39;00m\n\u001b[0;32m--> 947\u001b[0m   \u001b[38;5;28;01mreturn\u001b[39;00m \u001b[38;5;28;43mself\u001b[39;49m\u001b[38;5;241;43m.\u001b[39;49m\u001b[43m_stateless_fn\u001b[49m\u001b[43m(\u001b[49m\u001b[38;5;241;43m*\u001b[39;49m\u001b[43margs\u001b[49m\u001b[43m,\u001b[49m\u001b[43m \u001b[49m\u001b[38;5;241;43m*\u001b[39;49m\u001b[38;5;241;43m*\u001b[39;49m\u001b[43mkwds\u001b[49m\u001b[43m)\u001b[49m  \u001b[38;5;66;03m# pylint: disable=not-callable\u001b[39;00m\n\u001b[1;32m    948\u001b[0m \u001b[38;5;28;01melif\u001b[39;00m \u001b[38;5;28mself\u001b[39m\u001b[38;5;241m.\u001b[39m_stateful_fn \u001b[38;5;129;01mis\u001b[39;00m \u001b[38;5;129;01mnot\u001b[39;00m \u001b[38;5;28;01mNone\u001b[39;00m:\n\u001b[1;32m    949\u001b[0m   \u001b[38;5;66;03m# Release the lock early so that multiple threads can perform the call\u001b[39;00m\n\u001b[1;32m    950\u001b[0m   \u001b[38;5;66;03m# in parallel.\u001b[39;00m\n\u001b[1;32m    951\u001b[0m   \u001b[38;5;28mself\u001b[39m\u001b[38;5;241m.\u001b[39m_lock\u001b[38;5;241m.\u001b[39mrelease()\n",
      "File \u001b[0;32m/opt/homebrew/Caskroom/miniforge/base/envs/nehcream/lib/python3.8/site-packages/tensorflow/python/eager/function.py:2956\u001b[0m, in \u001b[0;36mFunction.__call__\u001b[0;34m(self, *args, **kwargs)\u001b[0m\n\u001b[1;32m   2953\u001b[0m \u001b[38;5;28;01mwith\u001b[39;00m \u001b[38;5;28mself\u001b[39m\u001b[38;5;241m.\u001b[39m_lock:\n\u001b[1;32m   2954\u001b[0m   (graph_function,\n\u001b[1;32m   2955\u001b[0m    filtered_flat_args) \u001b[38;5;241m=\u001b[39m \u001b[38;5;28mself\u001b[39m\u001b[38;5;241m.\u001b[39m_maybe_define_function(args, kwargs)\n\u001b[0;32m-> 2956\u001b[0m \u001b[38;5;28;01mreturn\u001b[39;00m \u001b[43mgraph_function\u001b[49m\u001b[38;5;241;43m.\u001b[39;49m\u001b[43m_call_flat\u001b[49m\u001b[43m(\u001b[49m\n\u001b[1;32m   2957\u001b[0m \u001b[43m    \u001b[49m\u001b[43mfiltered_flat_args\u001b[49m\u001b[43m,\u001b[49m\u001b[43m \u001b[49m\u001b[43mcaptured_inputs\u001b[49m\u001b[38;5;241;43m=\u001b[39;49m\u001b[43mgraph_function\u001b[49m\u001b[38;5;241;43m.\u001b[39;49m\u001b[43mcaptured_inputs\u001b[49m\u001b[43m)\u001b[49m\n",
      "File \u001b[0;32m/opt/homebrew/Caskroom/miniforge/base/envs/nehcream/lib/python3.8/site-packages/tensorflow/python/eager/function.py:1853\u001b[0m, in \u001b[0;36mConcreteFunction._call_flat\u001b[0;34m(self, args, captured_inputs, cancellation_manager)\u001b[0m\n\u001b[1;32m   1849\u001b[0m possible_gradient_type \u001b[38;5;241m=\u001b[39m gradients_util\u001b[38;5;241m.\u001b[39mPossibleTapeGradientTypes(args)\n\u001b[1;32m   1850\u001b[0m \u001b[38;5;28;01mif\u001b[39;00m (possible_gradient_type \u001b[38;5;241m==\u001b[39m gradients_util\u001b[38;5;241m.\u001b[39mPOSSIBLE_GRADIENT_TYPES_NONE\n\u001b[1;32m   1851\u001b[0m     \u001b[38;5;129;01mand\u001b[39;00m executing_eagerly):\n\u001b[1;32m   1852\u001b[0m   \u001b[38;5;66;03m# No tape is watching; skip to running the function.\u001b[39;00m\n\u001b[0;32m-> 1853\u001b[0m   \u001b[38;5;28;01mreturn\u001b[39;00m \u001b[38;5;28mself\u001b[39m\u001b[38;5;241m.\u001b[39m_build_call_outputs(\u001b[38;5;28;43mself\u001b[39;49m\u001b[38;5;241;43m.\u001b[39;49m\u001b[43m_inference_function\u001b[49m\u001b[38;5;241;43m.\u001b[39;49m\u001b[43mcall\u001b[49m\u001b[43m(\u001b[49m\n\u001b[1;32m   1854\u001b[0m \u001b[43m      \u001b[49m\u001b[43mctx\u001b[49m\u001b[43m,\u001b[49m\u001b[43m \u001b[49m\u001b[43margs\u001b[49m\u001b[43m,\u001b[49m\u001b[43m \u001b[49m\u001b[43mcancellation_manager\u001b[49m\u001b[38;5;241;43m=\u001b[39;49m\u001b[43mcancellation_manager\u001b[49m\u001b[43m)\u001b[49m)\n\u001b[1;32m   1855\u001b[0m forward_backward \u001b[38;5;241m=\u001b[39m \u001b[38;5;28mself\u001b[39m\u001b[38;5;241m.\u001b[39m_select_forward_and_backward_functions(\n\u001b[1;32m   1856\u001b[0m     args,\n\u001b[1;32m   1857\u001b[0m     possible_gradient_type,\n\u001b[1;32m   1858\u001b[0m     executing_eagerly)\n\u001b[1;32m   1859\u001b[0m forward_function, args_with_tangents \u001b[38;5;241m=\u001b[39m forward_backward\u001b[38;5;241m.\u001b[39mforward()\n",
      "File \u001b[0;32m/opt/homebrew/Caskroom/miniforge/base/envs/nehcream/lib/python3.8/site-packages/tensorflow/python/eager/function.py:499\u001b[0m, in \u001b[0;36m_EagerDefinedFunction.call\u001b[0;34m(self, ctx, args, cancellation_manager)\u001b[0m\n\u001b[1;32m    497\u001b[0m \u001b[38;5;28;01mwith\u001b[39;00m _InterpolateFunctionError(\u001b[38;5;28mself\u001b[39m):\n\u001b[1;32m    498\u001b[0m   \u001b[38;5;28;01mif\u001b[39;00m cancellation_manager \u001b[38;5;129;01mis\u001b[39;00m \u001b[38;5;28;01mNone\u001b[39;00m:\n\u001b[0;32m--> 499\u001b[0m     outputs \u001b[38;5;241m=\u001b[39m \u001b[43mexecute\u001b[49m\u001b[38;5;241;43m.\u001b[39;49m\u001b[43mexecute\u001b[49m\u001b[43m(\u001b[49m\n\u001b[1;32m    500\u001b[0m \u001b[43m        \u001b[49m\u001b[38;5;28;43mstr\u001b[39;49m\u001b[43m(\u001b[49m\u001b[38;5;28;43mself\u001b[39;49m\u001b[38;5;241;43m.\u001b[39;49m\u001b[43msignature\u001b[49m\u001b[38;5;241;43m.\u001b[39;49m\u001b[43mname\u001b[49m\u001b[43m)\u001b[49m\u001b[43m,\u001b[49m\n\u001b[1;32m    501\u001b[0m \u001b[43m        \u001b[49m\u001b[43mnum_outputs\u001b[49m\u001b[38;5;241;43m=\u001b[39;49m\u001b[38;5;28;43mself\u001b[39;49m\u001b[38;5;241;43m.\u001b[39;49m\u001b[43m_num_outputs\u001b[49m\u001b[43m,\u001b[49m\n\u001b[1;32m    502\u001b[0m \u001b[43m        \u001b[49m\u001b[43minputs\u001b[49m\u001b[38;5;241;43m=\u001b[39;49m\u001b[43margs\u001b[49m\u001b[43m,\u001b[49m\n\u001b[1;32m    503\u001b[0m \u001b[43m        \u001b[49m\u001b[43mattrs\u001b[49m\u001b[38;5;241;43m=\u001b[39;49m\u001b[43mattrs\u001b[49m\u001b[43m,\u001b[49m\n\u001b[1;32m    504\u001b[0m \u001b[43m        \u001b[49m\u001b[43mctx\u001b[49m\u001b[38;5;241;43m=\u001b[39;49m\u001b[43mctx\u001b[49m\u001b[43m)\u001b[49m\n\u001b[1;32m    505\u001b[0m   \u001b[38;5;28;01melse\u001b[39;00m:\n\u001b[1;32m    506\u001b[0m     outputs \u001b[38;5;241m=\u001b[39m execute\u001b[38;5;241m.\u001b[39mexecute_with_cancellation(\n\u001b[1;32m    507\u001b[0m         \u001b[38;5;28mstr\u001b[39m(\u001b[38;5;28mself\u001b[39m\u001b[38;5;241m.\u001b[39msignature\u001b[38;5;241m.\u001b[39mname),\n\u001b[1;32m    508\u001b[0m         num_outputs\u001b[38;5;241m=\u001b[39m\u001b[38;5;28mself\u001b[39m\u001b[38;5;241m.\u001b[39m_num_outputs,\n\u001b[0;32m   (...)\u001b[0m\n\u001b[1;32m    511\u001b[0m         ctx\u001b[38;5;241m=\u001b[39mctx,\n\u001b[1;32m    512\u001b[0m         cancellation_manager\u001b[38;5;241m=\u001b[39mcancellation_manager)\n",
      "File \u001b[0;32m/opt/homebrew/Caskroom/miniforge/base/envs/nehcream/lib/python3.8/site-packages/tensorflow/python/eager/execute.py:54\u001b[0m, in \u001b[0;36mquick_execute\u001b[0;34m(op_name, num_outputs, inputs, attrs, ctx, name)\u001b[0m\n\u001b[1;32m     52\u001b[0m \u001b[38;5;28;01mtry\u001b[39;00m:\n\u001b[1;32m     53\u001b[0m   ctx\u001b[38;5;241m.\u001b[39mensure_initialized()\n\u001b[0;32m---> 54\u001b[0m   tensors \u001b[38;5;241m=\u001b[39m \u001b[43mpywrap_tfe\u001b[49m\u001b[38;5;241;43m.\u001b[39;49m\u001b[43mTFE_Py_Execute\u001b[49m\u001b[43m(\u001b[49m\u001b[43mctx\u001b[49m\u001b[38;5;241;43m.\u001b[39;49m\u001b[43m_handle\u001b[49m\u001b[43m,\u001b[49m\u001b[43m \u001b[49m\u001b[43mdevice_name\u001b[49m\u001b[43m,\u001b[49m\u001b[43m \u001b[49m\u001b[43mop_name\u001b[49m\u001b[43m,\u001b[49m\n\u001b[1;32m     55\u001b[0m \u001b[43m                                      \u001b[49m\u001b[43minputs\u001b[49m\u001b[43m,\u001b[49m\u001b[43m \u001b[49m\u001b[43mattrs\u001b[49m\u001b[43m,\u001b[49m\u001b[43m \u001b[49m\u001b[43mnum_outputs\u001b[49m\u001b[43m)\u001b[49m\n\u001b[1;32m     56\u001b[0m \u001b[38;5;28;01mexcept\u001b[39;00m core\u001b[38;5;241m.\u001b[39m_NotOkStatusException \u001b[38;5;28;01mas\u001b[39;00m e:\n\u001b[1;32m     57\u001b[0m   \u001b[38;5;28;01mif\u001b[39;00m name \u001b[38;5;129;01mis\u001b[39;00m \u001b[38;5;129;01mnot\u001b[39;00m \u001b[38;5;28;01mNone\u001b[39;00m:\n",
      "\u001b[0;31mKeyboardInterrupt\u001b[0m: "
     ]
    }
   ],
   "source": [
    "# fit\n",
    "\n",
    "for i in range(13):\n",
    "    history = globals()[f\"lstm_ae{i + 1}\"].fit(\n",
    "        train_scaled[i],\n",
    "        train_scaled[i],\n",
    "        epochs=epochs,\n",
    "        batch_size=batch_size,\n",
    "        validation_data=(valid_scaled[i], valid_scaled[i]),\n",
    "        callbacks=[tf.keras.callbacks.EarlyStopping(monitor=\"val_loss\", patience=2)],\n",
    "    )"
   ]
  },
  {
   "cell_type": "markdown",
   "id": "9f7ed508-3531-4bb2-97e5-1ce0e4929fad",
   "metadata": {},
   "source": [
    "# Find normal"
   ]
  },
  {
   "cell_type": "code",
   "execution_count": null,
   "id": "7a8eea01-d008-49da-8626-e1f0813d3ae3",
   "metadata": {},
   "outputs": [],
   "source": [
    "predictions = []\n",
    "for i in range(13):\n",
    "    temp = globals()[f\"lstm_ae{i + 1}\"].predict(test_scaled[i])\n",
    "    predictions.append(temp)"
   ]
  },
  {
   "cell_type": "code",
   "execution_count": null,
   "id": "1b2325a3-2a51-4901-b139-1084d7b5ff3e",
   "metadata": {},
   "outputs": [],
   "source": [
    "threshold = 0.1"
   ]
  },
  {
   "cell_type": "code",
   "execution_count": null,
   "id": "68a86bbb-1f18-483e-9df4-f94b43fa94a1",
   "metadata": {},
   "outputs": [],
   "source": [
    "predict = []\n",
    "for j in range(13):\n",
    "    for i in range(len(test_scaled[j])):\n",
    "        temp = []\n",
    "        if np.sqrt(np.mean(np.power(predictions[j].reshape(predictions[j].shape[0], predictions[j].shape[1] * predictions[j].shape[2])[i] - test_scaled[j][0].reshape(predictions[j].shape[0], predictions[j].shape[1] * predictions[j].shape[2])[i], 2))) > threshold:\n",
    "            temp.append(1)\n",
    "        else:\n",
    "            temp.append(0)\n",
    "        predict.append(temp)"
   ]
  },
  {
   "cell_type": "code",
   "execution_count": null,
   "id": "1b8965d3-b04c-43bb-89d0-e19f2cb6580b",
   "metadata": {},
   "outputs": [],
   "source": [
    "for i in range(13):\n",
    "    print(pd.DataFrame(predict[i]).value_counts())"
   ]
  },
  {
   "cell_type": "code",
   "execution_count": null,
   "id": "5a83f78b-99d0-455f-9f90-6875f1ca9567",
   "metadata": {},
   "outputs": [],
   "source": []
  }
 ],
 "metadata": {
  "kernelspec": {
   "display_name": "Python 3 (ipykernel)",
   "language": "python",
   "name": "python3"
  },
  "language_info": {
   "codemirror_mode": {
    "name": "ipython",
    "version": 3
   },
   "file_extension": ".py",
   "mimetype": "text/x-python",
   "name": "python",
   "nbconvert_exporter": "python",
   "pygments_lexer": "ipython3",
   "version": "3.8.13"
  }
 },
 "nbformat": 4,
 "nbformat_minor": 5
}
