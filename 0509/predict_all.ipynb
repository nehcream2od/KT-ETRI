{
 "cells": [
  {
   "cell_type": "markdown",
   "id": "a1aeaa5c-a174-4b62-9c2f-fc9e933c154f",
   "metadata": {},
   "source": [
    "# Import"
   ]
  },
  {
   "cell_type": "code",
   "execution_count": 1,
   "id": "1caa7282-bcf9-4036-b22d-5f042e64530d",
   "metadata": {},
   "outputs": [],
   "source": [
    "import numpy as np\n",
    "import pandas as pd\n",
    "import tensorflow as tf\n",
    "from matplotlib import pyplot as plt\n",
    "from sklearn.model_selection import train_test_split\n",
    "from sklearn.preprocessing import MinMaxScaler\n",
    "from tensorflow.keras import Model, layers, models, optimizers, regularizers\n",
    "from tensorflow.keras.callbacks import ModelCheckpoint\n",
    "\n",
    "seed = 1\n",
    "tf.random.set_seed(seed)"
   ]
  },
  {
   "cell_type": "markdown",
   "id": "ce5863e6-d008-42ca-a2bc-52fd717a3029",
   "metadata": {},
   "source": [
    "# Make dataset for train"
   ]
  },
  {
   "cell_type": "code",
   "execution_count": 2,
   "id": "54d96649-aa6b-46e5-9824-f20022ded27b",
   "metadata": {},
   "outputs": [],
   "source": [
    "# read_csv\n",
    "\n",
    "path = \"../dataset/data/Media/\"\n",
    "data1 = pd.read_csv(path + \"Media_INFO.csv\")\n",
    "data2 = pd.read_csv(path + \"Media_LOGIN.csv\")\n",
    "data3 = pd.read_csv(path + \"Media_MENU.csv\")\n",
    "data4 = pd.read_csv(path + \"Media_STREAM.csv\")\n",
    "\n",
    "data1.reset_index(inplace=True, drop=True)\n",
    "data2.reset_index(inplace=True, drop=True)\n",
    "data3.reset_index(inplace=True, drop=True)\n",
    "data4.reset_index(inplace=True, drop=True)"
   ]
  },
  {
   "cell_type": "raw",
   "id": "f74980eb-dc27-409f-87d3-ef9311b3e099",
   "metadata": {},
   "source": [
    "fail이 0이면 이상이 없다고 생각 할 수 있나?"
   ]
  },
  {
   "cell_type": "code",
   "execution_count": 3,
   "id": "23064501-17a6-40e7-b525-45f6b2a96d66",
   "metadata": {},
   "outputs": [],
   "source": [
    "# drop na, column\n",
    "\n",
    "data1.drop([\"INFO-01-Fail\", \"Timestamp\"], axis=1, inplace=True)\n",
    "data2.drop([\"Timestamp\"], axis=1, inplace=True)\n",
    "data3.drop([\"Timestamp\"], axis=1, inplace=True)\n",
    "data4.drop([\"Timestamp\"], axis=1, inplace=True)\n",
    "\n",
    "data1.dropna(inplace=True)\n",
    "data2.dropna(inplace=True)\n",
    "data3.dropna(inplace=True)\n",
    "data4.dropna(inplace=True)\n",
    "\n",
    "server1 = data1\n",
    "server2 = data2.iloc[:, [0, 1, 2]]\n",
    "server3 = data2.iloc[:, [3, 4, 5]]\n",
    "server4 = data2.iloc[:, [6, 7, 8]]\n",
    "server5 = data2.iloc[:, [9, 10, 11]]\n",
    "server6 = data2.iloc[:, [12, 13, 14]]\n",
    "server7 = data3.iloc[:, [0, 1, 2]]\n",
    "server8 = data3.iloc[:, [3, 4, 5]]\n",
    "server9 = data3.iloc[:, [6, 7, 8]]\n",
    "server10 = data3.iloc[:, [9, 10, 11]]\n",
    "server11 = data4.iloc[:, [0]]\n",
    "server12 = data4.iloc[:, [1]]\n",
    "server13 = data4.iloc[:, [2]]"
   ]
  },
  {
   "cell_type": "code",
   "execution_count": 4,
   "id": "5e6538ee-1abe-49bc-b899-82f1e1aea60b",
   "metadata": {},
   "outputs": [
    {
     "name": "stdout",
     "output_type": "stream",
     "text": [
      "(192249, 2)\n",
      "(192189, 3)\n",
      "(192189, 3)\n",
      "(192189, 3)\n",
      "(192189, 3)\n",
      "(192189, 3)\n",
      "(209771, 3)\n",
      "(209771, 3)\n",
      "(209771, 3)\n",
      "(209771, 3)\n",
      "(178730, 1)\n",
      "(178730, 1)\n",
      "(178730, 1)\n"
     ]
    }
   ],
   "source": [
    "for i in range(13):\n",
    "    print(globals()[f\"server{i + 1}\"].shape)"
   ]
  },
  {
   "cell_type": "code",
   "execution_count": 5,
   "id": "71bd989c-31f1-4b77-b3f3-75d32acd7a92",
   "metadata": {},
   "outputs": [],
   "source": [
    "# remove outlier\n",
    "\n",
    "\n",
    "def remove_outlier(df, column):\n",
    "    Q1 = np.percentile(df[column].values, 25)\n",
    "    Q3 = np.percentile(df[column].values, 75)\n",
    "\n",
    "    IQR = Q3 - Q1\n",
    "    weight = IQR * 1.5\n",
    "\n",
    "    lowest = Q1 - weight\n",
    "    highest = Q3 + weight\n",
    "\n",
    "    outlier_idx = df[column][(df[column] < lowest) | (df[column] > highest)].index\n",
    "    df.drop(outlier_idx, axis=0, inplace=True)\n",
    "\n",
    "    return df"
   ]
  },
  {
   "cell_type": "code",
   "execution_count": 6,
   "id": "6275e5fb-615e-4375-9dc7-539ab89eb1bf",
   "metadata": {},
   "outputs": [
    {
     "name": "stderr",
     "output_type": "stream",
     "text": [
      "/var/folders/qd/yc_92c9d2csclp39hh5l_t900000gn/T/ipykernel_13316/75505299.py:15: SettingWithCopyWarning: \n",
      "A value is trying to be set on a copy of a slice from a DataFrame\n",
      "\n",
      "See the caveats in the documentation: https://pandas.pydata.org/pandas-docs/stable/user_guide/indexing.html#returning-a-view-versus-a-copy\n",
      "  df.drop(outlier_idx, axis=0, inplace=True)\n"
     ]
    }
   ],
   "source": [
    "for i in range(13):\n",
    "    column_list = list(globals()[f\"server{i + 1}\"].columns)\n",
    "    for j in column_list:\n",
    "        remove_outlier(globals()[f\"server{i + 1}\"], j)"
   ]
  },
  {
   "cell_type": "code",
   "execution_count": 7,
   "id": "d179dd9f-a113-4b26-b68e-bf4c0ba39577",
   "metadata": {},
   "outputs": [
    {
     "name": "stdout",
     "output_type": "stream",
     "text": [
      "(188513, 2)\n",
      "(170651, 3)\n",
      "(170739, 3)\n",
      "(170815, 3)\n",
      "(170750, 3)\n",
      "(170718, 3)\n",
      "(198213, 3)\n",
      "(198233, 3)\n",
      "(198221, 3)\n",
      "(198162, 3)\n",
      "(178534, 1)\n",
      "(178730, 1)\n",
      "(173192, 1)\n"
     ]
    }
   ],
   "source": [
    "for i in range(13):\n",
    "    print(globals()[f\"server{i + 1}\"].shape)"
   ]
  },
  {
   "cell_type": "code",
   "execution_count": 8,
   "id": "c5a2d4f0-bd71-4e2f-8dfe-3bb8a5a7dbed",
   "metadata": {},
   "outputs": [],
   "source": [
    "server_df = pd.concat([server1, server2], axis=1)\n",
    "for i in range(11):\n",
    "    server_df = pd.concat([server_df, globals()[f\"server{i + 3}\"]], axis=1)"
   ]
  },
  {
   "cell_type": "code",
   "execution_count": 9,
   "id": "1810bb20-09be-40e1-bc51-1ec0f6a0d885",
   "metadata": {},
   "outputs": [
    {
     "name": "stdout",
     "output_type": "stream",
     "text": [
      "(142384, 32)\n"
     ]
    }
   ],
   "source": [
    "server_df = server_df.dropna().reset_index(drop=True)\n",
    "print(server_df.shape)"
   ]
  },
  {
   "cell_type": "markdown",
   "id": "8d700ca3-f5d7-426a-b9a8-83b672cee25e",
   "metadata": {},
   "source": [
    "## Transform to sequence"
   ]
  },
  {
   "cell_type": "code",
   "execution_count": 10,
   "id": "de671ee9-3742-4d89-82dc-4abfc773f8fd",
   "metadata": {},
   "outputs": [],
   "source": [
    "def to_seq(df, step):\n",
    "    output = []\n",
    "    for i in range(len(df) - step - 1):\n",
    "        temp = []\n",
    "        for j in range(1, step + 1):\n",
    "            temp.append(df.loc[[(i + j + 1)], :])\n",
    "        output.append(temp)\n",
    "    return np.squeeze(np.array(output))"
   ]
  },
  {
   "cell_type": "code",
   "execution_count": 11,
   "id": "cc46bb00-a6c7-4c7b-badf-2053f6748de8",
   "metadata": {},
   "outputs": [
    {
     "data": {
      "text/plain": [
       "(142378, 5, 32)"
      ]
     },
     "execution_count": 11,
     "metadata": {},
     "output_type": "execute_result"
    }
   ],
   "source": [
    "step = abs(5)\n",
    "trans_server_df = to_seq(server_df, step)\n",
    "trans_server_df.shape"
   ]
  },
  {
   "cell_type": "code",
   "execution_count": 12,
   "id": "3b127575-d03f-4cbd-bf89-7ef389dc9fa8",
   "metadata": {},
   "outputs": [
    {
     "name": "stdout",
     "output_type": "stream",
     "text": [
      "(113902, 5, 32)\n",
      "(28476, 5, 32)\n"
     ]
    }
   ],
   "source": [
    "train, valid = train_test_split(trans_server_df, test_size=0.2)\n",
    "print(train.shape)\n",
    "print(valid.shape)"
   ]
  },
  {
   "cell_type": "markdown",
   "id": "c2ec8ca2-2cc6-47fb-91f4-c567398a3355",
   "metadata": {},
   "source": [
    "## feature scale"
   ]
  },
  {
   "cell_type": "code",
   "execution_count": 15,
   "id": "a1bbf737-c96f-4ee8-a00f-337eb3dc4503",
   "metadata": {},
   "outputs": [],
   "source": [
    "def dimension_down(df):\n",
    "    dimension_df = np.empty((df.shape[0], df.shape[2]))\n",
    "    for i in range(df.shape[0]):\n",
    "        dimension_df[i] = df[i, (df.shape[1] - 1), :]\n",
    "\n",
    "    return dimension_df\n",
    "\n",
    "\n",
    "def scaling(df, scaler):\n",
    "    for i in range(df.shape[0]):\n",
    "        df[i, :, :] = scaler.transform(df[i, :, :])\n",
    "\n",
    "    return df"
   ]
  },
  {
   "cell_type": "code",
   "execution_count": 13,
   "id": "39bc151d-9912-4dee-87ac-a0f84c9e3530",
   "metadata": {},
   "outputs": [
    {
     "name": "stdout",
     "output_type": "stream",
     "text": [
      "(142378, 5, 32)\n"
     ]
    }
   ],
   "source": [
    "scaler = MinMaxScaler().fit(dimension_down(trans_server_df))\n",
    "train_scaled = scaling(trans_server_df, scaler)\n",
    "\n",
    "print(train_scaled.shape)"
   ]
  },
  {
   "cell_type": "markdown",
   "id": "7d73addc-d0b4-4a38-80ea-30cd5fb2078d",
   "metadata": {},
   "source": [
    "## LSTM AE for trainset"
   ]
  },
  {
   "cell_type": "code",
   "execution_count": 16,
   "id": "297d5097-5d09-4c96-ad6b-9f217a0ade38",
   "metadata": {},
   "outputs": [],
   "source": [
    "def lstm_autoencoder():\n",
    "    feature_number = train_scaled.shape[2]\n",
    "    lstm_ae = models.Sequential()\n",
    "\n",
    "    # Encoding\n",
    "    lstm_ae.add(\n",
    "        layers.LSTM(\n",
    "            64,\n",
    "            activity_regularizer=regularizers.L2(0.01),\n",
    "            activation=\"relu\",\n",
    "            input_shape=(step, feature_number),\n",
    "            return_sequences=True,\n",
    "        ),\n",
    "    )\n",
    "    lstm_ae.add(layers.Dropout(rate=0.2)),\n",
    "    lstm_ae.add(\n",
    "        layers.LSTM(\n",
    "            32,\n",
    "            activity_regularizer=regularizers.L2(0.01),\n",
    "            activation=\"relu\",\n",
    "            return_sequences=False,\n",
    "        )\n",
    "    )\n",
    "    lstm_ae.add(layers.RepeatVector(step))\n",
    "\n",
    "    # Decoding\n",
    "    lstm_ae.add(\n",
    "        layers.LSTM(\n",
    "            32,\n",
    "            activity_regularizer=regularizers.L2(0.01),\n",
    "            activation=\"relu\",\n",
    "            return_sequences=True,\n",
    "        )\n",
    "    )\n",
    "    lstm_ae.add(layers.Dropout(rate=0.2)),\n",
    "    lstm_ae.add(\n",
    "        layers.LSTM(\n",
    "            64,\n",
    "            activity_regularizer=regularizers.L2(0.01),\n",
    "            activation=\"relu\",\n",
    "            return_sequences=True,\n",
    "        )\n",
    "    )\n",
    "    lstm_ae.add(layers.TimeDistributed(layers.Dense(feature_number)))\n",
    "\n",
    "    print(lstm_ae.summary())\n",
    "    return lstm_ae"
   ]
  },
  {
   "cell_type": "code",
   "execution_count": 17,
   "id": "b03fd0e9-ae08-41c6-8614-a6cf5116ed48",
   "metadata": {},
   "outputs": [
    {
     "name": "stdout",
     "output_type": "stream",
     "text": [
      "Metal device set to: Apple M1\n",
      "\n",
      "systemMemory: 8.00 GB\n",
      "maxCacheSize: 2.67 GB\n",
      "\n",
      "WARNING:tensorflow:Layer lstm will not use cuDNN kernels since it doesn't meet the criteria. It will use a generic GPU kernel as fallback when running on GPU.\n",
      "WARNING:tensorflow:Layer lstm_1 will not use cuDNN kernels since it doesn't meet the criteria. It will use a generic GPU kernel as fallback when running on GPU.\n",
      "WARNING:tensorflow:Layer lstm_2 will not use cuDNN kernels since it doesn't meet the criteria. It will use a generic GPU kernel as fallback when running on GPU.\n",
      "WARNING:tensorflow:Layer lstm_3 will not use cuDNN kernels since it doesn't meet the criteria. It will use a generic GPU kernel as fallback when running on GPU.\n"
     ]
    },
    {
     "name": "stderr",
     "output_type": "stream",
     "text": [
      "2022-05-10 09:36:35.601156: I tensorflow/core/common_runtime/pluggable_device/pluggable_device_factory.cc:305] Could not identify NUMA node of platform GPU ID 0, defaulting to 0. Your kernel may not have been built with NUMA support.\n",
      "2022-05-10 09:36:35.602151: I tensorflow/core/common_runtime/pluggable_device/pluggable_device_factory.cc:271] Created TensorFlow device (/job:localhost/replica:0/task:0/device:GPU:0 with 0 MB memory) -> physical PluggableDevice (device: 0, name: METAL, pci bus id: <undefined>)\n"
     ]
    },
    {
     "name": "stdout",
     "output_type": "stream",
     "text": [
      "Model: \"sequential\"\n",
      "_________________________________________________________________\n",
      " Layer (type)                Output Shape              Param #   \n",
      "=================================================================\n",
      " lstm (LSTM)                 (None, 5, 64)             24832     \n",
      "                                                                 \n",
      " dropout (Dropout)           (None, 5, 64)             0         \n",
      "                                                                 \n",
      " lstm_1 (LSTM)               (None, 32)                12416     \n",
      "                                                                 \n",
      " repeat_vector (RepeatVector  (None, 5, 32)            0         \n",
      " )                                                               \n",
      "                                                                 \n",
      " lstm_2 (LSTM)               (None, 5, 32)             8320      \n",
      "                                                                 \n",
      " dropout_1 (Dropout)         (None, 5, 32)             0         \n",
      "                                                                 \n",
      " lstm_3 (LSTM)               (None, 5, 64)             24832     \n",
      "                                                                 \n",
      " time_distributed (TimeDistr  (None, 5, 32)            2080      \n",
      " ibuted)                                                         \n",
      "                                                                 \n",
      "=================================================================\n",
      "Total params: 72,480\n",
      "Trainable params: 72,480\n",
      "Non-trainable params: 0\n",
      "_________________________________________________________________\n",
      "None\n"
     ]
    }
   ],
   "source": [
    "lstm_ae0 = lstm_autoencoder()"
   ]
  },
  {
   "cell_type": "code",
   "execution_count": 18,
   "id": "8274653b-6b5e-4a57-95f8-1827354b0696",
   "metadata": {},
   "outputs": [],
   "source": [
    "# set parameter\n",
    "\n",
    "epochs = 10\n",
    "batch_size = 128\n",
    "learning_rate = 0.001\n",
    "validation = 0.2"
   ]
  },
  {
   "cell_type": "code",
   "execution_count": 19,
   "id": "ce6512b2-cc2f-4d3b-958f-180222d94082",
   "metadata": {},
   "outputs": [],
   "source": [
    "# compile\n",
    "\n",
    "lstm_ae0.compile(loss=\"mse\", optimizer=optimizers.Adam(learning_rate))"
   ]
  },
  {
   "cell_type": "code",
   "execution_count": 1,
   "id": "3c509c6d-597c-4551-a24f-8a63307c6e71",
   "metadata": {
    "tags": []
   },
   "outputs": [
    {
     "ename": "NameError",
     "evalue": "name 'lstm_ae0' is not defined",
     "output_type": "error",
     "traceback": [
      "\u001b[0;31m---------------------------------------------------------------------------\u001b[0m",
      "\u001b[0;31mNameError\u001b[0m                                 Traceback (most recent call last)",
      "Input \u001b[0;32mIn [1]\u001b[0m, in \u001b[0;36m<cell line: 3>\u001b[0;34m()\u001b[0m\n\u001b[1;32m      1\u001b[0m \u001b[38;5;66;03m# fit\u001b[39;00m\n\u001b[0;32m----> 3\u001b[0m history \u001b[38;5;241m=\u001b[39m \u001b[43mlstm_ae0\u001b[49m\u001b[38;5;241m.\u001b[39mfit(\n\u001b[1;32m      4\u001b[0m     train_scaled,\n\u001b[1;32m      5\u001b[0m     train_scaled,\n\u001b[1;32m      6\u001b[0m     epochs\u001b[38;5;241m=\u001b[39mepochs,\n\u001b[1;32m      7\u001b[0m     batch_size\u001b[38;5;241m=\u001b[39mbatch_size,\n\u001b[1;32m      8\u001b[0m     validation_split\u001b[38;5;241m=\u001b[39mvalidation,\n\u001b[1;32m      9\u001b[0m     callbacks\u001b[38;5;241m=\u001b[39m[\n\u001b[1;32m     10\u001b[0m         tf\u001b[38;5;241m.\u001b[39mkeras\u001b[38;5;241m.\u001b[39mcallbacks\u001b[38;5;241m.\u001b[39mEarlyStopping(monitor\u001b[38;5;241m=\u001b[39m\u001b[38;5;124m\"\u001b[39m\u001b[38;5;124mval_loss\u001b[39m\u001b[38;5;124m\"\u001b[39m, patience\u001b[38;5;241m=\u001b[39m\u001b[38;5;241m2\u001b[39m, mode\u001b[38;5;241m=\u001b[39m\u001b[38;5;124m\"\u001b[39m\u001b[38;5;124mmin\u001b[39m\u001b[38;5;124m\"\u001b[39m)\n\u001b[1;32m     11\u001b[0m     ],\n\u001b[1;32m     12\u001b[0m )\n",
      "\u001b[0;31mNameError\u001b[0m: name 'lstm_ae0' is not defined"
     ]
    }
   ],
   "source": [
    "# fit\n",
    "\n",
    "history = lstm_ae0.fit(\n",
    "    train_scaled,\n",
    "    train_scaled,\n",
    "    epochs=epochs,\n",
    "    batch_size=batch_size,\n",
    "    validation_split=validation,\n",
    "    callbacks=[\n",
    "        tf.keras.callbacks.EarlyStopping(monitor=\"val_loss\", patience=2, mode=\"min\")\n",
    "    ],\n",
    ")"
   ]
  },
  {
   "cell_type": "code",
   "execution_count": 20,
   "id": "20c05c1a-dc77-4032-aada-d357d69dc782",
   "metadata": {},
   "outputs": [
    {
     "data": {
      "image/png": "[encoded data removed]",
      "text/plain": [
       "<Figure size 432x288 with 1 Axes>"
      ]
     },
     "metadata": {
      "needs_background": "light"
     },
     "output_type": "display_data"
    }
   ],
   "source": [
    "plt.plot(history.history[\"loss\"], label=\"Train Loss\")\n",
    "plt.plot(history.history[\"val_loss\"], label=\"Valid Loss\")\n",
    "plt.legend()\n",
    "plt.show()"
   ]
  },
  {
   "cell_type": "code",
   "execution_count": 21,
   "id": "7a8eea01-d008-49da-8626-e1f0813d3ae3",
   "metadata": {},
   "outputs": [
    {
     "ename": "NameError",
     "evalue": "name 'test_scaled' is not defined",
     "output_type": "error",
     "traceback": [
      "\u001b[0;31m---------------------------------------------------------------------------\u001b[0m",
      "\u001b[0;31mNameError\u001b[0m                                 Traceback (most recent call last)",
      "Input \u001b[0;32mIn [21]\u001b[0m, in \u001b[0;36m<cell line: 1>\u001b[0;34m()\u001b[0m\n\u001b[0;32m----> 1\u001b[0m predictions \u001b[38;5;241m=\u001b[39m lstm_ae0\u001b[38;5;241m.\u001b[39mpredict(\u001b[43mtest_scaled\u001b[49m)\n",
      "\u001b[0;31mNameError\u001b[0m: name 'test_scaled' is not defined"
     ]
    }
   ],
   "source": [
    "predictions = lstm_ae0.predict(test_scaled)"
   ]
  },
  {
   "cell_type": "code",
   "execution_count": 82,
   "id": "1b2325a3-2a51-4901-b139-1084d7b5ff3e",
   "metadata": {},
   "outputs": [],
   "source": [
    "threshold = 0.3"
   ]
  },
  {
   "cell_type": "code",
   "execution_count": 83,
   "id": "5a83f78b-99d0-455f-9f90-6875f1ca9567",
   "metadata": {},
   "outputs": [],
   "source": [
    "mse = []\n",
    "for i in range(len(test_scaled)):\n",
    "    mse.append(\n",
    "        np.sqrt(\n",
    "            np.mean(\n",
    "                np.power(\n",
    "                    predictions.reshape(\n",
    "                        predictions.shape[0],\n",
    "                        predictions.shape[1] * predictions.shape[2],\n",
    "                    )[i]\n",
    "                    - test_scaled.reshape(\n",
    "                        predictions.shape[0],\n",
    "                        predictions.shape[1] * predictions.shape[2],\n",
    "                    )[i],\n",
    "                    2,\n",
    "                )\n",
    "            )\n",
    "        )\n",
    "    )"
   ]
  },
  {
   "cell_type": "code",
   "execution_count": 84,
   "id": "68a86bbb-1f18-483e-9df4-f94b43fa94a1",
   "metadata": {},
   "outputs": [],
   "source": [
    "predict = []\n",
    "for i in range(len(mse)):\n",
    "    if mse[i] > threshold:\n",
    "        predict.append(1)\n",
    "    else:\n",
    "        predict.append(0)"
   ]
  },
  {
   "cell_type": "code",
   "execution_count": 85,
   "id": "1b8965d3-b04c-43bb-89d0-e19f2cb6580b",
   "metadata": {},
   "outputs": [
    {
     "name": "stdout",
     "output_type": "stream",
     "text": [
      "0    140621\n",
      "1      1757\n",
      "dtype: int64\n"
     ]
    }
   ],
   "source": [
    "print(pd.DataFrame(predict).value_counts())"
   ]
  },
  {
   "cell_type": "code",
   "execution_count": 88,
   "id": "2cc6c4d9-0ab9-4c49-ac5c-32b513f84cbd",
   "metadata": {},
   "outputs": [],
   "source": [
    "predict = pd.DataFrame(predict, columns=[\"prediction\"])\n",
    "drop_list = list(predict[predict[\"prediction\"] == 1].index)"
   ]
  },
  {
   "cell_type": "code",
   "execution_count": 152,
   "id": "088af3ee-2876-47de-8d26-b76369be55f9",
   "metadata": {},
   "outputs": [],
   "source": [
    "normal_df = server_df.drop(drop_list, axis=0)\n",
    "normal_df = normal_df.drop([\"index\"], axis=1)\n",
    "normal_df.reset_index(inplace=True, drop=True)"
   ]
  },
  {
   "cell_type": "markdown",
   "id": "53f1e80a-b593-4b60-bca2-71e3ff2b09cc",
   "metadata": {},
   "source": [
    "# Prepare dataset for test"
   ]
  },
  {
   "cell_type": "code",
   "execution_count": 22,
   "id": "342b6370-d4bd-46cc-bc83-9a5bb08db5f1",
   "metadata": {},
   "outputs": [],
   "source": [
    "test = pd.read_csv(\"../2_test.csv\")\n",
    "test = test.drop([\"Unnamed: 0\", \"Timestamp\", \"INFO-01-Fail\"], axis=1)"
   ]
  },
  {
   "cell_type": "markdown",
   "id": "cb4a8dc1-cd6b-44d8-a44a-d85c5f11f828",
   "metadata": {
    "tags": []
   },
   "source": [
    "## Transform to sequence"
   ]
  },
  {
   "cell_type": "code",
   "execution_count": 23,
   "id": "441db551-1647-4f11-8b9b-39e9d750a290",
   "metadata": {},
   "outputs": [
    {
     "name": "stdout",
     "output_type": "stream",
     "text": [
      "(105114, 5, 32)\n"
     ]
    }
   ],
   "source": [
    "trans_test = to_seq(test, step)\n",
    "print(trans_test.shape)"
   ]
  },
  {
   "cell_type": "markdown",
   "id": "aa4f3a67-8f78-45ad-9d5d-b6f77444e890",
   "metadata": {},
   "source": [
    "## feature scale"
   ]
  },
  {
   "cell_type": "code",
   "execution_count": 24,
   "id": "d14beca9-6073-45ab-835f-7b188d827d0b",
   "metadata": {},
   "outputs": [
    {
     "name": "stdout",
     "output_type": "stream",
     "text": [
      "(105114, 5, 32)\n"
     ]
    }
   ],
   "source": [
    "trans_server_df = to_seq(server_df, step)\n",
    "scaler = MinMaxScaler().fit(dimension_down(trans_server_df))\n",
    "test_scaled = scaling(trans_test, scaler)\n",
    "print(test_scaled.shape)"
   ]
  },
  {
   "cell_type": "markdown",
   "id": "84e8600f-1898-495a-9fa0-c941f4758738",
   "metadata": {},
   "source": [
    "# detect anormal"
   ]
  },
  {
   "cell_type": "markdown",
   "id": "ff5ce6cb-8bba-4da7-9685-9ecbd319d9a2",
   "metadata": {},
   "source": [
    "## train mse loss"
   ]
  },
  {
   "cell_type": "code",
   "execution_count": 14,
   "id": "995da290-170b-4607-9d2c-a5cd88f8918c",
   "metadata": {},
   "outputs": [
    {
     "ename": "NameError",
     "evalue": "name 'lstm_ae0' is not defined",
     "output_type": "error",
     "traceback": [
      "\u001b[0;31m---------------------------------------------------------------------------\u001b[0m",
      "\u001b[0;31mNameError\u001b[0m                                 Traceback (most recent call last)",
      "Input \u001b[0;32mIn [14]\u001b[0m, in \u001b[0;36m<cell line: 1>\u001b[0;34m()\u001b[0m\n\u001b[0;32m----> 1\u001b[0m train_predict \u001b[38;5;241m=\u001b[39m \u001b[43mlstm_ae0\u001b[49m\u001b[38;5;241m.\u001b[39mpredict(train_scaled)\n",
      "\u001b[0;31mNameError\u001b[0m: name 'lstm_ae0' is not defined"
     ]
    }
   ],
   "source": [
    "train_predict = lstm_ae0.predict(train_scaled)"
   ]
  },
  {
   "cell_type": "markdown",
   "id": "b402fef1-ad38-465b-9997-067807ecfdc9",
   "metadata": {
    "tags": []
   },
   "source": [
    "## test mse loss"
   ]
  },
  {
   "cell_type": "code",
   "execution_count": 25,
   "id": "047a082b-4b29-4cf8-9785-7e22544f2463",
   "metadata": {},
   "outputs": [
    {
     "name": "stderr",
     "output_type": "stream",
     "text": [
      "2022-05-10 00:24:53.413328: I tensorflow/core/grappler/optimizers/custom_graph_optimizer_registry.cc:113] Plugin optimizer for device_type GPU is enabled.\n"
     ]
    }
   ],
   "source": [
    "test_predict = lstm_ae0.predict(test_scaled)"
   ]
  },
  {
   "cell_type": "code",
   "execution_count": 118,
   "id": "b5709357-97bc-4a0c-8fc3-71b43898f9f1",
   "metadata": {},
   "outputs": [],
   "source": [
    "mse_loss = np.mean(np.power(test_predict - test_scaled, 2), axis=1)"
   ]
  },
  {
   "cell_type": "code",
   "execution_count": 133,
   "id": "c630afce-b1f5-4d2a-a5ab-b0a6b6fdde52",
   "metadata": {},
   "outputs": [],
   "source": [
    "mean_mse_loss = np.mean(np.mean(np.power(test_predict - test_scaled, 2), axis=1), axis=1)"
   ]
  },
  {
   "cell_type": "code",
   "execution_count": 134,
   "id": "ec95f9f1-80d7-4f5f-a6db-50b2e9de5394",
   "metadata": {},
   "outputs": [],
   "source": [
    "pd.DataFrame(mean_mse_loss).to_csv(\"mse_loss.csv\", mode=\"w\")"
   ]
  },
  {
   "cell_type": "markdown",
   "id": "fc61450c-8c16-48d7-aaba-ef1bbf735bd8",
   "metadata": {},
   "source": [
    "## k-means for set threshold"
   ]
  },
  {
   "cell_type": "markdown",
   "id": "d13f9371-346b-4011-8b3c-99f06e08529f",
   "metadata": {},
   "source": [
    "## put anomalies"
   ]
  },
  {
   "cell_type": "code",
   "execution_count": 123,
   "id": "c55127bd-4e0c-4614-a6a1-97ebcdec9213",
   "metadata": {
    "tags": []
   },
   "outputs": [],
   "source": [
    "train_mse_loss = np.mean(np.power(train_predict - train_scaled, 2), axis=1)\n",
    "threshold = np.max(train_mse_loss)\n",
    "\n",
    "reshape_mse_loss = mse_loss.reshape(-1)\n",
    "anormals = reshape_mse_loss > threshold"
   ]
  },
  {
   "cell_type": "code",
   "execution_count": 124,
   "id": "607d5ba5-55b0-482e-b0bf-291f0825fe31",
   "metadata": {},
   "outputs": [],
   "source": [
    "anormal_index = []\n",
    "for i in range(step - 1, len(test) - step + 1):\n",
    "    if np.all(anormals[i - step + 1 : i]):\n",
    "        anormal_index.append(i)"
   ]
  },
  {
   "cell_type": "code",
   "execution_count": 125,
   "id": "22a5f8b7-3e81-4a0f-8bd0-f4c1a00a4cba",
   "metadata": {},
   "outputs": [
    {
     "data": {
      "text/plain": [
       "Prediction\n",
       "0             104889\n",
       "1                231\n",
       "dtype: int64"
      ]
     },
     "execution_count": 125,
     "metadata": {},
     "output_type": "execute_result"
    }
   ],
   "source": [
    "prediction = pd.DataFrame([0 * _ for _ in range(len(test))], columns=[\"Prediction\"])\n",
    "prediction.loc[anormal_index, \"Prediction\"] = 1\n",
    "prediction.value_counts()"
   ]
  },
  {
   "cell_type": "code",
   "execution_count": 127,
   "id": "7b462962-cd66-4968-8a49-7050b0661371",
   "metadata": {},
   "outputs": [],
   "source": [
    "prediction.to_csv('prediction.csv', mode='w')"
   ]
  },
  {
   "cell_type": "code",
   "execution_count": 128,
   "id": "1f2f719c-929c-40be-9d20-65a06ca38b93",
   "metadata": {},
   "outputs": [
    {
     "data": {
      "text/html": [
       "<div>\n",
       "<style scoped>\n",
       "    .dataframe tbody tr th:only-of-type {\n",
       "        vertical-align: middle;\n",
       "    }\n",
       "\n",
       "    .dataframe tbody tr th {\n",
       "        vertical-align: top;\n",
       "    }\n",
       "\n",
       "    .dataframe thead th {\n",
       "        text-align: right;\n",
       "    }\n",
       "</style>\n",
       "<table border=\"1\" class=\"dataframe\">\n",
       "  <thead>\n",
       "    <tr style=\"text-align: right;\">\n",
       "      <th></th>\n",
       "      <th>Prediction</th>\n",
       "    </tr>\n",
       "  </thead>\n",
       "  <tbody>\n",
       "    <tr>\n",
       "      <th>71283</th>\n",
       "      <td>1</td>\n",
       "    </tr>\n",
       "    <tr>\n",
       "      <th>71284</th>\n",
       "      <td>1</td>\n",
       "    </tr>\n",
       "    <tr>\n",
       "      <th>71285</th>\n",
       "      <td>1</td>\n",
       "    </tr>\n",
       "    <tr>\n",
       "      <th>71286</th>\n",
       "      <td>1</td>\n",
       "    </tr>\n",
       "    <tr>\n",
       "      <th>71287</th>\n",
       "      <td>1</td>\n",
       "    </tr>\n",
       "    <tr>\n",
       "      <th>...</th>\n",
       "      <td>...</td>\n",
       "    </tr>\n",
       "    <tr>\n",
       "      <th>71677</th>\n",
       "      <td>1</td>\n",
       "    </tr>\n",
       "    <tr>\n",
       "      <th>71700</th>\n",
       "      <td>1</td>\n",
       "    </tr>\n",
       "    <tr>\n",
       "      <th>71701</th>\n",
       "      <td>1</td>\n",
       "    </tr>\n",
       "    <tr>\n",
       "      <th>71706</th>\n",
       "      <td>1</td>\n",
       "    </tr>\n",
       "    <tr>\n",
       "      <th>71707</th>\n",
       "      <td>1</td>\n",
       "    </tr>\n",
       "  </tbody>\n",
       "</table>\n",
       "<p>231 rows × 1 columns</p>\n",
       "</div>"
      ],
      "text/plain": [
       "       Prediction\n",
       "71283           1\n",
       "71284           1\n",
       "71285           1\n",
       "71286           1\n",
       "71287           1\n",
       "...           ...\n",
       "71677           1\n",
       "71700           1\n",
       "71701           1\n",
       "71706           1\n",
       "71707           1\n",
       "\n",
       "[231 rows x 1 columns]"
      ]
     },
     "execution_count": 128,
     "metadata": {},
     "output_type": "execute_result"
    }
   ],
   "source": [
    "prediction[prediction['Prediction'] == 1]"
   ]
  },
  {
   "cell_type": "code",
   "execution_count": null,
   "id": "cff8918b-33e1-4176-8f91-cf4ea12839e8",
   "metadata": {},
   "outputs": [],
   "source": []
  }
 ],
 "metadata": {
  "kernelspec": {
   "display_name": "Python 3 (ipykernel)",
   "language": "python",
   "name": "python3"
  },
  "language_info": {
   "codemirror_mode": {
    "name": "ipython",
    "version": 3
   },
   "file_extension": ".py",
   "mimetype": "text/x-python",
   "name": "python",
   "nbconvert_exporter": "python",
   "pygments_lexer": "ipython3",
   "version": "3.8.13"
  }
 },
 "nbformat": 4,
 "nbformat_minor": 5
}
