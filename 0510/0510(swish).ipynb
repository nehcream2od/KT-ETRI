{
 "cells": [
  {
   "cell_type": "markdown",
   "id": "a1aeaa5c-a174-4b62-9c2f-fc9e933c154f",
   "metadata": {},
   "source": [
    "# Import"
   ]
  },
  {
   "cell_type": "code",
   "execution_count": 1,
   "id": "1caa7282-bcf9-4036-b22d-5f042e64530d",
   "metadata": {},
   "outputs": [],
   "source": [
    "import numpy as np\n",
    "import pandas as pd\n",
    "import tensorflow as tf\n",
    "from matplotlib import pyplot as plt\n",
    "from sklearn.model_selection import train_test_split\n",
    "from sklearn.preprocessing import MinMaxScaler, RobustScaler\n",
    "from tensorflow.keras import Model, layers, models, optimizers, regularizers\n",
    "from tensorflow.keras.callbacks import ModelCheckpoint"
   ]
  },
  {
   "cell_type": "code",
   "execution_count": 2,
   "id": "e5251acd-6d48-40d4-9807-f9f8c8e2b79f",
   "metadata": {},
   "outputs": [],
   "source": [
    "# seed hold\n",
    "\n",
    "random_seed = 42\n",
    "SEED = 42\n",
    "np.random.seed(random_seed)\n",
    "import os\n",
    "import random\n",
    "\n",
    "import tensorflow as tf\n",
    "\n",
    "random.seed(random_seed)\n",
    "\n",
    "\n",
    "def set_seeds(seed=SEED):\n",
    "    os.environ[\"PYTHONHASHSEED\"] = str(seed)\n",
    "    random.seed(seed)\n",
    "    tf.random.set_seed(seed)\n",
    "    np.random.seed(seed)\n",
    "\n",
    "\n",
    "def set_global_determinism(seed=SEED, fast_n_close=False):\n",
    "\n",
    "    set_seeds(seed=seed)\n",
    "    if fast_n_close:\n",
    "        return\n",
    "        logging.warning(\n",
    "            \"*******************************************************************************\"\n",
    "        )\n",
    "        logging.warning(\n",
    "            \"*** set_global_determinism is called,setting full determinism, will be slow ***\"\n",
    "        )\n",
    "        logging.warning(\n",
    "            \"*******************************************************************************\"\n",
    "        )\n",
    "        os.environ[\"TF_DETERMINISTIC_OPS\"] = \"1\"\n",
    "        os.environ[\"TF_CUDNN_DETERMINISTIC\"] = \"1\"\n",
    "        # https://www.tensorflow.org/api_docs/python/tf/config/threading/set_inter_op_parallelism_threads\n",
    "        tf.config.threading.set_inter_op_parallelism_threads(1)\n",
    "        tf.config.threading.set_intra_op_parallelism_threads(1)\n",
    "        from tfdeterminism import patch\n",
    "\n",
    "        patch()\n",
    "\n",
    "\n",
    "set_seeds()\n",
    "set_global_determinism()"
   ]
  },
  {
   "cell_type": "markdown",
   "id": "ce5863e6-d008-42ca-a2bc-52fd717a3029",
   "metadata": {},
   "source": [
    "# Make dataset for train"
   ]
  },
  {
   "cell_type": "code",
   "execution_count": 3,
   "id": "54d96649-aa6b-46e5-9824-f20022ded27b",
   "metadata": {},
   "outputs": [],
   "source": [
    "# read_csv\n",
    "\n",
    "path = \"../dataset/data/Media/\"\n",
    "data1 = pd.read_csv(path + \"Media_INFO.csv\")\n",
    "data2 = pd.read_csv(path + \"Media_LOGIN.csv\")\n",
    "data3 = pd.read_csv(path + \"Media_MENU.csv\")\n",
    "data4 = pd.read_csv(path + \"Media_STREAM.csv\")"
   ]
  },
  {
   "cell_type": "code",
   "execution_count": 4,
   "id": "3378cedc-71aa-4f99-a8ee-ee4daf57f3de",
   "metadata": {},
   "outputs": [],
   "source": [
    "# make all\n",
    "\n",
    "all_data = pd.merge(data1, data2, on=\"Timestamp\", how=\"inner\")\n",
    "all_data = pd.merge(all_data, data3, on=\"Timestamp\", how=\"inner\")\n",
    "all_data = pd.merge(all_data, data4, on=\"Timestamp\", how=\"inner\")"
   ]
  },
  {
   "cell_type": "code",
   "execution_count": 5,
   "id": "c4c258ee-6abf-4bbb-b0b8-5fb63c71859c",
   "metadata": {},
   "outputs": [],
   "source": [
    "all_data.drop([\"Timestamp\"], inplace=True, axis=1)"
   ]
  },
  {
   "cell_type": "code",
   "execution_count": 6,
   "id": "98739ddb-a100-40cb-aca4-91128434e96d",
   "metadata": {},
   "outputs": [],
   "source": [
    "# fillna mean\n",
    "\n",
    "all_data = all_data.fillna(all_data.mean())"
   ]
  },
  {
   "cell_type": "code",
   "execution_count": 7,
   "id": "fbbf3f6a-d258-4fee-adf5-9c22ae790a23",
   "metadata": {},
   "outputs": [
    {
     "data": {
      "text/plain": [
       "(210240, 33)"
      ]
     },
     "execution_count": 7,
     "metadata": {},
     "output_type": "execute_result"
    }
   ],
   "source": [
    "# copy data\n",
    "\n",
    "train = all_data.copy()\n",
    "train.shape"
   ]
  },
  {
   "cell_type": "markdown",
   "id": "8d700ca3-f5d7-426a-b9a8-83b672cee25e",
   "metadata": {},
   "source": [
    "## Transform to sequence"
   ]
  },
  {
   "cell_type": "code",
   "execution_count": 8,
   "id": "de671ee9-3742-4d89-82dc-4abfc773f8fd",
   "metadata": {},
   "outputs": [],
   "source": [
    "def to_seq(df, step):\n",
    "    output = []\n",
    "    for i in range(len(df) - step - 1):\n",
    "        temp = []\n",
    "        for j in range(1, step + 1):\n",
    "            temp.append(df.loc[[(i + j + 1)], :])\n",
    "        output.append(temp)\n",
    "    return np.squeeze(np.array(output))"
   ]
  },
  {
   "cell_type": "code",
   "execution_count": 9,
   "id": "cc46bb00-a6c7-4c7b-badf-2053f6748de8",
   "metadata": {},
   "outputs": [
    {
     "data": {
      "text/plain": [
       "(210234, 5, 33)"
      ]
     },
     "execution_count": 9,
     "metadata": {},
     "output_type": "execute_result"
    }
   ],
   "source": [
    "step = abs(5)\n",
    "trans_train = to_seq(train, step)\n",
    "trans_train.shape"
   ]
  },
  {
   "cell_type": "code",
   "execution_count": 10,
   "id": "4b02155c-c765-4b53-aeb2-f5114c3459de",
   "metadata": {},
   "outputs": [],
   "source": [
    "train_seq = trans_train"
   ]
  },
  {
   "cell_type": "markdown",
   "id": "c2ec8ca2-2cc6-47fb-91f4-c567398a3355",
   "metadata": {},
   "source": [
    "## dimemsion down & feature scale"
   ]
  },
  {
   "cell_type": "code",
   "execution_count": 11,
   "id": "a1bbf737-c96f-4ee8-a00f-337eb3dc4503",
   "metadata": {},
   "outputs": [],
   "source": [
    "def dimension_down(df):\n",
    "    dimension_df = np.empty((df.shape[0], df.shape[2]))\n",
    "    for i in range(df.shape[0]):\n",
    "        dimension_df[i] = df[i, (df.shape[1] - 1), :]\n",
    "\n",
    "    return dimension_df\n",
    "\n",
    "\n",
    "def scaling(df, scaler):\n",
    "    for i in range(df.shape[0]):\n",
    "        df[i, :, :] = scaler.transform(df[i, :, :])\n",
    "\n",
    "    return df"
   ]
  },
  {
   "cell_type": "code",
   "execution_count": 12,
   "id": "39bc151d-9912-4dee-87ac-a0f84c9e3530",
   "metadata": {},
   "outputs": [
    {
     "name": "stdout",
     "output_type": "stream",
     "text": [
      "(210234, 5, 33)\n"
     ]
    }
   ],
   "source": [
    "scaler = RobustScaler().fit(dimension_down(train_seq))\n",
    "train_scaled = scaling(trans_train, scaler)\n",
    "print(train_scaled.shape)"
   ]
  },
  {
   "cell_type": "markdown",
   "id": "7d73addc-d0b4-4a38-80ea-30cd5fb2078d",
   "metadata": {},
   "source": [
    "## LSTM AE for trainset"
   ]
  },
  {
   "cell_type": "code",
   "execution_count": 13,
   "id": "297d5097-5d09-4c96-ad6b-9f217a0ade38",
   "metadata": {},
   "outputs": [],
   "source": [
    "def lstm_autoencoder():\n",
    "    feature_number = train_scaled.shape[2]\n",
    "    lstm_ae = models.Sequential()\n",
    "\n",
    "    # Encoding\n",
    "    lstm_ae.add(layers.LSTM(128, activation=\"swish\", input_shape=(step, feature_number), return_sequences=True))\n",
    "    lstm_ae.add(layers.LSTM(64, activation=\"swish\", return_sequences=False))\n",
    "    lstm_ae.add(layers.RepeatVector(step))\n",
    "\n",
    "    # Decoding\n",
    "    lstm_ae.add(layers.LSTM(64, activation=\"swish\", return_sequences=True))\n",
    "    lstm_ae.add(layers.LSTM(128, activation=\"swish\", return_sequences=True))\n",
    "    lstm_ae.add(layers.TimeDistributed(layers.Dense(feature_number)))\n",
    "\n",
    "    print(lstm_ae.summary())\n",
    "    return lstm_ae"
   ]
  },
  {
   "cell_type": "code",
   "execution_count": 14,
   "id": "b03fd0e9-ae08-41c6-8614-a6cf5116ed48",
   "metadata": {},
   "outputs": [
    {
     "name": "stdout",
     "output_type": "stream",
     "text": [
      "Metal device set to: Apple M1\n",
      "\n",
      "systemMemory: 8.00 GB\n",
      "maxCacheSize: 2.67 GB\n",
      "\n",
      "WARNING:tensorflow:Layer lstm will not use cuDNN kernels since it doesn't meet the criteria. It will use a generic GPU kernel as fallback when running on GPU.\n",
      "WARNING:tensorflow:Layer lstm_1 will not use cuDNN kernels since it doesn't meet the criteria. It will use a generic GPU kernel as fallback when running on GPU.\n",
      "WARNING:tensorflow:Layer lstm_2 will not use cuDNN kernels since it doesn't meet the criteria. It will use a generic GPU kernel as fallback when running on GPU.\n",
      "WARNING:tensorflow:Layer lstm_3 will not use cuDNN kernels since it doesn't meet the criteria. It will use a generic GPU kernel as fallback when running on GPU.\n"
     ]
    },
    {
     "name": "stderr",
     "output_type": "stream",
     "text": [
      "2022-05-10 23:19:10.839577: I tensorflow/core/common_runtime/pluggable_device/pluggable_device_factory.cc:305] Could not identify NUMA node of platform GPU ID 0, defaulting to 0. Your kernel may not have been built with NUMA support.\n",
      "2022-05-10 23:19:10.840336: I tensorflow/core/common_runtime/pluggable_device/pluggable_device_factory.cc:271] Created TensorFlow device (/job:localhost/replica:0/task:0/device:GPU:0 with 0 MB memory) -> physical PluggableDevice (device: 0, name: METAL, pci bus id: <undefined>)\n"
     ]
    },
    {
     "name": "stdout",
     "output_type": "stream",
     "text": [
      "Model: \"sequential\"\n",
      "_________________________________________________________________\n",
      " Layer (type)                Output Shape              Param #   \n",
      "=================================================================\n",
      " lstm (LSTM)                 (None, 5, 128)            82944     \n",
      "                                                                 \n",
      " lstm_1 (LSTM)               (None, 64)                49408     \n",
      "                                                                 \n",
      " repeat_vector (RepeatVector  (None, 5, 64)            0         \n",
      " )                                                               \n",
      "                                                                 \n",
      " lstm_2 (LSTM)               (None, 5, 64)             33024     \n",
      "                                                                 \n",
      " lstm_3 (LSTM)               (None, 5, 128)            98816     \n",
      "                                                                 \n",
      " time_distributed (TimeDistr  (None, 5, 33)            4257      \n",
      " ibuted)                                                         \n",
      "                                                                 \n",
      "=================================================================\n",
      "Total params: 268,449\n",
      "Trainable params: 268,449\n",
      "Non-trainable params: 0\n",
      "_________________________________________________________________\n",
      "None\n"
     ]
    }
   ],
   "source": [
    "lstm_ae0 = lstm_autoencoder()"
   ]
  },
  {
   "cell_type": "code",
   "execution_count": 15,
   "id": "8274653b-6b5e-4a57-95f8-1827354b0696",
   "metadata": {},
   "outputs": [],
   "source": [
    "# set parameter\n",
    "\n",
    "epochs = 20\n",
    "batch_size = 128\n",
    "learning_rate = 0.001\n",
    "validation = 0.2"
   ]
  },
  {
   "cell_type": "code",
   "execution_count": 16,
   "id": "ce6512b2-cc2f-4d3b-958f-180222d94082",
   "metadata": {},
   "outputs": [],
   "source": [
    "# compile\n",
    "\n",
    "lstm_ae0.compile(loss=\"mse\", optimizer=optimizers.Adam(learning_rate))"
   ]
  },
  {
   "cell_type": "code",
   "execution_count": 17,
   "id": "3c509c6d-597c-4551-a24f-8a63307c6e71",
   "metadata": {
    "tags": []
   },
   "outputs": [
    {
     "name": "stdout",
     "output_type": "stream",
     "text": [
      "Epoch 1/20\n"
     ]
    },
    {
     "name": "stderr",
     "output_type": "stream",
     "text": [
      "2022-05-10 23:19:11.214948: W tensorflow/core/platform/profile_utils/cpu_utils.cc:128] Failed to get CPU frequency: 0 Hz\n",
      "2022-05-10 23:19:12.154483: I tensorflow/core/grappler/optimizers/custom_graph_optimizer_registry.cc:113] Plugin optimizer for device_type GPU is enabled.\n"
     ]
    },
    {
     "name": "stdout",
     "output_type": "stream",
     "text": [
      "1314/1314 [==============================] - ETA: 0s - loss: 0.1017"
     ]
    },
    {
     "name": "stderr",
     "output_type": "stream",
     "text": [
      "2022-05-10 23:23:39.517033: I tensorflow/core/grappler/optimizers/custom_graph_optimizer_registry.cc:113] Plugin optimizer for device_type GPU is enabled.\n"
     ]
    },
    {
     "name": "stdout",
     "output_type": "stream",
     "text": [
      "1314/1314 [==============================] - 276s 209ms/step - loss: 0.1017 - val_loss: 0.1613\n",
      "Epoch 2/20\n",
      "1314/1314 [==============================] - 298s 227ms/step - loss: 0.0567 - val_loss: 0.1201\n",
      "Epoch 3/20\n",
      "1314/1314 [==============================] - 285s 217ms/step - loss: 0.0549 - val_loss: 0.1347\n",
      "Epoch 4/20\n",
      "1314/1314 [==============================] - 285s 217ms/step - loss: 0.0467 - val_loss: 0.1026\n",
      "Epoch 5/20\n",
      "1314/1314 [==============================] - 317s 241ms/step - loss: 0.0458 - val_loss: 0.1547\n",
      "Epoch 6/20\n",
      "1314/1314 [==============================] - 1240s 944ms/step - loss: 0.0531 - val_loss: 0.1626\n"
     ]
    }
   ],
   "source": [
    "# fit\n",
    "\n",
    "history = lstm_ae0.fit(\n",
    "    train_scaled,\n",
    "    train_scaled,\n",
    "    epochs=epochs,\n",
    "    batch_size=batch_size,\n",
    "    validation_split=validation,\n",
    "    callbacks=[\n",
    "        tf.keras.callbacks.EarlyStopping(monitor=\"val_loss\", patience=2, mode=\"min\")\n",
    "    ],\n",
    ")"
   ]
  },
  {
   "cell_type": "code",
   "execution_count": 18,
   "id": "20c05c1a-dc77-4032-aada-d357d69dc782",
   "metadata": {},
   "outputs": [
    {
     "data": {
      "image/png": "[encoded data removed]",
      "text/plain": [
       "<Figure size 432x288 with 1 Axes>"
      ]
     },
     "metadata": {
      "needs_background": "light"
     },
     "output_type": "display_data"
    }
   ],
   "source": [
    "plt.plot(history.history[\"loss\"], label=\"Train Loss\")\n",
    "plt.plot(history.history[\"val_loss\"], label=\"Valid Loss\")\n",
    "plt.legend()\n",
    "plt.show()"
   ]
  },
  {
   "cell_type": "code",
   "execution_count": 19,
   "id": "7a8eea01-d008-49da-8626-e1f0813d3ae3",
   "metadata": {},
   "outputs": [
    {
     "name": "stderr",
     "output_type": "stream",
     "text": [
      "2022-05-11 00:04:13.260835: I tensorflow/core/grappler/optimizers/custom_graph_optimizer_registry.cc:113] Plugin optimizer for device_type GPU is enabled.\n"
     ]
    }
   ],
   "source": [
    "train_predictions = lstm_ae0.predict(train_scaled)"
   ]
  },
  {
   "cell_type": "code",
   "execution_count": 20,
   "id": "1b2325a3-2a51-4901-b139-1084d7b5ff3e",
   "metadata": {},
   "outputs": [],
   "source": [
    "threshold = 0.2"
   ]
  },
  {
   "cell_type": "code",
   "execution_count": 21,
   "id": "5a83f78b-99d0-455f-9f90-6875f1ca9567",
   "metadata": {},
   "outputs": [],
   "source": [
    "train_error = []\n",
    "for i in range(len(train_scaled)):\n",
    "    if np.sqrt(np.mean(np.power(train_predictions.reshape(train_predictions.shape[0], train_predictions.shape[1] * train_predictions.shape[2])[i] - train_scaled.reshape(train_predictions.shape[0], train_predictions.shape[1] * train_predictions.shape[2])[i], 2))) > threshold:\n",
    "        train_error.append(1)\n",
    "    else:\n",
    "        train_error.append(0)"
   ]
  },
  {
   "cell_type": "code",
   "execution_count": 22,
   "id": "985650c8-ab3e-4216-9ac9-641ede0093a0",
   "metadata": {},
   "outputs": [
    {
     "data": {
      "text/plain": [
       "Prediction\n",
       "0             163134\n",
       "1              47100\n",
       "dtype: int64"
      ]
     },
     "execution_count": 22,
     "metadata": {},
     "output_type": "execute_result"
    }
   ],
   "source": [
    "train_error = pd.DataFrame(train_error, columns=['Prediction'])\n",
    "train_error.value_counts()"
   ]
  },
  {
   "cell_type": "code",
   "execution_count": 23,
   "id": "1b8965d3-b04c-43bb-89d0-e19f2cb6580b",
   "metadata": {},
   "outputs": [],
   "source": [
    "err_index = list(train_error[train_error['Prediction'] == 1].index)"
   ]
  },
  {
   "cell_type": "code",
   "execution_count": 24,
   "id": "974c8bd0-b4ce-4e61-bb9e-b1b21ac2d278",
   "metadata": {},
   "outputs": [],
   "source": [
    "r_train = train.drop(err_index)\n",
    "r_train.reset_index(drop=True, inplace=True)"
   ]
  },
  {
   "cell_type": "markdown",
   "id": "53f1e80a-b593-4b60-bca2-71e3ff2b09cc",
   "metadata": {},
   "source": [
    "# Prepare dataset for test"
   ]
  },
  {
   "cell_type": "code",
   "execution_count": 25,
   "id": "342b6370-d4bd-46cc-bc83-9a5bb08db5f1",
   "metadata": {},
   "outputs": [],
   "source": [
    "test = all_data[105120:]\n",
    "test.reset_index(drop=True, inplace=True)"
   ]
  },
  {
   "cell_type": "markdown",
   "id": "cb4a8dc1-cd6b-44d8-a44a-d85c5f11f828",
   "metadata": {
    "tags": []
   },
   "source": [
    "## Transform to sequence"
   ]
  },
  {
   "cell_type": "code",
   "execution_count": 26,
   "id": "441db551-1647-4f11-8b9b-39e9d750a290",
   "metadata": {},
   "outputs": [
    {
     "name": "stdout",
     "output_type": "stream",
     "text": [
      "(105114, 5, 33)\n"
     ]
    }
   ],
   "source": [
    "trans_train = to_seq(r_train, step)\n",
    "trans_test = to_seq(test, step)\n",
    "print(trans_test.shape)"
   ]
  },
  {
   "cell_type": "code",
   "execution_count": 27,
   "id": "b9cab7d8-13f7-4921-b326-07722ae9eb4d",
   "metadata": {},
   "outputs": [],
   "source": [
    "train_seq = trans_train"
   ]
  },
  {
   "cell_type": "markdown",
   "id": "aa4f3a67-8f78-45ad-9d5d-b6f77444e890",
   "metadata": {},
   "source": [
    "## dimension down & feature scale"
   ]
  },
  {
   "cell_type": "code",
   "execution_count": 28,
   "id": "d14beca9-6073-45ab-835f-7b188d827d0b",
   "metadata": {},
   "outputs": [
    {
     "name": "stdout",
     "output_type": "stream",
     "text": [
      "(163134, 5, 33)\n",
      "(105114, 5, 33)\n"
     ]
    }
   ],
   "source": [
    "scaler = MinMaxScaler().fit(dimension_down(train_seq))\n",
    "train_scaled = scaling(trans_train, scaler)\n",
    "test_scaled = scaling(trans_test, scaler)\n",
    "print(train_scaled.shape)\n",
    "print(test_scaled.shape)"
   ]
  },
  {
   "cell_type": "markdown",
   "id": "77f9201e-eabf-47f4-b560-b322ef2c285d",
   "metadata": {},
   "source": [
    "## LSTM AE for testset"
   ]
  },
  {
   "cell_type": "code",
   "execution_count": 29,
   "id": "50edd6f0-8ebd-44a3-b532-207246b25a91",
   "metadata": {},
   "outputs": [],
   "source": [
    "def lstm_autoencoder2():\n",
    "    feature_number = train_scaled.shape[2]\n",
    "    lstm_ae = models.Sequential()\n",
    "\n",
    "    # Encoding\n",
    "    lstm_ae.add(layers.LSTM(64, activation=\"swish\", input_shape=(step, feature_number), return_sequences=True))\n",
    "    lstm_ae.add(layers.LSTM(32, activation=\"swish\", return_sequences=False))\n",
    "    lstm_ae.add(layers.RepeatVector(step))\n",
    "\n",
    "    # Decoding\n",
    "    lstm_ae.add(layers.LSTM(32, activation=\"swish\", return_sequences=True))\n",
    "    lstm_ae.add(layers.LSTM(64, activation=\"swish\", return_sequences=True))\n",
    "    lstm_ae.add(layers.TimeDistributed(layers.Dense(feature_number)))\n",
    "\n",
    "    print(lstm_ae.summary())\n",
    "    return lstm_ae"
   ]
  },
  {
   "cell_type": "code",
   "execution_count": 30,
   "id": "7f1c40f2-ffce-4e37-b54e-285e507fcf29",
   "metadata": {},
   "outputs": [
    {
     "name": "stdout",
     "output_type": "stream",
     "text": [
      "WARNING:tensorflow:Layer lstm_4 will not use cuDNN kernels since it doesn't meet the criteria. It will use a generic GPU kernel as fallback when running on GPU.\n",
      "WARNING:tensorflow:Layer lstm_5 will not use cuDNN kernels since it doesn't meet the criteria. It will use a generic GPU kernel as fallback when running on GPU.\n",
      "WARNING:tensorflow:Layer lstm_6 will not use cuDNN kernels since it doesn't meet the criteria. It will use a generic GPU kernel as fallback when running on GPU.\n",
      "WARNING:tensorflow:Layer lstm_7 will not use cuDNN kernels since it doesn't meet the criteria. It will use a generic GPU kernel as fallback when running on GPU.\n",
      "Model: \"sequential_1\"\n",
      "_________________________________________________________________\n",
      " Layer (type)                Output Shape              Param #   \n",
      "=================================================================\n",
      " lstm_4 (LSTM)               (None, 5, 64)             25088     \n",
      "                                                                 \n",
      " lstm_5 (LSTM)               (None, 32)                12416     \n",
      "                                                                 \n",
      " repeat_vector_1 (RepeatVect  (None, 5, 32)            0         \n",
      " or)                                                             \n",
      "                                                                 \n",
      " lstm_6 (LSTM)               (None, 5, 32)             8320      \n",
      "                                                                 \n",
      " lstm_7 (LSTM)               (None, 5, 64)             24832     \n",
      "                                                                 \n",
      " time_distributed_1 (TimeDis  (None, 5, 33)            2145      \n",
      " tributed)                                                       \n",
      "                                                                 \n",
      "=================================================================\n",
      "Total params: 72,801\n",
      "Trainable params: 72,801\n",
      "Non-trainable params: 0\n",
      "_________________________________________________________________\n",
      "None\n"
     ]
    }
   ],
   "source": [
    "lstm_ae1 = lstm_autoencoder2()"
   ]
  },
  {
   "cell_type": "code",
   "execution_count": 31,
   "id": "a9d8a13e-7b02-433f-a76c-fe83d6cd0576",
   "metadata": {},
   "outputs": [],
   "source": [
    "# set parameter\n",
    "\n",
    "epochs = 10\n",
    "batch_size = 128\n",
    "learning_rate = 0.001\n",
    "validation = 0.2"
   ]
  },
  {
   "cell_type": "code",
   "execution_count": 32,
   "id": "958ca416-8d36-4ebb-91a4-20bb538569b6",
   "metadata": {},
   "outputs": [],
   "source": [
    "# compile\n",
    "\n",
    "lstm_ae1.compile(loss=\"mse\", optimizer=optimizers.Adam(learning_rate))"
   ]
  },
  {
   "cell_type": "code",
   "execution_count": 33,
   "id": "5f6c1263-1316-4551-aed2-36a29d35e4f1",
   "metadata": {},
   "outputs": [
    {
     "name": "stdout",
     "output_type": "stream",
     "text": [
      "Epoch 1/10\n"
     ]
    },
    {
     "name": "stderr",
     "output_type": "stream",
     "text": [
      "2022-05-11 00:08:58.560859: I tensorflow/core/grappler/optimizers/custom_graph_optimizer_registry.cc:113] Plugin optimizer for device_type GPU is enabled.\n"
     ]
    },
    {
     "name": "stdout",
     "output_type": "stream",
     "text": [
      "1020/1020 [==============================] - ETA: 0s - loss: 0.0023"
     ]
    },
    {
     "name": "stderr",
     "output_type": "stream",
     "text": [
      "2022-05-11 00:12:25.525133: I tensorflow/core/grappler/optimizers/custom_graph_optimizer_registry.cc:113] Plugin optimizer for device_type GPU is enabled.\n"
     ]
    },
    {
     "name": "stdout",
     "output_type": "stream",
     "text": [
      "1020/1020 [==============================] - 214s 208ms/step - loss: 0.0023 - val_loss: 4.3590e-04\n",
      "Epoch 2/10\n",
      "1020/1020 [==============================] - 1255s 1s/step - loss: 3.1101e-04 - val_loss: 4.0158e-04\n",
      "Epoch 3/10\n",
      "1020/1020 [==============================] - 845s 830ms/step - loss: 2.3319e-04 - val_loss: 2.4235e-04\n",
      "Epoch 4/10\n",
      "1020/1020 [==============================] - 196s 192ms/step - loss: 2.0239e-04 - val_loss: 2.2395e-04\n",
      "Epoch 5/10\n",
      "1020/1020 [==============================] - 216s 211ms/step - loss: 1.7491e-04 - val_loss: 1.8733e-04\n",
      "Epoch 6/10\n",
      "1020/1020 [==============================] - 679s 666ms/step - loss: 1.5566e-04 - val_loss: 1.6854e-04\n",
      "Epoch 7/10\n",
      "1020/1020 [==============================] - 197s 193ms/step - loss: 1.4701e-04 - val_loss: 1.5660e-04\n",
      "Epoch 8/10\n",
      "1020/1020 [==============================] - 214s 210ms/step - loss: 1.4053e-04 - val_loss: 1.5119e-04\n",
      "Epoch 9/10\n",
      "1020/1020 [==============================] - 230s 225ms/step - loss: 1.3666e-04 - val_loss: 1.4177e-04\n",
      "Epoch 10/10\n",
      "1020/1020 [==============================] - 215s 211ms/step - loss: 1.3393e-04 - val_loss: 1.4643e-04\n"
     ]
    }
   ],
   "source": [
    "# fit\n",
    "\n",
    "history = lstm_ae1.fit(\n",
    "    train_scaled,\n",
    "    train_scaled,\n",
    "    epochs=epochs,\n",
    "    batch_size=batch_size,\n",
    "    validation_split=validation,\n",
    "    callbacks=[\n",
    "        tf.keras.callbacks.EarlyStopping(monitor=\"val_loss\", patience=2, mode=\"min\")\n",
    "    ],\n",
    ")"
   ]
  },
  {
   "cell_type": "markdown",
   "id": "84e8600f-1898-495a-9fa0-c941f4758738",
   "metadata": {},
   "source": [
    "# detect anormal"
   ]
  },
  {
   "cell_type": "markdown",
   "id": "b402fef1-ad38-465b-9997-067807ecfdc9",
   "metadata": {
    "tags": []
   },
   "source": [
    "## test mse loss"
   ]
  },
  {
   "cell_type": "code",
   "execution_count": 34,
   "id": "995da290-170b-4607-9d2c-a5cd88f8918c",
   "metadata": {},
   "outputs": [
    {
     "name": "stderr",
     "output_type": "stream",
     "text": [
      "2022-05-11 01:19:59.596126: I tensorflow/core/grappler/optimizers/custom_graph_optimizer_registry.cc:113] Plugin optimizer for device_type GPU is enabled.\n"
     ]
    }
   ],
   "source": [
    "test_predictions = lstm_ae1.predict(test_scaled)"
   ]
  },
  {
   "cell_type": "code",
   "execution_count": 52,
   "id": "6bed9ae5-d765-4bab-8a54-48082320f1bc",
   "metadata": {},
   "outputs": [],
   "source": [
    "threshold = 0.11"
   ]
  },
  {
   "cell_type": "code",
   "execution_count": 53,
   "id": "599fd6c1-23a6-486f-b305-ca8f3e033359",
   "metadata": {},
   "outputs": [],
   "source": [
    "predict = []\n",
    "for i in range(len(test_scaled)):\n",
    "    if np.sqrt(np.mean(np.power(test_predictions.reshape(test_predictions.shape[0], test_predictions.shape[1] * test_predictions.shape[2])[i] - test_scaled.reshape(test_predictions.shape[0], test_predictions.shape[1] * test_predictions.shape[2])[i], 2))) > threshold:\n",
    "        predict.append(1)\n",
    "    else:\n",
    "        predict.append(0)"
   ]
  },
  {
   "cell_type": "code",
   "execution_count": 54,
   "id": "b0c37901-c998-47f0-bfca-4b4209356e98",
   "metadata": {},
   "outputs": [
    {
     "data": {
      "text/plain": [
       "Prediction\n",
       "0             104731\n",
       "1                383\n",
       "dtype: int64"
      ]
     },
     "execution_count": 54,
     "metadata": {},
     "output_type": "execute_result"
    }
   ],
   "source": [
    "predict = pd.DataFrame(predict, columns=['Prediction'])\n",
    "predict.value_counts()"
   ]
  },
  {
   "cell_type": "code",
   "execution_count": 38,
   "id": "01271ffe-1857-4e26-9b42-7e68a3303996",
   "metadata": {},
   "outputs": [
    {
     "data": {
      "text/html": [
       "<div>\n",
       "<style scoped>\n",
       "    .dataframe tbody tr th:only-of-type {\n",
       "        vertical-align: middle;\n",
       "    }\n",
       "\n",
       "    .dataframe tbody tr th {\n",
       "        vertical-align: top;\n",
       "    }\n",
       "\n",
       "    .dataframe thead th {\n",
       "        text-align: right;\n",
       "    }\n",
       "</style>\n",
       "<table border=\"1\" class=\"dataframe\">\n",
       "  <thead>\n",
       "    <tr style=\"text-align: right;\">\n",
       "      <th></th>\n",
       "      <th>Prediction</th>\n",
       "    </tr>\n",
       "  </thead>\n",
       "  <tbody>\n",
       "    <tr>\n",
       "      <th>1137</th>\n",
       "      <td>1</td>\n",
       "    </tr>\n",
       "    <tr>\n",
       "      <th>1138</th>\n",
       "      <td>1</td>\n",
       "    </tr>\n",
       "    <tr>\n",
       "      <th>1139</th>\n",
       "      <td>1</td>\n",
       "    </tr>\n",
       "    <tr>\n",
       "      <th>2226</th>\n",
       "      <td>1</td>\n",
       "    </tr>\n",
       "    <tr>\n",
       "      <th>2227</th>\n",
       "      <td>1</td>\n",
       "    </tr>\n",
       "    <tr>\n",
       "      <th>...</th>\n",
       "      <td>...</td>\n",
       "    </tr>\n",
       "    <tr>\n",
       "      <th>105109</th>\n",
       "      <td>1</td>\n",
       "    </tr>\n",
       "    <tr>\n",
       "      <th>105110</th>\n",
       "      <td>1</td>\n",
       "    </tr>\n",
       "    <tr>\n",
       "      <th>105111</th>\n",
       "      <td>1</td>\n",
       "    </tr>\n",
       "    <tr>\n",
       "      <th>105112</th>\n",
       "      <td>1</td>\n",
       "    </tr>\n",
       "    <tr>\n",
       "      <th>105113</th>\n",
       "      <td>1</td>\n",
       "    </tr>\n",
       "  </tbody>\n",
       "</table>\n",
       "<p>471 rows × 1 columns</p>\n",
       "</div>"
      ],
      "text/plain": [
       "        Prediction\n",
       "1137             1\n",
       "1138             1\n",
       "1139             1\n",
       "2226             1\n",
       "2227             1\n",
       "...            ...\n",
       "105109           1\n",
       "105110           1\n",
       "105111           1\n",
       "105112           1\n",
       "105113           1\n",
       "\n",
       "[471 rows x 1 columns]"
      ]
     },
     "execution_count": 38,
     "metadata": {},
     "output_type": "execute_result"
    }
   ],
   "source": [
    "predict[predict['Prediction']==1]"
   ]
  },
  {
   "cell_type": "code",
   "execution_count": 39,
   "id": "5c2c0b7d-dc28-4a15-902c-7c16b38a8479",
   "metadata": {},
   "outputs": [],
   "source": [
    "predict.to_csv('predict0510_1.csv', mode='w')"
   ]
  },
  {
   "cell_type": "code",
   "execution_count": 40,
   "id": "cbba5ff0-cb08-4b22-8619-f7c835148019",
   "metadata": {},
   "outputs": [
    {
     "data": {
      "text/plain": [
       "(105114, 33)"
      ]
     },
     "execution_count": 40,
     "metadata": {},
     "output_type": "execute_result"
    }
   ],
   "source": [
    "np.sqrt(np.mean(np.power(test_predictions - test_scaled, 2), axis=1)).shape"
   ]
  },
  {
   "cell_type": "code",
   "execution_count": 48,
   "id": "ebed2e72-570b-4338-8346-98e264aa5c63",
   "metadata": {},
   "outputs": [],
   "source": [
    "pd.DataFrame(np.sqrt(np.mean(np.power(test_predictions.reshape(test_predictions.shape[0], test_predictions.shape[1] * test_predictions.shape[2]) - test_scaled.reshape(test_predictions.shape[0], test_predictions.shape[1] * test_predictions.shape[2]), 2), axis=1))).to_csv('rmse.csv', mode='w')"
   ]
  },
  {
   "cell_type": "code",
   "execution_count": null,
   "id": "8b9184e4-c566-4831-a2b6-ac9a8c9a1400",
   "metadata": {},
   "outputs": [],
   "source": []
  }
 ],
 "metadata": {
  "kernelspec": {
   "display_name": "Python 3 (ipykernel)",
   "language": "python",
   "name": "python3"
  },
  "language_info": {
   "codemirror_mode": {
    "name": "ipython",
    "version": 3
   },
   "file_extension": ".py",
   "mimetype": "text/x-python",
   "name": "python",
   "nbconvert_exporter": "python",
   "pygments_lexer": "ipython3",
   "version": "3.8.13"
  }
 },
 "nbformat": 4,
 "nbformat_minor": 5
}
