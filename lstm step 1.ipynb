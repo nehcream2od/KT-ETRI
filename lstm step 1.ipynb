{
 "cells": [
  {
   "cell_type": "markdown",
   "id": "30855043-3358-4281-b592-b03966150cb2",
   "metadata": {
    "tags": []
   },
   "source": [
    "#  Import Libraries"
   ]
  },
  {
   "cell_type": "code",
   "execution_count": 1,
   "id": "f593f1db-be2d-4572-86d0-c9ef3556baf1",
   "metadata": {},
   "outputs": [],
   "source": [
    "from collections import Counter\n",
    "\n",
    "import matplotlib.pyplot as plt\n",
    "import numpy as np\n",
    "import pandas as pd\n",
    "import seaborn as sns\n",
    "import tensorflow as tf\n",
    "from pylab import rcParams\n",
    "from sklearn import metrics, preprocessing\n",
    "from sklearn.model_selection import train_test_split\n",
    "from sklearn.preprocessing import StandardScaler\n",
    "from tensorflow.keras import Model, layers, models, optimizers, regularizers\n",
    "from tensorflow.keras.layers import Input, Dropout, LSTM, TimeDistributed, RepeatVector, Dense\n",
    "from tensorflow.keras.callbacks import ModelCheckpoint, EarlyStopping\n"
   ]
  },
  {
   "cell_type": "markdown",
   "id": "fcddeda4-a0f7-41fb-a60f-dce52751050c",
   "metadata": {
    "tags": []
   },
   "source": [
    "# Load Data"
   ]
  },
  {
   "cell_type": "code",
   "execution_count": 2,
   "id": "a10f8ef7-a7a1-4b58-a77f-6e13e2a254cf",
   "metadata": {},
   "outputs": [
    {
     "data": {
      "text/html": [
       "<div>\n",
       "<style scoped>\n",
       "    .dataframe tbody tr th:only-of-type {\n",
       "        vertical-align: middle;\n",
       "    }\n",
       "\n",
       "    .dataframe tbody tr th {\n",
       "        vertical-align: top;\n",
       "    }\n",
       "\n",
       "    .dataframe thead th {\n",
       "        text-align: right;\n",
       "    }\n",
       "</style>\n",
       "<table border=\"1\" class=\"dataframe\">\n",
       "  <thead>\n",
       "    <tr style=\"text-align: right;\">\n",
       "      <th></th>\n",
       "      <th>Unnamed: 0</th>\n",
       "      <th>Timestamp</th>\n",
       "      <th>Svr_detect</th>\n",
       "      <th>Svr_connect</th>\n",
       "      <th>Ss_request</th>\n",
       "      <th>Ss_Established</th>\n",
       "    </tr>\n",
       "  </thead>\n",
       "  <tbody>\n",
       "    <tr>\n",
       "      <th>0</th>\n",
       "      <td>0</td>\n",
       "      <td>2021-01-01 00:00:00</td>\n",
       "      <td>-0.016186</td>\n",
       "      <td>-0.416007</td>\n",
       "      <td>2.613224</td>\n",
       "      <td>-2.001920</td>\n",
       "    </tr>\n",
       "    <tr>\n",
       "      <th>1</th>\n",
       "      <td>1</td>\n",
       "      <td>2021-01-01 00:10:00</td>\n",
       "      <td>-0.016187</td>\n",
       "      <td>-0.417978</td>\n",
       "      <td>1.613015</td>\n",
       "      <td>3.997872</td>\n",
       "    </tr>\n",
       "    <tr>\n",
       "      <th>2</th>\n",
       "      <td>2</td>\n",
       "      <td>2021-01-01 00:20:00</td>\n",
       "      <td>-0.016188</td>\n",
       "      <td>-0.419948</td>\n",
       "      <td>-1.387194</td>\n",
       "      <td>-0.002336</td>\n",
       "    </tr>\n",
       "    <tr>\n",
       "      <th>3</th>\n",
       "      <td>3</td>\n",
       "      <td>2021-01-01 00:30:00</td>\n",
       "      <td>-0.016190</td>\n",
       "      <td>-0.421918</td>\n",
       "      <td>-1.387403</td>\n",
       "      <td>3.997456</td>\n",
       "    </tr>\n",
       "    <tr>\n",
       "      <th>4</th>\n",
       "      <td>4</td>\n",
       "      <td>2021-01-01 00:40:00</td>\n",
       "      <td>-0.016191</td>\n",
       "      <td>-0.423889</td>\n",
       "      <td>-0.387612</td>\n",
       "      <td>-1.002753</td>\n",
       "    </tr>\n",
       "  </tbody>\n",
       "</table>\n",
       "</div>"
      ],
      "text/plain": [
       "   Unnamed: 0            Timestamp  Svr_detect  Svr_connect  Ss_request  \\\n",
       "0           0  2021-01-01 00:00:00   -0.016186    -0.416007    2.613224   \n",
       "1           1  2021-01-01 00:10:00   -0.016187    -0.417978    1.613015   \n",
       "2           2  2021-01-01 00:20:00   -0.016188    -0.419948   -1.387194   \n",
       "3           3  2021-01-01 00:30:00   -0.016190    -0.421918   -1.387403   \n",
       "4           4  2021-01-01 00:40:00   -0.016191    -0.423889   -0.387612   \n",
       "\n",
       "   Ss_Established  \n",
       "0       -2.001920  \n",
       "1        3.997872  \n",
       "2       -0.002336  \n",
       "3        3.997456  \n",
       "4       -1.002753  "
      ]
     },
     "execution_count": 2,
     "metadata": {},
     "output_type": "execute_result"
    }
   ],
   "source": [
    "train = pd.read_csv(\"Prophet/train.csv\")\n",
    "test = pd.read_csv(\"Prophet/test.csv\")\n",
    "\n",
    "train.head()"
   ]
  },
  {
   "cell_type": "code",
   "execution_count": 3,
   "id": "14f44266-6899-4786-ad4c-08a922c35eb9",
   "metadata": {},
   "outputs": [],
   "source": [
    "train.drop(\"Unnamed: 0\", inplace=True, axis=1)\n",
    "test.drop(\"Unnamed: 0\", inplace=True, axis=1)"
   ]
  },
  {
   "cell_type": "code",
   "execution_count": 4,
   "id": "03cf0ce5-d13b-4cc9-8f05-6980f67a6056",
   "metadata": {},
   "outputs": [],
   "source": [
    "train.set_index(\"Timestamp\", inplace=True, drop=True)\n",
    "test.set_index(\"Timestamp\", inplace=True, drop=True)"
   ]
  },
  {
   "cell_type": "code",
   "execution_count": 5,
   "id": "335436d4-16af-49be-aad5-f47c2f1ec169",
   "metadata": {},
   "outputs": [
    {
     "data": {
      "text/html": [
       "<div>\n",
       "<style scoped>\n",
       "    .dataframe tbody tr th:only-of-type {\n",
       "        vertical-align: middle;\n",
       "    }\n",
       "\n",
       "    .dataframe tbody tr th {\n",
       "        vertical-align: top;\n",
       "    }\n",
       "\n",
       "    .dataframe thead th {\n",
       "        text-align: right;\n",
       "    }\n",
       "</style>\n",
       "<table border=\"1\" class=\"dataframe\">\n",
       "  <thead>\n",
       "    <tr style=\"text-align: right;\">\n",
       "      <th></th>\n",
       "      <th>Svr_detect</th>\n",
       "      <th>Svr_connect</th>\n",
       "      <th>Ss_request</th>\n",
       "      <th>Ss_Established</th>\n",
       "    </tr>\n",
       "    <tr>\n",
       "      <th>Timestamp</th>\n",
       "      <th></th>\n",
       "      <th></th>\n",
       "      <th></th>\n",
       "      <th></th>\n",
       "    </tr>\n",
       "  </thead>\n",
       "  <tbody>\n",
       "    <tr>\n",
       "      <th>2021-01-01 00:00:00</th>\n",
       "      <td>-0.016186</td>\n",
       "      <td>-0.416007</td>\n",
       "      <td>2.613224</td>\n",
       "      <td>-2.001920</td>\n",
       "    </tr>\n",
       "    <tr>\n",
       "      <th>2021-01-01 00:10:00</th>\n",
       "      <td>-0.016187</td>\n",
       "      <td>-0.417978</td>\n",
       "      <td>1.613015</td>\n",
       "      <td>3.997872</td>\n",
       "    </tr>\n",
       "    <tr>\n",
       "      <th>2021-01-01 00:20:00</th>\n",
       "      <td>-0.016188</td>\n",
       "      <td>-0.419948</td>\n",
       "      <td>-1.387194</td>\n",
       "      <td>-0.002336</td>\n",
       "    </tr>\n",
       "    <tr>\n",
       "      <th>2021-01-01 00:30:00</th>\n",
       "      <td>-0.016190</td>\n",
       "      <td>-0.421918</td>\n",
       "      <td>-1.387403</td>\n",
       "      <td>3.997456</td>\n",
       "    </tr>\n",
       "    <tr>\n",
       "      <th>2021-01-01 00:40:00</th>\n",
       "      <td>-0.016191</td>\n",
       "      <td>-0.423889</td>\n",
       "      <td>-0.387612</td>\n",
       "      <td>-1.002753</td>\n",
       "    </tr>\n",
       "  </tbody>\n",
       "</table>\n",
       "</div>"
      ],
      "text/plain": [
       "                     Svr_detect  Svr_connect  Ss_request  Ss_Established\n",
       "Timestamp                                                               \n",
       "2021-01-01 00:00:00   -0.016186    -0.416007    2.613224       -2.001920\n",
       "2021-01-01 00:10:00   -0.016187    -0.417978    1.613015        3.997872\n",
       "2021-01-01 00:20:00   -0.016188    -0.419948   -1.387194       -0.002336\n",
       "2021-01-01 00:30:00   -0.016190    -0.421918   -1.387403        3.997456\n",
       "2021-01-01 00:40:00   -0.016191    -0.423889   -0.387612       -1.002753"
      ]
     },
     "execution_count": 5,
     "metadata": {},
     "output_type": "execute_result"
    }
   ],
   "source": [
    "train.head()"
   ]
  },
  {
   "cell_type": "code",
   "execution_count": 6,
   "id": "204d8a59-1380-404e-b4e6-e556a5c6ea1f",
   "metadata": {},
   "outputs": [
    {
     "name": "stdout",
     "output_type": "stream",
     "text": [
      "4\n"
     ]
    }
   ],
   "source": [
    "n_features = train.shape[1]\n",
    "print(n_features)"
   ]
  },
  {
   "cell_type": "markdown",
   "id": "591cff18-d688-4097-8ee5-b1f89488441c",
   "metadata": {},
   "source": [
    "# standardization"
   ]
  },
  {
   "cell_type": "code",
   "execution_count": 7,
   "id": "1ce70b84-ac19-469d-bf56-c9f4c831a850",
   "metadata": {},
   "outputs": [],
   "source": [
    "scaler = preprocessing.StandardScaler().fit(train)\n",
    "\n",
    "train_scaled = scaler.transform(train)\n",
    "test_scaled = scaler.transform(test)"
   ]
  },
  {
   "cell_type": "markdown",
   "id": "b7985a31-8940-43c9-8098-57ca091bab84",
   "metadata": {
    "tags": []
   },
   "source": [
    "# Transform to Series Data, train test split"
   ]
  },
  {
   "cell_type": "code",
   "execution_count": 8,
   "id": "15dc69cc-a0e0-4a99-91b9-30afd0c2f244",
   "metadata": {},
   "outputs": [],
   "source": [
    "train_set = train_scaled.reshape(len(train_scaled), 1, 4)[len(train_scaled)// 10 * 7:]\n",
    "valid_set = train_scaled.reshape(len(train_scaled), 1, 4)[:len(train_scaled)// 10 * 7]\n",
    "test_set = test_scaled.reshape(len(test_scaled), 1, 4)"
   ]
  },
  {
   "cell_type": "markdown",
   "id": "d8cb6aff-acc6-4ac8-9456-0379e3abb708",
   "metadata": {
    "tags": []
   },
   "source": [
    "# Training LSTM Autoencoder"
   ]
  },
  {
   "cell_type": "code",
   "execution_count": 9,
   "id": "bae54efc-75bc-4eaa-980d-131f1b9b7ece",
   "metadata": {},
   "outputs": [],
   "source": [
    "def autoencoder_model(X):\n",
    "    inputs = Input(shape=(X.shape[1], X.shape[2]))\n",
    "    L1 = LSTM(140, activation='relu', return_sequences=True, kernel_regularizer=regularizers. l2(0.00))(inputs)\n",
    "    \n",
    "    L2 = LSTM(70, activation='relu', return_sequences=False)(L1)\n",
    "    L3 = RepeatVector(X.shape[1])(L2)\n",
    "    L4 = LSTM(70, activation='relu', return_sequences=True)(L3)\n",
    "    L5 = LSTM(140, activation='relu', return_sequences=True)(L4)\n",
    "    output = TimeDistributed(Dense(X.shape[2]))(L5)\n",
    "    model = Model(inputs=inputs, outputs=output)\n",
    "    return model"
   ]
  },
  {
   "cell_type": "code",
   "execution_count": 10,
   "id": "01f1d560-079c-47b6-8f29-d55e041f939f",
   "metadata": {},
   "outputs": [
    {
     "name": "stdout",
     "output_type": "stream",
     "text": [
      "WARNING:tensorflow:Layer lstm will not use cuDNN kernels since it doesn't meet the criteria. It will use a generic GPU kernel as fallback when running on GPU.\n",
      "Metal device set to: Apple M1\n",
      "\n",
      "systemMemory: 8.00 GB\n",
      "maxCacheSize: 2.67 GB\n",
      "\n",
      "WARNING:tensorflow:Layer lstm_1 will not use cuDNN kernels since it doesn't meet the criteria. It will use a generic GPU kernel as fallback when running on GPU.\n",
      "WARNING:tensorflow:Layer lstm_2 will not use cuDNN kernels since it doesn't meet the criteria. It will use a generic GPU kernel as fallback when running on GPU.\n",
      "WARNING:tensorflow:Layer lstm_3 will not use cuDNN kernels since it doesn't meet the criteria. It will use a generic GPU kernel as fallback when running on GPU.\n",
      "Model: \"model\"\n",
      "_________________________________________________________________\n"
     ]
    },
    {
     "name": "stderr",
     "output_type": "stream",
     "text": [
      "2022-05-04 13:29:39.920496: I tensorflow/core/common_runtime/pluggable_device/pluggable_device_factory.cc:305] Could not identify NUMA node of platform GPU ID 0, defaulting to 0. Your kernel may not have been built with NUMA support.\n",
      "2022-05-04 13:29:39.920674: I tensorflow/core/common_runtime/pluggable_device/pluggable_device_factory.cc:271] Created TensorFlow device (/job:localhost/replica:0/task:0/device:GPU:0 with 0 MB memory) -> physical PluggableDevice (device: 0, name: METAL, pci bus id: <undefined>)\n"
     ]
    },
    {
     "name": "stdout",
     "output_type": "stream",
     "text": [
      " Layer (type)                Output Shape              Param #   \n",
      "=================================================================\n",
      " input_1 (InputLayer)        [(None, 1, 4)]            0         \n",
      "                                                                 \n",
      " lstm (LSTM)                 (None, 1, 140)            81200     \n",
      "                                                                 \n",
      " lstm_1 (LSTM)               (None, 70)                59080     \n",
      "                                                                 \n",
      " repeat_vector (RepeatVector  (None, 1, 70)            0         \n",
      " )                                                               \n",
      "                                                                 \n",
      " lstm_2 (LSTM)               (None, 1, 70)             39480     \n",
      "                                                                 \n",
      " lstm_3 (LSTM)               (None, 1, 140)            118160    \n",
      "                                                                 \n",
      " time_distributed (TimeDistr  (None, 1, 4)             564       \n",
      " ibuted)                                                         \n",
      "                                                                 \n",
      "=================================================================\n",
      "Total params: 298,484\n",
      "Trainable params: 298,484\n",
      "Non-trainable params: 0\n",
      "_________________________________________________________________\n"
     ]
    }
   ],
   "source": [
    "model = autoencoder_model(train_set)\n",
    "model.compile(optimizer='adam', loss='mse')\n",
    "model.summary()"
   ]
  },
  {
   "cell_type": "code",
   "execution_count": 14,
   "id": "c1e0bf52-75d0-4102-8d3e-4975e882ad6b",
   "metadata": {
    "tags": []
   },
   "outputs": [
    {
     "name": "stdout",
     "output_type": "stream",
     "text": [
      "WARNING:tensorflow:Layer lstm_16 will not use cuDNN kernels since it doesn't meet the criteria. It will use a generic GPU kernel as fallback when running on GPU.\n",
      "WARNING:tensorflow:Layer lstm_17 will not use cuDNN kernels since it doesn't meet the criteria. It will use a generic GPU kernel as fallback when running on GPU.\n",
      "WARNING:tensorflow:Layer lstm_18 will not use cuDNN kernels since it doesn't meet the criteria. It will use a generic GPU kernel as fallback when running on GPU.\n",
      "WARNING:tensorflow:Layer lstm_19 will not use cuDNN kernels since it doesn't meet the criteria. It will use a generic GPU kernel as fallback when running on GPU.\n",
      "Epoch 1/1000\n"
     ]
    },
    {
     "name": "stderr",
     "output_type": "stream",
     "text": [
      "2022-05-04 13:36:00.706551: I tensorflow/core/grappler/optimizers/custom_graph_optimizer_registry.cc:113] Plugin optimizer for device_type GPU is enabled.\n"
     ]
    },
    {
     "name": "stdout",
     "output_type": "stream",
     "text": [
      "245/245 [==============================] - ETA: 0s - loss: 1.5188"
     ]
    },
    {
     "name": "stderr",
     "output_type": "stream",
     "text": [
      "2022-05-04 13:36:09.275511: I tensorflow/core/grappler/optimizers/custom_graph_optimizer_registry.cc:113] Plugin optimizer for device_type GPU is enabled.\n"
     ]
    },
    {
     "name": "stdout",
     "output_type": "stream",
     "text": [
      "245/245 [==============================] - 15s 57ms/step - loss: 1.5188 - val_loss: 0.0918\n",
      "Epoch 2/1000\n",
      "245/245 [==============================] - 14s 55ms/step - loss: 0.7885 - val_loss: 0.0302\n",
      "Epoch 3/1000\n",
      "245/245 [==============================] - 14s 55ms/step - loss: 0.3455 - val_loss: 0.0299\n",
      "Epoch 4/1000\n",
      "245/245 [==============================] - 13s 53ms/step - loss: 0.5036 - val_loss: 0.0782\n",
      "Epoch 5/1000\n",
      "245/245 [==============================] - 13s 53ms/step - loss: 0.3176 - val_loss: 0.0086\n",
      "Epoch 6/1000\n",
      "245/245 [==============================] - 13s 55ms/step - loss: 0.0187 - val_loss: 0.0050\n",
      "Epoch 7/1000\n",
      "245/245 [==============================] - 13s 54ms/step - loss: 0.0080 - val_loss: 0.0034\n",
      "Epoch 8/1000\n",
      "245/245 [==============================] - 13s 53ms/step - loss: 0.0180 - val_loss: 0.0035\n",
      "Epoch 9/1000\n",
      "245/245 [==============================] - 13s 53ms/step - loss: 0.0464 - val_loss: 0.0029\n",
      "Epoch 10/1000\n",
      "245/245 [==============================] - 13s 53ms/step - loss: 0.0226 - val_loss: 0.0029\n",
      "Epoch 11/1000\n",
      "245/245 [==============================] - 13s 51ms/step - loss: 0.0074 - val_loss: 0.0094\n",
      "Epoch 12/1000\n",
      "245/245 [==============================] - 13s 51ms/step - loss: 0.0986 - val_loss: 0.0039\n"
     ]
    }
   ],
   "source": [
    "model = autoencoder_model(train_set)\n",
    "model.compile(optimizer='adam', loss='mse')\n",
    "\n",
    "nb_eprochs = 1000\n",
    "batch_size = 32\n",
    "callbacks = [EarlyStopping(monitor='val_loss', patience=2)]\n",
    "history = model.fit(train_set, train_set, epochs=nb_eprochs, batch_size=batch_size, validation_data=(valid_set, valid_set), callbacks=callbacks)"
   ]
  },
  {
   "cell_type": "code",
   "execution_count": 15,
   "id": "883f05f2-605a-4500-a8dc-9089ab2c0c96",
   "metadata": {},
   "outputs": [
    {
     "data": {
      "image/png": "[encoded data removed]",
      "text/plain": [
       "<Figure size 432x288 with 1 Axes>"
      ]
     },
     "metadata": {
      "needs_background": "light"
     },
     "output_type": "display_data"
    }
   ],
   "source": [
    "plt.plot(history.history[\"loss\"], label=\"train loss\")\n",
    "plt.plot(history.history[\"val_loss\"], label=\"valid loss\")\n",
    "plt.legend()\n",
    "plt.xlabel(\"Epoch\")\n",
    "plt.ylabel(\"loss\")\n",
    "plt.show()"
   ]
  },
  {
   "cell_type": "markdown",
   "id": "b816a0f0-61c5-4739-81df-45119dec36a2",
   "metadata": {
    "tags": []
   },
   "source": [
    "# Threshold"
   ]
  },
  {
   "cell_type": "code",
   "execution_count": 16,
   "id": "0b59a86e-bbd9-4243-a91e-ef54b192f27d",
   "metadata": {},
   "outputs": [
    {
     "name": "stderr",
     "output_type": "stream",
     "text": [
      "2022-05-04 13:39:28.942459: I tensorflow/core/grappler/optimizers/custom_graph_optimizer_registry.cc:113] Plugin optimizer for device_type GPU is enabled.\n"
     ]
    }
   ],
   "source": [
    "loss = model.predict(valid_set) - valid_set"
   ]
  },
  {
   "cell_type": "code",
   "execution_count": 17,
   "id": "415cebed-2c48-471e-b9fb-628c1d3fe8c6",
   "metadata": {},
   "outputs": [],
   "source": [
    "loss = loss.reshape(loss.shape[0], loss.shape[2])"
   ]
  },
  {
   "cell_type": "code",
   "execution_count": 18,
   "id": "781f7197-b73a-4b1e-baf0-ccc8728ef4f2",
   "metadata": {},
   "outputs": [],
   "source": [
    "all_loss = []\n",
    "for i in range(len(loss)) :\n",
    "    all_loss.append(np.sqrt(np.mean(loss[i]**2)))"
   ]
  },
  {
   "cell_type": "code",
   "execution_count": 19,
   "id": "8fdfe0cc-944f-44e9-8eaf-d92af6d5e6d1",
   "metadata": {},
   "outputs": [
    {
     "name": "stdout",
     "output_type": "stream",
     "text": [
      "1.0748248486399459\n"
     ]
    }
   ],
   "source": [
    "threshold = np.mean(all_loss) +  24 * np.std(all_loss)\n",
    "print(threshold)"
   ]
  },
  {
   "cell_type": "code",
   "execution_count": 20,
   "id": "bcc3d3d6-b873-467c-b432-2b08dafd2a33",
   "metadata": {},
   "outputs": [],
   "source": [
    "threshold = 0.5"
   ]
  },
  {
   "cell_type": "markdown",
   "id": "9845e41b-e683-4861-8acf-c6e4675429bd",
   "metadata": {
    "tags": []
   },
   "source": [
    "# predict"
   ]
  },
  {
   "cell_type": "code",
   "execution_count": 21,
   "id": "2467a25f-b5b1-4ad4-b355-67e329ab45e3",
   "metadata": {},
   "outputs": [
    {
     "name": "stderr",
     "output_type": "stream",
     "text": [
      "2022-05-04 13:39:37.629232: I tensorflow/core/grappler/optimizers/custom_graph_optimizer_registry.cc:113] Plugin optimizer for device_type GPU is enabled.\n"
     ]
    }
   ],
   "source": [
    "best = pd.read_csv('autoencoder_best.csv')\n",
    "test_predictions = model.predict(test_set)"
   ]
  },
  {
   "cell_type": "code",
   "execution_count": 22,
   "id": "0e76fcb6-a3b8-499a-99d2-0531991b03cb",
   "metadata": {},
   "outputs": [],
   "source": [
    "predict = []\n",
    "for i in range(len(test_set)):\n",
    "    if np.sqrt(np.mean((test_set - test_predictions)[i]**2)) > threshold:\n",
    "        predict.append(1)\n",
    "    else:\n",
    "        predict.append(0)"
   ]
  },
  {
   "cell_type": "code",
   "execution_count": 23,
   "id": "05fb3d90-e571-4440-bbe1-2f951899fde6",
   "metadata": {},
   "outputs": [
    {
     "data": {
      "text/plain": [
       "0    26325\n",
       "1      171\n",
       "dtype: int64"
      ]
     },
     "execution_count": 23,
     "metadata": {},
     "output_type": "execute_result"
    }
   ],
   "source": [
    "pd.DataFrame(predict).value_counts()"
   ]
  },
  {
   "cell_type": "code",
   "execution_count": 24,
   "id": "a0bc3e83-ff97-4339-9440-3c2b91f865dc",
   "metadata": {},
   "outputs": [],
   "source": [
    "predict_= pd.DataFrame(predict, columns=['Prediction_'])"
   ]
  },
  {
   "cell_type": "code",
   "execution_count": 25,
   "id": "9a008de9-f202-438b-841e-f84cb4c5956e",
   "metadata": {},
   "outputs": [],
   "source": [
    "cont = pd.concat([predict_, best['Prediction']], axis=1)"
   ]
  },
  {
   "cell_type": "code",
   "execution_count": 26,
   "id": "a15574af-834f-4934-a97a-5d4b4624e14f",
   "metadata": {},
   "outputs": [
    {
     "data": {
      "text/html": [
       "<div>\n",
       "<style scoped>\n",
       "    .dataframe tbody tr th:only-of-type {\n",
       "        vertical-align: middle;\n",
       "    }\n",
       "\n",
       "    .dataframe tbody tr th {\n",
       "        vertical-align: top;\n",
       "    }\n",
       "\n",
       "    .dataframe thead th {\n",
       "        text-align: right;\n",
       "    }\n",
       "</style>\n",
       "<table border=\"1\" class=\"dataframe\">\n",
       "  <thead>\n",
       "    <tr style=\"text-align: right;\">\n",
       "      <th></th>\n",
       "      <th>Prediction_</th>\n",
       "      <th>Prediction</th>\n",
       "    </tr>\n",
       "  </thead>\n",
       "  <tbody>\n",
       "    <tr>\n",
       "      <th>0</th>\n",
       "      <td>0</td>\n",
       "      <td>0</td>\n",
       "    </tr>\n",
       "    <tr>\n",
       "      <th>1</th>\n",
       "      <td>0</td>\n",
       "      <td>0</td>\n",
       "    </tr>\n",
       "    <tr>\n",
       "      <th>2</th>\n",
       "      <td>0</td>\n",
       "      <td>0</td>\n",
       "    </tr>\n",
       "    <tr>\n",
       "      <th>3</th>\n",
       "      <td>0</td>\n",
       "      <td>0</td>\n",
       "    </tr>\n",
       "    <tr>\n",
       "      <th>4</th>\n",
       "      <td>0</td>\n",
       "      <td>0</td>\n",
       "    </tr>\n",
       "  </tbody>\n",
       "</table>\n",
       "</div>"
      ],
      "text/plain": [
       "   Prediction_  Prediction\n",
       "0            0           0\n",
       "1            0           0\n",
       "2            0           0\n",
       "3            0           0\n",
       "4            0           0"
      ]
     },
     "execution_count": 26,
     "metadata": {},
     "output_type": "execute_result"
    }
   ],
   "source": [
    "cont.head()"
   ]
  },
  {
   "cell_type": "code",
   "execution_count": 27,
   "id": "1f5b9e4d-ccf9-4053-bff2-ef6f5102421d",
   "metadata": {},
   "outputs": [
    {
     "data": {
      "text/html": [
       "<div>\n",
       "<style scoped>\n",
       "    .dataframe tbody tr th:only-of-type {\n",
       "        vertical-align: middle;\n",
       "    }\n",
       "\n",
       "    .dataframe tbody tr th {\n",
       "        vertical-align: top;\n",
       "    }\n",
       "\n",
       "    .dataframe thead th {\n",
       "        text-align: right;\n",
       "    }\n",
       "</style>\n",
       "<table border=\"1\" class=\"dataframe\">\n",
       "  <thead>\n",
       "    <tr style=\"text-align: right;\">\n",
       "      <th></th>\n",
       "      <th>Prediction_</th>\n",
       "      <th>Prediction</th>\n",
       "    </tr>\n",
       "  </thead>\n",
       "  <tbody>\n",
       "    <tr>\n",
       "      <th>161</th>\n",
       "      <td>0</td>\n",
       "      <td>1</td>\n",
       "    </tr>\n",
       "    <tr>\n",
       "      <th>162</th>\n",
       "      <td>0</td>\n",
       "      <td>1</td>\n",
       "    </tr>\n",
       "    <tr>\n",
       "      <th>163</th>\n",
       "      <td>0</td>\n",
       "      <td>1</td>\n",
       "    </tr>\n",
       "    <tr>\n",
       "      <th>496</th>\n",
       "      <td>0</td>\n",
       "      <td>1</td>\n",
       "    </tr>\n",
       "    <tr>\n",
       "      <th>497</th>\n",
       "      <td>0</td>\n",
       "      <td>1</td>\n",
       "    </tr>\n",
       "    <tr>\n",
       "      <th>...</th>\n",
       "      <td>...</td>\n",
       "      <td>...</td>\n",
       "    </tr>\n",
       "    <tr>\n",
       "      <th>21434</th>\n",
       "      <td>0</td>\n",
       "      <td>1</td>\n",
       "    </tr>\n",
       "    <tr>\n",
       "      <th>21995</th>\n",
       "      <td>0</td>\n",
       "      <td>1</td>\n",
       "    </tr>\n",
       "    <tr>\n",
       "      <th>25698</th>\n",
       "      <td>0</td>\n",
       "      <td>1</td>\n",
       "    </tr>\n",
       "    <tr>\n",
       "      <th>25699</th>\n",
       "      <td>0</td>\n",
       "      <td>1</td>\n",
       "    </tr>\n",
       "    <tr>\n",
       "      <th>25700</th>\n",
       "      <td>0</td>\n",
       "      <td>1</td>\n",
       "    </tr>\n",
       "  </tbody>\n",
       "</table>\n",
       "<p>73 rows × 2 columns</p>\n",
       "</div>"
      ],
      "text/plain": [
       "       Prediction_  Prediction\n",
       "161              0           1\n",
       "162              0           1\n",
       "163              0           1\n",
       "496              0           1\n",
       "497              0           1\n",
       "...            ...         ...\n",
       "21434            0           1\n",
       "21995            0           1\n",
       "25698            0           1\n",
       "25699            0           1\n",
       "25700            0           1\n",
       "\n",
       "[73 rows x 2 columns]"
      ]
     },
     "execution_count": 27,
     "metadata": {},
     "output_type": "execute_result"
    }
   ],
   "source": [
    "TT = cont[cont['Prediction_'] != cont['Prediction']]\n",
    "TT[TT['Prediction_'] == 0]"
   ]
  },
  {
   "cell_type": "code",
   "execution_count": 28,
   "id": "ff8f4049-e2d3-487a-93f7-217a9a05a055",
   "metadata": {},
   "outputs": [
    {
     "data": {
      "text/plain": [
       "(211, 2)"
      ]
     },
     "execution_count": 28,
     "metadata": {},
     "output_type": "execute_result"
    }
   ],
   "source": [
    "TT.shape"
   ]
  },
  {
   "cell_type": "code",
   "execution_count": 30,
   "id": "9d4d2303-2ce5-4727-8f5c-ecdd86005110",
   "metadata": {},
   "outputs": [
    {
     "data": {
      "text/plain": [
       "(26496, 1)"
      ]
     },
     "execution_count": 30,
     "metadata": {},
     "output_type": "execute_result"
    }
   ],
   "source": [
    "predict = []\n",
    "for i in range(len(test_set)):\n",
    "    if np.sqrt(np.mean((test_set - test_predictions)[i]**2)) > threshold:\n",
    "        predict.append(1)\n",
    "    else:\n",
    "        predict.append(0)\n",
    "pd.DataFrame(predict).value_counts()\n",
    "predict_= pd.DataFrame(predict, columns=['Prediction'])\n",
    "predict_.shape"
   ]
  },
  {
   "cell_type": "code",
   "execution_count": 33,
   "id": "3ea63d40-0264-4c4b-b5b9-f904f6404421",
   "metadata": {},
   "outputs": [],
   "source": [
    "predict_.to_csv('predict3.csv', mode='w')"
   ]
  },
  {
   "cell_type": "code",
   "execution_count": null,
   "id": "1381f8c3-5457-408a-ab86-c97d8809bb3c",
   "metadata": {},
   "outputs": [],
   "source": []
  }
 ],
 "metadata": {
  "kernelspec": {
   "display_name": "Python 3 (ipykernel)",
   "language": "python",
   "name": "python3"
  },
  "language_info": {
   "codemirror_mode": {
    "name": "ipython",
    "version": 3
   },
   "file_extension": ".py",
   "mimetype": "text/x-python",
   "name": "python",
   "nbconvert_exporter": "python",
   "pygments_lexer": "ipython3",
   "version": "3.8.13"
  },
  "toc-autonumbering": true
 },
 "nbformat": 4,
 "nbformat_minor": 5
}
