{
 "cells": [
  {
   "cell_type": "markdown",
   "metadata": {
    "id": "DwZDpfROBrvI"
   },
   "source": [
    "# 패키지 로딩 및 시드 설정"
   ]
  },
  {
   "cell_type": "code",
   "execution_count": 1,
   "metadata": {
    "colab": {
     "base_uri": "https://localhost:8080/"
    },
    "executionInfo": {
     "elapsed": 7375,
     "status": "ok",
     "timestamp": 1652277792962,
     "user": {
      "displayName": "안중찬",
      "userId": "14654903911588253163"
     },
     "user_tz": -540
    },
    "id": "nhr5L4FAO5fT",
    "outputId": "4aec8f2c-54d8-45e1-8143-6d5e2745707b"
   },
   "outputs": [
    {
     "name": "stderr",
     "output_type": "stream",
     "text": [
      "Importing plotly failed. Interactive plots will not work.\n"
     ]
    }
   ],
   "source": [
    "import numpy as np\n",
    "import pandas as pd\n",
    "import matplotlib.pyplot as plt\n",
    "%matplotlib inline\n",
    "import warnings\n",
    "warnings.filterwarnings('ignore')\n",
    "\n",
    "from prophet import Prophet \n",
    "\n",
    "\n",
    "from torch.utils.data import DataLoader\n",
    "from torch.utils.data import TensorDataset\n",
    "import torch\n",
    "import torch.nn as nn\n",
    "\n",
    "random_seed = 1339\n",
    "SEED = 1339\n",
    "torch.manual_seed(random_seed)\n",
    "np.random.seed(random_seed)\n",
    "import random\n",
    "import os\n",
    "random.seed(random_seed)\n",
    "torch.cuda.manual_seed(random_seed)\n",
    "torch.cuda.manual_seed_all(random_seed)\n",
    "torch.backends.cudnn.deterministic = True\n",
    "torch.backends.cudnn.benchmark = False\n",
    "\n",
    "def set_seeds(seed=SEED):\n",
    "    os.environ['PYTHONHASHSEED'] = str(seed)\n",
    "    random.seed(seed)\n",
    "    np.random.seed(seed)\n",
    "\n",
    "set_seeds()"
   ]
  },
  {
   "cell_type": "markdown",
   "metadata": {
    "id": "5roUESHGgH92"
   },
   "source": [
    "# 데이터 불러오기"
   ]
  },
  {
   "cell_type": "code",
   "execution_count": 3,
   "metadata": {
    "executionInfo": {
     "elapsed": 21,
     "status": "ok",
     "timestamp": 1652277792962,
     "user": {
      "displayName": "안중찬",
      "userId": "14654903911588253163"
     },
     "user_tz": -540
    },
    "id": "VGw6N6HIme1w"
   },
   "outputs": [],
   "source": [
    "data=pd.read_csv(\"dataset/data/IP/DHCP.csv\")"
   ]
  },
  {
   "cell_type": "markdown",
   "metadata": {
    "id": "wOrUwhqT5M_g"
   },
   "source": [
    "# 전처리 단계"
   ]
  },
  {
   "cell_type": "markdown",
   "metadata": {
    "id": "fLmSIArC43eR"
   },
   "source": [
    "## Timestamp 변경"
   ]
  },
  {
   "cell_type": "code",
   "execution_count": 37,
   "metadata": {
    "executionInfo": {
     "elapsed": 19,
     "status": "ok",
     "timestamp": 1652277792963,
     "user": {
      "displayName": "안중찬",
      "userId": "14654903911588253163"
     },
     "user_tz": -540
    },
    "id": "YlMLk2RO45Dr"
   },
   "outputs": [],
   "source": [
    "time=data[\"Timestamp\"].str.split(\"-\", expand = True)\n",
    "time.drop(columns = [1], inplace = True)\n",
    "time=time[0].str.split(\"_\", expand = True)\n",
    "date = time[[0]]\n",
    "time = time[[1]]\n",
    "\n",
    "year = []\n",
    "for i in range(len(date)) :\n",
    "year.append(date[0][i][0:4])\n",
    "\n",
    "month = []\n",
    "for i in range(len(date)) :\n",
    "month.append(date[0][i][4:6])\n",
    "\n",
    "day = []\n",
    "for i in range(len(date)) :\n",
    "day.append(date[0][i][6:8])\n",
    "\n",
    "hour = []\n",
    "for i in range(len(date)) :\n",
    "hour.append(time[1][i][0:2])\n",
    "\n",
    "min = []\n",
    "for i in range(len(date)) :\n",
    "min.append(time[1][i][2:4])\n",
    "\n",
    "time_data = pd.DataFrame({'year':year,'month':month,'day':day, 'hour' : hour, 'min':min})\n",
    "timestamp = time_data['year'] +\"-\" +time_data['month'] + \"-\" +time_data['day'] + \" \" + time_data['hour'] +\":\" + time_data[\"min\"] + \":\" + \"00\"\n",
    "data[\"Timestamp\"] = timestamp\n"
   ]
  },
  {
   "cell_type": "markdown",
   "metadata": {
    "id": "C814v4aQ5QMp"
   },
   "source": [
    "## train/test split"
   ]
  },
  {
   "cell_type": "code",
   "execution_count": 38,
   "metadata": {
    "executionInfo": {
     "elapsed": 19,
     "status": "ok",
     "timestamp": 1652277792964,
     "user": {
      "displayName": "안중찬",
      "userId": "14654903911588253163"
     },
     "user_tz": -540
    },
    "id": "g4Btpykf5Tkx"
   },
   "outputs": [],
   "source": [
    "data[\"month\"] = month"
   ]
  },
  {
   "cell_type": "code",
   "execution_count": 39,
   "metadata": {
    "executionInfo": {
     "elapsed": 18,
     "status": "ok",
     "timestamp": 1652277792964,
     "user": {
      "displayName": "안중찬",
      "userId": "14654903911588253163"
     },
     "user_tz": -540
    },
    "id": "txao6BzF5UoB"
   },
   "outputs": [],
   "source": [
    "data[\"month\"] = data[\"month\"].astype(int)"
   ]
  },
  {
   "cell_type": "code",
   "execution_count": 40,
   "metadata": {
    "executionInfo": {
     "elapsed": 19,
     "status": "ok",
     "timestamp": 1652277792965,
     "user": {
      "displayName": "안중찬",
      "userId": "14654903911588253163"
     },
     "user_tz": -540
    },
    "id": "zcc_8n-K5Vrr"
   },
   "outputs": [],
   "source": [
    "train=data[data[\"month\"]<7]\n",
    "test=data[data[\"month\"]>=7]"
   ]
  },
  {
   "cell_type": "markdown",
   "metadata": {
    "id": "WtG3BXfCVCo7"
   },
   "source": [
    "## 보간"
   ]
  },
  {
   "cell_type": "code",
   "execution_count": 41,
   "metadata": {
    "executionInfo": {
     "elapsed": 18,
     "status": "ok",
     "timestamp": 1652277792965,
     "user": {
      "displayName": "안중찬",
      "userId": "14654903911588253163"
     },
     "user_tz": -540
    },
    "id": "b1KZqMk_VEJU"
   },
   "outputs": [],
   "source": [
    "train.index = train[\"Timestamp\"].astype(\"Datetime64\")\n",
    "train=train.drop(columns = [\"Timestamp\"])\n",
    "train = train.interpolate(method = \"time\")\n",
    "train = train.reset_index()\n",
    "\n",
    "test.index = test[\"Timestamp\"].astype(\"Datetime64\")\n",
    "test=test.drop(columns = [\"Timestamp\"])\n",
    "test = test.interpolate(method = \"time\")\n",
    "test = test.reset_index()"
   ]
  },
  {
   "cell_type": "markdown",
   "metadata": {
    "id": "1CLDKZ1M5cWJ"
   },
   "source": [
    "## 추세제거"
   ]
  },
  {
   "cell_type": "code",
   "execution_count": 42,
   "metadata": {
    "executionInfo": {
     "elapsed": 19,
     "status": "ok",
     "timestamp": 1652277792966,
     "user": {
      "displayName": "안중찬",
      "userId": "14654903911588253163"
     },
     "user_tz": -540
    },
    "id": "3-8919BP5du7"
   },
   "outputs": [],
   "source": [
    "# ##### Svr_detect\n",
    "Svr_detect = pd.concat([train['Timestamp'],train[\"Svr_detect\"]],axis = 1)\n",
    "Svr_detect = Svr_detect.rename(columns = {'Timestamp' : 'ds', \"Svr_detect\" : 'y'})\n",
    "Svr_detect_model = Prophet()\n",
    "Svr_detect_model.fit(Svr_detect)\n",
    "Svr_detect_predict = Svr_detect_model.predict(pd.DataFrame(Svr_detect[\"ds\"]))\n",
    "Svr_detect[\"trend_off\"]=Svr_detect['y'] - Svr_detect_predict['trend']\n",
    "\n",
    "Svr_detect_test = pd.concat([test['Timestamp'],test[\"Svr_detect\"]],axis = 1)\n",
    "Svr_detect_test = Svr_detect_test.rename(columns = {'Timestamp' : 'ds', \"Svr_detect\" : 'y'})\n",
    "Svr_detect_test_model = Prophet()\n",
    "Svr_detect_test_model.fit(Svr_detect_test)\n",
    "Svr_detect_test_predict = Svr_detect_test_model.predict(pd.DataFrame(Svr_detect_test[\"ds\"]))\n",
    "Svr_detect_test[\"trend_off\"]=Svr_detect_test['y'] - Svr_detect_test_predict['trend']\n",
    "\n",
    "# ##### Svr_connect\n",
    "Svr_connect = pd.concat([train['Timestamp'],train[\"Svr_connect\"]],axis = 1)\n",
    "Svr_connect = Svr_connect.rename(columns = {'Timestamp' : 'ds', \"Svr_connect\" : 'y'})\n",
    "Svr_connect_model = Prophet()\n",
    "Svr_connect_model.fit(Svr_connect)\n",
    "Svr_connect_predict = Svr_connect_model.predict(pd.DataFrame(Svr_connect[\"ds\"]))\n",
    "Svr_connect[\"trend_off\"]=Svr_connect['y'] - Svr_connect_predict['trend']\n",
    "\n",
    "Svr_connect_test = pd.concat([test['Timestamp'],test[\"Svr_connect\"]],axis = 1)\n",
    "Svr_connect_test = Svr_connect_test.rename(columns = {'Timestamp' : 'ds', \"Svr_connect\" : 'y'})\n",
    "Svr_connect_test_model = Prophet()\n",
    "Svr_connect_test_model.fit(Svr_connect_test)\n",
    "Svr_connect_test_predict = Svr_connect_test_model.predict(pd.DataFrame(Svr_connect_test[\"ds\"]))\n",
    "Svr_connect_test[\"trend_off\"]=Svr_connect_test['y'] - Svr_connect_test_predict['trend']\n",
    "\n",
    "# ##### Ss_request\n",
    "Ss_request = pd.concat([train['Timestamp'],train[\"Ss_request\"]],axis = 1)\n",
    "Ss_request = Ss_request.rename(columns = {'Timestamp' : 'ds', \"Ss_request\" : 'y'})\n",
    "Ss_request_model = Prophet()\n",
    "Ss_request_model.fit(Ss_request)\n",
    "Ss_request_predict = Ss_request_model.predict(pd.DataFrame(Ss_request[\"ds\"]))\n",
    "Ss_request[\"trend_off\"]=Ss_request['y'] - Ss_request_predict['trend']\n",
    "\n",
    "Ss_request_test = pd.concat([test['Timestamp'],test[\"Ss_request\"]],axis = 1)\n",
    "Ss_request_test = Ss_request_test.rename(columns = {'Timestamp' : 'ds', \"Ss_request\" : 'y'})\n",
    "Ss_request_test_model = Prophet()\n",
    "Ss_request_test_model.fit(Ss_request_test)\n",
    "Ss_request_test_predict = Ss_request_test_model.predict(pd.DataFrame(Ss_request_test[\"ds\"]))\n",
    "Ss_request_test[\"trend_off\"]=Ss_request_test['y'] - Ss_request_test_predict['trend']\n",
    "\n",
    "# ##### Ss_Established\n",
    "Ss_Established = pd.concat([train['Timestamp'],train[\"Ss_Established\"]],axis = 1)\n",
    "Ss_Established = Ss_Established.rename(columns = {'Timestamp' : 'ds', \"Ss_Established\" : 'y'})\n",
    "Ss_Established_model = Prophet()\n",
    "Ss_Established_model.fit(Ss_Established)\n",
    "Ss_Established_predict = Ss_Established_model.predict(pd.DataFrame(Ss_Established[\"ds\"]))\n",
    "Ss_Established[\"trend_off\"]=Ss_Established['y'] - Ss_Established_predict['trend']\n",
    "\n",
    "Ss_Established_test = pd.concat([test['Timestamp'],test[\"Ss_Established\"]],axis = 1)\n",
    "Ss_Established_test = Ss_Established_test.rename(columns = {'Timestamp' : 'ds', \"Ss_Established\" : 'y'})\n",
    "Ss_Established_test_model = Prophet()\n",
    "Ss_Established_test_model.fit(Ss_Established_test)\n",
    "Ss_Established_test_predict = Ss_Established_test_model.predict(pd.DataFrame(Ss_Established_test[\"ds\"]))\n",
    "Ss_Established_test[\"trend_off\"]=Ss_Established_test['y'] - Ss_Established_test_predict['trend']\n",
    "\n",
    "# ##### 추세 제거된 데이터로 대체\n",
    "\n",
    "train['Svr_detect'] = Svr_detect['trend_off']\n",
    "train['Svr_connect'] = Svr_connect['trend_off']\n",
    "train['Ss_request'] = Ss_request['trend_off']\n",
    "train['Ss_Established'] = Ss_Established['trend_off']\n",
    "\n",
    "test['Svr_detect'] = Svr_detect_test['trend_off']\n",
    "test['Svr_connect'] = Svr_connect_test['trend_off']\n",
    "test['Ss_request'] = Ss_request_test['trend_off']\n",
    "test['Ss_Established'] = Ss_Established_test['trend_off']"
   ]
  },
  {
   "cell_type": "markdown",
   "metadata": {
    "id": "GpKtdnTWhQdn"
   },
   "source": [
    "## 스케일러"
   ]
  },
  {
   "cell_type": "code",
   "execution_count": 43,
   "metadata": {
    "executionInfo": {
     "elapsed": 18,
     "status": "ok",
     "timestamp": 1652277792966,
     "user": {
      "displayName": "안중찬",
      "userId": "14654903911588253163"
     },
     "user_tz": -540
    },
    "id": "-nCnhQQ1XgQC"
   },
   "outputs": [],
   "source": [
    "# train.drop(columns = [\"Timestamp\",\"month\"],inplace = True)\n",
    "# test.drop(columns = [\"Timestamp\",\"month\"],inplace = True)\n",
    "\n",
    "# data = pd.concat([train,test])\n",
    "# data = data.reset_index()\n",
    "# data.drop(columns = [\"index\"],inplace = True)\n",
    "\n",
    "# from sklearn.preprocessing import MinMaxScaler\n",
    "# model = MinMaxScaler()\n",
    "# model = model.fit(data)\n",
    "\n",
    "# train = model.transform(train)\n",
    "# test = model.transform(test)"
   ]
  },
  {
   "cell_type": "code",
   "execution_count": 44,
   "metadata": {
    "executionInfo": {
     "elapsed": 672,
     "status": "ok",
     "timestamp": 1652277793621,
     "user": {
      "displayName": "안중찬",
      "userId": "14654903911588253163"
     },
     "user_tz": -540
    },
    "id": "U27L1MNQOCdO"
   },
   "outputs": [],
   "source": [
    "# np.save('/content/gdrive/MyDrive/KT/data/IP/train',train)\n",
    "# np.save('/content/gdrive/MyDrive/KT/data/IP/test',test)"
   ]
  },
  {
   "cell_type": "code",
   "execution_count": 45,
   "metadata": {
    "executionInfo": {
     "elapsed": 24,
     "status": "ok",
     "timestamp": 1652277793622,
     "user": {
      "displayName": "안중찬",
      "userId": "14654903911588253163"
     },
     "user_tz": -540
    },
    "id": "AkB5dj_iQfJP"
   },
   "outputs": [],
   "source": [
    "train = np.load('/content/gdrive/MyDrive/KT/data/IP/train.npy')\n",
    "test = np.load('/content/gdrive/MyDrive/KT/data/IP/test.npy')"
   ]
  },
  {
   "cell_type": "markdown",
   "metadata": {
    "id": "auzMsNt_v4me"
   },
   "source": [
    "## 텐서변환"
   ]
  },
  {
   "cell_type": "code",
   "execution_count": 46,
   "metadata": {
    "executionInfo": {
     "elapsed": 25,
     "status": "ok",
     "timestamp": 1652277793624,
     "user": {
      "displayName": "안중찬",
      "userId": "14654903911588253163"
     },
     "user_tz": -540
    },
    "id": "1twTVIlSwF40"
   },
   "outputs": [],
   "source": [
    "train_data = torch.Tensor(np.array(train))\n",
    "test_data = torch.Tensor(np.array(test))"
   ]
  },
  {
   "cell_type": "markdown",
   "metadata": {
    "id": "lNe7AYtMXMt_"
   },
   "source": [
    "# 모델 구현"
   ]
  },
  {
   "cell_type": "markdown",
   "metadata": {
    "id": "OJv7ESec6gNT"
   },
   "source": [
    "## 모델 구성"
   ]
  },
  {
   "cell_type": "code",
   "execution_count": 47,
   "metadata": {
    "executionInfo": {
     "elapsed": 25,
     "status": "ok",
     "timestamp": 1652277793625,
     "user": {
      "displayName": "안중찬",
      "userId": "14654903911588253163"
     },
     "user_tz": -540
    },
    "id": "FfVogdwZl3GV"
   },
   "outputs": [],
   "source": [
    "class Model(nn.Module) :\n",
    "    def __init__(self, input_size, hidden_size, output_size) :\n",
    "        super(Model, self).__init__()\n",
    "\n",
    "        self.input_size = input_size\n",
    "        self.hidden_size = hidden_size\n",
    "        self.output_size = output_size\n",
    "\n",
    "        self.Encoder = nn.Sequential(\n",
    "        \n",
    "            nn.Linear(input_size,hidden_size[0]),\n",
    "            nn.RReLU(),\n",
    "            nn.Linear(hidden_size[0],output_size),\n",
    "            nn.RReLU()\n",
    "        )\n",
    "\n",
    "        self.Decoder = nn.Sequential(\n",
    "\n",
    "            nn.Linear(output_size,hidden_size[0]),\n",
    "            nn.RReLU(),\n",
    "            nn.Linear(hidden_size[0],input_size)\n",
    "        )\n",
    "\n",
    "    def forward(self, x) :\n",
    "        x = self.Encoder(x)\n",
    "        x = self.Decoder(x)\n",
    "\n",
    "        return x"
   ]
  },
  {
   "cell_type": "code",
   "execution_count": 48,
   "metadata": {
    "colab": {
     "base_uri": "https://localhost:8080/"
    },
    "executionInfo": {
     "elapsed": 25,
     "status": "ok",
     "timestamp": 1652277793627,
     "user": {
      "displayName": "안중찬",
      "userId": "14654903911588253163"
     },
     "user_tz": -540
    },
    "id": "trH1kccrnx8A",
    "outputId": "dbc856d6-8127-4751-c2fa-b95d90066ef7"
   },
   "outputs": [
    {
     "name": "stdout",
     "output_type": "stream",
     "text": [
      "[Model(\n",
      "  (Encoder): Sequential(\n",
      "    (0): Linear(in_features=4, out_features=3, bias=True)\n",
      "    (1): RReLU(lower=0.125, upper=0.3333333333333333)\n",
      "    (2): Linear(in_features=3, out_features=2, bias=True)\n",
      "    (3): RReLU(lower=0.125, upper=0.3333333333333333)\n",
      "  )\n",
      "  (Decoder): Sequential(\n",
      "    (0): Linear(in_features=2, out_features=3, bias=True)\n",
      "    (1): RReLU(lower=0.125, upper=0.3333333333333333)\n",
      "    (2): Linear(in_features=3, out_features=4, bias=True)\n",
      "  )\n",
      "), Sequential(\n",
      "  (0): Linear(in_features=4, out_features=3, bias=True)\n",
      "  (1): RReLU(lower=0.125, upper=0.3333333333333333)\n",
      "  (2): Linear(in_features=3, out_features=2, bias=True)\n",
      "  (3): RReLU(lower=0.125, upper=0.3333333333333333)\n",
      "), Linear(in_features=4, out_features=3, bias=True), RReLU(lower=0.125, upper=0.3333333333333333), Linear(in_features=3, out_features=2, bias=True), RReLU(lower=0.125, upper=0.3333333333333333), Sequential(\n",
      "  (0): Linear(in_features=2, out_features=3, bias=True)\n",
      "  (1): RReLU(lower=0.125, upper=0.3333333333333333)\n",
      "  (2): Linear(in_features=3, out_features=4, bias=True)\n",
      "), Linear(in_features=2, out_features=3, bias=True), RReLU(lower=0.125, upper=0.3333333333333333), Linear(in_features=3, out_features=4, bias=True)]\n"
     ]
    }
   ],
   "source": [
    "input_size = 4\n",
    "hidden_size = [3]\n",
    "output_size = 2\n",
    "\n",
    "model = Model(input_size, hidden_size, output_size)\n",
    "print(list(model.modules()))"
   ]
  },
  {
   "cell_type": "markdown",
   "metadata": {
    "id": "UeUd82QCbu5b"
   },
   "source": [
    "## 학습 함수"
   ]
  },
  {
   "cell_type": "code",
   "execution_count": 49,
   "metadata": {
    "executionInfo": {
     "elapsed": 23,
     "status": "ok",
     "timestamp": 1652277793628,
     "user": {
      "displayName": "안중찬",
      "userId": "14654903911588253163"
     },
     "user_tz": -540
    },
    "id": "KkYKFN77uxa9"
   },
   "outputs": [],
   "source": [
    "loss_function = nn.MSELoss()\n",
    "\n",
    "def training(model, data,loss_function):\n",
    "    optimizer = torch.optim.Adam(model.parameters(), lr = 0.01)\n",
    "    \n",
    "    dataloader = DataLoader(data, batch_size =64, shuffle =True)\n",
    "    \n",
    "    for epoch in range(1, 11): # 에포크는 10번 줌\n",
    "        \n",
    "        update_loss = 0.0\n",
    "        \n",
    "        for x in dataloader :\n",
    "            optimizer.zero_grad()\n",
    "            output = model(x)\n",
    "            \n",
    "            loss=loss_function(x, output) #dataloader로 불러온 데이터 값과 실제 데이터 간의 MSE 산출\n",
    "            loss.backward() # MSE 역전파\n",
    "            \n",
    "            optimizer.step()\n",
    "            update_loss += loss.item()\n",
    "\n",
    "        print('epoch:', f'{epoch}', '  loss:', f'{update_loss}')\n",
    "    \n",
    "    return model"
   ]
  },
  {
   "cell_type": "markdown",
   "metadata": {
    "id": "6_KB6zOPdCsB"
   },
   "source": [
    "## 학습"
   ]
  },
  {
   "cell_type": "code",
   "execution_count": 50,
   "metadata": {
    "colab": {
     "base_uri": "https://localhost:8080/"
    },
    "executionInfo": {
     "elapsed": 4369,
     "status": "ok",
     "timestamp": 1652277797977,
     "user": {
      "displayName": "안중찬",
      "userId": "14654903911588253163"
     },
     "user_tz": -540
    },
    "id": "ZAwAuuNodEwu",
    "outputId": "0cb36eba-fc37-42e4-c540-ee86c63e6032"
   },
   "outputs": [
    {
     "name": "stdout",
     "output_type": "stream",
     "text": [
      "epoch: 1   loss: 1.1663368161025573\n",
      "epoch: 2   loss: 0.1277831489642267\n",
      "epoch: 3   loss: 0.11090515549039992\n",
      "epoch: 4   loss: 0.10971053906359884\n",
      "epoch: 5   loss: 0.10993863553812844\n",
      "epoch: 6   loss: 0.10982950053949025\n",
      "epoch: 7   loss: 0.1096154835595371\n",
      "epoch: 8   loss: 0.1101126072499028\n",
      "epoch: 9   loss: 0.11040568714452093\n",
      "epoch: 10   loss: 0.11048259888593748\n"
     ]
    }
   ],
   "source": [
    "Model = training(model, train_data, loss_function)"
   ]
  },
  {
   "cell_type": "markdown",
   "metadata": {
    "id": "h1y4nCjVwav_"
   },
   "source": [
    "## 임계값 설정"
   ]
  },
  {
   "cell_type": "code",
   "execution_count": 51,
   "metadata": {
    "executionInfo": {
     "elapsed": 17606,
     "status": "ok",
     "timestamp": 1652277815578,
     "user": {
      "displayName": "안중찬",
      "userId": "14654903911588253163"
     },
     "user_tz": -540
    },
    "id": "aInibmZ5oFi5"
   },
   "outputs": [],
   "source": [
    "train_loss = []\n",
    "for data in train_data :\n",
    "  output = Model(data)\n",
    "  loss = loss_function(output, data)\n",
    "  train_loss.append(loss.item())\n",
    "\n",
    "test_loss = []\n",
    "for data in test_data :\n",
    "  output = Model(data)\n",
    "  loss = loss_function(output, data)\n",
    "  test_loss.append(loss.item())"
   ]
  },
  {
   "cell_type": "code",
   "execution_count": 52,
   "metadata": {
    "colab": {
     "base_uri": "https://localhost:8080/"
    },
    "executionInfo": {
     "elapsed": 269,
     "status": "ok",
     "timestamp": 1652277815842,
     "user": {
      "displayName": "안중찬",
      "userId": "14654903911588253163"
     },
     "user_tz": -540
    },
    "id": "J939H76iglaN",
    "outputId": "92da9322-9906-4baf-a4f7-ea0ff3dc3fd9"
   },
   "outputs": [
    {
     "name": "stdout",
     "output_type": "stream",
     "text": [
      "train_error :  127\n",
      "test_error :  137\n",
      "Threshold :  0.00131\n"
     ]
    }
   ],
   "source": [
    "treshold = np.array(0.00131)\n",
    "train_error = list(train_loss >= treshold)\n",
    "test_error = list(test_loss >= treshold)\n",
    "\n",
    "print(\"train_error : \",train_error.count(True))\n",
    "print(\"test_error : \",test_error.count(True))\n",
    "\n",
    "print(\"Threshold : \",treshold)"
   ]
  },
  {
   "cell_type": "markdown",
   "metadata": {
    "id": "iZL-bGB1kaqE"
   },
   "source": [
    "## 임계값 확대"
   ]
  },
  {
   "cell_type": "code",
   "execution_count": 53,
   "metadata": {
    "colab": {
     "base_uri": "https://localhost:8080/"
    },
    "executionInfo": {
     "elapsed": 891,
     "status": "ok",
     "timestamp": 1652277816730,
     "user": {
      "displayName": "안중찬",
      "userId": "14654903911588253163"
     },
     "user_tz": -540
    },
    "id": "O5D6jn15hFYh",
    "outputId": "56a0d960-a3f9-4ba6-e244-2f3d447a065c"
   },
   "outputs": [
    {
     "data": {
      "text/plain": [
       "0.0    26319\n",
       "1.0      177\n",
       "Name: Prediction, dtype: int64"
      ]
     },
     "execution_count": 53,
     "metadata": {},
     "output_type": "execute_result"
    }
   ],
   "source": [
    "###################### false가 난 구간 확인 #######################\n",
    "submit = []\n",
    "for i in range(len(test_loss)) :\n",
    "    if test_loss[i] >= treshold :\n",
    "        submit.append(1)\n",
    "    else :\n",
    "        submit.append(0)\n",
    "\n",
    "submit = pd.DataFrame(submit)\n",
    "submit=submit.rename(columns = {0:'Prediction'})\n",
    "\n",
    "false = []\n",
    "for i in range(len(submit)) :\n",
    "    if submit[\"Prediction\"][i] == 1:\n",
    "         false.append(i)\n",
    "\n",
    "####################### 5 연속 false 서칭 #######################\n",
    "\n",
    "# original_submit = set(false)\n",
    "\n",
    "# TIME_STEPS = 5\n",
    "\n",
    "# def create_sequences(values, time_steps=TIME_STEPS):\n",
    "#     output = []\n",
    "#     for i in range(len(values) - time_steps + 1):\n",
    "#         output.append(values[i : (i + time_steps)])\n",
    "#     return np.stack(output)\n",
    "\n",
    "# false_seq = create_sequences(false)\n",
    "\n",
    "# false_tf = []\n",
    "# for i in range(len(false_seq)) :\n",
    "#     temp = []\n",
    "#     ex = false_seq[i]\n",
    "#     for j in range(len(ex)-1) :\n",
    "#         temp.append(ex[j+1] - ex[j])\n",
    "#     false_tf.append(temp)\n",
    "\n",
    "# false_real_tf = []\n",
    "# for i in range(len(false_tf)) :\n",
    "#     false_real_tf.append(false_tf[i] == [1,1,1,1])\n",
    "\n",
    "# false = set(np.array(false_seq[false_real_tf]).reshape(-1))\n",
    "\n",
    "# submit_clean = pd.DataFrame()\n",
    "\n",
    "# submit_clean[\"Prediction\"] = np.zeros(26496)\n",
    "\n",
    "# for i in false :\n",
    "#     submit_clean[\"Prediction\"][i] = 1\n",
    "\n",
    "false = list(false)\n",
    "\n",
    "\n",
    "################# 국소 예측 모형 형성 ##################\n",
    "many = 1\n",
    "false_plus = []\n",
    "#false_minus = []\n",
    "for i in range(len(false)) :\n",
    "    false_plus.append(false[i] + many)\n",
    "    #false_minus.append(false[i]-many)\n",
    "\n",
    "#false_list = set(false) | set(false_plus) | set(false_minus) | set(original_submit)\n",
    "# false_list = set(false) | set(false_plus)  | set(original_submit)\n",
    "# false_list = list(false_list)\n",
    "false_list = set(false) | set(false_plus)\n",
    "false_list = list(false_list)\n",
    "false_list.sort()\n",
    "\n",
    "\n",
    "#################### 제출 ############################\n",
    "submit_many = pd.DataFrame()\n",
    "submit_many[\"Prediction\"] = np.zeros(26496)\n",
    "\n",
    "for i in false :\n",
    "    submit_many[\"Prediction\"][i] = 1\n",
    "\n",
    "for i in false_list :\n",
    "    submit_many[\"Prediction\"][i] = 1\n",
    "\n",
    "submit_many[\"Prediction\"].value_counts()"
   ]
  },
  {
   "cell_type": "markdown",
   "metadata": {
    "id": "oBPIlLaX606_"
   },
   "source": [
    "## 결과도출"
   ]
  },
  {
   "cell_type": "code",
   "execution_count": 55,
   "metadata": {
    "executionInfo": {
     "elapsed": 255,
     "status": "ok",
     "timestamp": 1652277820804,
     "user": {
      "displayName": "안중찬",
      "userId": "14654903911588253163"
     },
     "user_tz": -540
    },
    "id": "lXwa7m0t62Ye"
   },
   "outputs": [],
   "source": [
    "submit_many.to_csv(\"/content/gdrive/MyDrive/KT/result.csv\")"
   ]
  }
 ],
 "metadata": {
  "colab": {
   "authorship_tag": "ABX9TyNojxAmGX1L/OKacnWI8HY5",
   "collapsed_sections": [
    "FmuYLykjQ4SG",
    "5roUESHGgH92",
    "WtG3BXfCVCo7",
    "GpKtdnTWhQdn",
    "lNe7AYtMXMt_",
    "gmMV_3_NXO6u",
    "2b-29RA-aVgv",
    "UeUd82QCbu5b",
    "6_KB6zOPdCsB"
   ],
   "mount_file_id": "1E82pO8zB8j1VybUHq-FyYe5c63q-pQ1L",
   "name": "best_model._review.ipynb",
   "provenance": [
    {
     "file_id": "https://github.com/AnnJungChan/youngjin_TECH/blob/main/AutoEncoder/AutoEncoder.ipynb",
     "timestamp": 1651559119049
    }
   ]
  },
  "kernelspec": {
   "display_name": "Python 3 (ipykernel)",
   "language": "python",
   "name": "python3"
  },
  "language_info": {
   "codemirror_mode": {
    "name": "ipython",
    "version": 3
   },
   "file_extension": ".py",
   "mimetype": "text/x-python",
   "name": "python",
   "nbconvert_exporter": "python",
   "pygments_lexer": "ipython3",
   "version": "3.9.12"
  }
 },
 "nbformat": 4,
 "nbformat_minor": 4
}
