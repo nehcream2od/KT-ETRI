{
 "cells": [
  {
   "cell_type": "markdown",
   "id": "30855043-3358-4281-b592-b03966150cb2",
   "metadata": {
    "tags": []
   },
   "source": [
    "#  Import Libraries"
   ]
  },
  {
   "cell_type": "code",
   "execution_count": 37,
   "id": "f593f1db-be2d-4572-86d0-c9ef3556baf1",
   "metadata": {},
   "outputs": [],
   "source": [
    "import pandas as pd\n",
    "import numpy as np\n",
    "import matplotlib.pyplot as plt\n",
    "import seaborn as sns\n",
    "from pylab import rcParams\n",
    "from collections import Counter\n",
    "import tensorflow as tf\n",
    "from tensorflow.keras import Model, models, layers, optimizers, regularizers\n",
    "from tensorflow.keras.callbacks import ModelCheckpoint\n",
    "\n",
    "from sklearn.preprocessing import StandardScaler\n",
    "from sklearn.preprocessing import RobustScaler\n",
    "from sklearn.preprocessing import MinMaxScaler\n",
    "from sklearn.model_selection import train_test_split\n",
    "from sklearn import metrics"
   ]
  },
  {
   "cell_type": "markdown",
   "id": "fcddeda4-a0f7-41fb-a60f-dce52751050c",
   "metadata": {},
   "source": [
    "# Load Data"
   ]
  },
  {
   "cell_type": "code",
   "execution_count": 2,
   "id": "a10f8ef7-a7a1-4b58-a77f-6e13e2a254cf",
   "metadata": {},
   "outputs": [],
   "source": [
    "train = pd.read_csv('1_train.csv')\n",
    "test = pd.read_csv('1_test.csv')"
   ]
  },
  {
   "cell_type": "code",
   "execution_count": 3,
   "id": "3bad7b2f-c5c1-416a-afbe-d27652ddf7a6",
   "metadata": {},
   "outputs": [],
   "source": [
    "train.drop(['Timestamp', 'Unnamed: 0'], inplace=True, axis=1)\n",
    "test.drop(['Timestamp', 'Unnamed: 0'], inplace=True, axis=1)"
   ]
  },
  {
   "cell_type": "code",
   "execution_count": null,
   "id": "72374a82-369e-4bec-9cde-e435bc7f1198",
   "metadata": {
    "tags": []
   },
   "outputs": [],
   "source": [
    "# curve shifting을 2개의 row만큼만 적용하면 된다. 이후, 본래 break 데이터는 제거\n",
    "\n",
    "shift_by = 5 # 몇 시점 땡길지 설정\n",
    "\n",
    "sign = lambda x: (1, -1)[x < 0]\n",
    "def curve_shift(df, shift_by):\n",
    "    vector = df['y'].copy()\n",
    "    for _ in range(abs(shift_by)):\n",
    "        tmp = vector.shift(sign(shift_by))\n",
    "        tmp = tmp.fillna(0)\n",
    "        vector += tmp\n",
    "    labelcol = 'y'\n",
    "    # Add vector to the df\n",
    "    df.insert(loc=0, column=labelcol+'tmp', value=vector)\n",
    "\n",
    "    # Remove the rows with labelcol == 1.\n",
    "    df = df.drop(df[df[labelcol] == 1].index)\n",
    "\n",
    "    # Drop labelcol and rename the tmp col as labelcol\n",
    "    df = df.drop(labelcol, axis=1)\n",
    "    df = df.rename(columns={labelcol+'tmp': labelcol})\n",
    "\n",
    "    # Make the labelcol binary\n",
    "    df.loc[df[labelcol] > 0, labelcol] = 1\n",
    "\n",
    "    return df"
   ]
  },
  {
   "cell_type": "code",
   "execution_count": 23,
   "id": "9ac476f3-d58a-43ea-905e-6cd54b158e37",
   "metadata": {},
   "outputs": [
    {
     "data": {
      "text/html": [
       "<div>\n",
       "<style scoped>\n",
       "    .dataframe tbody tr th:only-of-type {\n",
       "        vertical-align: middle;\n",
       "    }\n",
       "\n",
       "    .dataframe tbody tr th {\n",
       "        vertical-align: top;\n",
       "    }\n",
       "\n",
       "    .dataframe thead th {\n",
       "        text-align: right;\n",
       "    }\n",
       "</style>\n",
       "<table border=\"1\" class=\"dataframe\">\n",
       "  <thead>\n",
       "    <tr style=\"text-align: right;\">\n",
       "      <th></th>\n",
       "      <th>y</th>\n",
       "      <th>Unnamed: 0</th>\n",
       "      <th>CSU</th>\n",
       "      <th>STS</th>\n",
       "      <th>FTS</th>\n",
       "      <th>FMU</th>\n",
       "      <th>ECU_CURRENT</th>\n",
       "      <th>ECU_VOLTAGE</th>\n",
       "      <th>ANU</th>\n",
       "      <th>TRO</th>\n",
       "    </tr>\n",
       "  </thead>\n",
       "  <tbody>\n",
       "    <tr>\n",
       "      <th>0</th>\n",
       "      <td>0.0</td>\n",
       "      <td>127828</td>\n",
       "      <td>30.92</td>\n",
       "      <td>25.49</td>\n",
       "      <td>29.57</td>\n",
       "      <td>1925.55</td>\n",
       "      <td>4175.333333</td>\n",
       "      <td>4.200000</td>\n",
       "      <td>0.0</td>\n",
       "      <td>0.0</td>\n",
       "    </tr>\n",
       "    <tr>\n",
       "      <th>1</th>\n",
       "      <td>0.0</td>\n",
       "      <td>127846</td>\n",
       "      <td>30.95</td>\n",
       "      <td>25.28</td>\n",
       "      <td>30.54</td>\n",
       "      <td>1937.25</td>\n",
       "      <td>4157.333333</td>\n",
       "      <td>4.200000</td>\n",
       "      <td>0.0</td>\n",
       "      <td>0.0</td>\n",
       "    </tr>\n",
       "    <tr>\n",
       "      <th>2</th>\n",
       "      <td>0.0</td>\n",
       "      <td>127862</td>\n",
       "      <td>30.94</td>\n",
       "      <td>25.35</td>\n",
       "      <td>30.58</td>\n",
       "      <td>1966.73</td>\n",
       "      <td>4159.000000</td>\n",
       "      <td>4.200000</td>\n",
       "      <td>0.0</td>\n",
       "      <td>0.0</td>\n",
       "    </tr>\n",
       "    <tr>\n",
       "      <th>3</th>\n",
       "      <td>0.0</td>\n",
       "      <td>127879</td>\n",
       "      <td>30.97</td>\n",
       "      <td>25.40</td>\n",
       "      <td>30.61</td>\n",
       "      <td>1954.58</td>\n",
       "      <td>4151.000000</td>\n",
       "      <td>4.233333</td>\n",
       "      <td>0.0</td>\n",
       "      <td>0.0</td>\n",
       "    </tr>\n",
       "    <tr>\n",
       "      <th>4</th>\n",
       "      <td>0.0</td>\n",
       "      <td>127894</td>\n",
       "      <td>30.97</td>\n",
       "      <td>25.27</td>\n",
       "      <td>30.57</td>\n",
       "      <td>1952.10</td>\n",
       "      <td>4136.666667</td>\n",
       "      <td>4.233333</td>\n",
       "      <td>0.0</td>\n",
       "      <td>0.0</td>\n",
       "    </tr>\n",
       "  </tbody>\n",
       "</table>\n",
       "</div>"
      ],
      "text/plain": [
       "     y  Unnamed: 0    CSU    STS    FTS      FMU  ECU_CURRENT  ECU_VOLTAGE  \\\n",
       "0  0.0      127828  30.92  25.49  29.57  1925.55  4175.333333     4.200000   \n",
       "1  0.0      127846  30.95  25.28  30.54  1937.25  4157.333333     4.200000   \n",
       "2  0.0      127862  30.94  25.35  30.58  1966.73  4159.000000     4.200000   \n",
       "3  0.0      127879  30.97  25.40  30.61  1954.58  4151.000000     4.233333   \n",
       "4  0.0      127894  30.97  25.27  30.57  1952.10  4136.666667     4.233333   \n",
       "\n",
       "   ANU  TRO  \n",
       "0  0.0  0.0  \n",
       "1  0.0  0.0  \n",
       "2  0.0  0.0  \n",
       "3  0.0  0.0  \n",
       "4  0.0  0.0  "
      ]
     },
     "execution_count": 23,
     "metadata": {},
     "output_type": "execute_result"
    }
   ],
   "source": [
    "# shift\n",
    "shifted_df = curve_shift(df, -shift_by)\n",
    "shifted_df.head()"
   ]
  },
  {
   "cell_type": "code",
   "execution_count": 24,
   "id": "a09bc8d5-993d-4864-8a0d-4d1a28d1935b",
   "metadata": {},
   "outputs": [
    {
     "data": {
      "text/plain": [
       "Index(['y', 'Unnamed: 0', 'CSU', 'STS', 'FTS', 'FMU', 'ECU_CURRENT',\n",
       "       'ECU_VOLTAGE', 'ANU', 'TRO'],\n",
       "      dtype='object')"
      ]
     },
     "execution_count": 24,
     "metadata": {},
     "output_type": "execute_result"
    }
   ],
   "source": [
    "shifted_df.columns"
   ]
  },
  {
   "cell_type": "code",
   "execution_count": 25,
   "id": "9a827ca8-db24-4e2c-b916-a39d425a2fdf",
   "metadata": {},
   "outputs": [
    {
     "name": "stdout",
     "output_type": "stream",
     "text": [
      "8\n"
     ]
    }
   ],
   "source": [
    "# drop remove columns\n",
    "shifted_df = shifted_df[['CSU', 'STS', 'FTS', 'ECU_VOLTAGE', 'ECU_CURRENT', 'FMU', 'TRO', 'ANU', 'y']]\n",
    "\n",
    "# 데이터와 라벨 x, y로 분리\n",
    "input_x = shifted_df.drop('y', axis=1).values\n",
    "input_y = shifted_df['y'].values\n",
    "\n",
    "n_features = input_x.shape[1]\n",
    "print(n_features)"
   ]
  },
  {
   "cell_type": "markdown",
   "id": "b7985a31-8940-43c9-8098-57ca091bab84",
   "metadata": {},
   "source": [
    "# Transform to Series Data "
   ]
  },
  {
   "cell_type": "code",
   "execution_count": 4,
   "id": "354855b9-1900-43b0-ba98-c48be93896bc",
   "metadata": {},
   "outputs": [],
   "source": [
    "shift_by = -5\n",
    "n_features = train.shape[1]"
   ]
  },
  {
   "cell_type": "code",
   "execution_count": 5,
   "id": "b68c4e64-1c11-45eb-a5b2-f8d833205143",
   "metadata": {},
   "outputs": [],
   "source": [
    "# LSTM 모델은 (samples, timesteps, feature)에 해당하는 3d 차원의 shape을 가지므로, 데이터를 시퀀스 형태로 변환\n",
    "\n",
    "def temporalize(X, timesteps):\n",
    "    output_X = []\n",
    "    for i in range(len(X) - timesteps - 1):\n",
    "        t = []\n",
    "        for j in range(1, timesteps + 1):\n",
    "            # Gather the past records upto the lookback period\n",
    "            t.append(X.loc[[(i + j + 1)], :])\n",
    "        output_X.append(t)\n",
    "    return np.squeeze(np.array(output_X))"
   ]
  },
  {
   "cell_type": "code",
   "execution_count": 6,
   "id": "3bc47690-3ff4-4d0b-8c1b-062679495037",
   "metadata": {},
   "outputs": [
    {
     "name": "stdout",
     "output_type": "stream",
     "text": [
      "(26058, 5, 4)\n"
     ]
    }
   ],
   "source": [
    "timesteps = abs(shift_by)\n",
    "\n",
    "# Temporalize\n",
    "x = temporalize(train, timesteps)\n",
    "print(x.shape)"
   ]
  },
  {
   "cell_type": "markdown",
   "id": "fb24ba26-a080-46d8-9535-f0f40641bf51",
   "metadata": {},
   "source": [
    "# Split Train / Valid / Test"
   ]
  },
  {
   "cell_type": "code",
   "execution_count": 7,
   "id": "5df5a028-6de7-4cb8-922a-a08c2af624bc",
   "metadata": {},
   "outputs": [
    {
     "name": "stdout",
     "output_type": "stream",
     "text": [
      "20846\n",
      "5212\n",
      "26490\n"
     ]
    }
   ],
   "source": [
    "# Split into train, valid, and test \n",
    "x_train = x\n",
    "x_test = temporalize(test, timesteps)\n",
    "x_train, x_valid = train_test_split(x_train, test_size=0.2)\n",
    "\n",
    "print(len(x_train))  \n",
    "print(len(x_valid)) \n",
    "print(len(x_test))"
   ]
  },
  {
   "cell_type": "markdown",
   "id": "f636ab09-4f8f-4ce7-a778-fb53754710b4",
   "metadata": {},
   "source": [
    "# Standardize"
   ]
  },
  {
   "cell_type": "code",
   "execution_count": 8,
   "id": "aa8e3c52-205b-491a-9751-7289d4070427",
   "metadata": {},
   "outputs": [],
   "source": [
    "def flatten(X):\n",
    "    flattened_X = np.empty((X.shape[0], X.shape[2]))  # sample x features array.\n",
    "    for i in range(X.shape[0]):\n",
    "        flattened_X[i] = X[i, (X.shape[1]-1), :]\n",
    "    return(flattened_X)\n",
    "\n",
    "def scale(X, scaler):\n",
    "    for i in range(X.shape[0]):\n",
    "        X[i, :, :] = scaler.transform(X[i, :, :])\n",
    "        \n",
    "    return X"
   ]
  },
  {
   "cell_type": "code",
   "execution_count": 33,
   "id": "5637c0af-901f-4e04-bcd5-eddf9595fc3d",
   "metadata": {},
   "outputs": [],
   "source": [
    "scaler = MinMaxScaler().fit(flatten(x_train))\n",
    "\n",
    "x_train_scaled = scale(x_train, scaler)\n",
    "x_valid_scaled = scale(x_valid, scaler)\n",
    "x_test_scaled = scale(x_test, scaler)"
   ]
  },
  {
   "cell_type": "markdown",
   "id": "d8cb6aff-acc6-4ac8-9456-0379e3abb708",
   "metadata": {},
   "source": [
    "# Training LSTM Autoencoder"
   ]
  },
  {
   "cell_type": "code",
   "execution_count": 34,
   "id": "9545ef5b-72d6-4d25-aa4b-0dd5bc2d6d22",
   "metadata": {},
   "outputs": [],
   "source": [
    "epochs = 20\n",
    "batch = 256\n",
    "lr = 0.001"
   ]
  },
  {
   "cell_type": "code",
   "execution_count": 35,
   "id": "bae54efc-75bc-4eaa-980d-131f1b9b7ece",
   "metadata": {},
   "outputs": [
    {
     "name": "stdout",
     "output_type": "stream",
     "text": [
      "WARNING:tensorflow:Layer lstm_12 will not use cuDNN kernels since it doesn't meet the criteria. It will use a generic GPU kernel as fallback when running on GPU.\n",
      "WARNING:tensorflow:Layer lstm_13 will not use cuDNN kernels since it doesn't meet the criteria. It will use a generic GPU kernel as fallback when running on GPU.\n",
      "WARNING:tensorflow:Layer lstm_14 will not use cuDNN kernels since it doesn't meet the criteria. It will use a generic GPU kernel as fallback when running on GPU.\n",
      "WARNING:tensorflow:Layer lstm_15 will not use cuDNN kernels since it doesn't meet the criteria. It will use a generic GPU kernel as fallback when running on GPU.\n",
      "Model: \"sequential_3\"\n",
      "_________________________________________________________________\n",
      " Layer (type)                Output Shape              Param #   \n",
      "=================================================================\n",
      " lstm_12 (LSTM)              (None, 5, 64)             17664     \n",
      "                                                                 \n",
      " lstm_13 (LSTM)              (None, 32)                12416     \n",
      "                                                                 \n",
      " repeat_vector_3 (RepeatVect  (None, 5, 32)            0         \n",
      " or)                                                             \n",
      "                                                                 \n",
      " lstm_14 (LSTM)              (None, 5, 32)             8320      \n",
      "                                                                 \n",
      " lstm_15 (LSTM)              (None, 5, 64)             24832     \n",
      "                                                                 \n",
      " time_distributed_3 (TimeDis  (None, 5, 4)             260       \n",
      " tributed)                                                       \n",
      "                                                                 \n",
      "=================================================================\n",
      "Total params: 63,492\n",
      "Trainable params: 63,492\n",
      "Non-trainable params: 0\n",
      "_________________________________________________________________\n"
     ]
    }
   ],
   "source": [
    "# earlystopping\n",
    "callback = tf.keras.callbacks.EarlyStopping(monitor=\"loss\", patience=2)\n",
    "\n",
    "lstm_ae = models.Sequential()\n",
    "# Encoder\n",
    "lstm_ae.add(layers.LSTM(64, activation='relu', input_shape=(timesteps, n_features), return_sequences=True))\n",
    "lstm_ae.add(layers.LSTM(32, activation='relu', return_sequences=False))\n",
    "lstm_ae.add(layers.RepeatVector(timesteps))\n",
    "# Decoder\n",
    "lstm_ae.add(layers.LSTM(32, activation='relu', return_sequences=True))\n",
    "lstm_ae.add(layers.LSTM(64, activation='relu', return_sequences=True))\n",
    "lstm_ae.add(layers.TimeDistributed(layers.Dense(n_features)))\n",
    "\n",
    "lstm_ae.summary()"
   ]
  },
  {
   "cell_type": "code",
   "execution_count": 36,
   "id": "c1e0bf52-75d0-4102-8d3e-4975e882ad6b",
   "metadata": {
    "tags": []
   },
   "outputs": [
    {
     "name": "stdout",
     "output_type": "stream",
     "text": [
      "Epoch 1/20\n"
     ]
    },
    {
     "name": "stderr",
     "output_type": "stream",
     "text": [
      "2022-05-04 19:37:12.756601: I tensorflow/core/grappler/optimizers/custom_graph_optimizer_registry.cc:113] Plugin optimizer for device_type GPU is enabled.\n"
     ]
    },
    {
     "name": "stdout",
     "output_type": "stream",
     "text": [
      "82/82 [==============================] - ETA: 0s - loss: 0.0057"
     ]
    },
    {
     "name": "stderr",
     "output_type": "stream",
     "text": [
      "2022-05-04 19:37:25.300436: I tensorflow/core/grappler/optimizers/custom_graph_optimizer_registry.cc:113] Plugin optimizer for device_type GPU is enabled.\n"
     ]
    },
    {
     "name": "stdout",
     "output_type": "stream",
     "text": [
      "82/82 [==============================] - 14s 153ms/step - loss: 0.0057 - val_loss: 0.0026\n",
      "Epoch 2/20\n",
      "82/82 [==============================] - 14s 177ms/step - loss: 0.0021 - val_loss: 0.0019\n",
      "Epoch 3/20\n",
      "82/82 [==============================] - 15s 184ms/step - loss: 0.0015 - val_loss: 0.0015\n",
      "Epoch 4/20\n",
      "82/82 [==============================] - 15s 178ms/step - loss: 0.0012 - val_loss: 0.0013\n",
      "Epoch 5/20\n",
      "82/82 [==============================] - 15s 181ms/step - loss: 0.0011 - val_loss: 9.5350e-04\n",
      "Epoch 6/20\n",
      "82/82 [==============================] - 15s 177ms/step - loss: 9.1416e-04 - val_loss: 8.5402e-04\n",
      "Epoch 7/20\n",
      "82/82 [==============================] - 14s 171ms/step - loss: 8.3487e-04 - val_loss: 8.0208e-04\n",
      "Epoch 8/20\n",
      "82/82 [==============================] - 14s 174ms/step - loss: 7.8013e-04 - val_loss: 7.5575e-04\n",
      "Epoch 9/20\n",
      "82/82 [==============================] - 15s 182ms/step - loss: 7.3029e-04 - val_loss: 7.0700e-04\n",
      "Epoch 10/20\n",
      "82/82 [==============================] - 16s 197ms/step - loss: 6.8106e-04 - val_loss: 6.4391e-04\n",
      "Epoch 11/20\n",
      "82/82 [==============================] - 17s 207ms/step - loss: 6.3507e-04 - val_loss: 6.1213e-04\n",
      "Epoch 12/20\n",
      "82/82 [==============================] - 15s 187ms/step - loss: 6.0928e-04 - val_loss: 5.8685e-04\n",
      "Epoch 13/20\n",
      "82/82 [==============================] - 16s 201ms/step - loss: 5.8234e-04 - val_loss: 5.7924e-04\n",
      "Epoch 14/20\n",
      "82/82 [==============================] - 17s 204ms/step - loss: 5.7274e-04 - val_loss: 5.5552e-04\n",
      "Epoch 15/20\n",
      "82/82 [==============================] - 16s 198ms/step - loss: 5.5193e-04 - val_loss: 5.3438e-04\n",
      "Epoch 16/20\n",
      "82/82 [==============================] - 15s 186ms/step - loss: 5.3301e-04 - val_loss: 5.3263e-04\n",
      "Epoch 17/20\n",
      "82/82 [==============================] - 15s 178ms/step - loss: 5.1252e-04 - val_loss: 5.3344e-04\n",
      "Epoch 18/20\n",
      "82/82 [==============================] - 15s 185ms/step - loss: 4.8438e-04 - val_loss: 5.0192e-04\n",
      "Epoch 19/20\n",
      "82/82 [==============================] - 15s 189ms/step - loss: 4.7580e-04 - val_loss: 4.6620e-04\n",
      "Epoch 20/20\n",
      "82/82 [==============================] - 15s 189ms/step - loss: 4.4373e-04 - val_loss: 4.4134e-04\n"
     ]
    }
   ],
   "source": [
    "# compile\n",
    "lstm_ae.compile(loss=\"mse\", optimizer=optimizers.Adam(lr))\n",
    "\n",
    "# fit\n",
    "history = lstm_ae.fit(\n",
    "    x_train_scaled,\n",
    "    x_train_scaled,\n",
    "    epochs=epochs,\n",
    "    batch_size=batch,\n",
    "    validation_data=(x_valid_scaled, x_valid_scaled),\n",
    "    callbacks=[callback],\n",
    ")"
   ]
  },
  {
   "cell_type": "markdown",
   "id": "44194e44-e3ae-4e78-9168-ef569027e6c8",
   "metadata": {},
   "source": [
    "# threshold"
   ]
  },
  {
   "cell_type": "code",
   "execution_count": 56,
   "id": "a83d5811-5e9e-4dbe-a6e8-d9ec0ab85da1",
   "metadata": {},
   "outputs": [],
   "source": [
    "threshold = 0.1"
   ]
  },
  {
   "cell_type": "code",
   "execution_count": 45,
   "id": "f39bb5fe-79cf-4322-ad9b-996f972f3ba9",
   "metadata": {},
   "outputs": [
    {
     "data": {
      "text/plain": [
       "(26496, 4)"
      ]
     },
     "execution_count": 45,
     "metadata": {},
     "output_type": "execute_result"
    }
   ],
   "source": [
    "test.shape"
   ]
  },
  {
   "cell_type": "code",
   "execution_count": 46,
   "id": "483fba8e-3ebd-4fbb-ba8d-7cefcb585011",
   "metadata": {},
   "outputs": [],
   "source": [
    "test_predictions = lstm_ae.predict(x_test_scaled)"
   ]
  },
  {
   "cell_type": "code",
   "execution_count": 47,
   "id": "488992f8-4453-4567-8f00-f6ca05aafb09",
   "metadata": {},
   "outputs": [
    {
     "name": "stdout",
     "output_type": "stream",
     "text": [
      "0.028156282495992665\n"
     ]
    }
   ],
   "source": [
    "mse = np.sqrt(np.mean(np.power(test_predictions.reshape(26490, 20) - x_test_scaled.reshape(26490, 20), 2)))\n",
    "print(mse)"
   ]
  },
  {
   "cell_type": "code",
   "execution_count": 57,
   "id": "2a07e208-53a9-48ca-891a-413cf9ebba32",
   "metadata": {},
   "outputs": [],
   "source": [
    "predict = []\n",
    "for i in range(len(x_test_scaled)):\n",
    "    if np.sqrt(np.mean(np.power(test_predictions.reshape(26490, 20)[i] - x_test_scaled.reshape(26490, 20)[i], 2))) > threshold:\n",
    "        predict.append(1)\n",
    "    else:\n",
    "        predict.append(0)"
   ]
  },
  {
   "cell_type": "code",
   "execution_count": 58,
   "id": "e8235cd5-34ed-4929-91ac-97ebcacbf1d7",
   "metadata": {},
   "outputs": [
    {
     "data": {
      "text/plain": [
       "Prediction\n",
       "0             26393\n",
       "1                97\n",
       "dtype: int64"
      ]
     },
     "execution_count": 58,
     "metadata": {},
     "output_type": "execute_result"
    }
   ],
   "source": [
    "predict = pd.DataFrame(predict, columns=['Prediction'])\n",
    "predict.value_counts()"
   ]
  },
  {
   "cell_type": "code",
   "execution_count": 60,
   "id": "2ffab97c-e3b2-495c-a2b6-1592974a7034",
   "metadata": {},
   "outputs": [
    {
     "data": {
      "text/html": [
       "<div>\n",
       "<style scoped>\n",
       "    .dataframe tbody tr th:only-of-type {\n",
       "        vertical-align: middle;\n",
       "    }\n",
       "\n",
       "    .dataframe tbody tr th {\n",
       "        vertical-align: top;\n",
       "    }\n",
       "\n",
       "    .dataframe thead th {\n",
       "        text-align: right;\n",
       "    }\n",
       "</style>\n",
       "<table border=\"1\" class=\"dataframe\">\n",
       "  <thead>\n",
       "    <tr style=\"text-align: right;\">\n",
       "      <th></th>\n",
       "      <th>Prediction</th>\n",
       "    </tr>\n",
       "  </thead>\n",
       "  <tbody>\n",
       "    <tr>\n",
       "      <th>14</th>\n",
       "      <td>1</td>\n",
       "    </tr>\n",
       "    <tr>\n",
       "      <th>15</th>\n",
       "      <td>1</td>\n",
       "    </tr>\n",
       "    <tr>\n",
       "      <th>16</th>\n",
       "      <td>1</td>\n",
       "    </tr>\n",
       "    <tr>\n",
       "      <th>17</th>\n",
       "      <td>1</td>\n",
       "    </tr>\n",
       "    <tr>\n",
       "      <th>18</th>\n",
       "      <td>1</td>\n",
       "    </tr>\n",
       "    <tr>\n",
       "      <th>...</th>\n",
       "      <td>...</td>\n",
       "    </tr>\n",
       "    <tr>\n",
       "      <th>26194</th>\n",
       "      <td>1</td>\n",
       "    </tr>\n",
       "    <tr>\n",
       "      <th>26213</th>\n",
       "      <td>1</td>\n",
       "    </tr>\n",
       "    <tr>\n",
       "      <th>26404</th>\n",
       "      <td>1</td>\n",
       "    </tr>\n",
       "    <tr>\n",
       "      <th>26405</th>\n",
       "      <td>1</td>\n",
       "    </tr>\n",
       "    <tr>\n",
       "      <th>26406</th>\n",
       "      <td>1</td>\n",
       "    </tr>\n",
       "  </tbody>\n",
       "</table>\n",
       "<p>97 rows × 1 columns</p>\n",
       "</div>"
      ],
      "text/plain": [
       "       Prediction\n",
       "14              1\n",
       "15              1\n",
       "16              1\n",
       "17              1\n",
       "18              1\n",
       "...           ...\n",
       "26194           1\n",
       "26213           1\n",
       "26404           1\n",
       "26405           1\n",
       "26406           1\n",
       "\n",
       "[97 rows x 1 columns]"
      ]
     },
     "execution_count": 60,
     "metadata": {},
     "output_type": "execute_result"
    }
   ],
   "source": [
    "predict[predict['Prediction']==1]"
   ]
  },
  {
   "cell_type": "code",
   "execution_count": 62,
   "id": "5955b054-91e8-4011-9c37-d054234de8b9",
   "metadata": {},
   "outputs": [],
   "source": [
    "predict.to_csv('1_predict1.csv', mode='w')"
   ]
  },
  {
   "cell_type": "code",
   "execution_count": 61,
   "id": "614bedb9-7a6b-4691-927a-8815a2b4efc4",
   "metadata": {},
   "outputs": [],
   "source": [
    "predict[predict['Prediction']==1].to_csv('check.csv', mode='w')"
   ]
  }
 ],
 "metadata": {
  "kernelspec": {
   "display_name": "Python 3 (ipykernel)",
   "language": "python",
   "name": "python3"
  },
  "language_info": {
   "codemirror_mode": {
    "name": "ipython",
    "version": 3
   },
   "file_extension": ".py",
   "mimetype": "text/x-python",
   "name": "python",
   "nbconvert_exporter": "python",
   "pygments_lexer": "ipython3",
   "version": "3.8.13"
  },
  "toc-autonumbering": true
 },
 "nbformat": 4,
 "nbformat_minor": 5
}
